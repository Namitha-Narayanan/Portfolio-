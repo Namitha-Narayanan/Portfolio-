{
 "cells": [
  {
   "cell_type": "code",
   "execution_count": 68,
   "id": "76c353c0",
   "metadata": {},
   "outputs": [],
   "source": [
    "from IPython.display import Image"
   ]
  },
  {
   "cell_type": "code",
   "execution_count": 1,
   "id": "947d771e",
   "metadata": {},
   "outputs": [],
   "source": [
    "import pandas as pd\n",
    "import numpy as np\n",
    "import seaborn as sns\n",
    "import statsmodels.api as sm\n",
    "\n",
    "import matplotlib.pyplot as plt\n",
    "import matplotlib as mlp\n",
    "%matplotlib inline"
   ]
  },
  {
   "cell_type": "code",
   "execution_count": 13,
   "id": "f650f9b8",
   "metadata": {},
   "outputs": [],
   "source": [
    "df = pd.read_csv(\"data_cat1.csv\")"
   ]
  },
  {
   "cell_type": "code",
   "execution_count": 14,
   "id": "edda792d",
   "metadata": {},
   "outputs": [],
   "source": [
    "df = df.drop(df.columns[0], axis=1)"
   ]
  },
  {
   "cell_type": "code",
   "execution_count": 15,
   "id": "dfc245d3",
   "metadata": {},
   "outputs": [],
   "source": [
    "df['tier'] = df['tier'].replace(['First','Second','Third'],['1','2','3'])\n",
    "df['tier'] = df['tier'].astype(float)"
   ]
  },
  {
   "cell_type": "code",
   "execution_count": 7,
   "id": "2725b4b6",
   "metadata": {},
   "outputs": [
    {
     "data": {
      "text/html": [
       "<div>\n",
       "<style scoped>\n",
       "    .dataframe tbody tr th:only-of-type {\n",
       "        vertical-align: middle;\n",
       "    }\n",
       "\n",
       "    .dataframe tbody tr th {\n",
       "        vertical-align: top;\n",
       "    }\n",
       "\n",
       "    .dataframe thead th {\n",
       "        text-align: right;\n",
       "    }\n",
       "</style>\n",
       "<table border=\"1\" class=\"dataframe\">\n",
       "  <thead>\n",
       "    <tr style=\"text-align: right;\">\n",
       "      <th></th>\n",
       "      <th>Year</th>\n",
       "      <th>Country</th>\n",
       "      <th>Happiness Rank</th>\n",
       "      <th>Happiness Score</th>\n",
       "      <th>GDP per Capita</th>\n",
       "      <th>Social support</th>\n",
       "      <th>Life Expectancy</th>\n",
       "      <th>Freedom to make life choices</th>\n",
       "      <th>Perceptions of corruption</th>\n",
       "      <th>Generosity</th>\n",
       "      <th>tier</th>\n",
       "    </tr>\n",
       "  </thead>\n",
       "  <tbody>\n",
       "    <tr>\n",
       "      <th>0</th>\n",
       "      <td>2015</td>\n",
       "      <td>Switzerland</td>\n",
       "      <td>1</td>\n",
       "      <td>7.587</td>\n",
       "      <td>1.39651</td>\n",
       "      <td>1.34951</td>\n",
       "      <td>0.94143</td>\n",
       "      <td>0.66557</td>\n",
       "      <td>0.41978</td>\n",
       "      <td>0.29678</td>\n",
       "      <td>1.0</td>\n",
       "    </tr>\n",
       "    <tr>\n",
       "      <th>1</th>\n",
       "      <td>2015</td>\n",
       "      <td>Iceland</td>\n",
       "      <td>2</td>\n",
       "      <td>7.561</td>\n",
       "      <td>1.30232</td>\n",
       "      <td>1.40223</td>\n",
       "      <td>0.94784</td>\n",
       "      <td>0.62877</td>\n",
       "      <td>0.14145</td>\n",
       "      <td>0.43630</td>\n",
       "      <td>1.0</td>\n",
       "    </tr>\n",
       "    <tr>\n",
       "      <th>2</th>\n",
       "      <td>2015</td>\n",
       "      <td>Denmark</td>\n",
       "      <td>3</td>\n",
       "      <td>7.527</td>\n",
       "      <td>1.32548</td>\n",
       "      <td>1.36058</td>\n",
       "      <td>0.87464</td>\n",
       "      <td>0.64938</td>\n",
       "      <td>0.48357</td>\n",
       "      <td>0.34139</td>\n",
       "      <td>1.0</td>\n",
       "    </tr>\n",
       "    <tr>\n",
       "      <th>3</th>\n",
       "      <td>2015</td>\n",
       "      <td>Norway</td>\n",
       "      <td>4</td>\n",
       "      <td>7.522</td>\n",
       "      <td>1.45900</td>\n",
       "      <td>1.33095</td>\n",
       "      <td>0.88521</td>\n",
       "      <td>0.66973</td>\n",
       "      <td>0.36503</td>\n",
       "      <td>0.34699</td>\n",
       "      <td>1.0</td>\n",
       "    </tr>\n",
       "    <tr>\n",
       "      <th>4</th>\n",
       "      <td>2015</td>\n",
       "      <td>Canada</td>\n",
       "      <td>5</td>\n",
       "      <td>7.427</td>\n",
       "      <td>1.32629</td>\n",
       "      <td>1.32261</td>\n",
       "      <td>0.90563</td>\n",
       "      <td>0.63297</td>\n",
       "      <td>0.32957</td>\n",
       "      <td>0.45811</td>\n",
       "      <td>1.0</td>\n",
       "    </tr>\n",
       "  </tbody>\n",
       "</table>\n",
       "</div>"
      ],
      "text/plain": [
       "   Year      Country  Happiness Rank  Happiness Score  GDP per Capita  \\\n",
       "0  2015  Switzerland               1            7.587         1.39651   \n",
       "1  2015      Iceland               2            7.561         1.30232   \n",
       "2  2015      Denmark               3            7.527         1.32548   \n",
       "3  2015       Norway               4            7.522         1.45900   \n",
       "4  2015       Canada               5            7.427         1.32629   \n",
       "\n",
       "   Social support  Life Expectancy  Freedom to make life choices  \\\n",
       "0         1.34951          0.94143                       0.66557   \n",
       "1         1.40223          0.94784                       0.62877   \n",
       "2         1.36058          0.87464                       0.64938   \n",
       "3         1.33095          0.88521                       0.66973   \n",
       "4         1.32261          0.90563                       0.63297   \n",
       "\n",
       "   Perceptions of corruption  Generosity  tier  \n",
       "0                    0.41978     0.29678   1.0  \n",
       "1                    0.14145     0.43630   1.0  \n",
       "2                    0.48357     0.34139   1.0  \n",
       "3                    0.36503     0.34699   1.0  \n",
       "4                    0.32957     0.45811   1.0  "
      ]
     },
     "execution_count": 7,
     "metadata": {},
     "output_type": "execute_result"
    }
   ],
   "source": [
    "df.head()"
   ]
  },
  {
   "cell_type": "markdown",
   "id": "e2914ba2",
   "metadata": {},
   "source": [
    "## Classification"
   ]
  },
  {
   "cell_type": "code",
   "execution_count": 5,
   "id": "7b807d31",
   "metadata": {},
   "outputs": [],
   "source": [
    "from sklearn.metrics import classification_report, confusion_matrix\n",
    "from sklearn.ensemble import RandomForestClassifier"
   ]
  },
  {
   "cell_type": "code",
   "execution_count": 16,
   "id": "af16ef35",
   "metadata": {},
   "outputs": [],
   "source": [
    "df_copy = df"
   ]
  },
  {
   "cell_type": "code",
   "execution_count": 17,
   "id": "49bec129",
   "metadata": {},
   "outputs": [],
   "source": [
    "df_copy = df_copy.drop('Country',axis=1)"
   ]
  },
  {
   "cell_type": "code",
   "execution_count": 18,
   "id": "92095c1f",
   "metadata": {},
   "outputs": [],
   "source": [
    "# Creating independent and dependent variables\n",
    "X = df_copy.drop('tier',axis=1)\n",
    "y = df_copy['tier']"
   ]
  },
  {
   "cell_type": "code",
   "execution_count": 19,
   "id": "eda6ce46",
   "metadata": {},
   "outputs": [
    {
     "name": "stdout",
     "output_type": "stream",
     "text": [
      "Train Data: (744, 9), (744,)\n",
      "Train Data: (187, 9), (187,)\n"
     ]
    }
   ],
   "source": [
    "from sklearn.model_selection import train_test_split\n",
    "# Splitting the data into training and testing set\n",
    "X_train, X_test, y_train, y_test = train_test_split(X, y, test_size=0.2, random_state=24)\n",
    "print(f\"Train Data: {X_train.shape}, {y_train.shape}\")\n",
    "print(f\"Train Data: {X_test.shape}, {y_test.shape}\")"
   ]
  },
  {
   "cell_type": "code",
   "execution_count": 20,
   "id": "8b848911",
   "metadata": {},
   "outputs": [
    {
     "data": {
      "text/plain": [
       "RandomForestClassifier(random_state=18)"
      ]
     },
     "execution_count": 20,
     "metadata": {},
     "output_type": "execute_result"
    }
   ],
   "source": [
    "# Training a binary classifier using Random Forest Algorithm with default hyperparameters\n",
    "classifier = RandomForestClassifier(random_state=18)\n",
    "classifier.fit(X_train, y_train)"
   ]
  },
  {
   "cell_type": "code",
   "execution_count": 21,
   "id": "c3a6ebe0",
   "metadata": {},
   "outputs": [],
   "source": [
    "# Here X_test, y_test are the test data points\n",
    "predictions = classifier.predict(X_test)"
   ]
  },
  {
   "cell_type": "markdown",
   "id": "6d3af191",
   "metadata": {},
   "source": [
    "## Evaluation metrics"
   ]
  },
  {
   "cell_type": "markdown",
   "id": "e80916b7",
   "metadata": {},
   "source": [
    "### Accuracy"
   ]
  },
  {
   "cell_type": "code",
   "execution_count": 22,
   "id": "9fc05a73",
   "metadata": {},
   "outputs": [
    {
     "name": "stdout",
     "output_type": "stream",
     "text": [
      "Accuracy of the classifier is: 1.0\n"
     ]
    }
   ],
   "source": [
    "# Importing all necessary libraries\n",
    "from sklearn.metrics import accuracy_score\n",
    "# Calculating the accuracy of classifier\n",
    "print(f\"Accuracy of the classifier is: {accuracy_score(y_test, predictions)}\")"
   ]
  },
  {
   "cell_type": "markdown",
   "id": "095d2de5",
   "metadata": {},
   "source": [
    "### Confusion Matrix"
   ]
  },
  {
   "cell_type": "code",
   "execution_count": 23,
   "id": "5ed16be2",
   "metadata": {},
   "outputs": [
    {
     "name": "stdout",
     "output_type": "stream",
     "text": [
      "[[56  0  0]\n",
      " [ 0 59  0]\n",
      " [ 0  0 72]]\n"
     ]
    },
    {
     "data": {
      "image/png": "[encoded data removed]",
      "text/plain": [
       "<Figure size 432x288 with 2 Axes>"
      ]
     },
     "metadata": {
      "needs_background": "light"
     },
     "output_type": "display_data"
    }
   ],
   "source": [
    "# importing all necessary libraries\n",
    "import matplotlib.pyplot as plt\n",
    "from sklearn.metrics import confusion_matrix\n",
    "from sklearn.metrics import plot_confusion_matrix\n",
    "\n",
    "# confusion_matrix funnction a matrix containing the summary of predictions\n",
    "print(confusion_matrix(y_test, predictions))\n",
    "\n",
    "# plot_confusion_matrix function is used to visualize the confusion matrix\n",
    "plot_confusion_matrix(classifier, X_test, y_test)\n",
    "plt.show()"
   ]
  },
  {
   "cell_type": "markdown",
   "id": "b9d41ade",
   "metadata": {},
   "source": [
    "### Precision"
   ]
  },
  {
   "cell_type": "code",
   "execution_count": 82,
   "id": "d02d9e8c",
   "metadata": {},
   "outputs": [
    {
     "name": "stdout",
     "output_type": "stream",
     "text": [
      "Precision Score of the classifier is: 1.0\n"
     ]
    }
   ],
   "source": [
    "# Importing all necessary libraries\n",
    "from sklearn.metrics import precision_score\n",
    "#fixed error : https://stackoverflow.com/questions/52269187/facing-valueerror-target-is-multiclass-but-average-binary \n",
    "# Calculating the precision score of classifier\n",
    "print(f\"Precision Score of the classifier is: {precision_score(y_test, predictions,average='micro')}\")"
   ]
  },
  {
   "cell_type": "markdown",
   "id": "04a1d91e",
   "metadata": {},
   "source": [
    "### Recall"
   ]
  },
  {
   "cell_type": "code",
   "execution_count": 29,
   "id": "e4f75212",
   "metadata": {},
   "outputs": [
    {
     "name": "stdout",
     "output_type": "stream",
     "text": [
      "Recall Score of the classifier is: 1.0\n"
     ]
    }
   ],
   "source": [
    "# Importing all necessary libraries\n",
    "from sklearn.metrics import recall_score\n",
    "# Calculating the recall score of classifier\n",
    "print(f\"Recall Score of the classifier is: {recall_score(y_test, predictions, average='micro')}\")"
   ]
  },
  {
   "cell_type": "markdown",
   "id": "f5d0f045",
   "metadata": {},
   "source": [
    "### F measure (f1-score)"
   ]
  },
  {
   "cell_type": "code",
   "execution_count": 31,
   "id": "e477a11b",
   "metadata": {},
   "outputs": [
    {
     "name": "stdout",
     "output_type": "stream",
     "text": [
      "F1 Score of the classifier is: 1.0\n"
     ]
    }
   ],
   "source": [
    "# Importing all necessary libraries\n",
    "from sklearn.metrics import f1_score\n",
    "\n",
    "# Calculating the F1 score of classifier\n",
    "print(f\"F1 Score of the classifier is: {f1_score(y_test, predictions, average='micro' )}\")"
   ]
  },
  {
   "cell_type": "markdown",
   "id": "7934591a",
   "metadata": {},
   "source": [
    "### Classification report"
   ]
  },
  {
   "cell_type": "code",
   "execution_count": 56,
   "id": "d5835b7a",
   "metadata": {},
   "outputs": [],
   "source": [
    "target_names = ['class 0', 'class 1', 'class 2']\n",
    "report = classification_report(y_test, predictions, target_names=target_names)"
   ]
  },
  {
   "cell_type": "code",
   "execution_count": 57,
   "id": "d9ecaaa5",
   "metadata": {},
   "outputs": [
    {
     "name": "stdout",
     "output_type": "stream",
     "text": [
      "              precision    recall  f1-score   support\n",
      "\n",
      "     class 0       1.00      1.00      1.00        56\n",
      "     class 1       1.00      1.00      1.00        59\n",
      "     class 2       1.00      1.00      1.00        72\n",
      "\n",
      "    accuracy                           1.00       187\n",
      "   macro avg       1.00      1.00      1.00       187\n",
      "weighted avg       1.00      1.00      1.00       187\n",
      "\n"
     ]
    }
   ],
   "source": [
    "print(report)"
   ]
  },
  {
   "cell_type": "markdown",
   "id": "e28ba93a",
   "metadata": {},
   "source": [
    "### Sensitivity and specificity"
   ]
  },
  {
   "cell_type": "markdown",
   "id": "f2fb2203",
   "metadata": {},
   "source": [
    "Couldn't calculate them as this was a 3-class classification"
   ]
  },
  {
   "cell_type": "markdown",
   "id": "09e01d7e",
   "metadata": {},
   "source": [
    "### Kappa statistics"
   ]
  },
  {
   "cell_type": "code",
   "execution_count": 40,
   "id": "d69465cc",
   "metadata": {},
   "outputs": [
    {
     "name": "stdout",
     "output_type": "stream",
     "text": [
      "cohen Kappa Score of the classifier is: 1.0\n"
     ]
    }
   ],
   "source": [
    "from sklearn.metrics import cohen_kappa_score\n",
    "print(f\"cohen Kappa Score of the classifier is: {cohen_kappa_score(y_test, predictions)}\")\n",
    "#print(f\"quad Kappa Score of the classifier is: {kappa(y_test, predictions,weights='quadratic')}\")"
   ]
  },
  {
   "cell_type": "markdown",
   "id": "c4ccca48",
   "metadata": {},
   "source": [
    "### Lift chart"
   ]
  },
  {
   "cell_type": "code",
   "execution_count": 53,
   "id": "529a37a3",
   "metadata": {},
   "outputs": [
    {
     "name": "stdout",
     "output_type": "stream",
     "text": [
      "Collecting scikit-plotNote: you may need to restart the kernel to use updated packages.\n",
      "  Downloading scikit_plot-0.3.7-py3-none-any.whl (33 kB)\n",
      "Requirement already satisfied: joblib>=0.10 in c:\\users\\asus\\anaconda3\\lib\\site-packages (from scikit-plot) (1.0.1)\n",
      "Requirement already satisfied: scikit-learn>=0.18 in c:\\users\\asus\\anaconda3\\lib\\site-packages (from scikit-plot) (0.24.1)\n",
      "Requirement already satisfied: matplotlib>=1.4.0 in c:\\users\\asus\\anaconda3\\lib\\site-packages (from scikit-plot) (3.3.4)\n",
      "Requirement already satisfied: scipy>=0.9 in c:\\users\\asus\\anaconda3\\lib\\site-packages (from scikit-plot) (1.6.2)\n",
      "Requirement already satisfied: python-dateutil>=2.1 in c:\\users\\asus\\anaconda3\\lib\\site-packages (from matplotlib>=1.4.0->scikit-plot) (2.8.1)\n",
      "Requirement already satisfied: kiwisolver>=1.0.1 in c:\\users\\asus\\anaconda3\\lib\\site-packages (from matplotlib>=1.4.0->scikit-plot) (1.3.1)\n",
      "Requirement already satisfied: pyparsing!=2.0.4,!=2.1.2,!=2.1.6,>=2.0.3 in c:\\users\\asus\\anaconda3\\lib\\site-packages (from matplotlib>=1.4.0->scikit-plot) (2.4.7)\n",
      "Requirement already satisfied: pillow>=6.2.0 in c:\\users\\asus\\anaconda3\\lib\\site-packages (from matplotlib>=1.4.0->scikit-plot) (8.2.0)\n",
      "Requirement already satisfied: numpy>=1.15 in c:\\users\\asus\\anaconda3\\lib\\site-packages (from matplotlib>=1.4.0->scikit-plot) (1.20.1)\n",
      "Requirement already satisfied: cycler>=0.10 in c:\\users\\asus\\anaconda3\\lib\\site-packages (from matplotlib>=1.4.0->scikit-plot) (0.10.0)\n",
      "Requirement already satisfied: six in c:\\users\\asus\\anaconda3\\lib\\site-packages (from cycler>=0.10->matplotlib>=1.4.0->scikit-plot) (1.15.0)\n",
      "Requirement already satisfied: threadpoolctl>=2.0.0 in c:\\users\\asus\\anaconda3\\lib\\site-packages (from scikit-learn>=0.18->scikit-plot) (2.1.0)\n",
      "Installing collected packages: scikit-plot\n",
      "Successfully installed scikit-plot-0.3.7\n",
      "\n"
     ]
    }
   ],
   "source": [
    "pip install scikit-plot"
   ]
  },
  {
   "cell_type": "code",
   "execution_count": 55,
   "id": "2293938a",
   "metadata": {},
   "outputs": [],
   "source": [
    "#Cannot calculate Cumulative Gains for data with 3 category/ies\n",
    "#import scikitplot as skplt\n",
    "#skplt.metrics.plot_cumulative_gain(y_test, predictions)\n",
    "#plt.show()"
   ]
  },
  {
   "cell_type": "markdown",
   "id": "356c44d1",
   "metadata": {},
   "source": [
    "### AUC-ROC Curve"
   ]
  },
  {
   "cell_type": "code",
   "execution_count": 34,
   "id": "576ea255",
   "metadata": {},
   "outputs": [
    {
     "name": "stdout",
     "output_type": "stream",
     "text": [
      "AUC for our classifier is: 0.20392584514721918\n"
     ]
    }
   ],
   "source": [
    "# Importing all necessary libraries\n",
    "from sklearn.metrics import roc_curve, auc\n",
    "\n",
    "class_probabilities = classifier.predict_proba(X_test)\n",
    "preds = class_probabilities[:, 1]\n",
    "\n",
    "#added pos_label=1 because before i had the error ValueError: multiclass format is not supported\n",
    "#https://stackoverflow.com/questions/61114520/how-to-fix-valueerror-multiclass-format-is-not-supported \n",
    "fpr, tpr, threshold = roc_curve(y_test, preds, pos_label=1)\n",
    "roc_auc = auc(fpr, tpr)\n",
    "\n",
    "# Printing AUC\n",
    "print(f\"AUC for our classifier is: {roc_auc}\")"
   ]
  },
  {
   "cell_type": "code",
   "execution_count": 87,
   "id": "2e47fd29",
   "metadata": {},
   "outputs": [
    {
     "name": "stdout",
     "output_type": "stream",
     "text": [
      "AUC: 1.00\n"
     ]
    }
   ],
   "source": [
    "from sklearn.metrics import roc_auc_score\n",
    "\n",
    "# Generate class membership probabilities\n",
    "y_preb_probs = classifier.predict_proba(X_test)\n",
    "\n",
    "auc = roc_auc_score(y_test, y_preb_probs, average=\"weighted\", multi_class=\"ovr\")\n",
    "print('AUC: %.2f' % auc)"
   ]
  },
  {
   "cell_type": "code",
   "execution_count": 98,
   "id": "cc23b5bb",
   "metadata": {},
   "outputs": [],
   "source": [
    "#probs = classifier.predict_proba(X_test)\n",
    "#preds = probs[:, 1]\n",
    "#auc = roc_auc_score(y_test, preds,multi_class=\"ovr\")\n",
    "#print('AUC: %.2f' % auc)                                "
   ]
  },
  {
   "cell_type": "code",
   "execution_count": 88,
   "id": "17b2edfb",
   "metadata": {},
   "outputs": [],
   "source": [
    "def plot_roc_curve(fpr, tpr):\n",
    "    plt.plot(fpr, tpr, color='orange', label='ROC')\n",
    "    plt.plot([0, 1], [0, 1], color='darkblue', linestyle='--')\n",
    "    plt.xlabel('False Positive Rate')\n",
    "    plt.ylabel('True Positive Rate')\n",
    "    plt.title('Receiver Operating Characteristic (ROC) Curve')\n",
    "    plt.legend()\n",
    "    plt.show()"
   ]
  },
  {
   "cell_type": "code",
   "execution_count": 89,
   "id": "54313cf5",
   "metadata": {},
   "outputs": [],
   "source": [
    "#added pos_label=1 because before i had the error ValueError: multiclass format is not supported\n",
    "#https://stackoverflow.com/questions/61114520/how-to-fix-valueerror-multiclass-format-is-not-supported \n",
    "fpr, tpr, threshold = roc_curve(y_test, preds, pos_label=1)"
   ]
  },
  {
   "cell_type": "code",
   "execution_count": 90,
   "id": "807448fb",
   "metadata": {},
   "outputs": [
    {
     "data": {
      "image/png": "[encoded data removed]",
      "text/plain": [
       "<Figure size 432x288 with 1 Axes>"
      ]
     },
     "metadata": {
      "needs_background": "light"
     },
     "output_type": "display_data"
    }
   ],
   "source": [
    "plot_roc_curve(fpr, tpr)"
   ]
  },
  {
   "cell_type": "code",
   "execution_count": 35,
   "id": "cf45e1a2",
   "metadata": {
    "scrolled": true
   },
   "outputs": [
    {
     "data": {
      "image/png": "[encoded data removed]",
      "text/plain": [
       "<Figure size 432x288 with 1 Axes>"
      ]
     },
     "metadata": {
      "needs_background": "light"
     },
     "output_type": "display_data"
    }
   ],
   "source": [
    "# Plotting the ROC\n",
    "plt.title('Receiver Operating Characteristic')\n",
    "plt.plot(fpr, tpr, 'b', label = 'AUC = %0.2f' % roc_auc)\n",
    "plt.legend(loc = 'lower right')\n",
    "plt.plot([0, 1], [0, 1],'r--')\n",
    "plt.xlim([0, 1])\n",
    "plt.ylim([0, 1])\n",
    "plt.ylabel('True Positive Rate')\n",
    "plt.xlabel('False Positive Rate')\n",
    "plt.show()"
   ]
  },
  {
   "cell_type": "code",
   "execution_count": 86,
   "id": "a6dec1f5",
   "metadata": {},
   "outputs": [
    {
     "data": {
      "image/png": "[encoded data removed]",
      "text/plain": [
       "<Figure size 432x288 with 1 Axes>"
      ]
     },
     "metadata": {
      "needs_background": "light"
     },
     "output_type": "display_data"
    }
   ],
   "source": [
    "#roc_auc_score\n",
    "plt.title('Receiver Operating Characteristic')\n",
    "plt.plot(fpr, tpr, 'b', label = 'AUC = %0.2f' % auc)\n",
    "plt.legend(loc = 'lower right')\n",
    "plt.plot([0, 1], [0, 1],'r--')\n",
    "plt.xlim([0, 1])\n",
    "plt.ylim([0, 1])\n",
    "plt.ylabel('True Positive Rate')\n",
    "plt.xlabel('False Positive Rate')\n",
    "plt.show()"
   ]
  },
  {
   "cell_type": "markdown",
   "id": "5467bfdb",
   "metadata": {},
   "source": [
    "## Summary 1:"
   ]
  },
  {
   "cell_type": "markdown",
   "id": "53d52f81",
   "metadata": {},
   "source": [
    "### Confusion matrix"
   ]
  },
  {
   "cell_type": "markdown",
   "id": "a0b4d21f",
   "metadata": {},
   "source": [
    "We see on the ploted confusion matrix that all classes are correctly predicted with all cells outside of the diagonal being null."
   ]
  },
  {
   "cell_type": "markdown",
   "id": "32d37507",
   "metadata": {},
   "source": [
    "### Precision"
   ]
  },
  {
   "cell_type": "markdown",
   "id": "4546ac6a",
   "metadata": {},
   "source": [
    "Precision answers the question of “what proportion of predicted positives are truly positive?” Since all cells besides the diagonal are equal to 0, no suprice that it equals 1, the ideal score."
   ]
  },
  {
   "cell_type": "markdown",
   "id": "cd5d4d44",
   "metadata": {},
   "source": [
    "### Recall"
   ]
  },
  {
   "cell_type": "markdown",
   "id": "7c5e23a7",
   "metadata": {},
   "source": [
    "Recall answers the question of “what proportion of actual positives are correctly classified?”  since FN = 0 once again we get 1 the ideal score."
   ]
  },
  {
   "cell_type": "markdown",
   "id": "8ea422b9",
   "metadata": {},
   "source": [
    "### F-measure"
   ]
  },
  {
   "cell_type": "markdown",
   "id": "81b877a4",
   "metadata": {},
   "source": [
    "It is calculated by taking the harmonic mean of precision and recall, harmonic mean has a nice arithmetic property representing a truly balanced mean so if either precision or recall is low it suffers significantly. Since we have a perfect 1 in precision and recall, it isn't suprising that it equals one as well."
   ]
  },
  {
   "cell_type": "markdown",
   "id": "7c2f36ec",
   "metadata": {},
   "source": [
    "### Classification report"
   ]
  },
  {
   "cell_type": "markdown",
   "id": "daee543b",
   "metadata": {},
   "source": [
    "https://scikit-learn.org/stable/modules/generated/sklearn.metrics.classification_report.html"
   ]
  },
  {
   "cell_type": "markdown",
   "id": "04c45057",
   "metadata": {},
   "source": [
    "- The reported averages include macro average (averaging the unweighted mean per label), weighted average (averaging the support-weighted mean per label), and sample average (only for multilabel classification). \n",
    "- Micro average (averaging the total true positives, false negatives and false positives) is only shown for multi-label or multi-class with a subset of classes, because it corresponds to accuracy otherwise and would be the same for all metrics.\n",
    "- In binary classification, recall of the positive class is also known as “sensitivity”; recall of the negative class is “specificity”.\n",
    "- Support is the number of actual occurrences of the class in the test data set. Imbalanced support in the training data may indicate the need for stratified sampling or rebalancing.\n",
    "\n",
    "Our report summerizes the perfect scores previously seen."
   ]
  },
  {
   "cell_type": "markdown",
   "id": "5391523d",
   "metadata": {},
   "source": [
    "### Kappa statistics"
   ]
  },
  {
   "cell_type": "markdown",
   "id": "03232cd8",
   "metadata": {},
   "source": [
    "https://medium.com/apprentice-journal/evaluating-multi-class-classifiers-12b2946e755b"
   ]
  },
  {
   "cell_type": "markdown",
   "id": "2b6c651f",
   "metadata": {},
   "source": [
    "Kappa statisitc computes how successfull is our predictor compared to a random one\n",
    "\n",
    "This is one of the best metrics for evaluating multi-class classifiers on imbalanced datasets.\n",
    "\n",
    "The traditional metrics from the classification report are biased towards the majority class and assumes an identical distribution of the actual and predicted classes. In contrast, Cohen’s Kappa Statistic measures the proximity of the predicted classes to the actual classes when compared to a random classification. The output is normalized between 0 and 1 the metrics for each classifier, therefore can be directly compared across the classification task. Generally closer the score is to one, better the classifier."
   ]
  },
  {
   "cell_type": "markdown",
   "id": "7c851666",
   "metadata": {},
   "source": [
    "### AUC-ROC Curve"
   ]
  },
  {
   "cell_type": "markdown",
   "id": "2d7e148f",
   "metadata": {},
   "source": [
    "Sources :\n",
    "- https://medium.datadriveninvestor.com/evaluation-metrics-101-7c8b4c3421c2 \n",
    "- https://towardsdatascience.com/comprehensive-guide-on-multiclass-classification-metrics-af94cfb83fbd"
   ]
  },
  {
   "cell_type": "markdown",
   "id": "35ac9cfd",
   "metadata": {},
   "source": [
    "The Receiver Operator Characteristic curve (ROC curve) illustrates the true positive rate against the false positive rate of our classifier. AUC provides a singular metric for evaluating a classification model by measuring the area under the ROC curve. \n",
    "ROC allows us to determine optimal specificity-recall tradeoff balances specific to the problem we are looking to solve. \n",
    "\n",
    "In a nutshell, the major difference between ROC AUC and F1 is related to class imbalance.If you have a high class imbalance, always choose the F1 score because a high F1 score considers both precision and recall. To get a high F1, both false positives and false negatives must be low. On the other hand, ROC AUC can give precious high scores with a high enough number of false positives. Besides, you can also think of the ROC AUC score as the average of F1 scores (both good and bad) evaluated at various thresholds. Always use F1 when you have a class imbalance. Higher ROC AUC does not necessarily mean a better classifier. \n",
    "\n",
    "When training a classifier, the best performing models will have a ROC curve that hugs the upper left corner of the graph signifying that the model can appropriately distinguish between classes. \n",
    "An AUC of 1 means your classifier is perfect, something that is extremely unlikely. While an AUC of 0.5 (50%) or less would indicate your model is no better than random guessing. \n",
    "\n",
    "So despite having a perfect score in almost all evaluation metrics, the AUC of 0.2 tells us our model isn't doing a good job  "
   ]
  },
  {
   "cell_type": "markdown",
   "id": "43692243",
   "metadata": {},
   "source": [
    "Finally, since our predicted class isn't that serious. We would in the case of lower scores prioritize recall over precision "
   ]
  },
  {
   "cell_type": "markdown",
   "id": "f71a902c",
   "metadata": {},
   "source": [
    "## Comparision between train/test split and cross validation"
   ]
  },
  {
   "cell_type": "markdown",
   "id": "9cd0f742",
   "metadata": {},
   "source": [
    "https://towardsdatascience.com/train-test-split-and-cross-validation-in-python-80b61beca4b6"
   ]
  },
  {
   "cell_type": "markdown",
   "id": "cf1008dd",
   "metadata": {},
   "source": [
    "### Train/Test Split"
   ]
  },
  {
   "cell_type": "markdown",
   "id": "a7046e4a",
   "metadata": {},
   "source": [
    "The training set contains a known output and the model learns on this data in order to be generalized to other data later on. We have the test dataset (or subset) in order to test our model’s prediction on this subset."
   ]
  },
  {
   "cell_type": "code",
   "execution_count": 58,
   "id": "c0288a91",
   "metadata": {},
   "outputs": [
    {
     "name": "stdout",
     "output_type": "stream",
     "text": [
      "Train Data: (744, 9), (744,)\n",
      "Train Data: (187, 9), (187,)\n"
     ]
    }
   ],
   "source": [
    "from sklearn.model_selection import train_test_split\n",
    "# Splitting the data into training and testing set\n",
    "X_train, X_test, y_train, y_test = train_test_split(X, y, test_size=0.2, random_state=24)\n",
    "print(f\"Train Data: {X_train.shape}, {y_train.shape}\")\n",
    "print(f\"Train Data: {X_test.shape}, {y_test.shape}\")"
   ]
  },
  {
   "cell_type": "markdown",
   "id": "ae895c85",
   "metadata": {},
   "source": [
    "The test_size=0.2 inside the function indicates the percentage of the data that should be held over for testing. (It’s usually around 80/20 or 70/30)"
   ]
  },
  {
   "cell_type": "code",
   "execution_count": 60,
   "id": "7d739025",
   "metadata": {},
   "outputs": [],
   "source": [
    "# fit model \n",
    "classifier = RandomForestClassifier()\n",
    "model = classifier.fit(X_train, y_train)\n",
    "predictions = classifier.predict(X_test)"
   ]
  },
  {
   "cell_type": "markdown",
   "id": "12f65f4c",
   "metadata": {},
   "source": [
    "The first five predicted values :"
   ]
  },
  {
   "cell_type": "code",
   "execution_count": 61,
   "id": "bc3b9041",
   "metadata": {},
   "outputs": [
    {
     "data": {
      "text/plain": [
       "array([1., 3., 1., 2., 2.])"
      ]
     },
     "execution_count": 61,
     "metadata": {},
     "output_type": "execute_result"
    }
   ],
   "source": [
    "predictions[0:5]"
   ]
  },
  {
   "cell_type": "code",
   "execution_count": 63,
   "id": "746bbbd7",
   "metadata": {
    "scrolled": true
   },
   "outputs": [
    {
     "data": {
      "text/plain": [
       "Text(0, 0.5, 'Predictions')"
      ]
     },
     "execution_count": 63,
     "metadata": {},
     "output_type": "execute_result"
    },
    {
     "data": {
      "image/png": "[encoded data removed]",
      "text/plain": [
       "<Figure size 432x288 with 1 Axes>"
      ]
     },
     "metadata": {
      "needs_background": "light"
     },
     "output_type": "display_data"
    }
   ],
   "source": [
    "#plot the model\n",
    "plt.scatter(y_test, predictions)\n",
    "plt.xlabel(\"True Values\")\n",
    "plt.ylabel(\"Predictions\")"
   ]
  },
  {
   "cell_type": "code",
   "execution_count": 66,
   "id": "2498616c",
   "metadata": {},
   "outputs": [
    {
     "name": "stdout",
     "output_type": "stream",
     "text": [
      "Accuracy: 1.0\n"
     ]
    }
   ],
   "source": [
    "print (\"Accuracy:\", model.score(X_test, y_test))"
   ]
  },
  {
   "cell_type": "markdown",
   "id": "3bea3379",
   "metadata": {},
   "source": [
    "There is a high chance of overfitting in this model"
   ]
  },
  {
   "cell_type": "markdown",
   "id": "dc9c31d6",
   "metadata": {},
   "source": [
    "### Cross Validation"
   ]
  },
  {
   "cell_type": "markdown",
   "id": "fcd33ffa",
   "metadata": {},
   "source": [
    "We split our data into k subsets, and train on k-1 one of those subset. What we do is to hold the last subset for test. We’re able to do it for each of the subsets."
   ]
  },
  {
   "cell_type": "markdown",
   "id": "42c874f4",
   "metadata": {},
   "source": [
    "There are many cross validation methods,one of them is :\n",
    "- K-Folds Cross Validation"
   ]
  },
  {
   "cell_type": "markdown",
   "id": "2fc2b9f2",
   "metadata": {},
   "source": [
    "#### K-Folds Cross Validation"
   ]
  },
  {
   "cell_type": "markdown",
   "id": "48301a7c",
   "metadata": {},
   "source": [
    "we split our data into k different subsets (or folds). We use k-1 subsets to train our data and leave the last subset (or the last fold) as test data. We then average the model against each of the folds and then finalize our model. After that we test it against the test set."
   ]
  },
  {
   "cell_type": "code",
   "execution_count": 69,
   "id": "87f36ac0",
   "metadata": {},
   "outputs": [
    {
     "data": {
      "text/html": [
       "<img src=\"1.PNG\" width=\"500\" height=\"400\"/>"
      ],
      "text/plain": [
       "<IPython.core.display.Image object>"
      ]
     },
     "execution_count": 69,
     "metadata": {},
     "output_type": "execute_result"
    }
   ],
   "source": [
    "Image(url=\"1.PNG\", width=500, height=400)"
   ]
  },
  {
   "cell_type": "code",
   "execution_count": 70,
   "id": "b9135cc9",
   "metadata": {},
   "outputs": [],
   "source": [
    "from sklearn.model_selection import KFold "
   ]
  },
  {
   "cell_type": "code",
   "execution_count": 71,
   "id": "b55c990c",
   "metadata": {},
   "outputs": [
    {
     "name": "stdout",
     "output_type": "stream",
     "text": [
      "Accuracy Score: 1.0\n",
      "Confusion Matrix: \n",
      "[[56  0  0]\n",
      " [ 0 66  0]\n",
      " [ 0  0 65]]\n",
      "Accuracy Score: 1.0\n",
      "Confusion Matrix: \n",
      "[[65  0  0]\n",
      " [ 0 59  0]\n",
      " [ 0  0 62]]\n",
      "Accuracy Score: 1.0\n",
      "Confusion Matrix: \n",
      "[[61  0  0]\n",
      " [ 0 65  0]\n",
      " [ 0  0 60]]\n",
      "Accuracy Score: 1.0\n",
      "Confusion Matrix: \n",
      "[[68  0  0]\n",
      " [ 0 56  0]\n",
      " [ 0  0 62]]\n",
      "Accuracy Score: 1.0\n",
      "Confusion Matrix: \n",
      "[[68  0  0]\n",
      " [ 0 72  0]\n",
      " [ 0  0 46]]\n"
     ]
    }
   ],
   "source": [
    "# Instantiating the K-Fold cross validation object with 5 folds\n",
    "k_folds = KFold(n_splits = 5, shuffle = True, random_state = 42)\n",
    "# Iterating through each of the folds in K-Fold\n",
    "for train_index, val_index in k_folds.split(X):\n",
    "    \n",
    "    # Splitting the training set from the validation set for this specific fold\n",
    "    X_train, X_val = X.iloc[train_index, :], X.iloc[val_index, :]\n",
    "    y_train, y_val = y.iloc[train_index], y.iloc[val_index]\n",
    "    \n",
    "    # Instantiating a RandomForestClassifier model\n",
    "    model = RandomForestClassifier()\n",
    "    \n",
    "    # Fitting the X_train and y_train datasets to the RandomForestClassifier model\n",
    "    model.fit(X_train, y_train)\n",
    "    \n",
    "    # Getting inferential predictions for the validation dataset\n",
    "    val_preds = model.predict(X_val)\n",
    "    \n",
    "    # Generating validation metrics by comparing the inferential predictions (val_preds) to the actuals (y_val)\n",
    "    val_accuracy = accuracy_score(y_val, val_preds)\n",
    "    val_confusion_matrix = confusion_matrix(y_val, val_preds)\n",
    "    \n",
    "    # Printing out the validation metrics\n",
    "    print(f'Accuracy Score: {val_accuracy}')\n",
    "    print(f'Confusion Matrix: \\n{val_confusion_matrix}')"
   ]
  },
  {
   "cell_type": "code",
   "execution_count": 74,
   "id": "10cc1221",
   "metadata": {},
   "outputs": [
    {
     "data": {
      "text/plain": [
       "Text(0, 0.5, 'Predictions')"
      ]
     },
     "execution_count": 74,
     "metadata": {},
     "output_type": "execute_result"
    },
    {
     "data": {
      "image/png": "[encoded data removed]",
      "text/plain": [
       "<Figure size 432x288 with 1 Axes>"
      ]
     },
     "metadata": {
      "needs_background": "light"
     },
     "output_type": "display_data"
    }
   ],
   "source": [
    "#plot the model\n",
    "plt.scatter(y_val, val_preds)\n",
    "plt.xlabel(\"True Values\")\n",
    "plt.ylabel(\"Predictions\")"
   ]
  },
  {
   "cell_type": "markdown",
   "id": "4caa7e1b",
   "metadata": {},
   "source": [
    "There might not be overfitting after all, and it is imply an ideal classifier "
   ]
  },
  {
   "cell_type": "markdown",
   "id": "faf8e777",
   "metadata": {},
   "source": [
    "## Summary 2 :"
   ]
  },
  {
   "cell_type": "markdown",
   "id": "9f46c74d",
   "metadata": {},
   "source": [
    "https://www.linkedin.com/pulse/traintest-split-versus-cross-fold-validation-william-monroe/ "
   ]
  },
  {
   "cell_type": "markdown",
   "id": "eef75eff",
   "metadata": {},
   "source": [
    "When building models we want to ensure that they are 'generalizable'. We don't want our model to only work on the initial collected dataset.\n",
    "\n",
    "Test/train split is a great thing to do when looking to test the general or extensible nature of a model. The accuracy of a model on the validation dataset gives some insight into the robustness of the built model. However, With small datasets, this can be susceptible to outliers (or the lack thereof) and limit our view of how extensible our model is. \n",
    "\n",
    "This is why Cross-fold validation is more robust usually with datasets that are similar in size to ours. It is simply doing train/test split, but several times. This is done by essentially choosing many different splits of the data. This way, every data point could potentially be in either the testing or the training database."
   ]
  }
 ],
 "metadata": {
  "kernelspec": {
   "display_name": "Python 3",
   "language": "python",
   "name": "python3"
  },
  "language_info": {
   "codemirror_mode": {
    "name": "ipython",
    "version": 3
   },
   "file_extension": ".py",
   "mimetype": "text/x-python",
   "name": "python",
   "nbconvert_exporter": "python",
   "pygments_lexer": "ipython3",
   "version": "3.8.8"
  }
 },
 "nbformat": 4,
 "nbformat_minor": 5
}
