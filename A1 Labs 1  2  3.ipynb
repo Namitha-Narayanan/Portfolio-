{
 "cells": [
  {
   "cell_type": "markdown",
   "id": "0285cdca",
   "metadata": {},
   "source": [
    "## Table of Contents\n",
    "* [Chapter 1](#chapter1) : Introduction to Data Mining\n",
    "* [Chapter 2](#chapter2) : Basics of data processing\n",
    "* [Chapter 3](#chapter3) : Feature selection"
   ]
  },
  {
   "cell_type": "markdown",
   "id": "78827c1e",
   "metadata": {},
   "source": [
    "# Libraries "
   ]
  },
  {
   "cell_type": "code",
   "execution_count": 169,
   "id": "a3fe3c56",
   "metadata": {},
   "outputs": [],
   "source": [
    "#library that allows the importation of images \n",
    "from IPython.display import Image\n",
    "#Lab 2\n",
    "import pandas as pd\n",
    "import numpy as np\n",
    "import seaborn as sns\n",
    "import statsmodels.api as sm\n",
    "import matplotlib.pyplot as plt\n",
    "import matplotlib as mlp\n",
    "%matplotlib inline\n",
    "#Lab 3\n",
    "from sklearn.decomposition import PCA\n",
    "from sklearn.preprocessing import StandardScaler\n",
    "from sklearn.model_selection import train_test_split\n",
    "from sklearn.linear_model import LogisticRegression\n",
    "from sklearn.ensemble import ExtraTreesClassifier\n",
    "from sklearn.metrics import accuracy_score\n",
    "from boruta import BorutaPy\n",
    "from sklearn.ensemble import RandomForestRegressor\n",
    "from sklearn.linear_model import LinearRegression\n",
    "from sklearn.feature_selection import f_regression\n",
    "from mrmr import mrmr_classif\n",
    "from sklearn.neighbors import KNeighborsClassifier"
   ]
  },
  {
   "cell_type": "markdown",
   "id": "e124fad4",
   "metadata": {},
   "source": [
    "# Lab 1 : Introduction to Data Mining<a class=\"anchor\" id=\"chapter1\"></a>\n",
    "\n",
    "Based on the average level and experience of the group we figured it might be best to go for a nominal dataset as it will let us get a better feel of the models and will be easier to navigate during data exploration. And maybe if possible later on, when we would want to do extra work we’ll do a bit of deep learning with an image dataset.\n",
    "\n",
    "## Dataset selection :\n",
    "During our research we managed to shortlist 3 datasets :\n",
    "- Medical Cost Personal Datasets : https://www.kaggle.com/datasets/mirichoi0218/insurance \n",
    "- Corona Virus Covid-19 US Counties : https://www.kaggle.com/datasets/yasirabdaali/corona-virus-covid19-us-counties\n",
    "- World happiness report :\n",
    "    - https://www.kaggle.com/datasets/unsdsn/world-happiness (years : 2015-2016-2017-2018-2019)\n",
    "    - https://www.kaggle.com/datasets/ajaypalsinghlo/world-happiness-report-2021?select=world-happiness-report-2021.csv (year 2021)\n",
    "\n",
    "### Medical Cost Personal Datasets :\n",
    "This dataset contains the medical costs billed by health insurance in the US with information on those billed. \n",
    "- Pros :\n",
    "    - simple dataset so it's easy to work with (good for beginners)\n",
    "    - Clean dataset\n",
    "- Cons :\n",
    "    - it isn't that big of a dataset\n",
    "    - Lack of interesting visualisation since there isn't time or space variation \n",
    "\n",
    "### Corona Virus Covid-19 US Counties\n",
    "This dataset contains the covid-19 pandemic data of the years 2020, 2021 and 2022 of several counties in the United States.\n",
    "- Pros :\n",
    "    - Time and space variation so more opportunities for visualisation \n",
    "    - A dataset that allows preprocessing training\n",
    "- Cons :\n",
    "    - redundant for a portfolio since there are too many projects with covid \n",
    "\n",
    "### World happiness report\n",
    "The happiness scores and rankings use data from the Gallup World Poll. The scores are based on answers to the main life evaluation question asked in the poll. \n",
    "\n",
    "The scores are from nationally representative samples for the years 2013-2016 and use the Gallup weights to make the estimates representative. The columns following the happiness score estimate the extent to which each of six factors **economic production, social support, life expectancy, freedom, absence of corruption, and generosity** contribute to making life evaluations higher in each country than they are in Dystopia, a hypothetical country that has values equal to the world’s lowest national averages for each of the six factors. They have no impact on the total score reported for each country, but they do explain why some countries rank higher than others.\n",
    "\n",
    "- Pros :\n",
    "    - Time and space variation so more opportunities for visualisation \n",
    "    - Big dataset which will come on handy when creating smaller datasets from it\n",
    "    - The context is interesting and new and so the conlusions and it allows for good analysis training\n",
    "- Cons :\n",
    "    - might be more suitable for some models over others (but that seemed to be a general problem with all datasets)\n",
    "    - Clean data so not much preprocessing \n",
    "\n",
    "We ended up choosing the the world happines report affter discussing everyone's experience and level in both python and machine learning. We settled on a dataset that wasn't as complicated as an image dataset but still interesting and challenging enough for thorough training, as well as one that would guarantee a good portflio as a result. \n",
    "\n",
    "#### Features : (final dataset after merge)\n",
    "\n",
    "- Happiness Rank : Rank of any country in a particular year.\n",
    "- Country : Name of the country.\n",
    "- Happiness Score : the sum of all numerical columns in the datasets.\n",
    "- Perceptions of corruption : A quantification of the people’s perceived trust in their governments.\n",
    "- Generosity : Numerical value estimated based on the perception of Generosity experienced by poll takers in their country.\n",
    "- Social Support : Metric estimating satisfaction of people with their friends and family.\n",
    "- Freedom to make life choices : Perception of freedom quantified.\n",
    "- Life Expectancy : Life Expectancy quantified "
   ]
  },
  {
   "cell_type": "markdown",
   "id": "3652d0fb",
   "metadata": {},
   "source": [
    "# Lab 2 : Basics of Data Processing<a class=\"anchor\" id=\"chapter2\"></a> \n",
    "\n",
    "We start by importing the different data csv files we have from Kaggle :"
   ]
  },
  {
   "cell_type": "code",
   "execution_count": 4,
   "id": "41fe982f",
   "metadata": {},
   "outputs": [],
   "source": [
    "data2015 = pd.read_csv(\"2015.csv\")\n",
    "data2016 = pd.read_csv(\"2016.csv\")\n",
    "data2017 = pd.read_csv(\"2017.csv\")\n",
    "data2018 = pd.read_csv(\"2018.csv\") \n",
    "data2019 = pd.read_csv(\"2019.csv\")\n",
    "data2021= pd.read_csv(\"world-happiness-report-2021.csv\")"
   ]
  },
  {
   "cell_type": "markdown",
   "id": "d17badf2",
   "metadata": {},
   "source": [
    "## Data exploration :"
   ]
  },
  {
   "cell_type": "code",
   "execution_count": 5,
   "id": "e6321b77",
   "metadata": {},
   "outputs": [
    {
     "data": {
      "text/html": [
       "<div>\n",
       "<style scoped>\n",
       "    .dataframe tbody tr th:only-of-type {\n",
       "        vertical-align: middle;\n",
       "    }\n",
       "\n",
       "    .dataframe tbody tr th {\n",
       "        vertical-align: top;\n",
       "    }\n",
       "\n",
       "    .dataframe thead th {\n",
       "        text-align: right;\n",
       "    }\n",
       "</style>\n",
       "<table border=\"1\" class=\"dataframe\">\n",
       "  <thead>\n",
       "    <tr style=\"text-align: right;\">\n",
       "      <th></th>\n",
       "      <th>Country</th>\n",
       "      <th>Region</th>\n",
       "      <th>Happiness Rank</th>\n",
       "      <th>Happiness Score</th>\n",
       "      <th>Standard Error</th>\n",
       "      <th>Economy (GDP per Capita)</th>\n",
       "      <th>Family</th>\n",
       "      <th>Health (Life Expectancy)</th>\n",
       "      <th>Freedom</th>\n",
       "      <th>Trust (Government Corruption)</th>\n",
       "      <th>Generosity</th>\n",
       "      <th>Dystopia Residual</th>\n",
       "    </tr>\n",
       "  </thead>\n",
       "  <tbody>\n",
       "    <tr>\n",
       "      <th>0</th>\n",
       "      <td>Switzerland</td>\n",
       "      <td>Western Europe</td>\n",
       "      <td>1</td>\n",
       "      <td>7.587</td>\n",
       "      <td>0.03411</td>\n",
       "      <td>1.39651</td>\n",
       "      <td>1.34951</td>\n",
       "      <td>0.94143</td>\n",
       "      <td>0.66557</td>\n",
       "      <td>0.41978</td>\n",
       "      <td>0.29678</td>\n",
       "      <td>2.51738</td>\n",
       "    </tr>\n",
       "    <tr>\n",
       "      <th>1</th>\n",
       "      <td>Iceland</td>\n",
       "      <td>Western Europe</td>\n",
       "      <td>2</td>\n",
       "      <td>7.561</td>\n",
       "      <td>0.04884</td>\n",
       "      <td>1.30232</td>\n",
       "      <td>1.40223</td>\n",
       "      <td>0.94784</td>\n",
       "      <td>0.62877</td>\n",
       "      <td>0.14145</td>\n",
       "      <td>0.43630</td>\n",
       "      <td>2.70201</td>\n",
       "    </tr>\n",
       "    <tr>\n",
       "      <th>2</th>\n",
       "      <td>Denmark</td>\n",
       "      <td>Western Europe</td>\n",
       "      <td>3</td>\n",
       "      <td>7.527</td>\n",
       "      <td>0.03328</td>\n",
       "      <td>1.32548</td>\n",
       "      <td>1.36058</td>\n",
       "      <td>0.87464</td>\n",
       "      <td>0.64938</td>\n",
       "      <td>0.48357</td>\n",
       "      <td>0.34139</td>\n",
       "      <td>2.49204</td>\n",
       "    </tr>\n",
       "    <tr>\n",
       "      <th>3</th>\n",
       "      <td>Norway</td>\n",
       "      <td>Western Europe</td>\n",
       "      <td>4</td>\n",
       "      <td>7.522</td>\n",
       "      <td>0.03880</td>\n",
       "      <td>1.45900</td>\n",
       "      <td>1.33095</td>\n",
       "      <td>0.88521</td>\n",
       "      <td>0.66973</td>\n",
       "      <td>0.36503</td>\n",
       "      <td>0.34699</td>\n",
       "      <td>2.46531</td>\n",
       "    </tr>\n",
       "    <tr>\n",
       "      <th>4</th>\n",
       "      <td>Canada</td>\n",
       "      <td>North America</td>\n",
       "      <td>5</td>\n",
       "      <td>7.427</td>\n",
       "      <td>0.03553</td>\n",
       "      <td>1.32629</td>\n",
       "      <td>1.32261</td>\n",
       "      <td>0.90563</td>\n",
       "      <td>0.63297</td>\n",
       "      <td>0.32957</td>\n",
       "      <td>0.45811</td>\n",
       "      <td>2.45176</td>\n",
       "    </tr>\n",
       "  </tbody>\n",
       "</table>\n",
       "</div>"
      ],
      "text/plain": [
       "       Country          Region  Happiness Rank  Happiness Score  \\\n",
       "0  Switzerland  Western Europe               1            7.587   \n",
       "1      Iceland  Western Europe               2            7.561   \n",
       "2      Denmark  Western Europe               3            7.527   \n",
       "3       Norway  Western Europe               4            7.522   \n",
       "4       Canada   North America               5            7.427   \n",
       "\n",
       "   Standard Error  Economy (GDP per Capita)   Family  \\\n",
       "0         0.03411                   1.39651  1.34951   \n",
       "1         0.04884                   1.30232  1.40223   \n",
       "2         0.03328                   1.32548  1.36058   \n",
       "3         0.03880                   1.45900  1.33095   \n",
       "4         0.03553                   1.32629  1.32261   \n",
       "\n",
       "   Health (Life Expectancy)  Freedom  Trust (Government Corruption)  \\\n",
       "0                   0.94143  0.66557                        0.41978   \n",
       "1                   0.94784  0.62877                        0.14145   \n",
       "2                   0.87464  0.64938                        0.48357   \n",
       "3                   0.88521  0.66973                        0.36503   \n",
       "4                   0.90563  0.63297                        0.32957   \n",
       "\n",
       "   Generosity  Dystopia Residual  \n",
       "0     0.29678            2.51738  \n",
       "1     0.43630            2.70201  \n",
       "2     0.34139            2.49204  \n",
       "3     0.34699            2.46531  \n",
       "4     0.45811            2.45176  "
      ]
     },
     "execution_count": 5,
     "metadata": {},
     "output_type": "execute_result"
    }
   ],
   "source": [
    "data2015.head()"
   ]
  },
  {
   "cell_type": "code",
   "execution_count": 6,
   "id": "7fa9927c",
   "metadata": {},
   "outputs": [
    {
     "data": {
      "text/html": [
       "<div>\n",
       "<style scoped>\n",
       "    .dataframe tbody tr th:only-of-type {\n",
       "        vertical-align: middle;\n",
       "    }\n",
       "\n",
       "    .dataframe tbody tr th {\n",
       "        vertical-align: top;\n",
       "    }\n",
       "\n",
       "    .dataframe thead th {\n",
       "        text-align: right;\n",
       "    }\n",
       "</style>\n",
       "<table border=\"1\" class=\"dataframe\">\n",
       "  <thead>\n",
       "    <tr style=\"text-align: right;\">\n",
       "      <th></th>\n",
       "      <th>Country</th>\n",
       "      <th>Region</th>\n",
       "      <th>Happiness Rank</th>\n",
       "      <th>Happiness Score</th>\n",
       "      <th>Lower Confidence Interval</th>\n",
       "      <th>Upper Confidence Interval</th>\n",
       "      <th>Economy (GDP per Capita)</th>\n",
       "      <th>Family</th>\n",
       "      <th>Health (Life Expectancy)</th>\n",
       "      <th>Freedom</th>\n",
       "      <th>Trust (Government Corruption)</th>\n",
       "      <th>Generosity</th>\n",
       "      <th>Dystopia Residual</th>\n",
       "    </tr>\n",
       "  </thead>\n",
       "  <tbody>\n",
       "    <tr>\n",
       "      <th>0</th>\n",
       "      <td>Denmark</td>\n",
       "      <td>Western Europe</td>\n",
       "      <td>1</td>\n",
       "      <td>7.526</td>\n",
       "      <td>7.460</td>\n",
       "      <td>7.592</td>\n",
       "      <td>1.44178</td>\n",
       "      <td>1.16374</td>\n",
       "      <td>0.79504</td>\n",
       "      <td>0.57941</td>\n",
       "      <td>0.44453</td>\n",
       "      <td>0.36171</td>\n",
       "      <td>2.73939</td>\n",
       "    </tr>\n",
       "    <tr>\n",
       "      <th>1</th>\n",
       "      <td>Switzerland</td>\n",
       "      <td>Western Europe</td>\n",
       "      <td>2</td>\n",
       "      <td>7.509</td>\n",
       "      <td>7.428</td>\n",
       "      <td>7.590</td>\n",
       "      <td>1.52733</td>\n",
       "      <td>1.14524</td>\n",
       "      <td>0.86303</td>\n",
       "      <td>0.58557</td>\n",
       "      <td>0.41203</td>\n",
       "      <td>0.28083</td>\n",
       "      <td>2.69463</td>\n",
       "    </tr>\n",
       "    <tr>\n",
       "      <th>2</th>\n",
       "      <td>Iceland</td>\n",
       "      <td>Western Europe</td>\n",
       "      <td>3</td>\n",
       "      <td>7.501</td>\n",
       "      <td>7.333</td>\n",
       "      <td>7.669</td>\n",
       "      <td>1.42666</td>\n",
       "      <td>1.18326</td>\n",
       "      <td>0.86733</td>\n",
       "      <td>0.56624</td>\n",
       "      <td>0.14975</td>\n",
       "      <td>0.47678</td>\n",
       "      <td>2.83137</td>\n",
       "    </tr>\n",
       "    <tr>\n",
       "      <th>3</th>\n",
       "      <td>Norway</td>\n",
       "      <td>Western Europe</td>\n",
       "      <td>4</td>\n",
       "      <td>7.498</td>\n",
       "      <td>7.421</td>\n",
       "      <td>7.575</td>\n",
       "      <td>1.57744</td>\n",
       "      <td>1.12690</td>\n",
       "      <td>0.79579</td>\n",
       "      <td>0.59609</td>\n",
       "      <td>0.35776</td>\n",
       "      <td>0.37895</td>\n",
       "      <td>2.66465</td>\n",
       "    </tr>\n",
       "    <tr>\n",
       "      <th>4</th>\n",
       "      <td>Finland</td>\n",
       "      <td>Western Europe</td>\n",
       "      <td>5</td>\n",
       "      <td>7.413</td>\n",
       "      <td>7.351</td>\n",
       "      <td>7.475</td>\n",
       "      <td>1.40598</td>\n",
       "      <td>1.13464</td>\n",
       "      <td>0.81091</td>\n",
       "      <td>0.57104</td>\n",
       "      <td>0.41004</td>\n",
       "      <td>0.25492</td>\n",
       "      <td>2.82596</td>\n",
       "    </tr>\n",
       "  </tbody>\n",
       "</table>\n",
       "</div>"
      ],
      "text/plain": [
       "       Country          Region  Happiness Rank  Happiness Score  \\\n",
       "0      Denmark  Western Europe               1            7.526   \n",
       "1  Switzerland  Western Europe               2            7.509   \n",
       "2      Iceland  Western Europe               3            7.501   \n",
       "3       Norway  Western Europe               4            7.498   \n",
       "4      Finland  Western Europe               5            7.413   \n",
       "\n",
       "   Lower Confidence Interval  Upper Confidence Interval  \\\n",
       "0                      7.460                      7.592   \n",
       "1                      7.428                      7.590   \n",
       "2                      7.333                      7.669   \n",
       "3                      7.421                      7.575   \n",
       "4                      7.351                      7.475   \n",
       "\n",
       "   Economy (GDP per Capita)   Family  Health (Life Expectancy)  Freedom  \\\n",
       "0                   1.44178  1.16374                   0.79504  0.57941   \n",
       "1                   1.52733  1.14524                   0.86303  0.58557   \n",
       "2                   1.42666  1.18326                   0.86733  0.56624   \n",
       "3                   1.57744  1.12690                   0.79579  0.59609   \n",
       "4                   1.40598  1.13464                   0.81091  0.57104   \n",
       "\n",
       "   Trust (Government Corruption)  Generosity  Dystopia Residual  \n",
       "0                        0.44453     0.36171            2.73939  \n",
       "1                        0.41203     0.28083            2.69463  \n",
       "2                        0.14975     0.47678            2.83137  \n",
       "3                        0.35776     0.37895            2.66465  \n",
       "4                        0.41004     0.25492            2.82596  "
      ]
     },
     "execution_count": 6,
     "metadata": {},
     "output_type": "execute_result"
    }
   ],
   "source": [
    "data2016.head()"
   ]
  },
  {
   "cell_type": "code",
   "execution_count": 7,
   "id": "7d6aa921",
   "metadata": {},
   "outputs": [
    {
     "data": {
      "text/html": [
       "<div>\n",
       "<style scoped>\n",
       "    .dataframe tbody tr th:only-of-type {\n",
       "        vertical-align: middle;\n",
       "    }\n",
       "\n",
       "    .dataframe tbody tr th {\n",
       "        vertical-align: top;\n",
       "    }\n",
       "\n",
       "    .dataframe thead th {\n",
       "        text-align: right;\n",
       "    }\n",
       "</style>\n",
       "<table border=\"1\" class=\"dataframe\">\n",
       "  <thead>\n",
       "    <tr style=\"text-align: right;\">\n",
       "      <th></th>\n",
       "      <th>Country</th>\n",
       "      <th>Happiness.Rank</th>\n",
       "      <th>Happiness.Score</th>\n",
       "      <th>Whisker.high</th>\n",
       "      <th>Whisker.low</th>\n",
       "      <th>Economy..GDP.per.Capita.</th>\n",
       "      <th>Family</th>\n",
       "      <th>Health..Life.Expectancy.</th>\n",
       "      <th>Freedom</th>\n",
       "      <th>Generosity</th>\n",
       "      <th>Trust..Government.Corruption.</th>\n",
       "      <th>Dystopia.Residual</th>\n",
       "    </tr>\n",
       "  </thead>\n",
       "  <tbody>\n",
       "    <tr>\n",
       "      <th>0</th>\n",
       "      <td>Norway</td>\n",
       "      <td>1</td>\n",
       "      <td>7.537</td>\n",
       "      <td>7.594445</td>\n",
       "      <td>7.479556</td>\n",
       "      <td>1.616463</td>\n",
       "      <td>1.533524</td>\n",
       "      <td>0.796667</td>\n",
       "      <td>0.635423</td>\n",
       "      <td>0.362012</td>\n",
       "      <td>0.315964</td>\n",
       "      <td>2.277027</td>\n",
       "    </tr>\n",
       "    <tr>\n",
       "      <th>1</th>\n",
       "      <td>Denmark</td>\n",
       "      <td>2</td>\n",
       "      <td>7.522</td>\n",
       "      <td>7.581728</td>\n",
       "      <td>7.462272</td>\n",
       "      <td>1.482383</td>\n",
       "      <td>1.551122</td>\n",
       "      <td>0.792566</td>\n",
       "      <td>0.626007</td>\n",
       "      <td>0.355280</td>\n",
       "      <td>0.400770</td>\n",
       "      <td>2.313707</td>\n",
       "    </tr>\n",
       "    <tr>\n",
       "      <th>2</th>\n",
       "      <td>Iceland</td>\n",
       "      <td>3</td>\n",
       "      <td>7.504</td>\n",
       "      <td>7.622030</td>\n",
       "      <td>7.385970</td>\n",
       "      <td>1.480633</td>\n",
       "      <td>1.610574</td>\n",
       "      <td>0.833552</td>\n",
       "      <td>0.627163</td>\n",
       "      <td>0.475540</td>\n",
       "      <td>0.153527</td>\n",
       "      <td>2.322715</td>\n",
       "    </tr>\n",
       "    <tr>\n",
       "      <th>3</th>\n",
       "      <td>Switzerland</td>\n",
       "      <td>4</td>\n",
       "      <td>7.494</td>\n",
       "      <td>7.561772</td>\n",
       "      <td>7.426227</td>\n",
       "      <td>1.564980</td>\n",
       "      <td>1.516912</td>\n",
       "      <td>0.858131</td>\n",
       "      <td>0.620071</td>\n",
       "      <td>0.290549</td>\n",
       "      <td>0.367007</td>\n",
       "      <td>2.276716</td>\n",
       "    </tr>\n",
       "    <tr>\n",
       "      <th>4</th>\n",
       "      <td>Finland</td>\n",
       "      <td>5</td>\n",
       "      <td>7.469</td>\n",
       "      <td>7.527542</td>\n",
       "      <td>7.410458</td>\n",
       "      <td>1.443572</td>\n",
       "      <td>1.540247</td>\n",
       "      <td>0.809158</td>\n",
       "      <td>0.617951</td>\n",
       "      <td>0.245483</td>\n",
       "      <td>0.382612</td>\n",
       "      <td>2.430182</td>\n",
       "    </tr>\n",
       "  </tbody>\n",
       "</table>\n",
       "</div>"
      ],
      "text/plain": [
       "       Country  Happiness.Rank  Happiness.Score  Whisker.high  Whisker.low  \\\n",
       "0       Norway               1            7.537      7.594445     7.479556   \n",
       "1      Denmark               2            7.522      7.581728     7.462272   \n",
       "2      Iceland               3            7.504      7.622030     7.385970   \n",
       "3  Switzerland               4            7.494      7.561772     7.426227   \n",
       "4      Finland               5            7.469      7.527542     7.410458   \n",
       "\n",
       "   Economy..GDP.per.Capita.    Family  Health..Life.Expectancy.   Freedom  \\\n",
       "0                  1.616463  1.533524                  0.796667  0.635423   \n",
       "1                  1.482383  1.551122                  0.792566  0.626007   \n",
       "2                  1.480633  1.610574                  0.833552  0.627163   \n",
       "3                  1.564980  1.516912                  0.858131  0.620071   \n",
       "4                  1.443572  1.540247                  0.809158  0.617951   \n",
       "\n",
       "   Generosity  Trust..Government.Corruption.  Dystopia.Residual  \n",
       "0    0.362012                       0.315964           2.277027  \n",
       "1    0.355280                       0.400770           2.313707  \n",
       "2    0.475540                       0.153527           2.322715  \n",
       "3    0.290549                       0.367007           2.276716  \n",
       "4    0.245483                       0.382612           2.430182  "
      ]
     },
     "execution_count": 7,
     "metadata": {},
     "output_type": "execute_result"
    }
   ],
   "source": [
    "data2017.head()"
   ]
  },
  {
   "cell_type": "code",
   "execution_count": 8,
   "id": "ae1f7460",
   "metadata": {},
   "outputs": [
    {
     "data": {
      "text/html": [
       "<div>\n",
       "<style scoped>\n",
       "    .dataframe tbody tr th:only-of-type {\n",
       "        vertical-align: middle;\n",
       "    }\n",
       "\n",
       "    .dataframe tbody tr th {\n",
       "        vertical-align: top;\n",
       "    }\n",
       "\n",
       "    .dataframe thead th {\n",
       "        text-align: right;\n",
       "    }\n",
       "</style>\n",
       "<table border=\"1\" class=\"dataframe\">\n",
       "  <thead>\n",
       "    <tr style=\"text-align: right;\">\n",
       "      <th></th>\n",
       "      <th>Overall rank</th>\n",
       "      <th>Country or region</th>\n",
       "      <th>Score</th>\n",
       "      <th>GDP per capita</th>\n",
       "      <th>Social support</th>\n",
       "      <th>Healthy life expectancy</th>\n",
       "      <th>Freedom to make life choices</th>\n",
       "      <th>Generosity</th>\n",
       "      <th>Perceptions of corruption</th>\n",
       "    </tr>\n",
       "  </thead>\n",
       "  <tbody>\n",
       "    <tr>\n",
       "      <th>0</th>\n",
       "      <td>1</td>\n",
       "      <td>Finland</td>\n",
       "      <td>7.632</td>\n",
       "      <td>1.305</td>\n",
       "      <td>1.592</td>\n",
       "      <td>0.874</td>\n",
       "      <td>0.681</td>\n",
       "      <td>0.202</td>\n",
       "      <td>0.393</td>\n",
       "    </tr>\n",
       "    <tr>\n",
       "      <th>1</th>\n",
       "      <td>2</td>\n",
       "      <td>Norway</td>\n",
       "      <td>7.594</td>\n",
       "      <td>1.456</td>\n",
       "      <td>1.582</td>\n",
       "      <td>0.861</td>\n",
       "      <td>0.686</td>\n",
       "      <td>0.286</td>\n",
       "      <td>0.340</td>\n",
       "    </tr>\n",
       "    <tr>\n",
       "      <th>2</th>\n",
       "      <td>3</td>\n",
       "      <td>Denmark</td>\n",
       "      <td>7.555</td>\n",
       "      <td>1.351</td>\n",
       "      <td>1.590</td>\n",
       "      <td>0.868</td>\n",
       "      <td>0.683</td>\n",
       "      <td>0.284</td>\n",
       "      <td>0.408</td>\n",
       "    </tr>\n",
       "    <tr>\n",
       "      <th>3</th>\n",
       "      <td>4</td>\n",
       "      <td>Iceland</td>\n",
       "      <td>7.495</td>\n",
       "      <td>1.343</td>\n",
       "      <td>1.644</td>\n",
       "      <td>0.914</td>\n",
       "      <td>0.677</td>\n",
       "      <td>0.353</td>\n",
       "      <td>0.138</td>\n",
       "    </tr>\n",
       "    <tr>\n",
       "      <th>4</th>\n",
       "      <td>5</td>\n",
       "      <td>Switzerland</td>\n",
       "      <td>7.487</td>\n",
       "      <td>1.420</td>\n",
       "      <td>1.549</td>\n",
       "      <td>0.927</td>\n",
       "      <td>0.660</td>\n",
       "      <td>0.256</td>\n",
       "      <td>0.357</td>\n",
       "    </tr>\n",
       "  </tbody>\n",
       "</table>\n",
       "</div>"
      ],
      "text/plain": [
       "   Overall rank Country or region  Score  GDP per capita  Social support  \\\n",
       "0             1           Finland  7.632           1.305           1.592   \n",
       "1             2            Norway  7.594           1.456           1.582   \n",
       "2             3           Denmark  7.555           1.351           1.590   \n",
       "3             4           Iceland  7.495           1.343           1.644   \n",
       "4             5       Switzerland  7.487           1.420           1.549   \n",
       "\n",
       "   Healthy life expectancy  Freedom to make life choices  Generosity  \\\n",
       "0                    0.874                         0.681       0.202   \n",
       "1                    0.861                         0.686       0.286   \n",
       "2                    0.868                         0.683       0.284   \n",
       "3                    0.914                         0.677       0.353   \n",
       "4                    0.927                         0.660       0.256   \n",
       "\n",
       "   Perceptions of corruption  \n",
       "0                      0.393  \n",
       "1                      0.340  \n",
       "2                      0.408  \n",
       "3                      0.138  \n",
       "4                      0.357  "
      ]
     },
     "execution_count": 8,
     "metadata": {},
     "output_type": "execute_result"
    }
   ],
   "source": [
    "data2018.head()"
   ]
  },
  {
   "cell_type": "code",
   "execution_count": 9,
   "id": "6eb47f7d",
   "metadata": {},
   "outputs": [
    {
     "data": {
      "text/html": [
       "<div>\n",
       "<style scoped>\n",
       "    .dataframe tbody tr th:only-of-type {\n",
       "        vertical-align: middle;\n",
       "    }\n",
       "\n",
       "    .dataframe tbody tr th {\n",
       "        vertical-align: top;\n",
       "    }\n",
       "\n",
       "    .dataframe thead th {\n",
       "        text-align: right;\n",
       "    }\n",
       "</style>\n",
       "<table border=\"1\" class=\"dataframe\">\n",
       "  <thead>\n",
       "    <tr style=\"text-align: right;\">\n",
       "      <th></th>\n",
       "      <th>Overall rank</th>\n",
       "      <th>Country or region</th>\n",
       "      <th>Score</th>\n",
       "      <th>GDP per capita</th>\n",
       "      <th>Social support</th>\n",
       "      <th>Healthy life expectancy</th>\n",
       "      <th>Freedom to make life choices</th>\n",
       "      <th>Generosity</th>\n",
       "      <th>Perceptions of corruption</th>\n",
       "    </tr>\n",
       "  </thead>\n",
       "  <tbody>\n",
       "    <tr>\n",
       "      <th>0</th>\n",
       "      <td>1</td>\n",
       "      <td>Finland</td>\n",
       "      <td>7.769</td>\n",
       "      <td>1.340</td>\n",
       "      <td>1.587</td>\n",
       "      <td>0.986</td>\n",
       "      <td>0.596</td>\n",
       "      <td>0.153</td>\n",
       "      <td>0.393</td>\n",
       "    </tr>\n",
       "    <tr>\n",
       "      <th>1</th>\n",
       "      <td>2</td>\n",
       "      <td>Denmark</td>\n",
       "      <td>7.600</td>\n",
       "      <td>1.383</td>\n",
       "      <td>1.573</td>\n",
       "      <td>0.996</td>\n",
       "      <td>0.592</td>\n",
       "      <td>0.252</td>\n",
       "      <td>0.410</td>\n",
       "    </tr>\n",
       "    <tr>\n",
       "      <th>2</th>\n",
       "      <td>3</td>\n",
       "      <td>Norway</td>\n",
       "      <td>7.554</td>\n",
       "      <td>1.488</td>\n",
       "      <td>1.582</td>\n",
       "      <td>1.028</td>\n",
       "      <td>0.603</td>\n",
       "      <td>0.271</td>\n",
       "      <td>0.341</td>\n",
       "    </tr>\n",
       "    <tr>\n",
       "      <th>3</th>\n",
       "      <td>4</td>\n",
       "      <td>Iceland</td>\n",
       "      <td>7.494</td>\n",
       "      <td>1.380</td>\n",
       "      <td>1.624</td>\n",
       "      <td>1.026</td>\n",
       "      <td>0.591</td>\n",
       "      <td>0.354</td>\n",
       "      <td>0.118</td>\n",
       "    </tr>\n",
       "    <tr>\n",
       "      <th>4</th>\n",
       "      <td>5</td>\n",
       "      <td>Netherlands</td>\n",
       "      <td>7.488</td>\n",
       "      <td>1.396</td>\n",
       "      <td>1.522</td>\n",
       "      <td>0.999</td>\n",
       "      <td>0.557</td>\n",
       "      <td>0.322</td>\n",
       "      <td>0.298</td>\n",
       "    </tr>\n",
       "  </tbody>\n",
       "</table>\n",
       "</div>"
      ],
      "text/plain": [
       "   Overall rank Country or region  Score  GDP per capita  Social support  \\\n",
       "0             1           Finland  7.769           1.340           1.587   \n",
       "1             2           Denmark  7.600           1.383           1.573   \n",
       "2             3            Norway  7.554           1.488           1.582   \n",
       "3             4           Iceland  7.494           1.380           1.624   \n",
       "4             5       Netherlands  7.488           1.396           1.522   \n",
       "\n",
       "   Healthy life expectancy  Freedom to make life choices  Generosity  \\\n",
       "0                    0.986                         0.596       0.153   \n",
       "1                    0.996                         0.592       0.252   \n",
       "2                    1.028                         0.603       0.271   \n",
       "3                    1.026                         0.591       0.354   \n",
       "4                    0.999                         0.557       0.322   \n",
       "\n",
       "   Perceptions of corruption  \n",
       "0                      0.393  \n",
       "1                      0.410  \n",
       "2                      0.341  \n",
       "3                      0.118  \n",
       "4                      0.298  "
      ]
     },
     "execution_count": 9,
     "metadata": {},
     "output_type": "execute_result"
    }
   ],
   "source": [
    "data2019.head()"
   ]
  },
  {
   "cell_type": "code",
   "execution_count": 10,
   "id": "b941dc97",
   "metadata": {},
   "outputs": [
    {
     "data": {
      "text/html": [
       "<div>\n",
       "<style scoped>\n",
       "    .dataframe tbody tr th:only-of-type {\n",
       "        vertical-align: middle;\n",
       "    }\n",
       "\n",
       "    .dataframe tbody tr th {\n",
       "        vertical-align: top;\n",
       "    }\n",
       "\n",
       "    .dataframe thead th {\n",
       "        text-align: right;\n",
       "    }\n",
       "</style>\n",
       "<table border=\"1\" class=\"dataframe\">\n",
       "  <thead>\n",
       "    <tr style=\"text-align: right;\">\n",
       "      <th></th>\n",
       "      <th>Country name</th>\n",
       "      <th>Regional indicator</th>\n",
       "      <th>Ladder score</th>\n",
       "      <th>Standard error of ladder score</th>\n",
       "      <th>upperwhisker</th>\n",
       "      <th>lowerwhisker</th>\n",
       "      <th>Logged GDP per capita</th>\n",
       "      <th>Social support</th>\n",
       "      <th>Healthy life expectancy</th>\n",
       "      <th>Freedom to make life choices</th>\n",
       "      <th>Generosity</th>\n",
       "      <th>Perceptions of corruption</th>\n",
       "      <th>Ladder score in Dystopia</th>\n",
       "      <th>Explained by: Log GDP per capita</th>\n",
       "      <th>Explained by: Social support</th>\n",
       "      <th>Explained by: Healthy life expectancy</th>\n",
       "      <th>Explained by: Freedom to make life choices</th>\n",
       "      <th>Explained by: Generosity</th>\n",
       "      <th>Explained by: Perceptions of corruption</th>\n",
       "      <th>Dystopia + residual</th>\n",
       "    </tr>\n",
       "  </thead>\n",
       "  <tbody>\n",
       "    <tr>\n",
       "      <th>0</th>\n",
       "      <td>Finland</td>\n",
       "      <td>Western Europe</td>\n",
       "      <td>7.842</td>\n",
       "      <td>0.032</td>\n",
       "      <td>7.904</td>\n",
       "      <td>7.780</td>\n",
       "      <td>10.775</td>\n",
       "      <td>0.954</td>\n",
       "      <td>72.0</td>\n",
       "      <td>0.949</td>\n",
       "      <td>-0.098</td>\n",
       "      <td>0.186</td>\n",
       "      <td>2.43</td>\n",
       "      <td>1.446</td>\n",
       "      <td>1.106</td>\n",
       "      <td>0.741</td>\n",
       "      <td>0.691</td>\n",
       "      <td>0.124</td>\n",
       "      <td>0.481</td>\n",
       "      <td>3.253</td>\n",
       "    </tr>\n",
       "    <tr>\n",
       "      <th>1</th>\n",
       "      <td>Denmark</td>\n",
       "      <td>Western Europe</td>\n",
       "      <td>7.620</td>\n",
       "      <td>0.035</td>\n",
       "      <td>7.687</td>\n",
       "      <td>7.552</td>\n",
       "      <td>10.933</td>\n",
       "      <td>0.954</td>\n",
       "      <td>72.7</td>\n",
       "      <td>0.946</td>\n",
       "      <td>0.030</td>\n",
       "      <td>0.179</td>\n",
       "      <td>2.43</td>\n",
       "      <td>1.502</td>\n",
       "      <td>1.108</td>\n",
       "      <td>0.763</td>\n",
       "      <td>0.686</td>\n",
       "      <td>0.208</td>\n",
       "      <td>0.485</td>\n",
       "      <td>2.868</td>\n",
       "    </tr>\n",
       "    <tr>\n",
       "      <th>2</th>\n",
       "      <td>Switzerland</td>\n",
       "      <td>Western Europe</td>\n",
       "      <td>7.571</td>\n",
       "      <td>0.036</td>\n",
       "      <td>7.643</td>\n",
       "      <td>7.500</td>\n",
       "      <td>11.117</td>\n",
       "      <td>0.942</td>\n",
       "      <td>74.4</td>\n",
       "      <td>0.919</td>\n",
       "      <td>0.025</td>\n",
       "      <td>0.292</td>\n",
       "      <td>2.43</td>\n",
       "      <td>1.566</td>\n",
       "      <td>1.079</td>\n",
       "      <td>0.816</td>\n",
       "      <td>0.653</td>\n",
       "      <td>0.204</td>\n",
       "      <td>0.413</td>\n",
       "      <td>2.839</td>\n",
       "    </tr>\n",
       "    <tr>\n",
       "      <th>3</th>\n",
       "      <td>Iceland</td>\n",
       "      <td>Western Europe</td>\n",
       "      <td>7.554</td>\n",
       "      <td>0.059</td>\n",
       "      <td>7.670</td>\n",
       "      <td>7.438</td>\n",
       "      <td>10.878</td>\n",
       "      <td>0.983</td>\n",
       "      <td>73.0</td>\n",
       "      <td>0.955</td>\n",
       "      <td>0.160</td>\n",
       "      <td>0.673</td>\n",
       "      <td>2.43</td>\n",
       "      <td>1.482</td>\n",
       "      <td>1.172</td>\n",
       "      <td>0.772</td>\n",
       "      <td>0.698</td>\n",
       "      <td>0.293</td>\n",
       "      <td>0.170</td>\n",
       "      <td>2.967</td>\n",
       "    </tr>\n",
       "    <tr>\n",
       "      <th>4</th>\n",
       "      <td>Netherlands</td>\n",
       "      <td>Western Europe</td>\n",
       "      <td>7.464</td>\n",
       "      <td>0.027</td>\n",
       "      <td>7.518</td>\n",
       "      <td>7.410</td>\n",
       "      <td>10.932</td>\n",
       "      <td>0.942</td>\n",
       "      <td>72.4</td>\n",
       "      <td>0.913</td>\n",
       "      <td>0.175</td>\n",
       "      <td>0.338</td>\n",
       "      <td>2.43</td>\n",
       "      <td>1.501</td>\n",
       "      <td>1.079</td>\n",
       "      <td>0.753</td>\n",
       "      <td>0.647</td>\n",
       "      <td>0.302</td>\n",
       "      <td>0.384</td>\n",
       "      <td>2.798</td>\n",
       "    </tr>\n",
       "  </tbody>\n",
       "</table>\n",
       "</div>"
      ],
      "text/plain": [
       "  Country name Regional indicator  Ladder score  \\\n",
       "0      Finland     Western Europe         7.842   \n",
       "1      Denmark     Western Europe         7.620   \n",
       "2  Switzerland     Western Europe         7.571   \n",
       "3      Iceland     Western Europe         7.554   \n",
       "4  Netherlands     Western Europe         7.464   \n",
       "\n",
       "   Standard error of ladder score  upperwhisker  lowerwhisker  \\\n",
       "0                           0.032         7.904         7.780   \n",
       "1                           0.035         7.687         7.552   \n",
       "2                           0.036         7.643         7.500   \n",
       "3                           0.059         7.670         7.438   \n",
       "4                           0.027         7.518         7.410   \n",
       "\n",
       "   Logged GDP per capita  Social support  Healthy life expectancy  \\\n",
       "0                 10.775           0.954                     72.0   \n",
       "1                 10.933           0.954                     72.7   \n",
       "2                 11.117           0.942                     74.4   \n",
       "3                 10.878           0.983                     73.0   \n",
       "4                 10.932           0.942                     72.4   \n",
       "\n",
       "   Freedom to make life choices  Generosity  Perceptions of corruption  \\\n",
       "0                         0.949      -0.098                      0.186   \n",
       "1                         0.946       0.030                      0.179   \n",
       "2                         0.919       0.025                      0.292   \n",
       "3                         0.955       0.160                      0.673   \n",
       "4                         0.913       0.175                      0.338   \n",
       "\n",
       "   Ladder score in Dystopia  Explained by: Log GDP per capita  \\\n",
       "0                      2.43                             1.446   \n",
       "1                      2.43                             1.502   \n",
       "2                      2.43                             1.566   \n",
       "3                      2.43                             1.482   \n",
       "4                      2.43                             1.501   \n",
       "\n",
       "   Explained by: Social support  Explained by: Healthy life expectancy  \\\n",
       "0                         1.106                                  0.741   \n",
       "1                         1.108                                  0.763   \n",
       "2                         1.079                                  0.816   \n",
       "3                         1.172                                  0.772   \n",
       "4                         1.079                                  0.753   \n",
       "\n",
       "   Explained by: Freedom to make life choices  Explained by: Generosity  \\\n",
       "0                                       0.691                     0.124   \n",
       "1                                       0.686                     0.208   \n",
       "2                                       0.653                     0.204   \n",
       "3                                       0.698                     0.293   \n",
       "4                                       0.647                     0.302   \n",
       "\n",
       "   Explained by: Perceptions of corruption  Dystopia + residual  \n",
       "0                                    0.481                3.253  \n",
       "1                                    0.485                2.868  \n",
       "2                                    0.413                2.839  \n",
       "3                                    0.170                2.967  \n",
       "4                                    0.384                2.798  "
      ]
     },
     "execution_count": 10,
     "metadata": {},
     "output_type": "execute_result"
    }
   ],
   "source": [
    "data2021.head()"
   ]
  },
  {
   "cell_type": "code",
   "execution_count": 11,
   "id": "498551a2",
   "metadata": {},
   "outputs": [
    {
     "data": {
      "text/plain": [
       "(158, 12)"
      ]
     },
     "execution_count": 11,
     "metadata": {},
     "output_type": "execute_result"
    }
   ],
   "source": [
    "data2015.shape"
   ]
  },
  {
   "cell_type": "code",
   "execution_count": 12,
   "id": "f9374646",
   "metadata": {},
   "outputs": [
    {
     "data": {
      "text/plain": [
       "(157, 13)"
      ]
     },
     "execution_count": 12,
     "metadata": {},
     "output_type": "execute_result"
    }
   ],
   "source": [
    "data2016.shape"
   ]
  },
  {
   "cell_type": "code",
   "execution_count": 13,
   "id": "3013fae6",
   "metadata": {},
   "outputs": [
    {
     "data": {
      "text/plain": [
       "(155, 12)"
      ]
     },
     "execution_count": 13,
     "metadata": {},
     "output_type": "execute_result"
    }
   ],
   "source": [
    "data2017.shape"
   ]
  },
  {
   "cell_type": "code",
   "execution_count": 14,
   "id": "ad6e95f4",
   "metadata": {},
   "outputs": [
    {
     "data": {
      "text/plain": [
       "(156, 9)"
      ]
     },
     "execution_count": 14,
     "metadata": {},
     "output_type": "execute_result"
    }
   ],
   "source": [
    "data2018.shape"
   ]
  },
  {
   "cell_type": "code",
   "execution_count": 15,
   "id": "77fff2cb",
   "metadata": {},
   "outputs": [
    {
     "data": {
      "text/plain": [
       "(156, 9)"
      ]
     },
     "execution_count": 15,
     "metadata": {},
     "output_type": "execute_result"
    }
   ],
   "source": [
    "data2019.shape"
   ]
  },
  {
   "cell_type": "code",
   "execution_count": 16,
   "id": "436f7c1a",
   "metadata": {},
   "outputs": [
    {
     "data": {
      "text/plain": [
       "(149, 20)"
      ]
     },
     "execution_count": 16,
     "metadata": {},
     "output_type": "execute_result"
    }
   ],
   "source": [
    "data2021.shape"
   ]
  },
  {
   "cell_type": "code",
   "execution_count": 17,
   "id": "bb557787",
   "metadata": {},
   "outputs": [
    {
     "data": {
      "text/plain": [
       "Index(['Country', 'Region', 'Happiness Rank', 'Happiness Score',\n",
       "       'Standard Error', 'Economy (GDP per Capita)', 'Family',\n",
       "       'Health (Life Expectancy)', 'Freedom', 'Trust (Government Corruption)',\n",
       "       'Generosity', 'Dystopia Residual'],\n",
       "      dtype='object')"
      ]
     },
     "execution_count": 17,
     "metadata": {},
     "output_type": "execute_result"
    }
   ],
   "source": [
    "data2015.columns"
   ]
  },
  {
   "cell_type": "code",
   "execution_count": 18,
   "id": "e299fb31",
   "metadata": {},
   "outputs": [
    {
     "data": {
      "text/plain": [
       "Index(['Country', 'Region', 'Happiness Rank', 'Happiness Score',\n",
       "       'Lower Confidence Interval', 'Upper Confidence Interval',\n",
       "       'Economy (GDP per Capita)', 'Family', 'Health (Life Expectancy)',\n",
       "       'Freedom', 'Trust (Government Corruption)', 'Generosity',\n",
       "       'Dystopia Residual'],\n",
       "      dtype='object')"
      ]
     },
     "execution_count": 18,
     "metadata": {},
     "output_type": "execute_result"
    }
   ],
   "source": [
    "data2016.columns"
   ]
  },
  {
   "cell_type": "code",
   "execution_count": 19,
   "id": "aae2950b",
   "metadata": {},
   "outputs": [
    {
     "data": {
      "text/plain": [
       "Index(['Country', 'Happiness.Rank', 'Happiness.Score', 'Whisker.high',\n",
       "       'Whisker.low', 'Economy..GDP.per.Capita.', 'Family',\n",
       "       'Health..Life.Expectancy.', 'Freedom', 'Generosity',\n",
       "       'Trust..Government.Corruption.', 'Dystopia.Residual'],\n",
       "      dtype='object')"
      ]
     },
     "execution_count": 19,
     "metadata": {},
     "output_type": "execute_result"
    }
   ],
   "source": [
    "data2017.columns"
   ]
  },
  {
   "cell_type": "code",
   "execution_count": 20,
   "id": "32f6ab5c",
   "metadata": {},
   "outputs": [
    {
     "data": {
      "text/plain": [
       "Index(['Overall rank', 'Country or region', 'Score', 'GDP per capita',\n",
       "       'Social support', 'Healthy life expectancy',\n",
       "       'Freedom to make life choices', 'Generosity',\n",
       "       'Perceptions of corruption'],\n",
       "      dtype='object')"
      ]
     },
     "execution_count": 20,
     "metadata": {},
     "output_type": "execute_result"
    }
   ],
   "source": [
    "data2018.columns"
   ]
  },
  {
   "cell_type": "code",
   "execution_count": 21,
   "id": "482d74a6",
   "metadata": {},
   "outputs": [
    {
     "data": {
      "text/plain": [
       "Index(['Overall rank', 'Country or region', 'Score', 'GDP per capita',\n",
       "       'Social support', 'Healthy life expectancy',\n",
       "       'Freedom to make life choices', 'Generosity',\n",
       "       'Perceptions of corruption'],\n",
       "      dtype='object')"
      ]
     },
     "execution_count": 21,
     "metadata": {},
     "output_type": "execute_result"
    }
   ],
   "source": [
    "data2019.columns"
   ]
  },
  {
   "cell_type": "code",
   "execution_count": 22,
   "id": "5800ce5b",
   "metadata": {},
   "outputs": [
    {
     "data": {
      "text/plain": [
       "Index(['Country name', 'Regional indicator', 'Ladder score',\n",
       "       'Standard error of ladder score', 'upperwhisker', 'lowerwhisker',\n",
       "       'Logged GDP per capita', 'Social support', 'Healthy life expectancy',\n",
       "       'Freedom to make life choices', 'Generosity',\n",
       "       'Perceptions of corruption', 'Ladder score in Dystopia',\n",
       "       'Explained by: Log GDP per capita', 'Explained by: Social support',\n",
       "       'Explained by: Healthy life expectancy',\n",
       "       'Explained by: Freedom to make life choices',\n",
       "       'Explained by: Generosity', 'Explained by: Perceptions of corruption',\n",
       "       'Dystopia + residual'],\n",
       "      dtype='object')"
      ]
     },
     "execution_count": 22,
     "metadata": {},
     "output_type": "execute_result"
    }
   ],
   "source": [
    "data2021.columns"
   ]
  },
  {
   "cell_type": "markdown",
   "id": "d97328f3",
   "metadata": {},
   "source": [
    "As we've noticed from the results of the **.shape()** function, the datasets for different years don't seem to have the same number of columns and there is also a variation in the names. We will have to normalize the columns and their names in a later section."
   ]
  },
  {
   "cell_type": "code",
   "execution_count": 23,
   "id": "ec976989",
   "metadata": {},
   "outputs": [
    {
     "name": "stdout",
     "output_type": "stream",
     "text": [
      "<class 'pandas.core.frame.DataFrame'>\n",
      "RangeIndex: 158 entries, 0 to 157\n",
      "Data columns (total 12 columns):\n",
      " #   Column                         Non-Null Count  Dtype  \n",
      "---  ------                         --------------  -----  \n",
      " 0   Country                        158 non-null    object \n",
      " 1   Region                         158 non-null    object \n",
      " 2   Happiness Rank                 158 non-null    int64  \n",
      " 3   Happiness Score                158 non-null    float64\n",
      " 4   Standard Error                 158 non-null    float64\n",
      " 5   Economy (GDP per Capita)       158 non-null    float64\n",
      " 6   Family                         158 non-null    float64\n",
      " 7   Health (Life Expectancy)       158 non-null    float64\n",
      " 8   Freedom                        158 non-null    float64\n",
      " 9   Trust (Government Corruption)  158 non-null    float64\n",
      " 10  Generosity                     158 non-null    float64\n",
      " 11  Dystopia Residual              158 non-null    float64\n",
      "dtypes: float64(9), int64(1), object(2)\n",
      "memory usage: 14.9+ KB\n"
     ]
    }
   ],
   "source": [
    "data2015.info()"
   ]
  },
  {
   "cell_type": "code",
   "execution_count": 24,
   "id": "4ed0b71c",
   "metadata": {},
   "outputs": [
    {
     "name": "stdout",
     "output_type": "stream",
     "text": [
      "<class 'pandas.core.frame.DataFrame'>\n",
      "RangeIndex: 157 entries, 0 to 156\n",
      "Data columns (total 13 columns):\n",
      " #   Column                         Non-Null Count  Dtype  \n",
      "---  ------                         --------------  -----  \n",
      " 0   Country                        157 non-null    object \n",
      " 1   Region                         157 non-null    object \n",
      " 2   Happiness Rank                 157 non-null    int64  \n",
      " 3   Happiness Score                157 non-null    float64\n",
      " 4   Lower Confidence Interval      157 non-null    float64\n",
      " 5   Upper Confidence Interval      157 non-null    float64\n",
      " 6   Economy (GDP per Capita)       157 non-null    float64\n",
      " 7   Family                         157 non-null    float64\n",
      " 8   Health (Life Expectancy)       157 non-null    float64\n",
      " 9   Freedom                        157 non-null    float64\n",
      " 10  Trust (Government Corruption)  157 non-null    float64\n",
      " 11  Generosity                     157 non-null    float64\n",
      " 12  Dystopia Residual              157 non-null    float64\n",
      "dtypes: float64(10), int64(1), object(2)\n",
      "memory usage: 16.1+ KB\n"
     ]
    }
   ],
   "source": [
    "data2016.info()"
   ]
  },
  {
   "cell_type": "code",
   "execution_count": 25,
   "id": "5df938cc",
   "metadata": {},
   "outputs": [
    {
     "name": "stdout",
     "output_type": "stream",
     "text": [
      "<class 'pandas.core.frame.DataFrame'>\n",
      "RangeIndex: 155 entries, 0 to 154\n",
      "Data columns (total 12 columns):\n",
      " #   Column                         Non-Null Count  Dtype  \n",
      "---  ------                         --------------  -----  \n",
      " 0   Country                        155 non-null    object \n",
      " 1   Happiness.Rank                 155 non-null    int64  \n",
      " 2   Happiness.Score                155 non-null    float64\n",
      " 3   Whisker.high                   155 non-null    float64\n",
      " 4   Whisker.low                    155 non-null    float64\n",
      " 5   Economy..GDP.per.Capita.       155 non-null    float64\n",
      " 6   Family                         155 non-null    float64\n",
      " 7   Health..Life.Expectancy.       155 non-null    float64\n",
      " 8   Freedom                        155 non-null    float64\n",
      " 9   Generosity                     155 non-null    float64\n",
      " 10  Trust..Government.Corruption.  155 non-null    float64\n",
      " 11  Dystopia.Residual              155 non-null    float64\n",
      "dtypes: float64(10), int64(1), object(1)\n",
      "memory usage: 14.7+ KB\n"
     ]
    }
   ],
   "source": [
    "data2017.info()"
   ]
  },
  {
   "cell_type": "code",
   "execution_count": 26,
   "id": "50832d60",
   "metadata": {},
   "outputs": [
    {
     "name": "stdout",
     "output_type": "stream",
     "text": [
      "<class 'pandas.core.frame.DataFrame'>\n",
      "RangeIndex: 156 entries, 0 to 155\n",
      "Data columns (total 9 columns):\n",
      " #   Column                        Non-Null Count  Dtype  \n",
      "---  ------                        --------------  -----  \n",
      " 0   Overall rank                  156 non-null    int64  \n",
      " 1   Country or region             156 non-null    object \n",
      " 2   Score                         156 non-null    float64\n",
      " 3   GDP per capita                156 non-null    float64\n",
      " 4   Social support                156 non-null    float64\n",
      " 5   Healthy life expectancy       156 non-null    float64\n",
      " 6   Freedom to make life choices  156 non-null    float64\n",
      " 7   Generosity                    156 non-null    float64\n",
      " 8   Perceptions of corruption     155 non-null    float64\n",
      "dtypes: float64(7), int64(1), object(1)\n",
      "memory usage: 11.1+ KB\n"
     ]
    }
   ],
   "source": [
    "data2018.info()"
   ]
  },
  {
   "cell_type": "code",
   "execution_count": 27,
   "id": "88f98174",
   "metadata": {},
   "outputs": [
    {
     "name": "stdout",
     "output_type": "stream",
     "text": [
      "<class 'pandas.core.frame.DataFrame'>\n",
      "RangeIndex: 156 entries, 0 to 155\n",
      "Data columns (total 9 columns):\n",
      " #   Column                        Non-Null Count  Dtype  \n",
      "---  ------                        --------------  -----  \n",
      " 0   Overall rank                  156 non-null    int64  \n",
      " 1   Country or region             156 non-null    object \n",
      " 2   Score                         156 non-null    float64\n",
      " 3   GDP per capita                156 non-null    float64\n",
      " 4   Social support                156 non-null    float64\n",
      " 5   Healthy life expectancy       156 non-null    float64\n",
      " 6   Freedom to make life choices  156 non-null    float64\n",
      " 7   Generosity                    156 non-null    float64\n",
      " 8   Perceptions of corruption     156 non-null    float64\n",
      "dtypes: float64(7), int64(1), object(1)\n",
      "memory usage: 11.1+ KB\n"
     ]
    }
   ],
   "source": [
    "data2019.info()"
   ]
  },
  {
   "cell_type": "code",
   "execution_count": 28,
   "id": "70e55ff6",
   "metadata": {},
   "outputs": [
    {
     "name": "stdout",
     "output_type": "stream",
     "text": [
      "<class 'pandas.core.frame.DataFrame'>\n",
      "RangeIndex: 149 entries, 0 to 148\n",
      "Data columns (total 20 columns):\n",
      " #   Column                                      Non-Null Count  Dtype  \n",
      "---  ------                                      --------------  -----  \n",
      " 0   Country name                                149 non-null    object \n",
      " 1   Regional indicator                          149 non-null    object \n",
      " 2   Ladder score                                149 non-null    float64\n",
      " 3   Standard error of ladder score              149 non-null    float64\n",
      " 4   upperwhisker                                149 non-null    float64\n",
      " 5   lowerwhisker                                149 non-null    float64\n",
      " 6   Logged GDP per capita                       149 non-null    float64\n",
      " 7   Social support                              149 non-null    float64\n",
      " 8   Healthy life expectancy                     149 non-null    float64\n",
      " 9   Freedom to make life choices                149 non-null    float64\n",
      " 10  Generosity                                  149 non-null    float64\n",
      " 11  Perceptions of corruption                   149 non-null    float64\n",
      " 12  Ladder score in Dystopia                    149 non-null    float64\n",
      " 13  Explained by: Log GDP per capita            149 non-null    float64\n",
      " 14  Explained by: Social support                149 non-null    float64\n",
      " 15  Explained by: Healthy life expectancy       149 non-null    float64\n",
      " 16  Explained by: Freedom to make life choices  149 non-null    float64\n",
      " 17  Explained by: Generosity                    149 non-null    float64\n",
      " 18  Explained by: Perceptions of corruption     149 non-null    float64\n",
      " 19  Dystopia + residual                         149 non-null    float64\n",
      "dtypes: float64(18), object(2)\n",
      "memory usage: 23.4+ KB\n"
     ]
    }
   ],
   "source": [
    "data2021.info()"
   ]
  },
  {
   "cell_type": "markdown",
   "id": "d2fedc7d",
   "metadata": {},
   "source": [
    "As we will be mostly working with numerical values besides the country and region, there will be no need to use encoding for the categotical attributes.\n",
    "\n",
    "Next we'll be checking for duplicates in the datasets :"
   ]
  },
  {
   "cell_type": "code",
   "execution_count": 29,
   "id": "5e758292",
   "metadata": {},
   "outputs": [
    {
     "data": {
      "text/plain": [
       "Country                          158\n",
       "Region                            10\n",
       "Happiness Rank                   157\n",
       "Happiness Score                  157\n",
       "Standard Error                   153\n",
       "Economy (GDP per Capita)         158\n",
       "Family                           158\n",
       "Health (Life Expectancy)         157\n",
       "Freedom                          158\n",
       "Trust (Government Corruption)    157\n",
       "Generosity                       158\n",
       "Dystopia Residual                158\n",
       "dtype: int64"
      ]
     },
     "execution_count": 29,
     "metadata": {},
     "output_type": "execute_result"
    }
   ],
   "source": [
    "data2015.nunique()"
   ]
  },
  {
   "cell_type": "code",
   "execution_count": 30,
   "id": "957b573f",
   "metadata": {},
   "outputs": [
    {
     "data": {
      "text/plain": [
       "Country                          157\n",
       "Region                            10\n",
       "Happiness Rank                   154\n",
       "Happiness Score                  154\n",
       "Lower Confidence Interval        154\n",
       "Upper Confidence Interval        154\n",
       "Economy (GDP per Capita)         157\n",
       "Family                           157\n",
       "Health (Life Expectancy)         156\n",
       "Freedom                          157\n",
       "Trust (Government Corruption)    156\n",
       "Generosity                       157\n",
       "Dystopia Residual                157\n",
       "dtype: int64"
      ]
     },
     "execution_count": 30,
     "metadata": {},
     "output_type": "execute_result"
    }
   ],
   "source": [
    "data2016.nunique()"
   ]
  },
  {
   "cell_type": "code",
   "execution_count": 31,
   "id": "bc387b47",
   "metadata": {},
   "outputs": [
    {
     "data": {
      "text/plain": [
       "Country                          155\n",
       "Happiness.Rank                   155\n",
       "Happiness.Score                  151\n",
       "Whisker.high                     155\n",
       "Whisker.low                      155\n",
       "Economy..GDP.per.Capita.         155\n",
       "Family                           155\n",
       "Health..Life.Expectancy.         155\n",
       "Freedom                          155\n",
       "Generosity                       155\n",
       "Trust..Government.Corruption.    155\n",
       "Dystopia.Residual                155\n",
       "dtype: int64"
      ]
     },
     "execution_count": 31,
     "metadata": {},
     "output_type": "execute_result"
    }
   ],
   "source": [
    "data2017.nunique()"
   ]
  },
  {
   "cell_type": "code",
   "execution_count": 32,
   "id": "baac45aa",
   "metadata": {},
   "outputs": [
    {
     "data": {
      "text/plain": [
       "Overall rank                    156\n",
       "Country or region               156\n",
       "Score                           154\n",
       "GDP per capita                  147\n",
       "Social support                  146\n",
       "Healthy life expectancy         143\n",
       "Freedom to make life choices    136\n",
       "Generosity                      122\n",
       "Perceptions of corruption       110\n",
       "dtype: int64"
      ]
     },
     "execution_count": 32,
     "metadata": {},
     "output_type": "execute_result"
    }
   ],
   "source": [
    "data2018.nunique()"
   ]
  },
  {
   "cell_type": "code",
   "execution_count": 33,
   "id": "26a0ad8e",
   "metadata": {},
   "outputs": [
    {
     "data": {
      "text/plain": [
       "Overall rank                    156\n",
       "Country or region               156\n",
       "Score                           155\n",
       "GDP per capita                  146\n",
       "Social support                  145\n",
       "Healthy life expectancy         119\n",
       "Freedom to make life choices    130\n",
       "Generosity                      118\n",
       "Perceptions of corruption       113\n",
       "dtype: int64"
      ]
     },
     "execution_count": 33,
     "metadata": {},
     "output_type": "execute_result"
    }
   ],
   "source": [
    "data2019.nunique()"
   ]
  },
  {
   "cell_type": "code",
   "execution_count": 34,
   "id": "aca746de",
   "metadata": {},
   "outputs": [
    {
     "data": {
      "text/plain": [
       "Country name                                  149\n",
       "Regional indicator                             10\n",
       "Ladder score                                  147\n",
       "Standard error of ladder score                 65\n",
       "upperwhisker                                  146\n",
       "lowerwhisker                                  143\n",
       "Logged GDP per capita                         148\n",
       "Social support                                119\n",
       "Healthy life expectancy                       135\n",
       "Freedom to make life choices                  126\n",
       "Generosity                                    130\n",
       "Perceptions of corruption                     130\n",
       "Ladder score in Dystopia                        1\n",
       "Explained by: Log GDP per capita              138\n",
       "Explained by: Social support                  135\n",
       "Explained by: Healthy life expectancy         119\n",
       "Explained by: Freedom to make life choices    130\n",
       "Explained by: Generosity                      119\n",
       "Explained by: Perceptions of corruption       117\n",
       "Dystopia + residual                           142\n",
       "dtype: int64"
      ]
     },
     "execution_count": 34,
     "metadata": {},
     "output_type": "execute_result"
    }
   ],
   "source": [
    "data2021.nunique()"
   ]
  },
  {
   "cell_type": "code",
   "execution_count": 35,
   "id": "3cc5788f",
   "metadata": {},
   "outputs": [
    {
     "data": {
      "text/plain": [
       "array([2.43])"
      ]
     },
     "execution_count": 35,
     "metadata": {},
     "output_type": "execute_result"
    }
   ],
   "source": [
    "data2021['Ladder score in Dystopia'].unique()"
   ]
  },
  {
   "cell_type": "markdown",
   "id": "8bdfcf53",
   "metadata": {},
   "source": [
    "Since the only variable that has to be really unique is the country we can say that we don't have any duplicates in most of our dataframes. The exception would be the column \"Ladder score in Dystopia\" in the dataframe for the year 2021 that only has one value and therfore can be dropped since it serves no value in our analysis and comparasion between countries. "
   ]
  },
  {
   "cell_type": "code",
   "execution_count": 36,
   "id": "8efbe115",
   "metadata": {},
   "outputs": [],
   "source": [
    "#drop column\n",
    "data2021.drop('Ladder score in Dystopia', axis=1, inplace=True)"
   ]
  },
  {
   "cell_type": "markdown",
   "id": "82244325",
   "metadata": {},
   "source": [
    "Next we check missing values :"
   ]
  },
  {
   "cell_type": "code",
   "execution_count": 37,
   "id": "6fd03365",
   "metadata": {},
   "outputs": [
    {
     "data": {
      "text/plain": [
       "Country                          0\n",
       "Region                           0\n",
       "Happiness Rank                   0\n",
       "Happiness Score                  0\n",
       "Standard Error                   0\n",
       "Economy (GDP per Capita)         0\n",
       "Family                           0\n",
       "Health (Life Expectancy)         0\n",
       "Freedom                          0\n",
       "Trust (Government Corruption)    0\n",
       "Generosity                       0\n",
       "Dystopia Residual                0\n",
       "dtype: int64"
      ]
     },
     "execution_count": 37,
     "metadata": {},
     "output_type": "execute_result"
    }
   ],
   "source": [
    "data2015.isnull().sum()"
   ]
  },
  {
   "cell_type": "code",
   "execution_count": 38,
   "id": "88048c53",
   "metadata": {},
   "outputs": [
    {
     "data": {
      "text/plain": [
       "Country                          0\n",
       "Region                           0\n",
       "Happiness Rank                   0\n",
       "Happiness Score                  0\n",
       "Lower Confidence Interval        0\n",
       "Upper Confidence Interval        0\n",
       "Economy (GDP per Capita)         0\n",
       "Family                           0\n",
       "Health (Life Expectancy)         0\n",
       "Freedom                          0\n",
       "Trust (Government Corruption)    0\n",
       "Generosity                       0\n",
       "Dystopia Residual                0\n",
       "dtype: int64"
      ]
     },
     "execution_count": 38,
     "metadata": {},
     "output_type": "execute_result"
    }
   ],
   "source": [
    "data2016.isnull().sum()"
   ]
  },
  {
   "cell_type": "code",
   "execution_count": 39,
   "id": "1d0c5f7b",
   "metadata": {},
   "outputs": [
    {
     "data": {
      "text/plain": [
       "Country                          0\n",
       "Happiness.Rank                   0\n",
       "Happiness.Score                  0\n",
       "Whisker.high                     0\n",
       "Whisker.low                      0\n",
       "Economy..GDP.per.Capita.         0\n",
       "Family                           0\n",
       "Health..Life.Expectancy.         0\n",
       "Freedom                          0\n",
       "Generosity                       0\n",
       "Trust..Government.Corruption.    0\n",
       "Dystopia.Residual                0\n",
       "dtype: int64"
      ]
     },
     "execution_count": 39,
     "metadata": {},
     "output_type": "execute_result"
    }
   ],
   "source": [
    "data2017.isnull().sum()"
   ]
  },
  {
   "cell_type": "code",
   "execution_count": 40,
   "id": "bb361b03",
   "metadata": {},
   "outputs": [
    {
     "data": {
      "text/plain": [
       "Overall rank                    0\n",
       "Country or region               0\n",
       "Score                           0\n",
       "GDP per capita                  0\n",
       "Social support                  0\n",
       "Healthy life expectancy         0\n",
       "Freedom to make life choices    0\n",
       "Generosity                      0\n",
       "Perceptions of corruption       1\n",
       "dtype: int64"
      ]
     },
     "execution_count": 40,
     "metadata": {},
     "output_type": "execute_result"
    }
   ],
   "source": [
    "data2018.isnull().sum()"
   ]
  },
  {
   "cell_type": "code",
   "execution_count": 41,
   "id": "7fe6711c",
   "metadata": {},
   "outputs": [
    {
     "data": {
      "text/plain": [
       "Overall rank                    0\n",
       "Country or region               0\n",
       "Score                           0\n",
       "GDP per capita                  0\n",
       "Social support                  0\n",
       "Healthy life expectancy         0\n",
       "Freedom to make life choices    0\n",
       "Generosity                      0\n",
       "Perceptions of corruption       0\n",
       "dtype: int64"
      ]
     },
     "execution_count": 41,
     "metadata": {},
     "output_type": "execute_result"
    }
   ],
   "source": [
    "data2019.isnull().sum()"
   ]
  },
  {
   "cell_type": "code",
   "execution_count": 42,
   "id": "2f5e75a6",
   "metadata": {},
   "outputs": [
    {
     "data": {
      "text/plain": [
       "Country name                                  0\n",
       "Regional indicator                            0\n",
       "Ladder score                                  0\n",
       "Standard error of ladder score                0\n",
       "upperwhisker                                  0\n",
       "lowerwhisker                                  0\n",
       "Logged GDP per capita                         0\n",
       "Social support                                0\n",
       "Healthy life expectancy                       0\n",
       "Freedom to make life choices                  0\n",
       "Generosity                                    0\n",
       "Perceptions of corruption                     0\n",
       "Explained by: Log GDP per capita              0\n",
       "Explained by: Social support                  0\n",
       "Explained by: Healthy life expectancy         0\n",
       "Explained by: Freedom to make life choices    0\n",
       "Explained by: Generosity                      0\n",
       "Explained by: Perceptions of corruption       0\n",
       "Dystopia + residual                           0\n",
       "dtype: int64"
      ]
     },
     "execution_count": 42,
     "metadata": {},
     "output_type": "execute_result"
    }
   ],
   "source": [
    "data2021.isnull().sum()"
   ]
  },
  {
   "cell_type": "markdown",
   "id": "4f128500",
   "metadata": {},
   "source": [
    "There is one missing value in the 2018 dataframe :"
   ]
  },
  {
   "cell_type": "code",
   "execution_count": 43,
   "id": "b004b0eb",
   "metadata": {},
   "outputs": [
    {
     "data": {
      "text/html": [
       "<div>\n",
       "<style scoped>\n",
       "    .dataframe tbody tr th:only-of-type {\n",
       "        vertical-align: middle;\n",
       "    }\n",
       "\n",
       "    .dataframe tbody tr th {\n",
       "        vertical-align: top;\n",
       "    }\n",
       "\n",
       "    .dataframe thead th {\n",
       "        text-align: right;\n",
       "    }\n",
       "</style>\n",
       "<table border=\"1\" class=\"dataframe\">\n",
       "  <thead>\n",
       "    <tr style=\"text-align: right;\">\n",
       "      <th></th>\n",
       "      <th>Overall rank</th>\n",
       "      <th>Country or region</th>\n",
       "      <th>Score</th>\n",
       "      <th>GDP per capita</th>\n",
       "      <th>Social support</th>\n",
       "      <th>Healthy life expectancy</th>\n",
       "      <th>Freedom to make life choices</th>\n",
       "      <th>Generosity</th>\n",
       "      <th>Perceptions of corruption</th>\n",
       "    </tr>\n",
       "  </thead>\n",
       "  <tbody>\n",
       "    <tr>\n",
       "      <th>19</th>\n",
       "      <td>20</td>\n",
       "      <td>United Arab Emirates</td>\n",
       "      <td>6.774</td>\n",
       "      <td>2.096</td>\n",
       "      <td>0.776</td>\n",
       "      <td>0.67</td>\n",
       "      <td>0.284</td>\n",
       "      <td>0.186</td>\n",
       "      <td>NaN</td>\n",
       "    </tr>\n",
       "  </tbody>\n",
       "</table>\n",
       "</div>"
      ],
      "text/plain": [
       "    Overall rank     Country or region  Score  GDP per capita  Social support  \\\n",
       "19            20  United Arab Emirates  6.774           2.096           0.776   \n",
       "\n",
       "    Healthy life expectancy  Freedom to make life choices  Generosity  \\\n",
       "19                     0.67                         0.284       0.186   \n",
       "\n",
       "    Perceptions of corruption  \n",
       "19                        NaN  "
      ]
     },
     "execution_count": 43,
     "metadata": {},
     "output_type": "execute_result"
    }
   ],
   "source": [
    "data2018[data2018['Perceptions of corruption'].isna()]"
   ]
  },
  {
   "cell_type": "markdown",
   "id": "d03c6cf1",
   "metadata": {},
   "source": [
    "We need to get the mean value for all the other years to replace the missing value, we will do that once we concatenate all the dataframes into one dataset."
   ]
  },
  {
   "cell_type": "markdown",
   "id": "bf7bcff3",
   "metadata": {},
   "source": [
    "## Final dataset "
   ]
  },
  {
   "cell_type": "code",
   "execution_count": 44,
   "id": "e00c77cd",
   "metadata": {},
   "outputs": [
    {
     "name": "stdout",
     "output_type": "stream",
     "text": [
      "Year 2015 has 158 rows and 12 columns\n",
      "Year 2016 has 157 rows and 13 columns\n",
      "Year 2017 has 155 rows and 12 columns\n",
      "Year 2018 has 156 rows and 9 columns\n",
      "Year 2019 has 156 rows and 9 columns\n",
      "Year 2021 has 149 rows and 19 columns\n"
     ]
    }
   ],
   "source": [
    "print('Year 2015 has {} rows and {} columns'.format(data2015.shape[0], data2015.shape[1]))\n",
    "print('Year 2016 has {} rows and {} columns'.format(data2016.shape[0], data2016.shape[1]))\n",
    "print('Year 2017 has {} rows and {} columns'.format(data2017.shape[0], data2017.shape[1]))\n",
    "print('Year 2018 has {} rows and {} columns'.format(data2018.shape[0], data2018.shape[1]))\n",
    "print('Year 2019 has {} rows and {} columns'.format(data2019.shape[0], data2019.shape[1]))\n",
    "print('Year 2021 has {} rows and {} columns'.format(data2021.shape[0], data2021.shape[1]))"
   ]
  },
  {
   "cell_type": "markdown",
   "id": "1ee29829",
   "metadata": {},
   "source": [
    "We start byrenaming the columns and using standard names for all the dataframes :"
   ]
  },
  {
   "cell_type": "code",
   "execution_count": 45,
   "id": "b00e3cc9",
   "metadata": {},
   "outputs": [],
   "source": [
    "data2015.rename(columns = {'Economy (GDP per Capita)': 'GDP per Capita',\n",
    "                        'Family' : 'Social support',\n",
    "                        'Health (Life Expectancy)' : 'Life Expectancy',\n",
    "                         'Health (Life Expectancy)' : 'Life Expectancy',  \n",
    "                       'Freedom': 'Freedom to make life choices',\n",
    "                        'Trust (Government Corruption)': 'Perceptions of corruption'\n",
    "                          }, inplace = True)"
   ]
  },
  {
   "cell_type": "code",
   "execution_count": 47,
   "id": "02b0671f",
   "metadata": {},
   "outputs": [],
   "source": [
    "data2016.rename(columns = {'Economy (GDP per Capita)': 'GDP per Capita',\n",
    "                        'Family' : 'Social support',\n",
    "                        'Health (Life Expectancy)' : 'Life Expectancy',  \n",
    "                       'Freedom': 'Freedom to make life choices',\n",
    "                        'Trust (Government Corruption)': 'Perceptions of corruption'\n",
    "                          }, inplace = True)"
   ]
  },
  {
   "cell_type": "code",
   "execution_count": 48,
   "id": "5db1750e",
   "metadata": {},
   "outputs": [],
   "source": [
    "data2017.rename(columns = {'Happiness.Rank': 'Happiness Rank',\n",
    "                           'Happiness.Score': 'Happiness Score',\n",
    "    'Economy..GDP.per.Capita.': 'GDP per Capita',\n",
    "                        'Family' : 'Social support',\n",
    "                        'Health..Life.Expectancy.' : 'Life Expectancy',  \n",
    "                       'Freedom': 'Freedom to make life choices',\n",
    "                           'Dystopia.Residual':'Dystopia Residual',\n",
    "                        'Trust..Government.Corruption.': 'Perceptions of corruption'\n",
    "                          }, inplace = True)"
   ]
  },
  {
   "cell_type": "code",
   "execution_count": 49,
   "id": "05fbe398",
   "metadata": {},
   "outputs": [],
   "source": [
    "data2018.rename(columns = {'Overall rank': 'Happiness Rank',\n",
    "                           'Country or region' : 'Country',\n",
    "                           'GDP per capita': 'GDP per Capita',\n",
    "                           'Score': 'Happiness Score',\n",
    "                        'Healthy life expectancy' : 'Life Expectancy',\n",
    "                          }, inplace = True)"
   ]
  },
  {
   "cell_type": "code",
   "execution_count": 50,
   "id": "93c0cd3d",
   "metadata": {},
   "outputs": [],
   "source": [
    "data2019.rename(columns = {'Overall rank': 'Happiness Rank',\n",
    "                           'Country or region' : 'Country',\n",
    "                            'GDP per capita': 'GDP per Capita',                          \n",
    "                           'Score': 'Happiness Score',\n",
    "                        'Healthy life expectancy' : 'Life Expectancy',  \n",
    "                          }, inplace = True)"
   ]
  },
  {
   "cell_type": "code",
   "execution_count": 51,
   "id": "f0e4241e",
   "metadata": {},
   "outputs": [],
   "source": [
    "data2021.drop(['Social support','Generosity','Perceptions of corruption','Freedom to make life choices'], axis=1, inplace=True)"
   ]
  },
  {
   "cell_type": "code",
   "execution_count": 52,
   "id": "78115ad4",
   "metadata": {},
   "outputs": [],
   "source": [
    "data2021['Happiness Rank'] = data2021['Ladder score'].rank(ascending=False)"
   ]
  },
  {
   "cell_type": "code",
   "execution_count": 53,
   "id": "d69d9212",
   "metadata": {},
   "outputs": [],
   "source": [
    "data2021.rename(columns = {'Ladder score': 'Happiness Score',\n",
    "                           'Country name':'Country',\n",
    "                           'Regional indicator':'Region',\n",
    "                         'Explained by: Log GDP per capita': 'GDP per Capita',\n",
    "                        'Explained by: Healthy life expectancy' : 'Life Expectancy',\n",
    "                        'Explained by: Social support' : 'Social support', \n",
    "                       'Explained by: Freedom to make life choices': 'Freedom to make life choices',\n",
    "                           'Explained by: Generosity':'Generosity',\n",
    "                        'Explained by: Perceptions of corruption': 'Perceptions of corruption',                           \n",
    "                           'Dystopia + residual':'Dystopia Residual'                       \n",
    "                          }, inplace = True)"
   ]
  },
  {
   "cell_type": "markdown",
   "id": "6661eb4c",
   "metadata": {},
   "source": [
    "Next, we'll be keeeping the common attributes across the dataframes :"
   ]
  },
  {
   "cell_type": "code",
   "execution_count": 46,
   "id": "15a813c2",
   "metadata": {},
   "outputs": [],
   "source": [
    "data2015 = data2015.filter(['Country', 'Happiness Rank', 'Happiness Score', 'GDP per Capita','Social support',\n",
    "                        'Life Expectancy', 'Freedom to make life choices', 'Perceptions of corruption','Generosity'\n",
    "                         ])"
   ]
  },
  {
   "cell_type": "code",
   "execution_count": 54,
   "id": "a95f93a4",
   "metadata": {},
   "outputs": [],
   "source": [
    "data2016 = data2016.filter(['Country', 'Happiness Rank', 'Happiness Score', 'GDP per Capita','Social support',\n",
    "                        'Life Expectancy', 'Freedom to make life choices', 'Perceptions of corruption','Generosity'\n",
    "                         ])"
   ]
  },
  {
   "cell_type": "code",
   "execution_count": 55,
   "id": "1b84a49c",
   "metadata": {},
   "outputs": [],
   "source": [
    "data2017 = data2017.filter(['Country', 'Happiness Rank', 'Happiness Score', 'GDP per Capita','Social support',\n",
    "                        'Life Expectancy', 'Freedom to make life choices', 'Perceptions of corruption','Generosity'\n",
    "                         ])"
   ]
  },
  {
   "cell_type": "code",
   "execution_count": 56,
   "id": "ae6686d1",
   "metadata": {},
   "outputs": [],
   "source": [
    "data2018 = data2018.filter(['Country', 'Happiness Rank', 'Happiness Score', 'GDP per Capita','Social support',\n",
    "                        'Life Expectancy', 'Freedom to make life choices', 'Perceptions of corruption','Generosity'\n",
    "                         ])"
   ]
  },
  {
   "cell_type": "code",
   "execution_count": 57,
   "id": "f5446b6a",
   "metadata": {},
   "outputs": [],
   "source": [
    "data2019 = data2019.filter(['Country', 'Happiness Rank', 'Happiness Score', 'GDP per Capita','Social support',\n",
    "                        'Life Expectancy', 'Freedom to make life choices', 'Perceptions of corruption','Generosity'\n",
    "                         ])"
   ]
  },
  {
   "cell_type": "code",
   "execution_count": 58,
   "id": "776f0004",
   "metadata": {},
   "outputs": [],
   "source": [
    "data2021 = data2021.filter(['Country', 'Happiness Rank', 'Happiness Score', 'GDP per Capita','Social support',\n",
    "                        'Life Expectancy', 'Freedom to make life choices', 'Perceptions of corruption','Generosity'\n",
    "                         ])"
   ]
  },
  {
   "cell_type": "code",
   "execution_count": 59,
   "id": "55989750",
   "metadata": {},
   "outputs": [],
   "source": [
    "#convert from float to integer\n",
    "data2021[\"Happiness Rank\"]=data2021[\"Happiness Rank\"].apply(np.int64)"
   ]
  },
  {
   "cell_type": "code",
   "execution_count": 60,
   "id": "0bba8f0f",
   "metadata": {},
   "outputs": [
    {
     "name": "stdout",
     "output_type": "stream",
     "text": [
      "Year 2015 has 158 rows and 9 columns\n",
      "Year 2016 has 157 rows and 9 columns\n",
      "Year 2017 has 155 rows and 9 columns\n",
      "Year 2018 has 156 rows and 9 columns\n",
      "Year 2019 has 156 rows and 9 columns\n",
      "Year 2021 has 149 rows and 9 columns\n"
     ]
    }
   ],
   "source": [
    "print('Year 2015 has {} rows and {} columns'.format(data2015.shape[0], data2015.shape[1]))\n",
    "print('Year 2016 has {} rows and {} columns'.format(data2016.shape[0], data2016.shape[1]))\n",
    "print('Year 2017 has {} rows and {} columns'.format(data2017.shape[0], data2017.shape[1]))\n",
    "print('Year 2018 has {} rows and {} columns'.format(data2018.shape[0], data2018.shape[1]))\n",
    "print('Year 2019 has {} rows and {} columns'.format(data2019.shape[0], data2019.shape[1]))\n",
    "print('Year 2021 has {} rows and {} columns'.format(data2021.shape[0], data2021.shape[1]))"
   ]
  },
  {
   "cell_type": "markdown",
   "id": "6d970130",
   "metadata": {},
   "source": [
    "Now we have all our dataframes with the same attributes and normalized names for each one. The next step would be to add a new attribute \"year\" in preparation for the dataframe merge :"
   ]
  },
  {
   "cell_type": "code",
   "execution_count": 61,
   "id": "9ff8a6a9",
   "metadata": {},
   "outputs": [],
   "source": [
    "data2015.insert(0, \"Year\", 2015)"
   ]
  },
  {
   "cell_type": "code",
   "execution_count": 62,
   "id": "dddef311",
   "metadata": {},
   "outputs": [],
   "source": [
    "data2016.insert(0, \"Year\", 2016)"
   ]
  },
  {
   "cell_type": "code",
   "execution_count": 63,
   "id": "2419e4da",
   "metadata": {},
   "outputs": [],
   "source": [
    "data2017.insert(0, \"Year\", 2017)"
   ]
  },
  {
   "cell_type": "code",
   "execution_count": 64,
   "id": "2923e824",
   "metadata": {},
   "outputs": [],
   "source": [
    "data2018.insert(0, \"Year\", 2018)"
   ]
  },
  {
   "cell_type": "code",
   "execution_count": 65,
   "id": "78aadb8e",
   "metadata": {},
   "outputs": [],
   "source": [
    "data2019.insert(0, \"Year\", 2019)"
   ]
  },
  {
   "cell_type": "code",
   "execution_count": 66,
   "id": "60cc78d6",
   "metadata": {},
   "outputs": [],
   "source": [
    "data2021.insert(0, \"Year\", 2021)"
   ]
  },
  {
   "cell_type": "markdown",
   "id": "5fdbddd3",
   "metadata": {},
   "source": [
    "Now to merge the dataframes using an inner join on the country column :"
   ]
  },
  {
   "cell_type": "code",
   "execution_count": 67,
   "id": "970e4ab5",
   "metadata": {},
   "outputs": [],
   "source": [
    "data = pd.concat([data2015, data2016,data2017, data2018,data2019,data2021], axis=0)"
   ]
  },
  {
   "cell_type": "code",
   "execution_count": 68,
   "id": "1399cd73",
   "metadata": {},
   "outputs": [
    {
     "data": {
      "text/plain": [
       "(931, 10)"
      ]
     },
     "execution_count": 68,
     "metadata": {},
     "output_type": "execute_result"
    }
   ],
   "source": [
    "data.shape"
   ]
  },
  {
   "cell_type": "code",
   "execution_count": 69,
   "id": "7413335c",
   "metadata": {},
   "outputs": [
    {
     "data": {
      "text/html": [
       "<div>\n",
       "<style scoped>\n",
       "    .dataframe tbody tr th:only-of-type {\n",
       "        vertical-align: middle;\n",
       "    }\n",
       "\n",
       "    .dataframe tbody tr th {\n",
       "        vertical-align: top;\n",
       "    }\n",
       "\n",
       "    .dataframe thead th {\n",
       "        text-align: right;\n",
       "    }\n",
       "</style>\n",
       "<table border=\"1\" class=\"dataframe\">\n",
       "  <thead>\n",
       "    <tr style=\"text-align: right;\">\n",
       "      <th></th>\n",
       "      <th>Year</th>\n",
       "      <th>Country</th>\n",
       "      <th>Happiness Rank</th>\n",
       "      <th>Happiness Score</th>\n",
       "      <th>GDP per Capita</th>\n",
       "      <th>Social support</th>\n",
       "      <th>Life Expectancy</th>\n",
       "      <th>Freedom to make life choices</th>\n",
       "      <th>Perceptions of corruption</th>\n",
       "      <th>Generosity</th>\n",
       "    </tr>\n",
       "  </thead>\n",
       "  <tbody>\n",
       "    <tr>\n",
       "      <th>0</th>\n",
       "      <td>2015</td>\n",
       "      <td>Switzerland</td>\n",
       "      <td>1</td>\n",
       "      <td>7.587</td>\n",
       "      <td>1.39651</td>\n",
       "      <td>1.34951</td>\n",
       "      <td>0.94143</td>\n",
       "      <td>0.66557</td>\n",
       "      <td>0.41978</td>\n",
       "      <td>0.29678</td>\n",
       "    </tr>\n",
       "    <tr>\n",
       "      <th>1</th>\n",
       "      <td>2015</td>\n",
       "      <td>Iceland</td>\n",
       "      <td>2</td>\n",
       "      <td>7.561</td>\n",
       "      <td>1.30232</td>\n",
       "      <td>1.40223</td>\n",
       "      <td>0.94784</td>\n",
       "      <td>0.62877</td>\n",
       "      <td>0.14145</td>\n",
       "      <td>0.43630</td>\n",
       "    </tr>\n",
       "    <tr>\n",
       "      <th>2</th>\n",
       "      <td>2015</td>\n",
       "      <td>Denmark</td>\n",
       "      <td>3</td>\n",
       "      <td>7.527</td>\n",
       "      <td>1.32548</td>\n",
       "      <td>1.36058</td>\n",
       "      <td>0.87464</td>\n",
       "      <td>0.64938</td>\n",
       "      <td>0.48357</td>\n",
       "      <td>0.34139</td>\n",
       "    </tr>\n",
       "    <tr>\n",
       "      <th>3</th>\n",
       "      <td>2015</td>\n",
       "      <td>Norway</td>\n",
       "      <td>4</td>\n",
       "      <td>7.522</td>\n",
       "      <td>1.45900</td>\n",
       "      <td>1.33095</td>\n",
       "      <td>0.88521</td>\n",
       "      <td>0.66973</td>\n",
       "      <td>0.36503</td>\n",
       "      <td>0.34699</td>\n",
       "    </tr>\n",
       "    <tr>\n",
       "      <th>4</th>\n",
       "      <td>2015</td>\n",
       "      <td>Canada</td>\n",
       "      <td>5</td>\n",
       "      <td>7.427</td>\n",
       "      <td>1.32629</td>\n",
       "      <td>1.32261</td>\n",
       "      <td>0.90563</td>\n",
       "      <td>0.63297</td>\n",
       "      <td>0.32957</td>\n",
       "      <td>0.45811</td>\n",
       "    </tr>\n",
       "  </tbody>\n",
       "</table>\n",
       "</div>"
      ],
      "text/plain": [
       "   Year      Country  Happiness Rank  Happiness Score  GDP per Capita  \\\n",
       "0  2015  Switzerland               1            7.587         1.39651   \n",
       "1  2015      Iceland               2            7.561         1.30232   \n",
       "2  2015      Denmark               3            7.527         1.32548   \n",
       "3  2015       Norway               4            7.522         1.45900   \n",
       "4  2015       Canada               5            7.427         1.32629   \n",
       "\n",
       "   Social support  Life Expectancy  Freedom to make life choices  \\\n",
       "0         1.34951          0.94143                       0.66557   \n",
       "1         1.40223          0.94784                       0.62877   \n",
       "2         1.36058          0.87464                       0.64938   \n",
       "3         1.33095          0.88521                       0.66973   \n",
       "4         1.32261          0.90563                       0.63297   \n",
       "\n",
       "   Perceptions of corruption  Generosity  \n",
       "0                    0.41978     0.29678  \n",
       "1                    0.14145     0.43630  \n",
       "2                    0.48357     0.34139  \n",
       "3                    0.36503     0.34699  \n",
       "4                    0.32957     0.45811  "
      ]
     },
     "execution_count": 69,
     "metadata": {},
     "output_type": "execute_result"
    }
   ],
   "source": [
    "data.head()"
   ]
  },
  {
   "cell_type": "markdown",
   "id": "3f5f64ce",
   "metadata": {},
   "source": [
    "Since we have our complete dataset we can deal with the missing value that we'd detected prior :"
   ]
  },
  {
   "cell_type": "code",
   "execution_count": 70,
   "id": "f87341a1",
   "metadata": {},
   "outputs": [
    {
     "data": {
      "text/plain": [
       "Year                            0\n",
       "Country                         0\n",
       "Happiness Rank                  0\n",
       "Happiness Score                 0\n",
       "GDP per Capita                  0\n",
       "Social support                  0\n",
       "Life Expectancy                 0\n",
       "Freedom to make life choices    0\n",
       "Perceptions of corruption       1\n",
       "Generosity                      0\n",
       "dtype: int64"
      ]
     },
     "execution_count": 70,
     "metadata": {},
     "output_type": "execute_result"
    }
   ],
   "source": [
    "data.isnull().sum()"
   ]
  },
  {
   "cell_type": "code",
   "execution_count": 71,
   "id": "33bcfa30",
   "metadata": {},
   "outputs": [],
   "source": [
    "UAE = data[data['Country'] == 'United Arab Emirates']"
   ]
  },
  {
   "cell_type": "code",
   "execution_count": 72,
   "id": "d09e4a18",
   "metadata": {},
   "outputs": [],
   "source": [
    "a = UAE['Perceptions of corruption'].mean()"
   ]
  },
  {
   "cell_type": "code",
   "execution_count": 73,
   "id": "4e6f887c",
   "metadata": {},
   "outputs": [],
   "source": [
    "data.fillna(a, inplace=True)"
   ]
  },
  {
   "cell_type": "code",
   "execution_count": 74,
   "id": "b51f35cc",
   "metadata": {},
   "outputs": [
    {
     "data": {
      "text/plain": [
       "Year                            0\n",
       "Country                         0\n",
       "Happiness Rank                  0\n",
       "Happiness Score                 0\n",
       "GDP per Capita                  0\n",
       "Social support                  0\n",
       "Life Expectancy                 0\n",
       "Freedom to make life choices    0\n",
       "Perceptions of corruption       0\n",
       "Generosity                      0\n",
       "dtype: int64"
      ]
     },
     "execution_count": 74,
     "metadata": {},
     "output_type": "execute_result"
    }
   ],
   "source": [
    "data.isnull().sum()"
   ]
  },
  {
   "cell_type": "markdown",
   "id": "94893d0a",
   "metadata": {},
   "source": [
    "Now that the data is clean, we can export the reulting dataframe as a csv file for later use :"
   ]
  },
  {
   "cell_type": "code",
   "execution_count": 75,
   "id": "cd9ac554",
   "metadata": {},
   "outputs": [],
   "source": [
    "data.to_csv('final.csv')"
   ]
  },
  {
   "cell_type": "markdown",
   "id": "526805b6",
   "metadata": {},
   "source": [
    "## Data vizualisaion :"
   ]
  },
  {
   "cell_type": "code",
   "execution_count": 76,
   "id": "f5c0bda6",
   "metadata": {},
   "outputs": [
    {
     "data": {
      "image/png": "[encoded data removed]",
      "text/plain": [
       "<Figure size 432x288 with 1 Axes>"
      ]
     },
     "metadata": {
      "needs_background": "light"
     },
     "output_type": "display_data"
    }
   ],
   "source": [
    "HappinessScore= data['Happiness Score']\n",
    "GDPperCapita= data['GDP per Capita']\n",
    "Socialsupport= data['Social support']\n",
    "LifeExpectancy= data['Life Expectancy']\n",
    "Freedomtomakelifechoices= data['Freedom to make life choices']\n",
    "Perceptionsofcorruption= data['Perceptions of corruption']\n",
    "Generosity= data['Generosity']\n",
    "\n",
    "columns = [HappinessScore, GDPperCapita, Socialsupport, LifeExpectancy,\n",
    "           Freedomtomakelifechoices,Perceptionsofcorruption,Generosity ]\n",
    "\n",
    "fig, ax = plt.subplots()\n",
    "ax.boxplot(columns)\n",
    "plt.show()"
   ]
  },
  {
   "cell_type": "markdown",
   "id": "3dbefee2",
   "metadata": {},
   "source": [
    "Despite having some outliers in certain variables, it was expected since the dataset studies the differences between countries and a stark difference between countries with the highest and lowest happiness scores isn't suprising. Removing said outliers would be beating against the purpose of the dataset."
   ]
  },
  {
   "cell_type": "markdown",
   "id": "b397dd40",
   "metadata": {},
   "source": [
    "###  Happiest countries over the years :"
   ]
  },
  {
   "cell_type": "code",
   "execution_count": 77,
   "id": "dabc8808",
   "metadata": {},
   "outputs": [
    {
     "data": {
      "image/png": "[encoded data removed]",
      "text/plain": [
       "<Figure size 1152x648 with 6 Axes>"
      ]
     },
     "metadata": {
      "needs_background": "light"
     },
     "output_type": "display_data"
    }
   ],
   "source": [
    "gp_15 = data.loc[data.Year == 2015, ['Happiness Score', 'Country']].sort_values(by = 'Happiness Score', ascending = False)[:10]\n",
    "gp_16 = data.loc[data.Year == 2016, ['Happiness Score', 'Country']].sort_values(by = 'Happiness Score', ascending = False)[:10]\n",
    "gp_17 = data.loc[data.Year == 2017, ['Happiness Score', 'Country']].sort_values(by = 'Happiness Score', ascending = False)[:10]\n",
    "gp_18 = data.loc[data.Year == 2018, ['Happiness Score', 'Country']].sort_values(by = 'Happiness Score', ascending = False)[:10]\n",
    "gp_19 = data.loc[data.Year == 2019, ['Happiness Score', 'Country']].sort_values(by = 'Happiness Score', ascending = False)[:10]\n",
    "gp_21 = data.loc[data.Year == 2021, ['Happiness Score', 'Country']].sort_values(by = 'Happiness Score', ascending = False)[:10]\n",
    "\n",
    "plt.figure(figsize=(16,9))\n",
    "plt.subplot(231)\n",
    "sns.barplot(x = 'Happiness Score', y = 'Country', data = gp_15)\n",
    "plt.title('Top 10 Happiest Country in 2015', fontsize=15)\n",
    "plt.xticks(fontsize=12)\n",
    "plt.yticks(fontsize=12)\n",
    "plt.xlim(0, 8)\n",
    "plt.xlabel('Happiness Score',size = 12)\n",
    "\n",
    "\n",
    "plt.subplot(232)\n",
    "sns.barplot(x = 'Happiness Score', y = 'Country', data = gp_16)\n",
    "plt.title('Top 10 Happiest Country in 2016', fontsize=15)\n",
    "plt.xticks(fontsize=12)\n",
    "plt.yticks(fontsize=12)\n",
    "plt.xlim(0, 8)\n",
    "plt.xlabel('Happiness Score',size = 12)\n",
    "\n",
    "\n",
    "plt.subplot(233)\n",
    "sns.barplot(x = 'Happiness Score', y = 'Country', data = gp_17)\n",
    "plt.title('Top 10 Happiest Country in 2017', fontsize=15)\n",
    "plt.xticks(fontsize=12)\n",
    "plt.yticks(fontsize=12)\n",
    "plt.xlim(0, 8)\n",
    "plt.xlabel('Happiness Score',size = 12)\n",
    "\n",
    "\n",
    "plt.subplot(234)\n",
    "sns.barplot(x = 'Happiness Score', y = 'Country', data = gp_18)\n",
    "plt.title('Top 10 Happiest Country in 2018', fontsize=15)\n",
    "plt.xticks(fontsize=12)\n",
    "plt.yticks(fontsize=12)\n",
    "plt.xlim(0, 8)\n",
    "plt.xlabel('Happiness Score',size = 12)\n",
    "\n",
    "plt.subplot(235)\n",
    "sns.barplot(x = 'Happiness Score', y = 'Country', data = gp_19)\n",
    "plt.title('Top 10 Happiest Country in 2019', fontsize=15)\n",
    "plt.xticks(fontsize=12)\n",
    "plt.yticks(fontsize=12)\n",
    "plt.xlim(0, 8)\n",
    "plt.xlabel('Happiness Score',size = 12)\n",
    "\n",
    "plt.subplot(236)\n",
    "sns.barplot(x = 'Happiness Score', y = 'Country', data = gp_21)\n",
    "plt.title('Top 10 Happiest Country in 2021', fontsize=15)\n",
    "plt.xticks(fontsize=12)\n",
    "plt.yticks(fontsize=12)\n",
    "plt.xlim(0, 8)\n",
    "plt.xlabel('Happiness Score',size = 12)\n",
    "\n",
    "plt.subplots_adjust(hspace=0.55,wspace=0.55)\n",
    "plt.show()"
   ]
  },
  {
   "cell_type": "markdown",
   "id": "9e4963f2",
   "metadata": {},
   "source": [
    "In the plots above we see that most of the countries maintained a spot in the top 10 throughout the 6 years with a score between 7 and 8. Unsurprisingly, the nordic countries dominate this ranking which correlates with their reputation of having good healthcare, education system and social system.\n",
    "\n",
    "### Least happy countries over the years :"
   ]
  },
  {
   "cell_type": "code",
   "execution_count": 78,
   "id": "48091d82",
   "metadata": {},
   "outputs": [
    {
     "data": {
      "image/png": "[encoded data removed]",
      "text/plain": [
       "<Figure size 1152x648 with 6 Axes>"
      ]
     },
     "metadata": {
      "needs_background": "light"
     },
     "output_type": "display_data"
    }
   ],
   "source": [
    "gps_15 = data.loc[data.Year == 2015, ['Happiness Score', 'Country']].sort_values(by = 'Happiness Score', ascending = False)[-10:]\n",
    "gps_16 = data.loc[data.Year == 2016, ['Happiness Score', 'Country']].sort_values(by = 'Happiness Score', ascending = False)[-10:]\n",
    "gps_17 = data.loc[data.Year == 2017, ['Happiness Score', 'Country']].sort_values(by = 'Happiness Score', ascending = False)[-10:]\n",
    "gps_18 = data.loc[data.Year == 2018, ['Happiness Score', 'Country']].sort_values(by = 'Happiness Score', ascending = False)[-10:]\n",
    "gps_19 = data.loc[data.Year == 2019, ['Happiness Score', 'Country']].sort_values(by = 'Happiness Score', ascending = False)[-10:]\n",
    "gps_21 = data.loc[data.Year == 2021, ['Happiness Score', 'Country']].sort_values(by = 'Happiness Score', ascending = False)[-10:]\n",
    "\n",
    "plt.figure(figsize=(16,9))\n",
    "plt.subplot(231)\n",
    "sns.barplot(x = 'Happiness Score', y = 'Country', data = gps_15)\n",
    "plt.title('Least Happy Countries in 2015', fontsize=15)\n",
    "plt.xticks(fontsize=12)\n",
    "plt.yticks(fontsize=12)\n",
    "plt.xlim(0, 8)\n",
    "plt.xlabel('Happiness Score',size = 12)\n",
    "\n",
    "\n",
    "plt.subplot(232)\n",
    "sns.barplot(x = 'Happiness Score', y = 'Country', data = gps_16)\n",
    "plt.title('Least Happy Countries in 2016', fontsize=15)\n",
    "plt.xticks(fontsize=12)\n",
    "plt.yticks(fontsize=12)\n",
    "plt.xlim(0, 8)\n",
    "plt.xlabel('Happiness Score',size = 12)\n",
    "\n",
    "\n",
    "plt.subplot(233)\n",
    "sns.barplot(x = 'Happiness Score', y = 'Country', data = gps_17)\n",
    "plt.title('Least Happy Countries in 2017', fontsize=15)\n",
    "plt.xticks(fontsize=12)\n",
    "plt.yticks(fontsize=12)\n",
    "plt.xlim(0, 8)\n",
    "plt.xlabel('Happiness Score',size = 12)\n",
    "\n",
    "\n",
    "plt.subplot(234)\n",
    "sns.barplot(x = 'Happiness Score', y = 'Country', data = gps_18)\n",
    "plt.title('Least Happy Countries in 2018', fontsize=15)\n",
    "plt.xticks(fontsize=12)\n",
    "plt.yticks(fontsize=12)\n",
    "plt.xlim(0, 8)\n",
    "plt.xlabel('Happiness Score',size = 12)\n",
    "\n",
    "plt.subplot(235)\n",
    "sns.barplot(x = 'Happiness Score', y = 'Country', data = gps_19)\n",
    "plt.title('Least Happy Countries in 2019', fontsize=15)\n",
    "plt.xticks(fontsize=12)\n",
    "plt.yticks(fontsize=12)\n",
    "plt.xlim(0, 8)\n",
    "plt.xlabel('Happiness Score',size = 12)\n",
    "\n",
    "\n",
    "plt.subplot(236)\n",
    "sns.barplot(x = 'Happiness Score', y = 'Country', data = gps_21)\n",
    "plt.title('Least Happy Countries in 2021', fontsize=15)\n",
    "plt.xticks(fontsize=12)\n",
    "plt.yticks(fontsize=12)\n",
    "plt.xlim(0, 8)\n",
    "plt.xlabel('Happiness Score',size = 12)\n",
    "\n",
    "plt.subplots_adjust(hspace=0.55,wspace=0.55)\n",
    "plt.show()\n"
   ]
  },
  {
   "cell_type": "markdown",
   "id": "70d6e151",
   "metadata": {},
   "source": [
    "On the other hand, the last 10 countries maintained a score under 4 all throughout the 6 years. Unlike the top 10 there seemes to be variation in the countries on this list, most likely due to various world events or catastrophes. These countries have a fragile economy as well so they're affected by the flactuation of the 1st world's countries significantly. Of course another reason for these countries low scores is the fact most were or still are in a state of war, like for example syria."
   ]
  },
  {
   "cell_type": "markdown",
   "id": "71a81e6f",
   "metadata": {},
   "source": [
    "### Relationship between the attributes and the happiness score :\n",
    "\n",
    "#### Scatter plot :\n",
    "We used a scatter plot to identify the relationship of the data with each variable (i.e, correlation, or trend patterns.)"
   ]
  },
  {
   "cell_type": "code",
   "execution_count": 79,
   "id": "f523ccd9",
   "metadata": {},
   "outputs": [
    {
     "data": {
      "text/plain": [
       "Text(0, 0.5, 'Score')"
      ]
     },
     "execution_count": 79,
     "metadata": {},
     "output_type": "execute_result"
    },
    {
     "data": {
      "image/png": "[encoded data removed]",
      "text/plain": [
       "<Figure size 864x432 with 1 Axes>"
      ]
     },
     "metadata": {
      "needs_background": "light"
     },
     "output_type": "display_data"
    },
    {
     "data": {
      "image/png": "[encoded data removed]",
      "text/plain": [
       "<Figure size 864x432 with 1 Axes>"
      ]
     },
     "metadata": {
      "needs_background": "light"
     },
     "output_type": "display_data"
    },
    {
     "data": {
      "image/png": "[encoded data removed]",
      "text/plain": [
       "<Figure size 864x432 with 1 Axes>"
      ]
     },
     "metadata": {
      "needs_background": "light"
     },
     "output_type": "display_data"
    },
    {
     "data": {
      "image/png": "[encoded data removed]",
      "text/plain": [
       "<Figure size 864x432 with 1 Axes>"
      ]
     },
     "metadata": {
      "needs_background": "light"
     },
     "output_type": "display_data"
    },
    {
     "data": {
      "image/png": "[encoded data removed]",
      "text/plain": [
       "<Figure size 864x432 with 1 Axes>"
      ]
     },
     "metadata": {
      "needs_background": "light"
     },
     "output_type": "display_data"
    },
    {
     "data": {
      "image/png": "[encoded data removed]",
      "text/plain": [
       "<Figure size 864x432 with 1 Axes>"
      ]
     },
     "metadata": {
      "needs_background": "light"
     },
     "output_type": "display_data"
    }
   ],
   "source": [
    "fig, ax = plt.subplots(figsize = (12,6))\n",
    "x = data[\"GDP per Capita\"]\n",
    "y = data[\"Happiness Score\"]\n",
    "plt.scatter(x,y)\n",
    "plt.title('GDP vs Happiness Score')\n",
    "plt.xlabel('GDP per capita ')\n",
    "plt.ylabel('Score')\n",
    "\n",
    "fig, ax = plt.subplots(figsize = (12,6))\n",
    "x = data[\"Social support\"]\n",
    "y = data[\"Happiness Score\"]\n",
    "plt.scatter(x,y)\n",
    "plt.title('Social support vs Happiness Score')\n",
    "plt.xlabel('Social support ')\n",
    "plt.ylabel('Score')\n",
    "\n",
    "fig, ax = plt.subplots(figsize = (12,6))\n",
    "x = data[\"Life Expectancy\"]\n",
    "y = data[\"Happiness Score\"]\n",
    "plt.scatter(x,y)\n",
    "plt.title('Life Expectancy vs Happiness Score')\n",
    "plt.xlabel('Life Expectancy  ')\n",
    "plt.ylabel('Score')\n",
    "\n",
    "fig, ax = plt.subplots(figsize = (12,6))\n",
    "x = data[\"Freedom to make life choices\"]\n",
    "y = data[\"Happiness Score\"]\n",
    "plt.scatter(x,y)\n",
    "plt.title('Freedom to make life choices vs Happiness Score')\n",
    "plt.xlabel('Freedom to make life choices ')\n",
    "plt.ylabel('Score')\n",
    "\n",
    "fig, ax = plt.subplots(figsize = (12,6))\n",
    "x = data[\"Perceptions of corruption\"]\n",
    "y = data[\"Happiness Score\"]\n",
    "plt.scatter(x,y)\n",
    "plt.title('Perceptions of corruption vs Happiness Score')\n",
    "plt.xlabel('Perceptions of corruption ')\n",
    "plt.ylabel('Score')\n",
    "\n",
    "fig, ax = plt.subplots(figsize = (12,6))\n",
    "x = data[\"Generosity\"]\n",
    "y = data[\"Happiness Score\"]\n",
    "plt.scatter(x,y)\n",
    "plt.title('Generosity  vs Happiness Score')\n",
    "plt.xlabel('Generosity  ')\n",
    "plt.ylabel('Score')"
   ]
  },
  {
   "cell_type": "markdown",
   "id": "83e7e2ff",
   "metadata": {},
   "source": [
    "From these scatter plots we make the following observations :\n",
    "- The higher the GDP the higher the score.\n",
    "- The higher life expectancy is the higher the score.\n",
    "- There is no linear relationship seen between perception of corruption & happiness score.\n",
    "- The higher freedom to make life choices is the higher the score\n",
    "- There doesn't seem to be a linear relationship between generosity & happiness score so it might not be a signoficant feature of a happy society. "
   ]
  },
  {
   "cell_type": "markdown",
   "id": "ca90e9a6",
   "metadata": {},
   "source": [
    "#### Correlation :"
   ]
  },
  {
   "cell_type": "code",
   "execution_count": 80,
   "id": "9045b5b3",
   "metadata": {},
   "outputs": [
    {
     "name": "stderr",
     "output_type": "stream",
     "text": [
      "<ipython-input-80-d8e7b4d5b6ce>:2: FutureWarning: The default value of numeric_only in DataFrame.corr is deprecated. In a future version, it will default to False. Select only valid columns or specify the value of numeric_only to silence this warning.\n",
      "  sns.heatmap(data.corr(),cmap='coolwarm',annot=True)\n"
     ]
    },
    {
     "data": {
      "text/plain": [
       "<AxesSubplot:>"
      ]
     },
     "execution_count": 80,
     "metadata": {},
     "output_type": "execute_result"
    },
    {
     "data": {
      "image/png": "[encoded data removed]",
      "text/plain": [
       "<Figure size 432x360 with 2 Axes>"
      ]
     },
     "metadata": {
      "needs_background": "light"
     },
     "output_type": "display_data"
    }
   ],
   "source": [
    "plt.figure(figsize=(6,5))\n",
    "sns.heatmap(data.corr(),cmap='coolwarm',annot=True)"
   ]
  },
  {
   "cell_type": "markdown",
   "id": "f6c17ac3",
   "metadata": {},
   "source": [
    "- A better lifestyle and more spending power for leisure increase the happiness score.\n",
    "- The higher life expectancy is the higher the score and that reflects how a good healthcare system assures a satisfied and healthy society.\n",
    "- There is no linear relationship seen between perception of corruption & happiness score. The data points are a cluster on the left of the graph.Moreover, countries with less perception of corruption have a happiness score ranging from 2 to 8. The higher happiness scores must therefore be attributed to other factors other than how nations perceives their government to be corrupt or not. The correlation coefficient between them is 0.4. In essence the happiness score is less relied upon whether the nation perceives their government is corrupt or not.\n",
    "- A society with a lot of opportunities in different fields as well possibly free education system and supportive entourage leads to a happier community.\n",
    "- The scatter graph for the generosity vs happiness score is generally evenly distributed. Therefore it is enough to say that there is no relationship between the how generous citizen are with each other with the happiness score. This is supported by the correlation matrix which indicates that the correlation between generosity and happiness score is 0.11 which is insignificant. It might be more of a cultural thing.\n",
    "\n",
    "# Lab 3 : Feature Selection <a class=\"anchor\" id=\"chapter3\"></a>"
   ]
  },
  {
   "cell_type": "code",
   "execution_count": 81,
   "id": "94246ecf",
   "metadata": {},
   "outputs": [],
   "source": [
    "df = pd.read_csv(\"data.csv\")"
   ]
  },
  {
   "cell_type": "code",
   "execution_count": 82,
   "id": "7f2c9984",
   "metadata": {},
   "outputs": [
    {
     "data": {
      "text/html": [
       "<div>\n",
       "<style scoped>\n",
       "    .dataframe tbody tr th:only-of-type {\n",
       "        vertical-align: middle;\n",
       "    }\n",
       "\n",
       "    .dataframe tbody tr th {\n",
       "        vertical-align: top;\n",
       "    }\n",
       "\n",
       "    .dataframe thead th {\n",
       "        text-align: right;\n",
       "    }\n",
       "</style>\n",
       "<table border=\"1\" class=\"dataframe\">\n",
       "  <thead>\n",
       "    <tr style=\"text-align: right;\">\n",
       "      <th></th>\n",
       "      <th>Unnamed: 0</th>\n",
       "      <th>Year</th>\n",
       "      <th>Country</th>\n",
       "      <th>Happiness Rank</th>\n",
       "      <th>Happiness Score</th>\n",
       "      <th>GDP per Capita</th>\n",
       "      <th>Social support</th>\n",
       "      <th>Life Expectancy</th>\n",
       "      <th>Freedom to make life choices</th>\n",
       "      <th>Perceptions of corruption</th>\n",
       "      <th>Generosity</th>\n",
       "    </tr>\n",
       "  </thead>\n",
       "  <tbody>\n",
       "    <tr>\n",
       "      <th>0</th>\n",
       "      <td>0</td>\n",
       "      <td>2015</td>\n",
       "      <td>Switzerland</td>\n",
       "      <td>1</td>\n",
       "      <td>7.587</td>\n",
       "      <td>1.39651</td>\n",
       "      <td>1.34951</td>\n",
       "      <td>0.94143</td>\n",
       "      <td>0.66557</td>\n",
       "      <td>0.41978</td>\n",
       "      <td>0.29678</td>\n",
       "    </tr>\n",
       "    <tr>\n",
       "      <th>1</th>\n",
       "      <td>1</td>\n",
       "      <td>2015</td>\n",
       "      <td>Iceland</td>\n",
       "      <td>2</td>\n",
       "      <td>7.561</td>\n",
       "      <td>1.30232</td>\n",
       "      <td>1.40223</td>\n",
       "      <td>0.94784</td>\n",
       "      <td>0.62877</td>\n",
       "      <td>0.14145</td>\n",
       "      <td>0.43630</td>\n",
       "    </tr>\n",
       "    <tr>\n",
       "      <th>2</th>\n",
       "      <td>2</td>\n",
       "      <td>2015</td>\n",
       "      <td>Denmark</td>\n",
       "      <td>3</td>\n",
       "      <td>7.527</td>\n",
       "      <td>1.32548</td>\n",
       "      <td>1.36058</td>\n",
       "      <td>0.87464</td>\n",
       "      <td>0.64938</td>\n",
       "      <td>0.48357</td>\n",
       "      <td>0.34139</td>\n",
       "    </tr>\n",
       "    <tr>\n",
       "      <th>3</th>\n",
       "      <td>3</td>\n",
       "      <td>2015</td>\n",
       "      <td>Norway</td>\n",
       "      <td>4</td>\n",
       "      <td>7.522</td>\n",
       "      <td>1.45900</td>\n",
       "      <td>1.33095</td>\n",
       "      <td>0.88521</td>\n",
       "      <td>0.66973</td>\n",
       "      <td>0.36503</td>\n",
       "      <td>0.34699</td>\n",
       "    </tr>\n",
       "    <tr>\n",
       "      <th>4</th>\n",
       "      <td>4</td>\n",
       "      <td>2015</td>\n",
       "      <td>Canada</td>\n",
       "      <td>5</td>\n",
       "      <td>7.427</td>\n",
       "      <td>1.32629</td>\n",
       "      <td>1.32261</td>\n",
       "      <td>0.90563</td>\n",
       "      <td>0.63297</td>\n",
       "      <td>0.32957</td>\n",
       "      <td>0.45811</td>\n",
       "    </tr>\n",
       "  </tbody>\n",
       "</table>\n",
       "</div>"
      ],
      "text/plain": [
       "   Unnamed: 0  Year      Country  Happiness Rank  Happiness Score  \\\n",
       "0           0  2015  Switzerland               1            7.587   \n",
       "1           1  2015      Iceland               2            7.561   \n",
       "2           2  2015      Denmark               3            7.527   \n",
       "3           3  2015       Norway               4            7.522   \n",
       "4           4  2015       Canada               5            7.427   \n",
       "\n",
       "   GDP per Capita  Social support  Life Expectancy  \\\n",
       "0         1.39651         1.34951          0.94143   \n",
       "1         1.30232         1.40223          0.94784   \n",
       "2         1.32548         1.36058          0.87464   \n",
       "3         1.45900         1.33095          0.88521   \n",
       "4         1.32629         1.32261          0.90563   \n",
       "\n",
       "   Freedom to make life choices  Perceptions of corruption  Generosity  \n",
       "0                       0.66557                    0.41978     0.29678  \n",
       "1                       0.62877                    0.14145     0.43630  \n",
       "2                       0.64938                    0.48357     0.34139  \n",
       "3                       0.66973                    0.36503     0.34699  \n",
       "4                       0.63297                    0.32957     0.45811  "
      ]
     },
     "execution_count": 82,
     "metadata": {},
     "output_type": "execute_result"
    }
   ],
   "source": [
    "df.head()"
   ]
  },
  {
   "cell_type": "code",
   "execution_count": 83,
   "id": "f43ca1bd",
   "metadata": {},
   "outputs": [],
   "source": [
    "df_copy = df.drop(df.columns[0], axis=1)"
   ]
  },
  {
   "cell_type": "code",
   "execution_count": 84,
   "id": "102a4b44",
   "metadata": {},
   "outputs": [
    {
     "data": {
      "text/html": [
       "<div>\n",
       "<style scoped>\n",
       "    .dataframe tbody tr th:only-of-type {\n",
       "        vertical-align: middle;\n",
       "    }\n",
       "\n",
       "    .dataframe tbody tr th {\n",
       "        vertical-align: top;\n",
       "    }\n",
       "\n",
       "    .dataframe thead th {\n",
       "        text-align: right;\n",
       "    }\n",
       "</style>\n",
       "<table border=\"1\" class=\"dataframe\">\n",
       "  <thead>\n",
       "    <tr style=\"text-align: right;\">\n",
       "      <th></th>\n",
       "      <th>Year</th>\n",
       "      <th>Country</th>\n",
       "      <th>Happiness Rank</th>\n",
       "      <th>Happiness Score</th>\n",
       "      <th>GDP per Capita</th>\n",
       "      <th>Social support</th>\n",
       "      <th>Life Expectancy</th>\n",
       "      <th>Freedom to make life choices</th>\n",
       "      <th>Perceptions of corruption</th>\n",
       "      <th>Generosity</th>\n",
       "    </tr>\n",
       "  </thead>\n",
       "  <tbody>\n",
       "    <tr>\n",
       "      <th>0</th>\n",
       "      <td>2015</td>\n",
       "      <td>Switzerland</td>\n",
       "      <td>1</td>\n",
       "      <td>7.587</td>\n",
       "      <td>1.39651</td>\n",
       "      <td>1.34951</td>\n",
       "      <td>0.94143</td>\n",
       "      <td>0.66557</td>\n",
       "      <td>0.41978</td>\n",
       "      <td>0.29678</td>\n",
       "    </tr>\n",
       "    <tr>\n",
       "      <th>1</th>\n",
       "      <td>2015</td>\n",
       "      <td>Iceland</td>\n",
       "      <td>2</td>\n",
       "      <td>7.561</td>\n",
       "      <td>1.30232</td>\n",
       "      <td>1.40223</td>\n",
       "      <td>0.94784</td>\n",
       "      <td>0.62877</td>\n",
       "      <td>0.14145</td>\n",
       "      <td>0.43630</td>\n",
       "    </tr>\n",
       "    <tr>\n",
       "      <th>2</th>\n",
       "      <td>2015</td>\n",
       "      <td>Denmark</td>\n",
       "      <td>3</td>\n",
       "      <td>7.527</td>\n",
       "      <td>1.32548</td>\n",
       "      <td>1.36058</td>\n",
       "      <td>0.87464</td>\n",
       "      <td>0.64938</td>\n",
       "      <td>0.48357</td>\n",
       "      <td>0.34139</td>\n",
       "    </tr>\n",
       "    <tr>\n",
       "      <th>3</th>\n",
       "      <td>2015</td>\n",
       "      <td>Norway</td>\n",
       "      <td>4</td>\n",
       "      <td>7.522</td>\n",
       "      <td>1.45900</td>\n",
       "      <td>1.33095</td>\n",
       "      <td>0.88521</td>\n",
       "      <td>0.66973</td>\n",
       "      <td>0.36503</td>\n",
       "      <td>0.34699</td>\n",
       "    </tr>\n",
       "    <tr>\n",
       "      <th>4</th>\n",
       "      <td>2015</td>\n",
       "      <td>Canada</td>\n",
       "      <td>5</td>\n",
       "      <td>7.427</td>\n",
       "      <td>1.32629</td>\n",
       "      <td>1.32261</td>\n",
       "      <td>0.90563</td>\n",
       "      <td>0.63297</td>\n",
       "      <td>0.32957</td>\n",
       "      <td>0.45811</td>\n",
       "    </tr>\n",
       "  </tbody>\n",
       "</table>\n",
       "</div>"
      ],
      "text/plain": [
       "   Year      Country  Happiness Rank  Happiness Score  GDP per Capita  \\\n",
       "0  2015  Switzerland               1            7.587         1.39651   \n",
       "1  2015      Iceland               2            7.561         1.30232   \n",
       "2  2015      Denmark               3            7.527         1.32548   \n",
       "3  2015       Norway               4            7.522         1.45900   \n",
       "4  2015       Canada               5            7.427         1.32629   \n",
       "\n",
       "   Social support  Life Expectancy  Freedom to make life choices  \\\n",
       "0         1.34951          0.94143                       0.66557   \n",
       "1         1.40223          0.94784                       0.62877   \n",
       "2         1.36058          0.87464                       0.64938   \n",
       "3         1.33095          0.88521                       0.66973   \n",
       "4         1.32261          0.90563                       0.63297   \n",
       "\n",
       "   Perceptions of corruption  Generosity  \n",
       "0                    0.41978     0.29678  \n",
       "1                    0.14145     0.43630  \n",
       "2                    0.48357     0.34139  \n",
       "3                    0.36503     0.34699  \n",
       "4                    0.32957     0.45811  "
      ]
     },
     "execution_count": 84,
     "metadata": {},
     "output_type": "execute_result"
    }
   ],
   "source": [
    "df_copy.head()"
   ]
  },
  {
   "cell_type": "markdown",
   "id": "b5c2290e",
   "metadata": {},
   "source": [
    "Since we chose a data set with a numerical output (i.e. a regression problem) our data set lacks an categorical attribute class to be used in classification, so we'll start by creating one :\n",
    "\n",
    "For now the simpest way to categorize the countries would be through the happiness rank as follows :\n",
    "- 1st tier : 1-78\n",
    "- 2nd tier : 79 - 158 "
   ]
  },
  {
   "cell_type": "code",
   "execution_count": 86,
   "id": "2bd44fee",
   "metadata": {},
   "outputs": [],
   "source": [
    "df2 = df_copy"
   ]
  },
  {
   "cell_type": "code",
   "execution_count": 88,
   "id": "4758d705",
   "metadata": {},
   "outputs": [
    {
     "data": {
      "text/html": [
       "<div>\n",
       "<style scoped>\n",
       "    .dataframe tbody tr th:only-of-type {\n",
       "        vertical-align: middle;\n",
       "    }\n",
       "\n",
       "    .dataframe tbody tr th {\n",
       "        vertical-align: top;\n",
       "    }\n",
       "\n",
       "    .dataframe thead th {\n",
       "        text-align: right;\n",
       "    }\n",
       "</style>\n",
       "<table border=\"1\" class=\"dataframe\">\n",
       "  <thead>\n",
       "    <tr style=\"text-align: right;\">\n",
       "      <th></th>\n",
       "      <th>Year</th>\n",
       "      <th>Country</th>\n",
       "      <th>Happiness Rank</th>\n",
       "      <th>Happiness Score</th>\n",
       "      <th>GDP per Capita</th>\n",
       "      <th>Social support</th>\n",
       "      <th>Life Expectancy</th>\n",
       "      <th>Freedom to make life choices</th>\n",
       "      <th>Perceptions of corruption</th>\n",
       "      <th>Generosity</th>\n",
       "    </tr>\n",
       "  </thead>\n",
       "  <tbody>\n",
       "    <tr>\n",
       "      <th>0</th>\n",
       "      <td>2015</td>\n",
       "      <td>Switzerland</td>\n",
       "      <td>1</td>\n",
       "      <td>7.587</td>\n",
       "      <td>1.39651</td>\n",
       "      <td>1.34951</td>\n",
       "      <td>0.94143</td>\n",
       "      <td>0.66557</td>\n",
       "      <td>0.41978</td>\n",
       "      <td>0.29678</td>\n",
       "    </tr>\n",
       "    <tr>\n",
       "      <th>1</th>\n",
       "      <td>2015</td>\n",
       "      <td>Iceland</td>\n",
       "      <td>2</td>\n",
       "      <td>7.561</td>\n",
       "      <td>1.30232</td>\n",
       "      <td>1.40223</td>\n",
       "      <td>0.94784</td>\n",
       "      <td>0.62877</td>\n",
       "      <td>0.14145</td>\n",
       "      <td>0.43630</td>\n",
       "    </tr>\n",
       "    <tr>\n",
       "      <th>2</th>\n",
       "      <td>2015</td>\n",
       "      <td>Denmark</td>\n",
       "      <td>3</td>\n",
       "      <td>7.527</td>\n",
       "      <td>1.32548</td>\n",
       "      <td>1.36058</td>\n",
       "      <td>0.87464</td>\n",
       "      <td>0.64938</td>\n",
       "      <td>0.48357</td>\n",
       "      <td>0.34139</td>\n",
       "    </tr>\n",
       "    <tr>\n",
       "      <th>3</th>\n",
       "      <td>2015</td>\n",
       "      <td>Norway</td>\n",
       "      <td>4</td>\n",
       "      <td>7.522</td>\n",
       "      <td>1.45900</td>\n",
       "      <td>1.33095</td>\n",
       "      <td>0.88521</td>\n",
       "      <td>0.66973</td>\n",
       "      <td>0.36503</td>\n",
       "      <td>0.34699</td>\n",
       "    </tr>\n",
       "    <tr>\n",
       "      <th>4</th>\n",
       "      <td>2015</td>\n",
       "      <td>Canada</td>\n",
       "      <td>5</td>\n",
       "      <td>7.427</td>\n",
       "      <td>1.32629</td>\n",
       "      <td>1.32261</td>\n",
       "      <td>0.90563</td>\n",
       "      <td>0.63297</td>\n",
       "      <td>0.32957</td>\n",
       "      <td>0.45811</td>\n",
       "    </tr>\n",
       "  </tbody>\n",
       "</table>\n",
       "</div>"
      ],
      "text/plain": [
       "   Year      Country  Happiness Rank  Happiness Score  GDP per Capita  \\\n",
       "0  2015  Switzerland               1            7.587         1.39651   \n",
       "1  2015      Iceland               2            7.561         1.30232   \n",
       "2  2015      Denmark               3            7.527         1.32548   \n",
       "3  2015       Norway               4            7.522         1.45900   \n",
       "4  2015       Canada               5            7.427         1.32629   \n",
       "\n",
       "   Social support  Life Expectancy  Freedom to make life choices  \\\n",
       "0         1.34951          0.94143                       0.66557   \n",
       "1         1.40223          0.94784                       0.62877   \n",
       "2         1.36058          0.87464                       0.64938   \n",
       "3         1.33095          0.88521                       0.66973   \n",
       "4         1.32261          0.90563                       0.63297   \n",
       "\n",
       "   Perceptions of corruption  Generosity  \n",
       "0                    0.41978     0.29678  \n",
       "1                    0.14145     0.43630  \n",
       "2                    0.48357     0.34139  \n",
       "3                    0.36503     0.34699  \n",
       "4                    0.32957     0.45811  "
      ]
     },
     "execution_count": 88,
     "metadata": {},
     "output_type": "execute_result"
    }
   ],
   "source": [
    "df2.head()"
   ]
  },
  {
   "cell_type": "code",
   "execution_count": 89,
   "id": "6d73bb6d",
   "metadata": {},
   "outputs": [],
   "source": [
    "df2[\"tier\"] = pd.cut(\n",
    "    x=df[\"Happiness Rank\"],\n",
    "    bins=[0, 78, np.inf],\n",
    "    labels=[\"First\", \"Second\"])"
   ]
  },
  {
   "cell_type": "code",
   "execution_count": 90,
   "id": "4cf980bb",
   "metadata": {},
   "outputs": [
    {
     "data": {
      "text/html": [
       "<div>\n",
       "<style scoped>\n",
       "    .dataframe tbody tr th:only-of-type {\n",
       "        vertical-align: middle;\n",
       "    }\n",
       "\n",
       "    .dataframe tbody tr th {\n",
       "        vertical-align: top;\n",
       "    }\n",
       "\n",
       "    .dataframe thead th {\n",
       "        text-align: right;\n",
       "    }\n",
       "</style>\n",
       "<table border=\"1\" class=\"dataframe\">\n",
       "  <thead>\n",
       "    <tr style=\"text-align: right;\">\n",
       "      <th></th>\n",
       "      <th>Year</th>\n",
       "      <th>Country</th>\n",
       "      <th>Happiness Rank</th>\n",
       "      <th>Happiness Score</th>\n",
       "      <th>GDP per Capita</th>\n",
       "      <th>Social support</th>\n",
       "      <th>Life Expectancy</th>\n",
       "      <th>Freedom to make life choices</th>\n",
       "      <th>Perceptions of corruption</th>\n",
       "      <th>Generosity</th>\n",
       "      <th>tier</th>\n",
       "    </tr>\n",
       "  </thead>\n",
       "  <tbody>\n",
       "    <tr>\n",
       "      <th>0</th>\n",
       "      <td>2015</td>\n",
       "      <td>Switzerland</td>\n",
       "      <td>1</td>\n",
       "      <td>7.587</td>\n",
       "      <td>1.39651</td>\n",
       "      <td>1.34951</td>\n",
       "      <td>0.94143</td>\n",
       "      <td>0.66557</td>\n",
       "      <td>0.41978</td>\n",
       "      <td>0.29678</td>\n",
       "      <td>First</td>\n",
       "    </tr>\n",
       "    <tr>\n",
       "      <th>1</th>\n",
       "      <td>2015</td>\n",
       "      <td>Iceland</td>\n",
       "      <td>2</td>\n",
       "      <td>7.561</td>\n",
       "      <td>1.30232</td>\n",
       "      <td>1.40223</td>\n",
       "      <td>0.94784</td>\n",
       "      <td>0.62877</td>\n",
       "      <td>0.14145</td>\n",
       "      <td>0.43630</td>\n",
       "      <td>First</td>\n",
       "    </tr>\n",
       "    <tr>\n",
       "      <th>2</th>\n",
       "      <td>2015</td>\n",
       "      <td>Denmark</td>\n",
       "      <td>3</td>\n",
       "      <td>7.527</td>\n",
       "      <td>1.32548</td>\n",
       "      <td>1.36058</td>\n",
       "      <td>0.87464</td>\n",
       "      <td>0.64938</td>\n",
       "      <td>0.48357</td>\n",
       "      <td>0.34139</td>\n",
       "      <td>First</td>\n",
       "    </tr>\n",
       "    <tr>\n",
       "      <th>3</th>\n",
       "      <td>2015</td>\n",
       "      <td>Norway</td>\n",
       "      <td>4</td>\n",
       "      <td>7.522</td>\n",
       "      <td>1.45900</td>\n",
       "      <td>1.33095</td>\n",
       "      <td>0.88521</td>\n",
       "      <td>0.66973</td>\n",
       "      <td>0.36503</td>\n",
       "      <td>0.34699</td>\n",
       "      <td>First</td>\n",
       "    </tr>\n",
       "    <tr>\n",
       "      <th>4</th>\n",
       "      <td>2015</td>\n",
       "      <td>Canada</td>\n",
       "      <td>5</td>\n",
       "      <td>7.427</td>\n",
       "      <td>1.32629</td>\n",
       "      <td>1.32261</td>\n",
       "      <td>0.90563</td>\n",
       "      <td>0.63297</td>\n",
       "      <td>0.32957</td>\n",
       "      <td>0.45811</td>\n",
       "      <td>First</td>\n",
       "    </tr>\n",
       "  </tbody>\n",
       "</table>\n",
       "</div>"
      ],
      "text/plain": [
       "   Year      Country  Happiness Rank  Happiness Score  GDP per Capita  \\\n",
       "0  2015  Switzerland               1            7.587         1.39651   \n",
       "1  2015      Iceland               2            7.561         1.30232   \n",
       "2  2015      Denmark               3            7.527         1.32548   \n",
       "3  2015       Norway               4            7.522         1.45900   \n",
       "4  2015       Canada               5            7.427         1.32629   \n",
       "\n",
       "   Social support  Life Expectancy  Freedom to make life choices  \\\n",
       "0         1.34951          0.94143                       0.66557   \n",
       "1         1.40223          0.94784                       0.62877   \n",
       "2         1.36058          0.87464                       0.64938   \n",
       "3         1.33095          0.88521                       0.66973   \n",
       "4         1.32261          0.90563                       0.63297   \n",
       "\n",
       "   Perceptions of corruption  Generosity   tier  \n",
       "0                    0.41978     0.29678  First  \n",
       "1                    0.14145     0.43630  First  \n",
       "2                    0.48357     0.34139  First  \n",
       "3                    0.36503     0.34699  First  \n",
       "4                    0.32957     0.45811  First  "
      ]
     },
     "execution_count": 90,
     "metadata": {},
     "output_type": "execute_result"
    }
   ],
   "source": [
    "df2.head()"
   ]
  },
  {
   "cell_type": "code",
   "execution_count": 91,
   "id": "6d40b8f5",
   "metadata": {},
   "outputs": [],
   "source": [
    "df2.to_csv('final_2_cat.csv')"
   ]
  },
  {
   "cell_type": "markdown",
   "id": "ca308c7d",
   "metadata": {},
   "source": [
    "For this section, we'll be using several methods to nalyse most correlating features/attributes of the data set, generally and per class.\n",
    "\n",
    "## Pearson Correlation Coefficient :\n",
    "### General correlation between features :"
   ]
  },
  {
   "cell_type": "code",
   "execution_count": 93,
   "id": "fdbfe308",
   "metadata": {},
   "outputs": [],
   "source": [
    "df2['tier'] = df2['tier'].replace(['First','Second'],['1','2'])\n",
    "df2['tier'] = df2['tier'].astype(float)"
   ]
  },
  {
   "cell_type": "code",
   "execution_count": 94,
   "id": "350ec7e7",
   "metadata": {},
   "outputs": [
    {
     "name": "stderr",
     "output_type": "stream",
     "text": [
      "<ipython-input-94-e0c6714eb3b3>:1: FutureWarning: The default value of numeric_only in DataFrame.corr is deprecated. In a future version, it will default to False. Select only valid columns or specify the value of numeric_only to silence this warning.\n",
      "  df2.corr()\n"
     ]
    },
    {
     "data": {
      "text/html": [
       "<div>\n",
       "<style scoped>\n",
       "    .dataframe tbody tr th:only-of-type {\n",
       "        vertical-align: middle;\n",
       "    }\n",
       "\n",
       "    .dataframe tbody tr th {\n",
       "        vertical-align: top;\n",
       "    }\n",
       "\n",
       "    .dataframe thead th {\n",
       "        text-align: right;\n",
       "    }\n",
       "</style>\n",
       "<table border=\"1\" class=\"dataframe\">\n",
       "  <thead>\n",
       "    <tr style=\"text-align: right;\">\n",
       "      <th></th>\n",
       "      <th>Year</th>\n",
       "      <th>Happiness Rank</th>\n",
       "      <th>Happiness Score</th>\n",
       "      <th>GDP per Capita</th>\n",
       "      <th>Social support</th>\n",
       "      <th>Life Expectancy</th>\n",
       "      <th>Freedom to make life choices</th>\n",
       "      <th>Perceptions of corruption</th>\n",
       "      <th>Generosity</th>\n",
       "      <th>tier</th>\n",
       "    </tr>\n",
       "  </thead>\n",
       "  <tbody>\n",
       "    <tr>\n",
       "      <th>Year</th>\n",
       "      <td>1.000000</td>\n",
       "      <td>-0.027489</td>\n",
       "      <td>0.042071</td>\n",
       "      <td>0.053239</td>\n",
       "      <td>-0.014533</td>\n",
       "      <td>-0.023341</td>\n",
       "      <td>0.162735</td>\n",
       "      <td>-0.047871</td>\n",
       "      <td>-0.212539</td>\n",
       "      <td>-0.016342</td>\n",
       "    </tr>\n",
       "    <tr>\n",
       "      <th>Happiness Rank</th>\n",
       "      <td>-0.027489</td>\n",
       "      <td>1.000000</td>\n",
       "      <td>-0.990732</td>\n",
       "      <td>-0.795188</td>\n",
       "      <td>-0.614313</td>\n",
       "      <td>-0.735869</td>\n",
       "      <td>-0.541468</td>\n",
       "      <td>-0.379082</td>\n",
       "      <td>-0.093002</td>\n",
       "      <td>0.865786</td>\n",
       "    </tr>\n",
       "    <tr>\n",
       "      <th>Happiness Score</th>\n",
       "      <td>0.042071</td>\n",
       "      <td>-0.990732</td>\n",
       "      <td>1.000000</td>\n",
       "      <td>0.789839</td>\n",
       "      <td>0.611541</td>\n",
       "      <td>0.730403</td>\n",
       "      <td>0.556573</td>\n",
       "      <td>0.403957</td>\n",
       "      <td>0.110412</td>\n",
       "      <td>-0.829089</td>\n",
       "    </tr>\n",
       "    <tr>\n",
       "      <th>GDP per Capita</th>\n",
       "      <td>0.053239</td>\n",
       "      <td>-0.795188</td>\n",
       "      <td>0.789839</td>\n",
       "      <td>1.000000</td>\n",
       "      <td>0.561409</td>\n",
       "      <td>0.777379</td>\n",
       "      <td>0.356818</td>\n",
       "      <td>0.316924</td>\n",
       "      <td>-0.045236</td>\n",
       "      <td>-0.687001</td>\n",
       "    </tr>\n",
       "    <tr>\n",
       "      <th>Social support</th>\n",
       "      <td>-0.014533</td>\n",
       "      <td>-0.614313</td>\n",
       "      <td>0.611541</td>\n",
       "      <td>0.561409</td>\n",
       "      <td>1.000000</td>\n",
       "      <td>0.597772</td>\n",
       "      <td>0.332123</td>\n",
       "      <td>0.117403</td>\n",
       "      <td>-0.004269</td>\n",
       "      <td>-0.537583</td>\n",
       "    </tr>\n",
       "    <tr>\n",
       "      <th>Life Expectancy</th>\n",
       "      <td>-0.023341</td>\n",
       "      <td>-0.735869</td>\n",
       "      <td>0.730403</td>\n",
       "      <td>0.777379</td>\n",
       "      <td>0.597772</td>\n",
       "      <td>1.000000</td>\n",
       "      <td>0.316124</td>\n",
       "      <td>0.259475</td>\n",
       "      <td>0.008015</td>\n",
       "      <td>-0.641380</td>\n",
       "    </tr>\n",
       "    <tr>\n",
       "      <th>Freedom to make life choices</th>\n",
       "      <td>0.162735</td>\n",
       "      <td>-0.541468</td>\n",
       "      <td>0.556573</td>\n",
       "      <td>0.356818</td>\n",
       "      <td>0.332123</td>\n",
       "      <td>0.316124</td>\n",
       "      <td>1.000000</td>\n",
       "      <td>0.443678</td>\n",
       "      <td>0.241746</td>\n",
       "      <td>-0.440338</td>\n",
       "    </tr>\n",
       "    <tr>\n",
       "      <th>Perceptions of corruption</th>\n",
       "      <td>-0.047871</td>\n",
       "      <td>-0.379082</td>\n",
       "      <td>0.403957</td>\n",
       "      <td>0.316924</td>\n",
       "      <td>0.117403</td>\n",
       "      <td>0.259475</td>\n",
       "      <td>0.443678</td>\n",
       "      <td>1.000000</td>\n",
       "      <td>0.287988</td>\n",
       "      <td>-0.274331</td>\n",
       "    </tr>\n",
       "    <tr>\n",
       "      <th>Generosity</th>\n",
       "      <td>-0.212539</td>\n",
       "      <td>-0.093002</td>\n",
       "      <td>0.110412</td>\n",
       "      <td>-0.045236</td>\n",
       "      <td>-0.004269</td>\n",
       "      <td>0.008015</td>\n",
       "      <td>0.241746</td>\n",
       "      <td>0.287988</td>\n",
       "      <td>1.000000</td>\n",
       "      <td>-0.023270</td>\n",
       "    </tr>\n",
       "    <tr>\n",
       "      <th>tier</th>\n",
       "      <td>-0.016342</td>\n",
       "      <td>0.865786</td>\n",
       "      <td>-0.829089</td>\n",
       "      <td>-0.687001</td>\n",
       "      <td>-0.537583</td>\n",
       "      <td>-0.641380</td>\n",
       "      <td>-0.440338</td>\n",
       "      <td>-0.274331</td>\n",
       "      <td>-0.023270</td>\n",
       "      <td>1.000000</td>\n",
       "    </tr>\n",
       "  </tbody>\n",
       "</table>\n",
       "</div>"
      ],
      "text/plain": [
       "                                  Year  Happiness Rank  Happiness Score  \\\n",
       "Year                          1.000000       -0.027489         0.042071   \n",
       "Happiness Rank               -0.027489        1.000000        -0.990732   \n",
       "Happiness Score               0.042071       -0.990732         1.000000   \n",
       "GDP per Capita                0.053239       -0.795188         0.789839   \n",
       "Social support               -0.014533       -0.614313         0.611541   \n",
       "Life Expectancy              -0.023341       -0.735869         0.730403   \n",
       "Freedom to make life choices  0.162735       -0.541468         0.556573   \n",
       "Perceptions of corruption    -0.047871       -0.379082         0.403957   \n",
       "Generosity                   -0.212539       -0.093002         0.110412   \n",
       "tier                         -0.016342        0.865786        -0.829089   \n",
       "\n",
       "                              GDP per Capita  Social support  Life Expectancy  \\\n",
       "Year                                0.053239       -0.014533        -0.023341   \n",
       "Happiness Rank                     -0.795188       -0.614313        -0.735869   \n",
       "Happiness Score                     0.789839        0.611541         0.730403   \n",
       "GDP per Capita                      1.000000        0.561409         0.777379   \n",
       "Social support                      0.561409        1.000000         0.597772   \n",
       "Life Expectancy                     0.777379        0.597772         1.000000   \n",
       "Freedom to make life choices        0.356818        0.332123         0.316124   \n",
       "Perceptions of corruption           0.316924        0.117403         0.259475   \n",
       "Generosity                         -0.045236       -0.004269         0.008015   \n",
       "tier                               -0.687001       -0.537583        -0.641380   \n",
       "\n",
       "                              Freedom to make life choices  \\\n",
       "Year                                              0.162735   \n",
       "Happiness Rank                                   -0.541468   \n",
       "Happiness Score                                   0.556573   \n",
       "GDP per Capita                                    0.356818   \n",
       "Social support                                    0.332123   \n",
       "Life Expectancy                                   0.316124   \n",
       "Freedom to make life choices                      1.000000   \n",
       "Perceptions of corruption                         0.443678   \n",
       "Generosity                                        0.241746   \n",
       "tier                                             -0.440338   \n",
       "\n",
       "                              Perceptions of corruption  Generosity      tier  \n",
       "Year                                          -0.047871   -0.212539 -0.016342  \n",
       "Happiness Rank                                -0.379082   -0.093002  0.865786  \n",
       "Happiness Score                                0.403957    0.110412 -0.829089  \n",
       "GDP per Capita                                 0.316924   -0.045236 -0.687001  \n",
       "Social support                                 0.117403   -0.004269 -0.537583  \n",
       "Life Expectancy                                0.259475    0.008015 -0.641380  \n",
       "Freedom to make life choices                   0.443678    0.241746 -0.440338  \n",
       "Perceptions of corruption                      1.000000    0.287988 -0.274331  \n",
       "Generosity                                     0.287988    1.000000 -0.023270  \n",
       "tier                                          -0.274331   -0.023270  1.000000  "
      ]
     },
     "execution_count": 94,
     "metadata": {},
     "output_type": "execute_result"
    }
   ],
   "source": [
    "df2.corr()"
   ]
  },
  {
   "cell_type": "markdown",
   "id": "6d9a8d05",
   "metadata": {},
   "source": [
    "### Correlation with the class attribute : "
   ]
  },
  {
   "cell_type": "code",
   "execution_count": 99,
   "id": "cbd03bab",
   "metadata": {},
   "outputs": [
    {
     "name": "stderr",
     "output_type": "stream",
     "text": [
      "<ipython-input-99-c87c169b8ca0>:1: FutureWarning: The default value of numeric_only in DataFrame.corr is deprecated. In a future version, it will default to False. Select only valid columns or specify the value of numeric_only to silence this warning.\n",
      "  df2.corr()[\"tier\"].sort_values(ascending=True).abs()\n"
     ]
    },
    {
     "data": {
      "text/plain": [
       "Happiness Score                 0.829089\n",
       "GDP per Capita                  0.687001\n",
       "Life Expectancy                 0.641380\n",
       "Social support                  0.537583\n",
       "Freedom to make life choices    0.440338\n",
       "Perceptions of corruption       0.274331\n",
       "Generosity                      0.023270\n",
       "Year                            0.016342\n",
       "Happiness Rank                  0.865786\n",
       "tier                            1.000000\n",
       "Name: tier, dtype: float64"
      ]
     },
     "execution_count": 99,
     "metadata": {},
     "output_type": "execute_result"
    }
   ],
   "source": [
    "df2.corr()[\"tier\"].sort_values(ascending=True).abs()"
   ]
  },
  {
   "cell_type": "markdown",
   "id": "18019729",
   "metadata": {},
   "source": [
    "## PCA\n",
    "\n",
    "In this method, we transform the data from high dimension space to low dimension space with minimal loss of information and also removing the redundancy in the dataset.\n",
    "\n",
    "While applying PCA, the high dimension data is mapped into a number of components which is the input hyperparameter that should be provided. The number of components has to be less than equal to the dimension of the data. These components hold the information of the actual data in a different representation such that 1st component holds the maximum information followed by 2nd component and so on.\n",
    "\n",
    "We'll drop the column \"Country\" as it hinders the Standardisation of the dataset :"
   ]
  },
  {
   "cell_type": "code",
   "execution_count": 101,
   "id": "a2f45f4e",
   "metadata": {},
   "outputs": [],
   "source": [
    "df3= df2.drop('Country',axis=1)"
   ]
  },
  {
   "cell_type": "code",
   "execution_count": 135,
   "id": "94dce70f",
   "metadata": {},
   "outputs": [],
   "source": [
    "X = df3.drop('tier',axis=1)\n",
    "y = df3['tier']\n",
    "X_train, X_test, y_train, y_test = train_test_split(X,y, test_size=0.2,random_state=0)"
   ]
  },
  {
   "cell_type": "code",
   "execution_count": 136,
   "id": "1bc42a1b",
   "metadata": {},
   "outputs": [],
   "source": [
    "scaler = StandardScaler()\n",
    "# Fit on training set only\n",
    "X2 = scaler.fit_transform(X)"
   ]
  },
  {
   "cell_type": "markdown",
   "id": "a5260afb",
   "metadata": {},
   "source": [
    "Let's check whether the normalized data has a mean of zero and a standard deviation of one /"
   ]
  },
  {
   "cell_type": "code",
   "execution_count": 137,
   "id": "8e83891e",
   "metadata": {
    "scrolled": false
   },
   "outputs": [
    {
     "data": {
      "text/plain": [
       "(7.224995952591066e-16, 1.0)"
      ]
     },
     "execution_count": 137,
     "metadata": {},
     "output_type": "execute_result"
    }
   ],
   "source": [
    "np.mean(X2),np.std(X2)"
   ]
  },
  {
   "cell_type": "markdown",
   "id": "88829d20",
   "metadata": {},
   "source": [
    "Let's convert the normalized features into a tabular format with the help of DataFrame."
   ]
  },
  {
   "cell_type": "code",
   "execution_count": 138,
   "id": "10271fef",
   "metadata": {},
   "outputs": [],
   "source": [
    "feat_cols = ['feature'+str(i) for i in range(X2.shape[1])]"
   ]
  },
  {
   "cell_type": "code",
   "execution_count": 139,
   "id": "6f5d005e",
   "metadata": {},
   "outputs": [],
   "source": [
    "normalised_df = pd.DataFrame(X2,columns=feat_cols)"
   ]
  },
  {
   "cell_type": "code",
   "execution_count": 140,
   "id": "720212df",
   "metadata": {},
   "outputs": [
    {
     "data": {
      "text/html": [
       "<div>\n",
       "<style scoped>\n",
       "    .dataframe tbody tr th:only-of-type {\n",
       "        vertical-align: middle;\n",
       "    }\n",
       "\n",
       "    .dataframe tbody tr th {\n",
       "        vertical-align: top;\n",
       "    }\n",
       "\n",
       "    .dataframe thead th {\n",
       "        text-align: right;\n",
       "    }\n",
       "</style>\n",
       "<table border=\"1\" class=\"dataframe\">\n",
       "  <thead>\n",
       "    <tr style=\"text-align: right;\">\n",
       "      <th></th>\n",
       "      <th>feature0</th>\n",
       "      <th>feature1</th>\n",
       "      <th>feature2</th>\n",
       "      <th>feature3</th>\n",
       "      <th>feature4</th>\n",
       "      <th>feature5</th>\n",
       "      <th>feature6</th>\n",
       "      <th>feature7</th>\n",
       "      <th>feature8</th>\n",
       "    </tr>\n",
       "  </thead>\n",
       "  <tbody>\n",
       "    <tr>\n",
       "      <th>0</th>\n",
       "      <td>-1.344042</td>\n",
       "      <td>-1.719593</td>\n",
       "      <td>1.950619</td>\n",
       "      <td>1.156163</td>\n",
       "      <td>0.943577</td>\n",
       "      <td>1.402528</td>\n",
       "      <td>1.563207</td>\n",
       "      <td>2.727296</td>\n",
       "      <td>0.708028</td>\n",
       "    </tr>\n",
       "    <tr>\n",
       "      <th>1</th>\n",
       "      <td>-1.344042</td>\n",
       "      <td>-1.697291</td>\n",
       "      <td>1.927391</td>\n",
       "      <td>0.924798</td>\n",
       "      <td>1.100631</td>\n",
       "      <td>1.428679</td>\n",
       "      <td>1.323970</td>\n",
       "      <td>0.132927</td>\n",
       "      <td>1.874441</td>\n",
       "    </tr>\n",
       "    <tr>\n",
       "      <th>2</th>\n",
       "      <td>-1.344042</td>\n",
       "      <td>-1.674989</td>\n",
       "      <td>1.897015</td>\n",
       "      <td>0.981688</td>\n",
       "      <td>0.976555</td>\n",
       "      <td>1.130042</td>\n",
       "      <td>1.457956</td>\n",
       "      <td>3.321895</td>\n",
       "      <td>1.080976</td>\n",
       "    </tr>\n",
       "    <tr>\n",
       "      <th>3</th>\n",
       "      <td>-1.344042</td>\n",
       "      <td>-1.652687</td>\n",
       "      <td>1.892548</td>\n",
       "      <td>1.309661</td>\n",
       "      <td>0.888287</td>\n",
       "      <td>1.173165</td>\n",
       "      <td>1.590251</td>\n",
       "      <td>2.216961</td>\n",
       "      <td>1.127793</td>\n",
       "    </tr>\n",
       "    <tr>\n",
       "      <th>4</th>\n",
       "      <td>-1.344042</td>\n",
       "      <td>-1.630385</td>\n",
       "      <td>1.807675</td>\n",
       "      <td>0.983677</td>\n",
       "      <td>0.863442</td>\n",
       "      <td>1.256473</td>\n",
       "      <td>1.351274</td>\n",
       "      <td>1.886431</td>\n",
       "      <td>2.056776</td>\n",
       "    </tr>\n",
       "  </tbody>\n",
       "</table>\n",
       "</div>"
      ],
      "text/plain": [
       "   feature0  feature1  feature2  feature3  feature4  feature5  feature6  \\\n",
       "0 -1.344042 -1.719593  1.950619  1.156163  0.943577  1.402528  1.563207   \n",
       "1 -1.344042 -1.697291  1.927391  0.924798  1.100631  1.428679  1.323970   \n",
       "2 -1.344042 -1.674989  1.897015  0.981688  0.976555  1.130042  1.457956   \n",
       "3 -1.344042 -1.652687  1.892548  1.309661  0.888287  1.173165  1.590251   \n",
       "4 -1.344042 -1.630385  1.807675  0.983677  0.863442  1.256473  1.351274   \n",
       "\n",
       "   feature7  feature8  \n",
       "0  2.727296  0.708028  \n",
       "1  0.132927  1.874441  \n",
       "2  3.321895  1.080976  \n",
       "3  2.216961  1.127793  \n",
       "4  1.886431  2.056776  "
      ]
     },
     "execution_count": 140,
     "metadata": {},
     "output_type": "execute_result"
    }
   ],
   "source": [
    "normalised_df.head()"
   ]
  },
  {
   "cell_type": "markdown",
   "id": "481518f4",
   "metadata": {},
   "source": [
    "Now we will be projecting the eight-dimensional data to two-dimensional principal components."
   ]
  },
  {
   "cell_type": "code",
   "execution_count": 141,
   "id": "42ccc1a8",
   "metadata": {},
   "outputs": [],
   "source": [
    "pca = PCA(n_components=2)\n",
    "principalComponents_data = pca.fit_transform(X2)"
   ]
  },
  {
   "cell_type": "markdown",
   "id": "702b6262",
   "metadata": {},
   "source": [
    "Next, we create a DataFrame that will have the principal component values for all samples."
   ]
  },
  {
   "cell_type": "code",
   "execution_count": 142,
   "id": "d60f7e6b",
   "metadata": {},
   "outputs": [],
   "source": [
    "pca_df = pd.DataFrame(data = principalComponents_data\n",
    "             , columns = ['principal component 1', 'principal component 2'])"
   ]
  },
  {
   "cell_type": "code",
   "execution_count": 143,
   "id": "b75a0df3",
   "metadata": {},
   "outputs": [
    {
     "data": {
      "text/html": [
       "<div>\n",
       "<style scoped>\n",
       "    .dataframe tbody tr th:only-of-type {\n",
       "        vertical-align: middle;\n",
       "    }\n",
       "\n",
       "    .dataframe tbody tr th {\n",
       "        vertical-align: top;\n",
       "    }\n",
       "\n",
       "    .dataframe thead th {\n",
       "        text-align: right;\n",
       "    }\n",
       "</style>\n",
       "<table border=\"1\" class=\"dataframe\">\n",
       "  <thead>\n",
       "    <tr style=\"text-align: right;\">\n",
       "      <th></th>\n",
       "      <th>principal component 1</th>\n",
       "      <th>principal component 2</th>\n",
       "    </tr>\n",
       "  </thead>\n",
       "  <tbody>\n",
       "    <tr>\n",
       "      <th>0</th>\n",
       "      <td>-4.128939</td>\n",
       "      <td>1.958308</td>\n",
       "    </tr>\n",
       "    <tr>\n",
       "      <th>1</th>\n",
       "      <td>-3.481636</td>\n",
       "      <td>1.441157</td>\n",
       "    </tr>\n",
       "    <tr>\n",
       "      <th>2</th>\n",
       "      <td>-4.043961</td>\n",
       "      <td>2.548546</td>\n",
       "    </tr>\n",
       "    <tr>\n",
       "      <th>3</th>\n",
       "      <td>-3.942446</td>\n",
       "      <td>2.032926</td>\n",
       "    </tr>\n",
       "    <tr>\n",
       "      <th>4</th>\n",
       "      <td>-3.694549</td>\n",
       "      <td>2.497108</td>\n",
       "    </tr>\n",
       "  </tbody>\n",
       "</table>\n",
       "</div>"
      ],
      "text/plain": [
       "   principal component 1  principal component 2\n",
       "0              -4.128939               1.958308\n",
       "1              -3.481636               1.441157\n",
       "2              -4.043961               2.548546\n",
       "3              -3.942446               2.032926\n",
       "4              -3.694549               2.497108"
      ]
     },
     "execution_count": 143,
     "metadata": {},
     "output_type": "execute_result"
    }
   ],
   "source": [
    "pca_df.head()"
   ]
  },
  {
   "cell_type": "markdown",
   "id": "6f2f00b6",
   "metadata": {},
   "source": [
    "**explained_variance_ratio**  provides the amount of information or variance each principal component holds after projecting the data to a lower dimensional subspace."
   ]
  },
  {
   "cell_type": "code",
   "execution_count": 144,
   "id": "836bf17f",
   "metadata": {},
   "outputs": [
    {
     "name": "stdout",
     "output_type": "stream",
     "text": [
      "Explained variation per principal component: [0.48706062 0.1561574 ]\n"
     ]
    }
   ],
   "source": [
    "print('Explained variation per principal component: {}'.format(pca.explained_variance_ratio_))"
   ]
  },
  {
   "cell_type": "markdown",
   "id": "246d7449",
   "metadata": {},
   "source": [
    "We can see that the principal component 1 holfd 48.7% of the information while the principal component 2 holds only 15.6% of the information. Also, the other point to note is that while projecting eight-dimensional data to a two-dimensional data, 35.7% information was lost.\n",
    "\n",
    "Let's plot the visualization of the samples along the principal component - 1 and principal component - 2 axis, to have an insight into how the samples are distributed among the two classes."
   ]
  },
  {
   "cell_type": "code",
   "execution_count": 145,
   "id": "77a6431f",
   "metadata": {},
   "outputs": [
    {
     "data": {
      "text/plain": [
       "<matplotlib.legend.Legend at 0x23e4495b910>"
      ]
     },
     "execution_count": 145,
     "metadata": {},
     "output_type": "execute_result"
    },
    {
     "data": {
      "text/plain": [
       "<Figure size 432x288 with 0 Axes>"
      ]
     },
     "metadata": {},
     "output_type": "display_data"
    },
    {
     "data": {
      "image/png": "[encoded data removed]",
      "text/plain": [
       "<Figure size 720x720 with 1 Axes>"
      ]
     },
     "metadata": {
      "needs_background": "light"
     },
     "output_type": "display_data"
    }
   ],
   "source": [
    "plt.figure()\n",
    "plt.figure(figsize=(10,10))\n",
    "plt.xticks(fontsize=12)\n",
    "plt.yticks(fontsize=14)\n",
    "plt.xlabel('Principal Component - 1',fontsize=20)\n",
    "plt.ylabel('Principal Component - 2',fontsize=20)\n",
    "plt.title(\"Principal Component Analysis\",fontsize=20)\n",
    "targets = [1.0, 2.0]\n",
    "colors = ['r', 'g']\n",
    "for target, color in zip(targets,colors):\n",
    "    indicesToKeep = df3['tier'] == target\n",
    "    plt.scatter(pca_df.loc[indicesToKeep, 'principal component 1']\n",
    "               , pca_df.loc[indicesToKeep, 'principal component 2'], c = color, s = 50)\n",
    "\n",
    "plt.legend(targets,prop={'size': 15})"
   ]
  },
  {
   "cell_type": "markdown",
   "id": "a7f3d2d2",
   "metadata": {},
   "source": [
    "From the above graph, we can observe that the two classes, when projected to a two-dimensional space, can be linearly separable up to some extent. \n",
    "\n",
    "After some exploration it's time to use PCA for feature importance with feature importance technique. Let's use the logistic regression as a model for this :"
   ]
  },
  {
   "cell_type": "code",
   "execution_count": 146,
   "id": "ec6359b0",
   "metadata": {},
   "outputs": [
    {
     "name": "stdout",
     "output_type": "stream",
     "text": [
      "[0.00561874 0.44528909 0.29408546 0.09150689 0.04840112 0.06094052\n",
      " 0.02811422 0.01779323 0.00825073]\n"
     ]
    }
   ],
   "source": [
    "model = ExtraTreesClassifier()\n",
    "model.fit(X, y)\n",
    "print(model.feature_importances_)"
   ]
  },
  {
   "cell_type": "markdown",
   "id": "359d7c32",
   "metadata": {},
   "source": [
    "From the output, we can observe that there are scores for each attribute. The higher the score, higher is the importance of that attribute."
   ]
  },
  {
   "cell_type": "markdown",
   "id": "d641917a",
   "metadata": {},
   "source": [
    "## Boruta feature selection :\n",
    "\n",
    "It is a very useful algorithm that defines its own thresholds and provides us with the most accurate features from the provided dataset.\n",
    "\n",
    "Boruta shuffles the provided input features (each feature column separately) and then concatenates these (called shadow features) with the original data. After this, the complete data set is trained using a Random Forest classifier. This classifier returns feature importance for the entire input. Boruta then sets the threshold as the strongest shuffled(shadow) feature.\n",
    "\n",
    "Any real feature which has an importance level lower than the most important shuffled feature is dropped.\n"
   ]
  },
  {
   "cell_type": "code",
   "execution_count": 132,
   "id": "9caa16cd",
   "metadata": {},
   "outputs": [],
   "source": [
    "# install the package\n",
    "#!pip install boruta"
   ]
  },
  {
   "cell_type": "code",
   "execution_count": 147,
   "id": "5a26cf6a",
   "metadata": {},
   "outputs": [
    {
     "name": "stdout",
     "output_type": "stream",
     "text": [
      "Selected Features: ['Happiness Rank']\n",
      "Blue area features: []\n"
     ]
    }
   ],
   "source": [
    "# we will use the randomforest algorithm\n",
    "forest = RandomForestRegressor(n_jobs = -1,max_depth = 10)\n",
    "# initialize boruta\n",
    "boruta = BorutaPy(estimator = forest, n_estimators = 'auto',max_iter = 50,)\n",
    "# Boruta accepts np.array \n",
    "boruta.fit(np.array(X), np.array(y))\n",
    "# get results\n",
    "green_area = X.columns[boruta.support_].to_list()\n",
    "blue_area = X.columns[boruta.support_weak_].to_list()\n",
    "print('Selected Features:', green_area)\n",
    "print('Blue area features:', blue_area)"
   ]
  },
  {
   "cell_type": "markdown",
   "id": "e4de9b12",
   "metadata": {},
   "source": [
    "So out of the original features, Boruta believes that only the one featurs returned is the most important feature to make any reasonable decision.\n",
    "\n",
    "## Feature Selection using Statistical Tests :"
   ]
  },
  {
   "cell_type": "code",
   "execution_count": 149,
   "id": "83ebca42",
   "metadata": {},
   "outputs": [
    {
     "data": {
      "text/html": [
       "<style>#sk-container-id-1 {color: black;background-color: white;}#sk-container-id-1 pre{padding: 0;}#sk-container-id-1 div.sk-toggleable {background-color: white;}#sk-container-id-1 label.sk-toggleable__label {cursor: pointer;display: block;width: 100%;margin-bottom: 0;padding: 0.3em;box-sizing: border-box;text-align: center;}#sk-container-id-1 label.sk-toggleable__label-arrow:before {content: \"▸\";float: left;margin-right: 0.25em;color: #696969;}#sk-container-id-1 label.sk-toggleable__label-arrow:hover:before {color: black;}#sk-container-id-1 div.sk-estimator:hover label.sk-toggleable__label-arrow:before {color: black;}#sk-container-id-1 div.sk-toggleable__content {max-height: 0;max-width: 0;overflow: hidden;text-align: left;background-color: #f0f8ff;}#sk-container-id-1 div.sk-toggleable__content pre {margin: 0.2em;color: black;border-radius: 0.25em;background-color: #f0f8ff;}#sk-container-id-1 input.sk-toggleable__control:checked~div.sk-toggleable__content {max-height: 200px;max-width: 100%;overflow: auto;}#sk-container-id-1 input.sk-toggleable__control:checked~label.sk-toggleable__label-arrow:before {content: \"▾\";}#sk-container-id-1 div.sk-estimator input.sk-toggleable__control:checked~label.sk-toggleable__label {background-color: #d4ebff;}#sk-container-id-1 div.sk-label input.sk-toggleable__control:checked~label.sk-toggleable__label {background-color: #d4ebff;}#sk-container-id-1 input.sk-hidden--visually {border: 0;clip: rect(1px 1px 1px 1px);clip: rect(1px, 1px, 1px, 1px);height: 1px;margin: -1px;overflow: hidden;padding: 0;position: absolute;width: 1px;}#sk-container-id-1 div.sk-estimator {font-family: monospace;background-color: #f0f8ff;border: 1px dotted black;border-radius: 0.25em;box-sizing: border-box;margin-bottom: 0.5em;}#sk-container-id-1 div.sk-estimator:hover {background-color: #d4ebff;}#sk-container-id-1 div.sk-parallel-item::after {content: \"\";width: 100%;border-bottom: 1px solid gray;flex-grow: 1;}#sk-container-id-1 div.sk-label:hover label.sk-toggleable__label {background-color: #d4ebff;}#sk-container-id-1 div.sk-serial::before {content: \"\";position: absolute;border-left: 1px solid gray;box-sizing: border-box;top: 0;bottom: 0;left: 50%;z-index: 0;}#sk-container-id-1 div.sk-serial {display: flex;flex-direction: column;align-items: center;background-color: white;padding-right: 0.2em;padding-left: 0.2em;position: relative;}#sk-container-id-1 div.sk-item {position: relative;z-index: 1;}#sk-container-id-1 div.sk-parallel {display: flex;align-items: stretch;justify-content: center;background-color: white;position: relative;}#sk-container-id-1 div.sk-item::before, #sk-container-id-1 div.sk-parallel-item::before {content: \"\";position: absolute;border-left: 1px solid gray;box-sizing: border-box;top: 0;bottom: 0;left: 50%;z-index: -1;}#sk-container-id-1 div.sk-parallel-item {display: flex;flex-direction: column;z-index: 1;position: relative;background-color: white;}#sk-container-id-1 div.sk-parallel-item:first-child::after {align-self: flex-end;width: 50%;}#sk-container-id-1 div.sk-parallel-item:last-child::after {align-self: flex-start;width: 50%;}#sk-container-id-1 div.sk-parallel-item:only-child::after {width: 0;}#sk-container-id-1 div.sk-dashed-wrapped {border: 1px dashed gray;margin: 0 0.4em 0.5em 0.4em;box-sizing: border-box;padding-bottom: 0.4em;background-color: white;}#sk-container-id-1 div.sk-label label {font-family: monospace;font-weight: bold;display: inline-block;line-height: 1.2em;}#sk-container-id-1 div.sk-label-container {text-align: center;}#sk-container-id-1 div.sk-container {/* jupyter's `normalize.less` sets `[hidden] { display: none; }` but bootstrap.min.css set `[hidden] { display: none !important; }` so we also need the `!important` here to be able to override the default hidden behavior on the sphinx rendered scikit-learn.org. See: https://github.com/scikit-learn/scikit-learn/issues/21755 */display: inline-block !important;position: relative;}#sk-container-id-1 div.sk-text-repr-fallback {display: none;}</style><div id=\"sk-container-id-1\" class=\"sk-top-container\"><div class=\"sk-text-repr-fallback\"><pre>LinearRegression()</pre><b>In a Jupyter environment, please rerun this cell to show the HTML representation or trust the notebook. <br />On GitHub, the HTML representation is unable to render, please try loading this page with nbviewer.org.</b></div><div class=\"sk-container\" hidden><div class=\"sk-item\"><div class=\"sk-estimator sk-toggleable\"><input class=\"sk-toggleable__control sk-hidden--visually\" id=\"sk-estimator-id-1\" type=\"checkbox\" checked><label for=\"sk-estimator-id-1\" class=\"sk-toggleable__label sk-toggleable__label-arrow\">LinearRegression</label><div class=\"sk-toggleable__content\"><pre>LinearRegression()</pre></div></div></div></div></div>"
      ],
      "text/plain": [
       "LinearRegression()"
      ]
     },
     "execution_count": 149,
     "metadata": {},
     "output_type": "execute_result"
    }
   ],
   "source": [
    "reg = LinearRegression()\n",
    "reg.fit(X,y)"
   ]
  },
  {
   "cell_type": "code",
   "execution_count": 150,
   "id": "e8d7dc57",
   "metadata": {},
   "outputs": [
    {
     "data": {
      "text/plain": [
       "array([-0.00224356,  0.02656866,  0.68822876,  0.01601564, -0.01706238,\n",
       "       -0.029783  , -0.03617033,  0.01762455,  0.1195371 ])"
      ]
     },
     "execution_count": 150,
     "metadata": {},
     "output_type": "execute_result"
    }
   ],
   "source": [
    "reg.coef_"
   ]
  },
  {
   "cell_type": "code",
   "execution_count": 151,
   "id": "c3715b47",
   "metadata": {},
   "outputs": [
    {
     "data": {
      "text/plain": [
       "0.2383192682994295"
      ]
     },
     "execution_count": 151,
     "metadata": {},
     "output_type": "execute_result"
    }
   ],
   "source": [
    "reg.intercept_"
   ]
  },
  {
   "cell_type": "code",
   "execution_count": 152,
   "id": "b31d1c58",
   "metadata": {},
   "outputs": [
    {
     "data": {
      "text/plain": [
       "0.7953705115482174"
      ]
     },
     "execution_count": 152,
     "metadata": {},
     "output_type": "execute_result"
    }
   ],
   "source": [
    "#R-squared\n",
    "reg.score(X,y)"
   ]
  },
  {
   "cell_type": "markdown",
   "id": "f86cb77c",
   "metadata": {},
   "source": [
    "### Adjusted R^2\n",
    "\n",
    "$R^2_{adj.} = 1 - (1-R^2)*\\frac{n-1}{n-p-1}$"
   ]
  },
  {
   "cell_type": "code",
   "execution_count": 153,
   "id": "21a901c9",
   "metadata": {},
   "outputs": [
    {
     "data": {
      "text/plain": [
       "0.7933708748532489"
      ]
     },
     "execution_count": 153,
     "metadata": {},
     "output_type": "execute_result"
    }
   ],
   "source": [
    "r2 = reg.score(X,y)\n",
    "n = X.shape[0]\n",
    "p = X.shape[1]\n",
    "\n",
    "adjusted_r2 = 1 -(1-r2)*(n-1)/(n-p-1)\n",
    "adjusted_r2"
   ]
  },
  {
   "cell_type": "code",
   "execution_count": 155,
   "id": "870b63f2",
   "metadata": {},
   "outputs": [
    {
     "data": {
      "text/plain": [
       "(array([2.48178643e-01, 2.78086024e+03, 2.04273343e+03, 8.30372200e+02,\n",
       "        3.77602382e+02, 6.49236466e+02, 2.23458704e+02, 7.56037624e+01,\n",
       "        5.03309932e-01]),\n",
       " array([6.18478393e-001, 1.43537833e-281, 8.49623040e-237, 5.68817798e-131,\n",
       "        7.60148008e-071, 5.03971319e-109, 1.95175348e-045, 1.55131812e-017,\n",
       "        4.78227378e-001]))"
      ]
     },
     "execution_count": 155,
     "metadata": {},
     "output_type": "execute_result"
    }
   ],
   "source": [
    "f_regression(X,y)"
   ]
  },
  {
   "cell_type": "code",
   "execution_count": 156,
   "id": "e63f834e",
   "metadata": {},
   "outputs": [],
   "source": [
    "p_values = f_regression(X,y)[1]b"
   ]
  },
  {
   "cell_type": "code",
   "execution_count": 157,
   "id": "61635d9d",
   "metadata": {},
   "outputs": [
    {
     "data": {
      "text/plain": [
       "array([6.18478393e-001, 1.43537833e-281, 8.49623040e-237, 5.68817798e-131,\n",
       "       7.60148008e-071, 5.03971319e-109, 1.95175348e-045, 1.55131812e-017,\n",
       "       4.78227378e-001])"
      ]
     },
     "execution_count": 157,
     "metadata": {},
     "output_type": "execute_result"
    }
   ],
   "source": [
    "p_values"
   ]
  },
  {
   "cell_type": "markdown",
   "id": "08387687",
   "metadata": {},
   "source": [
    "### Summary table of statistics :"
   ]
  },
  {
   "cell_type": "code",
   "execution_count": 158,
   "id": "99c3ae57",
   "metadata": {},
   "outputs": [],
   "source": [
    "reg_summary = pd.DataFrame(data = X.columns.values, columns=['Features'])\n",
    "reg_summary['Coefficients'] = reg.coef_\n",
    "reg_summary['p-values'] = p_values"
   ]
  },
  {
   "cell_type": "code",
   "execution_count": 159,
   "id": "dd2c0d5b",
   "metadata": {},
   "outputs": [
    {
     "data": {
      "text/html": [
       "<div>\n",
       "<style scoped>\n",
       "    .dataframe tbody tr th:only-of-type {\n",
       "        vertical-align: middle;\n",
       "    }\n",
       "\n",
       "    .dataframe tbody tr th {\n",
       "        vertical-align: top;\n",
       "    }\n",
       "\n",
       "    .dataframe thead th {\n",
       "        text-align: right;\n",
       "    }\n",
       "</style>\n",
       "<table border=\"1\" class=\"dataframe\">\n",
       "  <thead>\n",
       "    <tr style=\"text-align: right;\">\n",
       "      <th></th>\n",
       "      <th>Features</th>\n",
       "      <th>Coefficients</th>\n",
       "      <th>p-values</th>\n",
       "    </tr>\n",
       "  </thead>\n",
       "  <tbody>\n",
       "    <tr>\n",
       "      <th>0</th>\n",
       "      <td>Year</td>\n",
       "      <td>-0.002244</td>\n",
       "      <td>6.184784e-01</td>\n",
       "    </tr>\n",
       "    <tr>\n",
       "      <th>1</th>\n",
       "      <td>Happiness Rank</td>\n",
       "      <td>0.026569</td>\n",
       "      <td>1.435378e-281</td>\n",
       "    </tr>\n",
       "    <tr>\n",
       "      <th>2</th>\n",
       "      <td>Happiness Score</td>\n",
       "      <td>0.688229</td>\n",
       "      <td>8.496230e-237</td>\n",
       "    </tr>\n",
       "    <tr>\n",
       "      <th>3</th>\n",
       "      <td>GDP per Capita</td>\n",
       "      <td>0.016016</td>\n",
       "      <td>5.688178e-131</td>\n",
       "    </tr>\n",
       "    <tr>\n",
       "      <th>4</th>\n",
       "      <td>Social support</td>\n",
       "      <td>-0.017062</td>\n",
       "      <td>7.601480e-71</td>\n",
       "    </tr>\n",
       "    <tr>\n",
       "      <th>5</th>\n",
       "      <td>Life Expectancy</td>\n",
       "      <td>-0.029783</td>\n",
       "      <td>5.039713e-109</td>\n",
       "    </tr>\n",
       "    <tr>\n",
       "      <th>6</th>\n",
       "      <td>Freedom to make life choices</td>\n",
       "      <td>-0.036170</td>\n",
       "      <td>1.951753e-45</td>\n",
       "    </tr>\n",
       "    <tr>\n",
       "      <th>7</th>\n",
       "      <td>Perceptions of corruption</td>\n",
       "      <td>0.017625</td>\n",
       "      <td>1.551318e-17</td>\n",
       "    </tr>\n",
       "    <tr>\n",
       "      <th>8</th>\n",
       "      <td>Generosity</td>\n",
       "      <td>0.119537</td>\n",
       "      <td>4.782274e-01</td>\n",
       "    </tr>\n",
       "  </tbody>\n",
       "</table>\n",
       "</div>"
      ],
      "text/plain": [
       "                       Features  Coefficients       p-values\n",
       "0                          Year     -0.002244   6.184784e-01\n",
       "1                Happiness Rank      0.026569  1.435378e-281\n",
       "2               Happiness Score      0.688229  8.496230e-237\n",
       "3                GDP per Capita      0.016016  5.688178e-131\n",
       "4                Social support     -0.017062   7.601480e-71\n",
       "5               Life Expectancy     -0.029783  5.039713e-109\n",
       "6  Freedom to make life choices     -0.036170   1.951753e-45\n",
       "7     Perceptions of corruption      0.017625   1.551318e-17\n",
       "8                    Generosity      0.119537   4.782274e-01"
      ]
     },
     "execution_count": 159,
     "metadata": {},
     "output_type": "execute_result"
    }
   ],
   "source": [
    "reg_summary"
   ]
  },
  {
   "cell_type": "markdown",
   "id": "0e9831da",
   "metadata": {},
   "source": [
    "The features with the p-values lower than 0.5 are useful so all besides Year"
   ]
  },
  {
   "cell_type": "markdown",
   "id": "d01f7d41",
   "metadata": {},
   "source": [
    "## mRMR feature selection :\n",
    "\n",
    "MRMR stands for Maximum Relevance Minimum Redundancy. While Boruta looks amongst the features to find the most important ones, MRMR makes sure that the features selected are not only the ones that provide minimum correlation between the input features but also have a high correlation with the output variable.\n",
    "\n",
    "MRMR works iteratively, it first asks you how many features you want to keep, and then for every iteration it calculates 1 feature that is most relevant to the output variable and least related to any of the features in our dataset. Once a feature is selected it is removed from the original dataset and the next iteration begins until K (the number of features we require) iterations are completed."
   ]
  },
  {
   "cell_type": "code",
   "execution_count": 160,
   "id": "4ab54f75",
   "metadata": {},
   "outputs": [],
   "source": [
    "#!pip install mrmr_selection"
   ]
  },
  {
   "cell_type": "code",
   "execution_count": 162,
   "id": "13a3b31f",
   "metadata": {},
   "outputs": [
    {
     "name": "stderr",
     "output_type": "stream",
     "text": [
      "100%|██████████| 3/3 [00:00<00:00, 15.72it/s]\n",
      "100%|██████████| 5/5 [00:00<00:00,  5.76it/s]\n",
      "100%|██████████| 6/6 [00:01<00:00,  3.59it/s]"
     ]
    },
    {
     "name": "stdout",
     "output_type": "stream",
     "text": [
      "Best 3 features: ['Happiness Rank', 'Happiness Score', 'GDP per Capita']\n",
      "Best 5 features: ['Happiness Rank', 'Happiness Score', 'GDP per Capita', 'Life Expectancy', 'Social support']\n",
      "Best 6 features: ['Happiness Rank', 'Happiness Score', 'GDP per Capita', 'Life Expectancy', 'Social support', 'Freedom to make life choices']\n"
     ]
    },
    {
     "name": "stderr",
     "output_type": "stream",
     "text": [
      "\n"
     ]
    }
   ],
   "source": [
    "#K : the number of features we want \n",
    "# top 3 features\n",
    "top_3 = mrmr_classif(X=X, y=y, K=3)\n",
    "# top 5 features\n",
    "top_5 = mrmr_classif(X=X, y=y, K=5)\n",
    "# top 6 features\n",
    "top_6 = mrmr_classif(X=X, y=y, K=6)\n",
    "print(\"Best 3 features:\", top_3)\n",
    "print(\"Best 5 features:\", top_5)\n",
    "print(\"Best 6 features:\", top_6)"
   ]
  },
  {
   "cell_type": "markdown",
   "id": "6b717dac",
   "metadata": {},
   "source": [
    "Going by MRMR we'll end up with the following sub-datasets :"
   ]
  },
  {
   "cell_type": "code",
   "execution_count": 163,
   "id": "c0921b22",
   "metadata": {},
   "outputs": [],
   "source": [
    "data1 = df3[['Happiness Rank', 'Happiness Score', 'GDP per Capita']].copy()\n",
    "data2 =df3[['Happiness Rank', 'Happiness Score', 'GDP per Capita', 'Life Expectancy', 'Social support']].copy()\n",
    "data3 =df3[['Happiness Rank', 'Happiness Score', 'GDP per Capita', 'Life Expectancy', 'Social support', 'Freedom to make life choices']].copy()"
   ]
  },
  {
   "cell_type": "code",
   "execution_count": 164,
   "id": "44c062f8",
   "metadata": {},
   "outputs": [
    {
     "data": {
      "text/html": [
       "<div>\n",
       "<style scoped>\n",
       "    .dataframe tbody tr th:only-of-type {\n",
       "        vertical-align: middle;\n",
       "    }\n",
       "\n",
       "    .dataframe tbody tr th {\n",
       "        vertical-align: top;\n",
       "    }\n",
       "\n",
       "    .dataframe thead th {\n",
       "        text-align: right;\n",
       "    }\n",
       "</style>\n",
       "<table border=\"1\" class=\"dataframe\">\n",
       "  <thead>\n",
       "    <tr style=\"text-align: right;\">\n",
       "      <th></th>\n",
       "      <th>Happiness Rank</th>\n",
       "      <th>Happiness Score</th>\n",
       "      <th>GDP per Capita</th>\n",
       "    </tr>\n",
       "  </thead>\n",
       "  <tbody>\n",
       "    <tr>\n",
       "      <th>0</th>\n",
       "      <td>1</td>\n",
       "      <td>7.587</td>\n",
       "      <td>1.39651</td>\n",
       "    </tr>\n",
       "    <tr>\n",
       "      <th>1</th>\n",
       "      <td>2</td>\n",
       "      <td>7.561</td>\n",
       "      <td>1.30232</td>\n",
       "    </tr>\n",
       "    <tr>\n",
       "      <th>2</th>\n",
       "      <td>3</td>\n",
       "      <td>7.527</td>\n",
       "      <td>1.32548</td>\n",
       "    </tr>\n",
       "    <tr>\n",
       "      <th>3</th>\n",
       "      <td>4</td>\n",
       "      <td>7.522</td>\n",
       "      <td>1.45900</td>\n",
       "    </tr>\n",
       "    <tr>\n",
       "      <th>4</th>\n",
       "      <td>5</td>\n",
       "      <td>7.427</td>\n",
       "      <td>1.32629</td>\n",
       "    </tr>\n",
       "  </tbody>\n",
       "</table>\n",
       "</div>"
      ],
      "text/plain": [
       "   Happiness Rank  Happiness Score  GDP per Capita\n",
       "0               1            7.587         1.39651\n",
       "1               2            7.561         1.30232\n",
       "2               3            7.527         1.32548\n",
       "3               4            7.522         1.45900\n",
       "4               5            7.427         1.32629"
      ]
     },
     "execution_count": 164,
     "metadata": {},
     "output_type": "execute_result"
    }
   ],
   "source": [
    "data1.head()"
   ]
  },
  {
   "cell_type": "code",
   "execution_count": 165,
   "id": "92ea370d",
   "metadata": {},
   "outputs": [
    {
     "data": {
      "text/html": [
       "<div>\n",
       "<style scoped>\n",
       "    .dataframe tbody tr th:only-of-type {\n",
       "        vertical-align: middle;\n",
       "    }\n",
       "\n",
       "    .dataframe tbody tr th {\n",
       "        vertical-align: top;\n",
       "    }\n",
       "\n",
       "    .dataframe thead th {\n",
       "        text-align: right;\n",
       "    }\n",
       "</style>\n",
       "<table border=\"1\" class=\"dataframe\">\n",
       "  <thead>\n",
       "    <tr style=\"text-align: right;\">\n",
       "      <th></th>\n",
       "      <th>Happiness Rank</th>\n",
       "      <th>Happiness Score</th>\n",
       "      <th>GDP per Capita</th>\n",
       "      <th>Life Expectancy</th>\n",
       "      <th>Social support</th>\n",
       "    </tr>\n",
       "  </thead>\n",
       "  <tbody>\n",
       "    <tr>\n",
       "      <th>0</th>\n",
       "      <td>1</td>\n",
       "      <td>7.587</td>\n",
       "      <td>1.39651</td>\n",
       "      <td>0.94143</td>\n",
       "      <td>1.34951</td>\n",
       "    </tr>\n",
       "    <tr>\n",
       "      <th>1</th>\n",
       "      <td>2</td>\n",
       "      <td>7.561</td>\n",
       "      <td>1.30232</td>\n",
       "      <td>0.94784</td>\n",
       "      <td>1.40223</td>\n",
       "    </tr>\n",
       "    <tr>\n",
       "      <th>2</th>\n",
       "      <td>3</td>\n",
       "      <td>7.527</td>\n",
       "      <td>1.32548</td>\n",
       "      <td>0.87464</td>\n",
       "      <td>1.36058</td>\n",
       "    </tr>\n",
       "    <tr>\n",
       "      <th>3</th>\n",
       "      <td>4</td>\n",
       "      <td>7.522</td>\n",
       "      <td>1.45900</td>\n",
       "      <td>0.88521</td>\n",
       "      <td>1.33095</td>\n",
       "    </tr>\n",
       "    <tr>\n",
       "      <th>4</th>\n",
       "      <td>5</td>\n",
       "      <td>7.427</td>\n",
       "      <td>1.32629</td>\n",
       "      <td>0.90563</td>\n",
       "      <td>1.32261</td>\n",
       "    </tr>\n",
       "  </tbody>\n",
       "</table>\n",
       "</div>"
      ],
      "text/plain": [
       "   Happiness Rank  Happiness Score  GDP per Capita  Life Expectancy  \\\n",
       "0               1            7.587         1.39651          0.94143   \n",
       "1               2            7.561         1.30232          0.94784   \n",
       "2               3            7.527         1.32548          0.87464   \n",
       "3               4            7.522         1.45900          0.88521   \n",
       "4               5            7.427         1.32629          0.90563   \n",
       "\n",
       "   Social support  \n",
       "0         1.34951  \n",
       "1         1.40223  \n",
       "2         1.36058  \n",
       "3         1.33095  \n",
       "4         1.32261  "
      ]
     },
     "execution_count": 165,
     "metadata": {},
     "output_type": "execute_result"
    }
   ],
   "source": [
    "data2.head()"
   ]
  },
  {
   "cell_type": "code",
   "execution_count": 166,
   "id": "af3d23b6",
   "metadata": {},
   "outputs": [
    {
     "data": {
      "text/html": [
       "<div>\n",
       "<style scoped>\n",
       "    .dataframe tbody tr th:only-of-type {\n",
       "        vertical-align: middle;\n",
       "    }\n",
       "\n",
       "    .dataframe tbody tr th {\n",
       "        vertical-align: top;\n",
       "    }\n",
       "\n",
       "    .dataframe thead th {\n",
       "        text-align: right;\n",
       "    }\n",
       "</style>\n",
       "<table border=\"1\" class=\"dataframe\">\n",
       "  <thead>\n",
       "    <tr style=\"text-align: right;\">\n",
       "      <th></th>\n",
       "      <th>Happiness Rank</th>\n",
       "      <th>Happiness Score</th>\n",
       "      <th>GDP per Capita</th>\n",
       "      <th>Life Expectancy</th>\n",
       "      <th>Social support</th>\n",
       "      <th>Freedom to make life choices</th>\n",
       "    </tr>\n",
       "  </thead>\n",
       "  <tbody>\n",
       "    <tr>\n",
       "      <th>0</th>\n",
       "      <td>1</td>\n",
       "      <td>7.587</td>\n",
       "      <td>1.39651</td>\n",
       "      <td>0.94143</td>\n",
       "      <td>1.34951</td>\n",
       "      <td>0.66557</td>\n",
       "    </tr>\n",
       "    <tr>\n",
       "      <th>1</th>\n",
       "      <td>2</td>\n",
       "      <td>7.561</td>\n",
       "      <td>1.30232</td>\n",
       "      <td>0.94784</td>\n",
       "      <td>1.40223</td>\n",
       "      <td>0.62877</td>\n",
       "    </tr>\n",
       "    <tr>\n",
       "      <th>2</th>\n",
       "      <td>3</td>\n",
       "      <td>7.527</td>\n",
       "      <td>1.32548</td>\n",
       "      <td>0.87464</td>\n",
       "      <td>1.36058</td>\n",
       "      <td>0.64938</td>\n",
       "    </tr>\n",
       "    <tr>\n",
       "      <th>3</th>\n",
       "      <td>4</td>\n",
       "      <td>7.522</td>\n",
       "      <td>1.45900</td>\n",
       "      <td>0.88521</td>\n",
       "      <td>1.33095</td>\n",
       "      <td>0.66973</td>\n",
       "    </tr>\n",
       "    <tr>\n",
       "      <th>4</th>\n",
       "      <td>5</td>\n",
       "      <td>7.427</td>\n",
       "      <td>1.32629</td>\n",
       "      <td>0.90563</td>\n",
       "      <td>1.32261</td>\n",
       "      <td>0.63297</td>\n",
       "    </tr>\n",
       "  </tbody>\n",
       "</table>\n",
       "</div>"
      ],
      "text/plain": [
       "   Happiness Rank  Happiness Score  GDP per Capita  Life Expectancy  \\\n",
       "0               1            7.587         1.39651          0.94143   \n",
       "1               2            7.561         1.30232          0.94784   \n",
       "2               3            7.527         1.32548          0.87464   \n",
       "3               4            7.522         1.45900          0.88521   \n",
       "4               5            7.427         1.32629          0.90563   \n",
       "\n",
       "   Social support  Freedom to make life choices  \n",
       "0         1.34951                       0.66557  \n",
       "1         1.40223                       0.62877  \n",
       "2         1.36058                       0.64938  \n",
       "3         1.33095                       0.66973  \n",
       "4         1.32261                       0.63297  "
      ]
     },
     "execution_count": 166,
     "metadata": {},
     "output_type": "execute_result"
    }
   ],
   "source": [
    "data3.head()"
   ]
  },
  {
   "cell_type": "markdown",
   "id": "7dab3282",
   "metadata": {},
   "source": [
    "### Comparaison of accuracy between original dataset and sub-datasets : \n",
    "To evaluate whether the smaller data sets (with selected features) work better, we run a classifier\n",
    "on the original and smaller data sets, and then compare their accuracy :"
   ]
  },
  {
   "cell_type": "code",
   "execution_count": 167,
   "id": "bf0333d8",
   "metadata": {},
   "outputs": [],
   "source": [
    "#original dataset\n",
    "X = df3.drop('tier',axis=1)\n",
    "y = df3['tier']\n",
    "#data with top 3 features \n",
    "X3 = data1\n",
    "y3 = df3['tier']\n",
    "#data with top 5 features\n",
    "X5 = data2\n",
    "y5 = df3['tier']\n",
    "#data with top 6 features\n",
    "X6 = data3\n",
    "y6 = df3['tier']"
   ]
  },
  {
   "cell_type": "code",
   "execution_count": 168,
   "id": "18d1a343",
   "metadata": {},
   "outputs": [],
   "source": [
    "X_train, X_test, y_train, y_test = train_test_split(X, y, test_size=0.20) \n",
    "X_train3, X_test3, y_train3, y_test3 = train_test_split(X3, y3, test_size=0.20) \n",
    "X_train5, X_test5, y_train5, y_test5 = train_test_split(X5, y5, test_size=0.20) \n",
    "X_train6, X_test6, y_train6, y_test6 = train_test_split(X6, y6, test_size=0.20) "
   ]
  },
  {
   "cell_type": "markdown",
   "id": "218bc9f6",
   "metadata": {},
   "source": [
    "#### Original dataset"
   ]
  },
  {
   "cell_type": "code",
   "execution_count": 171,
   "id": "0dc4769d",
   "metadata": {},
   "outputs": [
    {
     "data": {
      "text/plain": [
       "1.0"
      ]
     },
     "execution_count": 171,
     "metadata": {},
     "output_type": "execute_result"
    }
   ],
   "source": [
    "classifier = KNeighborsClassifier()\n",
    "classifier.fit(X_train, y_train)\n",
    "y_pred = classifier.predict(X_test)\n",
    "accuracy_score(y_test, y_pred)"
   ]
  },
  {
   "cell_type": "markdown",
   "id": "9ad9b91a",
   "metadata": {},
   "source": [
    "#### Top 3 features dataset :"
   ]
  },
  {
   "cell_type": "code",
   "execution_count": 172,
   "id": "e87df46d",
   "metadata": {},
   "outputs": [
    {
     "data": {
      "text/plain": [
       "1.0"
      ]
     },
     "execution_count": 172,
     "metadata": {},
     "output_type": "execute_result"
    }
   ],
   "source": [
    "classifier.fit(X_train3, y_train3)\n",
    "# Predict y data with classifier: \n",
    "y_pred3 = classifier.predict(X_test3)\n",
    "accuracy_score(y_test3, y_pred3)"
   ]
  },
  {
   "cell_type": "markdown",
   "id": "dac3986b",
   "metadata": {},
   "source": [
    "#### Top 5 features dataset :"
   ]
  },
  {
   "cell_type": "code",
   "execution_count": 173,
   "id": "d75ed494",
   "metadata": {},
   "outputs": [
    {
     "data": {
      "text/plain": [
       "1.0"
      ]
     },
     "execution_count": 173,
     "metadata": {},
     "output_type": "execute_result"
    }
   ],
   "source": [
    "classifier.fit(X_train5, y_train5)\n",
    "y_pred5 = classifier.predict(X_test5)\n",
    "accuracy_score(y_test5, y_pred5)"
   ]
  },
  {
   "cell_type": "markdown",
   "id": "0de2a76c",
   "metadata": {},
   "source": [
    "#### Top 6 features dataset :"
   ]
  },
  {
   "cell_type": "code",
   "execution_count": 174,
   "id": "7555bd6c",
   "metadata": {},
   "outputs": [
    {
     "data": {
      "text/plain": [
       "1.0"
      ]
     },
     "execution_count": 174,
     "metadata": {},
     "output_type": "execute_result"
    }
   ],
   "source": [
    "classifier.fit(X_train6, y_train6)\n",
    "y_pred6 = classifier.predict(X_test6)\n",
    "accuracy_score(y_test6, y_pred6)"
   ]
  },
  {
   "cell_type": "markdown",
   "id": "e988f2d5",
   "metadata": {},
   "source": [
    "The perfect accuracy scores for classfication accross all expirements leads us to doubt if there is overfitting  dut to the column \"Happiness Rank\" that was used to determine the tiers and the column \"Happiness Score\" that is heavily correlated to the \"Happiness Rank\", the fact that the Boruta algorithm only chose Happiness Rank as an important feature further proves this theory. "
   ]
  }
 ],
 "metadata": {
  "kernelspec": {
   "display_name": "Python 3",
   "language": "python",
   "name": "python3"
  },
  "language_info": {
   "codemirror_mode": {
    "name": "ipython",
    "version": 3
   },
   "file_extension": ".py",
   "mimetype": "text/x-python",
   "name": "python",
   "nbconvert_exporter": "python",
   "pygments_lexer": "ipython3",
   "version": "3.8.8"
  }
 },
 "nbformat": 4,
 "nbformat_minor": 5
}
