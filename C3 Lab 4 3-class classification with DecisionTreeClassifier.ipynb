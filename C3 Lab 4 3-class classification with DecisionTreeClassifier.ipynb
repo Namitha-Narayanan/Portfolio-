{
 "cells": [
  {
   "cell_type": "code",
   "execution_count": 1,
   "id": "5a683f3e",
   "metadata": {},
   "outputs": [],
   "source": [
    "from sklearn.tree import DecisionTreeClassifier"
   ]
  },
  {
   "cell_type": "code",
   "execution_count": 2,
   "id": "15a06916",
   "metadata": {},
   "outputs": [],
   "source": [
    "import pandas as pd\n",
    "import numpy as np\n",
    "import seaborn as sns\n",
    "import statsmodels.api as sm\n",
    "\n",
    "import matplotlib.pyplot as plt\n",
    "import matplotlib as mlp\n",
    "%matplotlib inline"
   ]
  },
  {
   "cell_type": "code",
   "execution_count": 3,
   "id": "07682d26",
   "metadata": {},
   "outputs": [],
   "source": [
    "df = pd.read_csv(\"data_cat1.csv\")"
   ]
  },
  {
   "cell_type": "code",
   "execution_count": 4,
   "id": "abedc975",
   "metadata": {},
   "outputs": [],
   "source": [
    "df = df.drop(df.columns[0], axis=1)"
   ]
  },
  {
   "cell_type": "code",
   "execution_count": 5,
   "id": "056ebfa4",
   "metadata": {},
   "outputs": [],
   "source": [
    "df['tier'] = df['tier'].replace(['First','Second','Third'],['1','2','3'])\n",
    "df['tier'] = df['tier'].astype(float)"
   ]
  },
  {
   "cell_type": "code",
   "execution_count": 6,
   "id": "cd8ad5dd",
   "metadata": {},
   "outputs": [
    {
     "data": {
      "text/html": [
       "<div>\n",
       "<style scoped>\n",
       "    .dataframe tbody tr th:only-of-type {\n",
       "        vertical-align: middle;\n",
       "    }\n",
       "\n",
       "    .dataframe tbody tr th {\n",
       "        vertical-align: top;\n",
       "    }\n",
       "\n",
       "    .dataframe thead th {\n",
       "        text-align: right;\n",
       "    }\n",
       "</style>\n",
       "<table border=\"1\" class=\"dataframe\">\n",
       "  <thead>\n",
       "    <tr style=\"text-align: right;\">\n",
       "      <th></th>\n",
       "      <th>Year</th>\n",
       "      <th>Country</th>\n",
       "      <th>Happiness Rank</th>\n",
       "      <th>Happiness Score</th>\n",
       "      <th>GDP per Capita</th>\n",
       "      <th>Social support</th>\n",
       "      <th>Life Expectancy</th>\n",
       "      <th>Freedom to make life choices</th>\n",
       "      <th>Perceptions of corruption</th>\n",
       "      <th>Generosity</th>\n",
       "      <th>tier</th>\n",
       "    </tr>\n",
       "  </thead>\n",
       "  <tbody>\n",
       "    <tr>\n",
       "      <th>0</th>\n",
       "      <td>2015</td>\n",
       "      <td>Switzerland</td>\n",
       "      <td>1</td>\n",
       "      <td>7.587</td>\n",
       "      <td>1.39651</td>\n",
       "      <td>1.34951</td>\n",
       "      <td>0.94143</td>\n",
       "      <td>0.66557</td>\n",
       "      <td>0.41978</td>\n",
       "      <td>0.29678</td>\n",
       "      <td>1.0</td>\n",
       "    </tr>\n",
       "    <tr>\n",
       "      <th>1</th>\n",
       "      <td>2015</td>\n",
       "      <td>Iceland</td>\n",
       "      <td>2</td>\n",
       "      <td>7.561</td>\n",
       "      <td>1.30232</td>\n",
       "      <td>1.40223</td>\n",
       "      <td>0.94784</td>\n",
       "      <td>0.62877</td>\n",
       "      <td>0.14145</td>\n",
       "      <td>0.43630</td>\n",
       "      <td>1.0</td>\n",
       "    </tr>\n",
       "    <tr>\n",
       "      <th>2</th>\n",
       "      <td>2015</td>\n",
       "      <td>Denmark</td>\n",
       "      <td>3</td>\n",
       "      <td>7.527</td>\n",
       "      <td>1.32548</td>\n",
       "      <td>1.36058</td>\n",
       "      <td>0.87464</td>\n",
       "      <td>0.64938</td>\n",
       "      <td>0.48357</td>\n",
       "      <td>0.34139</td>\n",
       "      <td>1.0</td>\n",
       "    </tr>\n",
       "    <tr>\n",
       "      <th>3</th>\n",
       "      <td>2015</td>\n",
       "      <td>Norway</td>\n",
       "      <td>4</td>\n",
       "      <td>7.522</td>\n",
       "      <td>1.45900</td>\n",
       "      <td>1.33095</td>\n",
       "      <td>0.88521</td>\n",
       "      <td>0.66973</td>\n",
       "      <td>0.36503</td>\n",
       "      <td>0.34699</td>\n",
       "      <td>1.0</td>\n",
       "    </tr>\n",
       "    <tr>\n",
       "      <th>4</th>\n",
       "      <td>2015</td>\n",
       "      <td>Canada</td>\n",
       "      <td>5</td>\n",
       "      <td>7.427</td>\n",
       "      <td>1.32629</td>\n",
       "      <td>1.32261</td>\n",
       "      <td>0.90563</td>\n",
       "      <td>0.63297</td>\n",
       "      <td>0.32957</td>\n",
       "      <td>0.45811</td>\n",
       "      <td>1.0</td>\n",
       "    </tr>\n",
       "  </tbody>\n",
       "</table>\n",
       "</div>"
      ],
      "text/plain": [
       "   Year      Country  Happiness Rank  Happiness Score  GDP per Capita  \\\n",
       "0  2015  Switzerland               1            7.587         1.39651   \n",
       "1  2015      Iceland               2            7.561         1.30232   \n",
       "2  2015      Denmark               3            7.527         1.32548   \n",
       "3  2015       Norway               4            7.522         1.45900   \n",
       "4  2015       Canada               5            7.427         1.32629   \n",
       "\n",
       "   Social support  Life Expectancy  Freedom to make life choices  \\\n",
       "0         1.34951          0.94143                       0.66557   \n",
       "1         1.40223          0.94784                       0.62877   \n",
       "2         1.36058          0.87464                       0.64938   \n",
       "3         1.33095          0.88521                       0.66973   \n",
       "4         1.32261          0.90563                       0.63297   \n",
       "\n",
       "   Perceptions of corruption  Generosity  tier  \n",
       "0                    0.41978     0.29678   1.0  \n",
       "1                    0.14145     0.43630   1.0  \n",
       "2                    0.48357     0.34139   1.0  \n",
       "3                    0.36503     0.34699   1.0  \n",
       "4                    0.32957     0.45811   1.0  "
      ]
     },
     "execution_count": 6,
     "metadata": {},
     "output_type": "execute_result"
    }
   ],
   "source": [
    "df.head()"
   ]
  },
  {
   "cell_type": "code",
   "execution_count": 7,
   "id": "822b2463",
   "metadata": {},
   "outputs": [],
   "source": [
    "from sklearn.metrics import classification_report, confusion_matrix"
   ]
  },
  {
   "cell_type": "code",
   "execution_count": 8,
   "id": "7a920aba",
   "metadata": {},
   "outputs": [],
   "source": [
    "df_copy = df"
   ]
  },
  {
   "cell_type": "code",
   "execution_count": 9,
   "id": "49f5c232",
   "metadata": {},
   "outputs": [],
   "source": [
    "df_copy = df_copy.drop('Country',axis=1)"
   ]
  },
  {
   "cell_type": "code",
   "execution_count": 10,
   "id": "72560507",
   "metadata": {},
   "outputs": [],
   "source": [
    "# Creating independent and dependent variables\n",
    "X = df_copy.drop('tier',axis=1)\n",
    "y = df_copy['tier']"
   ]
  },
  {
   "cell_type": "code",
   "execution_count": 11,
   "id": "0f356597",
   "metadata": {},
   "outputs": [
    {
     "name": "stdout",
     "output_type": "stream",
     "text": [
      "Train Data: (744, 9), (744,)\n",
      "Train Data: (187, 9), (187,)\n"
     ]
    }
   ],
   "source": [
    "from sklearn.model_selection import train_test_split\n",
    "# Splitting the data into training and testing set\n",
    "X_train, X_test, y_train, y_test = train_test_split(X, y, test_size=0.2, random_state=24)\n",
    "print(f\"Train Data: {X_train.shape}, {y_train.shape}\")\n",
    "print(f\"Train Data: {X_test.shape}, {y_test.shape}\")"
   ]
  },
  {
   "cell_type": "code",
   "execution_count": 12,
   "id": "887e9339",
   "metadata": {},
   "outputs": [
    {
     "data": {
      "text/plain": [
       "DecisionTreeClassifier()"
      ]
     },
     "execution_count": 12,
     "metadata": {},
     "output_type": "execute_result"
    }
   ],
   "source": [
    "# Training a binary classifier using Random Forest Algorithm with default hyperparameters\n",
    "classifier = DecisionTreeClassifier()\n",
    "classifier.fit(X_train, y_train)"
   ]
  },
  {
   "cell_type": "code",
   "execution_count": 13,
   "id": "38b1c887",
   "metadata": {},
   "outputs": [],
   "source": [
    "# Here X_test, y_test are the test data points\n",
    "predictions = classifier.predict(X_test)"
   ]
  },
  {
   "cell_type": "code",
   "execution_count": 14,
   "id": "eeb073d1",
   "metadata": {},
   "outputs": [
    {
     "name": "stdout",
     "output_type": "stream",
     "text": [
      "Accuracy of the classifier is: 1.0\n"
     ]
    }
   ],
   "source": [
    "# Importing all necessary libraries\n",
    "from sklearn.metrics import accuracy_score\n",
    "# Calculating the accuracy of classifier\n",
    "print(f\"Accuracy of the classifier is: {accuracy_score(y_test, predictions)}\")"
   ]
  },
  {
   "cell_type": "code",
   "execution_count": 15,
   "id": "38645db5",
   "metadata": {},
   "outputs": [
    {
     "name": "stdout",
     "output_type": "stream",
     "text": [
      "[[56  0  0]\n",
      " [ 0 59  0]\n",
      " [ 0  0 72]]\n"
     ]
    },
    {
     "data": {
      "image/png": "[encoded data removed]",
      "text/plain": [
       "<Figure size 432x288 with 2 Axes>"
      ]
     },
     "metadata": {
      "needs_background": "light"
     },
     "output_type": "display_data"
    }
   ],
   "source": [
    "# importing all necessary libraries\n",
    "import matplotlib.pyplot as plt\n",
    "from sklearn.metrics import confusion_matrix\n",
    "from sklearn.metrics import plot_confusion_matrix\n",
    "\n",
    "# confusion_matrix funnction a matrix containing the summary of predictions\n",
    "print(confusion_matrix(y_test, predictions))\n",
    "\n",
    "# plot_confusion_matrix function is used to visualize the confusion matrix\n",
    "plot_confusion_matrix(classifier, X_test, y_test)\n",
    "plt.show()"
   ]
  },
  {
   "cell_type": "code",
   "execution_count": 16,
   "id": "7c1375fb",
   "metadata": {},
   "outputs": [
    {
     "name": "stdout",
     "output_type": "stream",
     "text": [
      "Precision Score of the classifier is: 1.0\n"
     ]
    }
   ],
   "source": [
    "# Importing all necessary libraries\n",
    "from sklearn.metrics import precision_score\n",
    "#fixed error : https://stackoverflow.com/questions/52269187/facing-valueerror-target-is-multiclass-but-average-binary \n",
    "# Calculating the precision score of classifier\n",
    "print(f\"Precision Score of the classifier is: {precision_score(y_test, predictions,average='micro')}\")"
   ]
  },
  {
   "cell_type": "code",
   "execution_count": 17,
   "id": "3e3ebd6e",
   "metadata": {},
   "outputs": [
    {
     "name": "stdout",
     "output_type": "stream",
     "text": [
      "Recall Score of the classifier is: 1.0\n"
     ]
    }
   ],
   "source": [
    "# Importing all necessary libraries\n",
    "from sklearn.metrics import recall_score\n",
    "# Calculating the recall score of classifier\n",
    "print(f\"Recall Score of the classifier is: {recall_score(y_test, predictions, average='micro')}\")"
   ]
  },
  {
   "cell_type": "code",
   "execution_count": 18,
   "id": "8c1ac7b4",
   "metadata": {},
   "outputs": [
    {
     "name": "stdout",
     "output_type": "stream",
     "text": [
      "F1 Score of the classifier is: 1.0\n"
     ]
    }
   ],
   "source": [
    "# Importing all necessary libraries\n",
    "from sklearn.metrics import f1_score\n",
    "\n",
    "# Calculating the F1 score of classifier\n",
    "print(f\"F1 Score of the classifier is: {f1_score(y_test, predictions, average='micro' )}\")"
   ]
  },
  {
   "cell_type": "code",
   "execution_count": 19,
   "id": "539f76e0",
   "metadata": {},
   "outputs": [],
   "source": [
    "target_names = ['class 0', 'class 1', 'class 2']\n",
    "report = classification_report(y_test, predictions, target_names=target_names)"
   ]
  },
  {
   "cell_type": "code",
   "execution_count": 20,
   "id": "48a185dd",
   "metadata": {},
   "outputs": [
    {
     "name": "stdout",
     "output_type": "stream",
     "text": [
      "              precision    recall  f1-score   support\n",
      "\n",
      "     class 0       1.00      1.00      1.00        56\n",
      "     class 1       1.00      1.00      1.00        59\n",
      "     class 2       1.00      1.00      1.00        72\n",
      "\n",
      "    accuracy                           1.00       187\n",
      "   macro avg       1.00      1.00      1.00       187\n",
      "weighted avg       1.00      1.00      1.00       187\n",
      "\n"
     ]
    }
   ],
   "source": [
    "print(report)"
   ]
  },
  {
   "cell_type": "code",
   "execution_count": 21,
   "id": "12a2ce58",
   "metadata": {},
   "outputs": [
    {
     "name": "stdout",
     "output_type": "stream",
     "text": [
      "cohen Kappa Score of the classifier is: 1.0\n"
     ]
    }
   ],
   "source": [
    "from sklearn.metrics import cohen_kappa_score\n",
    "print(f\"cohen Kappa Score of the classifier is: {cohen_kappa_score(y_test, predictions)}\")\n",
    "#print(f\"quad Kappa Score of the classifier is: {kappa(y_test, predictions,weights='quadratic')}\")"
   ]
  },
  {
   "cell_type": "code",
   "execution_count": 22,
   "id": "3209e283",
   "metadata": {},
   "outputs": [
    {
     "name": "stdout",
     "output_type": "stream",
     "text": [
      "AUC for our classifier is: 0.2748091603053435\n"
     ]
    }
   ],
   "source": [
    "# Importing all necessary libraries\n",
    "from sklearn.metrics import roc_curve, auc\n",
    "\n",
    "class_probabilities = classifier.predict_proba(X_test)\n",
    "preds = class_probabilities[:, 1]\n",
    "\n",
    "#added pos_label=1 because before i had the error ValueError: multiclass format is not supported\n",
    "#https://stackoverflow.com/questions/61114520/how-to-fix-valueerror-multiclass-format-is-not-supported \n",
    "fpr, tpr, threshold = roc_curve(y_test, preds, pos_label=1)\n",
    "roc_auc = auc(fpr, tpr)\n",
    "\n",
    "# Printing AUC\n",
    "print(f\"AUC for our classifier is: {roc_auc}\")"
   ]
  },
  {
   "cell_type": "code",
   "execution_count": 23,
   "id": "30337900",
   "metadata": {},
   "outputs": [
    {
     "name": "stdout",
     "output_type": "stream",
     "text": [
      "AUC: 1.00\n"
     ]
    }
   ],
   "source": [
    "from sklearn.metrics import roc_auc_score\n",
    "\n",
    "# Generate class membership probabilities\n",
    "y_preb_probs = classifier.predict_proba(X_test)\n",
    "\n",
    "auc = roc_auc_score(y_test, y_preb_probs, average=\"weighted\", multi_class=\"ovr\")\n",
    "print('AUC: %.2f' % auc)"
   ]
  },
  {
   "cell_type": "code",
   "execution_count": 24,
   "id": "dd5b34ff",
   "metadata": {},
   "outputs": [],
   "source": [
    "def plot_roc_curve(fpr, tpr):\n",
    "    plt.plot(fpr, tpr, color='orange', label='ROC')\n",
    "    plt.plot([0, 1], [0, 1], color='darkblue', linestyle='--')\n",
    "    plt.xlabel('False Positive Rate')\n",
    "    plt.ylabel('True Positive Rate')\n",
    "    plt.title('Receiver Operating Characteristic (ROC) Curve')\n",
    "    plt.legend()\n",
    "    plt.show()"
   ]
  },
  {
   "cell_type": "code",
   "execution_count": 25,
   "id": "9153f2e1",
   "metadata": {},
   "outputs": [],
   "source": [
    "#added pos_label=1 because before i had the error ValueError: multiclass format is not supported\n",
    "#https://stackoverflow.com/questions/61114520/how-to-fix-valueerror-multiclass-format-is-not-supported \n",
    "fpr, tpr, threshold = roc_curve(y_test, preds, pos_label=1)"
   ]
  },
  {
   "cell_type": "code",
   "execution_count": 26,
   "id": "cb354157",
   "metadata": {},
   "outputs": [
    {
     "data": {
      "image/png": "[encoded data removed]",
      "text/plain": [
       "<Figure size 432x288 with 1 Axes>"
      ]
     },
     "metadata": {
      "needs_background": "light"
     },
     "output_type": "display_data"
    }
   ],
   "source": [
    "plot_roc_curve(fpr, tpr)"
   ]
  },
  {
   "cell_type": "code",
   "execution_count": 27,
   "id": "12bf1bcf",
   "metadata": {},
   "outputs": [
    {
     "data": {
      "image/png": "[encoded data removed]",
      "text/plain": [
       "<Figure size 432x288 with 1 Axes>"
      ]
     },
     "metadata": {
      "needs_background": "light"
     },
     "output_type": "display_data"
    }
   ],
   "source": [
    "# Plotting the ROC\n",
    "plt.title('Receiver Operating Characteristic')\n",
    "plt.plot(fpr, tpr, 'b', label = 'AUC = %0.2f' % roc_auc)\n",
    "plt.legend(loc = 'lower right')\n",
    "plt.plot([0, 1], [0, 1],'r--')\n",
    "plt.xlim([0, 1])\n",
    "plt.ylim([0, 1])\n",
    "plt.ylabel('True Positive Rate')\n",
    "plt.xlabel('False Positive Rate')\n",
    "plt.show()"
   ]
  },
  {
   "cell_type": "code",
   "execution_count": 29,
   "id": "c902a871",
   "metadata": {},
   "outputs": [
    {
     "data": {
      "image/png": "[encoded data removed]",
      "text/plain": [
       "<Figure size 432x288 with 1 Axes>"
      ]
     },
     "metadata": {
      "needs_background": "light"
     },
     "output_type": "display_data"
    }
   ],
   "source": [
    "#roc_auc_score\n",
    "plt.title('Receiver Operating Characteristic')\n",
    "plt.plot(fpr, tpr, 'b', label = 'AUC = %0.2f' % auc)\n",
    "plt.legend(loc = 'lower right')\n",
    "plt.plot([0, 1], [0, 1],'r--')\n",
    "plt.xlim([0, 1])\n",
    "plt.ylim([0, 1])\n",
    "plt.ylabel('True Positive Rate')\n",
    "plt.xlabel('False Positive Rate')\n",
    "plt.show()"
   ]
  }
 ],
 "metadata": {
  "kernelspec": {
   "display_name": "Python 3",
   "language": "python",
   "name": "python3"
  },
  "language_info": {
   "codemirror_mode": {
    "name": "ipython",
    "version": 3
   },
   "file_extension": ".py",
   "mimetype": "text/x-python",
   "name": "python",
   "nbconvert_exporter": "python",
   "pygments_lexer": "ipython3",
   "version": "3.8.8"
  }
 },
 "nbformat": 4,
 "nbformat_minor": 5
}
