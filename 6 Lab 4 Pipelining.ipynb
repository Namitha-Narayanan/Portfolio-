{
 "cells": [
  {
   "cell_type": "markdown",
   "id": "e16a647d",
   "metadata": {},
   "source": [
    "https://www.askpython.com/python/examples/pipelining-in-python#:~:text=The%20pipeline%20is%20a%20Python%20scikit-learn%20utility%20for,linked%20together%2C%20resulting%20in%20a%20measurable%20modeling%20process. "
   ]
  },
  {
   "cell_type": "markdown",
   "id": "31811fc3",
   "metadata": {},
   "source": [
    "The pipeline is a Python scikit-learn utility for orchestrating machine learning operations.\n",
    "\n",
    "The objective is to guarantee that all phases in the pipeline, such as training datasets or each of the fold involved in the cross-validation technique, are limited to the data available for the assessment."
   ]
  },
  {
   "cell_type": "markdown",
   "id": "4add7dac",
   "metadata": {},
   "source": [
    "# Data Preparation and Modeling For Pipelining"
   ]
  },
  {
   "cell_type": "markdown",
   "id": "2192d56e",
   "metadata": {},
   "source": [
    "The leaking of data from your training dataset to your test dataset is a common pitfall in machine learning and data science."
   ]
  },
  {
   "cell_type": "markdown",
   "id": "a6c07fbb",
   "metadata": {},
   "source": [
    "Data preparation is such a simple approach for the algorithm to acquire access to the entire training dataset. For example, normalizing or standardizing the entire training dataset before learning would not be a proper test because the scale of the data in the test set would have influenced the training dataset"
   ]
  },
  {
   "cell_type": "markdown",
   "id": "e2f64dda",
   "metadata": {},
   "source": [
    "Pipelines ensure that data preparation, such as normalization, is restricted to each fold of our cross-validation operation, minimizing data leaks in our test harness."
   ]
  },
  {
   "cell_type": "markdown",
   "id": "c107700a",
   "metadata": {},
   "source": [
    "There are two steps in the pipeline:\n",
    "- Ensure that the data is uniform.\n",
    "- Understand how to use a Linear Discriminant Analysis model."
   ]
  },
  {
   "cell_type": "markdown",
   "id": "d43a2e2e",
   "metadata": {},
   "source": [
    "# Importing libraries"
   ]
  },
  {
   "cell_type": "code",
   "execution_count": 13,
   "id": "e5a8d3eb",
   "metadata": {},
   "outputs": [],
   "source": [
    "import pandas as pd\n",
    "import numpy as np\n",
    "\n",
    "from sklearn.preprocessing import StandardScaler\n",
    "from sklearn.decomposition import PCA\n",
    "from sklearn.tree import DecisionTreeClassifier\n",
    "\n",
    "from sklearn.feature_selection import SelectKBest\n",
    "from sklearn.model_selection import KFold\n",
    "from sklearn.model_selection import cross_val_score\n",
    "\n",
    "from sklearn.pipeline import Pipeline\n",
    "from sklearn.pipeline import FeatureUnion"
   ]
  },
  {
   "cell_type": "code",
   "execution_count": 5,
   "id": "09de41d5",
   "metadata": {},
   "outputs": [],
   "source": [
    "#Load data\n",
    "df = pd.read_csv(\"data_cat1.csv\")"
   ]
  },
  {
   "cell_type": "markdown",
   "id": "5d6bdc30",
   "metadata": {},
   "source": [
    "For now we'll be droping the country column :"
   ]
  },
  {
   "cell_type": "code",
   "execution_count": 6,
   "id": "6b6e26e9",
   "metadata": {},
   "outputs": [],
   "source": [
    "df = df.drop(df.columns[0], axis=1)"
   ]
  },
  {
   "cell_type": "code",
   "execution_count": 7,
   "id": "229b4012",
   "metadata": {},
   "outputs": [],
   "source": [
    "df = df.drop('Country',axis=1)"
   ]
  },
  {
   "cell_type": "code",
   "execution_count": 8,
   "id": "e8724ca1",
   "metadata": {},
   "outputs": [],
   "source": [
    "df['tier'] = df['tier'].replace(['First','Second','Third'],['1','2','3'])\n",
    "df['tier'] = df['tier'].astype(float)"
   ]
  },
  {
   "cell_type": "code",
   "execution_count": 9,
   "id": "acd1da5e",
   "metadata": {},
   "outputs": [],
   "source": [
    "df_copy = df"
   ]
  },
  {
   "cell_type": "code",
   "execution_count": 10,
   "id": "f48beda3",
   "metadata": {},
   "outputs": [],
   "source": [
    "# Creating independent and dependent variables\n",
    "X = df_copy.drop('tier',axis=1)\n",
    "y = df_copy['tier']"
   ]
  },
  {
   "cell_type": "code",
   "execution_count": 11,
   "id": "b572ac49",
   "metadata": {},
   "outputs": [
    {
     "name": "stdout",
     "output_type": "stream",
     "text": [
      "Train Data: (744, 9), (744,)\n",
      "Train Data: (187, 9), (187,)\n"
     ]
    }
   ],
   "source": [
    "from sklearn.model_selection import train_test_split\n",
    "# Splitting the data into training and testing set\n",
    "X_train, X_test, y_train, y_test = train_test_split(X, y, test_size=0.2, random_state=24)\n",
    "print(f\"Train Data: {X_train.shape}, {y_train.shape}\")\n",
    "print(f\"Train Data: {X_test.shape}, {y_test.shape}\")"
   ]
  },
  {
   "cell_type": "markdown",
   "id": "78bcf1ba",
   "metadata": {},
   "source": [
    "# Pipeline"
   ]
  },
  {
   "cell_type": "code",
   "execution_count": 14,
   "id": "1d0f0e13",
   "metadata": {},
   "outputs": [
    {
     "name": "stdout",
     "output_type": "stream",
     "text": [
      "[Pipeline] ............... (step 1 of 3) Processing pca, total=   0.2s\n",
      "[Pipeline] ............... (step 2 of 3) Processing std, total=   0.0s\n",
      "[Pipeline] ..... (step 3 of 3) Processing decision_tree, total=   0.0s\n"
     ]
    },
    {
     "data": {
      "text/plain": [
       "Pipeline(steps=[('pca', PCA(n_components=2)), ('std', StandardScaler()),\n",
       "                ('decision_tree', DecisionTreeClassifier())],\n",
       "         verbose=True)"
      ]
     },
     "execution_count": 14,
     "metadata": {},
     "output_type": "execute_result"
    }
   ],
   "source": [
    "from sklearn.pipeline import Pipeline\n",
    "# The sequence of pipe flow is :\n",
    "# PCA dimension is reduced by 2 >> Data gets scaled >> Classification of decission tree\n",
    "pipe = Pipeline([('pca', PCA(n_components = 2)), ('std', StandardScaler()), ('decision_tree', DecisionTreeClassifier())], verbose = True)\n",
    " \n",
    "# fitting the data in the pipeline\n",
    "pipe.fit(X_train, y_train)\n"
   ]
  },
  {
   "cell_type": "markdown",
   "id": "ac67c3d7",
   "metadata": {},
   "source": [
    "pipe.get_params()  method returns a dictionary of the parameters and descriptions of each classes in the pipeline. "
   ]
  },
  {
   "cell_type": "code",
   "execution_count": 16,
   "id": "b14123f1",
   "metadata": {},
   "outputs": [
    {
     "data": {
      "text/plain": [
       "{'memory': None,\n",
       " 'steps': [('pca', PCA(n_components=2)),\n",
       "  ('std', StandardScaler()),\n",
       "  ('decision_tree', DecisionTreeClassifier())],\n",
       " 'verbose': True,\n",
       " 'pca': PCA(n_components=2),\n",
       " 'std': StandardScaler(),\n",
       " 'decision_tree': DecisionTreeClassifier(),\n",
       " 'pca__copy': True,\n",
       " 'pca__iterated_power': 'auto',\n",
       " 'pca__n_components': 2,\n",
       " 'pca__random_state': None,\n",
       " 'pca__svd_solver': 'auto',\n",
       " 'pca__tol': 0.0,\n",
       " 'pca__whiten': False,\n",
       " 'std__copy': True,\n",
       " 'std__with_mean': True,\n",
       " 'std__with_std': True,\n",
       " 'decision_tree__ccp_alpha': 0.0,\n",
       " 'decision_tree__class_weight': None,\n",
       " 'decision_tree__criterion': 'gini',\n",
       " 'decision_tree__max_depth': None,\n",
       " 'decision_tree__max_features': None,\n",
       " 'decision_tree__max_leaf_nodes': None,\n",
       " 'decision_tree__min_impurity_decrease': 0.0,\n",
       " 'decision_tree__min_impurity_split': None,\n",
       " 'decision_tree__min_samples_leaf': 1,\n",
       " 'decision_tree__min_samples_split': 2,\n",
       " 'decision_tree__min_weight_fraction_leaf': 0.0,\n",
       " 'decision_tree__random_state': None,\n",
       " 'decision_tree__splitter': 'best'}"
      ]
     },
     "execution_count": 16,
     "metadata": {},
     "output_type": "execute_result"
    }
   ],
   "source": [
    "pipe.get_params()"
   ]
  },
  {
   "cell_type": "markdown",
   "id": "1f6d1c44",
   "metadata": {},
   "source": [
    "# Evaluation metrics"
   ]
  },
  {
   "cell_type": "markdown",
   "id": "69a9d5b0",
   "metadata": {},
   "source": [
    "## Accuracy"
   ]
  },
  {
   "cell_type": "code",
   "execution_count": 15,
   "id": "4a41523f",
   "metadata": {
    "scrolled": true
   },
   "outputs": [
    {
     "name": "stdout",
     "output_type": "stream",
     "text": [
      "1.0\n"
     ]
    }
   ],
   "source": [
    "from sklearn.metrics import accuracy_score\n",
    "print(accuracy_score(y_test, pipe.predict(X_test)))"
   ]
  },
  {
   "cell_type": "markdown",
   "id": "181e65ca",
   "metadata": {},
   "source": [
    "## Confusion matrix"
   ]
  },
  {
   "cell_type": "code",
   "execution_count": 19,
   "id": "f8180608",
   "metadata": {},
   "outputs": [
    {
     "name": "stdout",
     "output_type": "stream",
     "text": [
      "[[56  0  0]\n",
      " [ 0 59  0]\n",
      " [ 0  0 72]]\n"
     ]
    }
   ],
   "source": [
    "# importing all necessary libraries\n",
    "import matplotlib.pyplot as plt\n",
    "from sklearn.metrics import confusion_matrix\n",
    "from sklearn.metrics import plot_confusion_matrix\n",
    "\n",
    "# confusion_matrix funnction a matrix containing the summary of predictions\n",
    "print(confusion_matrix(y_test, pipe.predict(X_test)))\n"
   ]
  },
  {
   "cell_type": "code",
   "execution_count": 22,
   "id": "9497eb9f",
   "metadata": {},
   "outputs": [
    {
     "data": {
      "image/png": "[encoded data removed]",
      "text/plain": [
       "<Figure size 432x288 with 2 Axes>"
      ]
     },
     "metadata": {
      "needs_background": "light"
     },
     "output_type": "display_data"
    }
   ],
   "source": [
    "# plot_confusion_matrix function is used to visualize the confusion matrix\n",
    "plot_confusion_matrix(pipe, X_test, y_test)\n",
    "plt.show()"
   ]
  },
  {
   "cell_type": "code",
   "execution_count": null,
   "id": "b4c1a364",
   "metadata": {},
   "outputs": [],
   "source": []
  }
 ],
 "metadata": {
  "kernelspec": {
   "display_name": "Python 3",
   "language": "python",
   "name": "python3"
  },
  "language_info": {
   "codemirror_mode": {
    "name": "ipython",
    "version": 3
   },
   "file_extension": ".py",
   "mimetype": "text/x-python",
   "name": "python",
   "nbconvert_exporter": "python",
   "pygments_lexer": "ipython3",
   "version": "3.8.8"
  }
 },
 "nbformat": 4,
 "nbformat_minor": 5
}
