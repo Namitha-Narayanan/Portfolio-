{
 "cells": [
  {
   "cell_type": "code",
   "execution_count": 3,
   "id": "20a32adb",
   "metadata": {},
   "outputs": [],
   "source": [
    "import pandas as pd\n",
    "import numpy as np\n",
    "import seaborn as sns\n",
    "import statsmodels.api as sm\n",
    "\n",
    "import matplotlib.pyplot as plt\n",
    "import matplotlib as mlp\n",
    "%matplotlib inline"
   ]
  },
  {
   "cell_type": "markdown",
   "id": "637eb1b1",
   "metadata": {},
   "source": [
    "# Purpose of the lab :\n",
    "1. to practice what we have learned so far:\n",
    "- Training algorithms for neural networks;\n",
    "- error correction learning and gradient descent;\n",
    "- theoretical issues related to building and running deep and fully-connected neural networks.\n",
    "2. understand practical issues of running Neural networks, e.g.\n",
    "- the importance of choice of network architectures, activation functions, error functions, and learningparameters\n",
    "- the problem of neural network overfitting and ways of mitigating the problem in practice"
   ]
  },
  {
   "cell_type": "code",
   "execution_count": 5,
   "id": "0b569414",
   "metadata": {},
   "outputs": [],
   "source": [
    "df = pd.read_csv(\"final_2_cat.csv\")"
   ]
  },
  {
   "cell_type": "code",
   "execution_count": 4,
   "id": "9486c2df",
   "metadata": {},
   "outputs": [],
   "source": [
    "df = df.drop(df.columns[0], axis=1)"
   ]
  },
  {
   "cell_type": "code",
   "execution_count": 13,
   "id": "e49f0d9a",
   "metadata": {},
   "outputs": [],
   "source": [
    "df = df.drop('Country',axis=1)"
   ]
  },
  {
   "cell_type": "code",
   "execution_count": 24,
   "id": "dc519845",
   "metadata": {},
   "outputs": [],
   "source": [
    "df = df.drop('Happiness Rank',axis=1)"
   ]
  },
  {
   "cell_type": "code",
   "execution_count": 25,
   "id": "3c4f7899",
   "metadata": {},
   "outputs": [],
   "source": [
    "df = df.drop('Happiness Score',axis=1)"
   ]
  },
  {
   "cell_type": "code",
   "execution_count": 26,
   "id": "91523de7",
   "metadata": {
    "scrolled": true
   },
   "outputs": [
    {
     "data": {
      "text/html": [
       "<div>\n",
       "<style scoped>\n",
       "    .dataframe tbody tr th:only-of-type {\n",
       "        vertical-align: middle;\n",
       "    }\n",
       "\n",
       "    .dataframe tbody tr th {\n",
       "        vertical-align: top;\n",
       "    }\n",
       "\n",
       "    .dataframe thead th {\n",
       "        text-align: right;\n",
       "    }\n",
       "</style>\n",
       "<table border=\"1\" class=\"dataframe\">\n",
       "  <thead>\n",
       "    <tr style=\"text-align: right;\">\n",
       "      <th></th>\n",
       "      <th>Year</th>\n",
       "      <th>GDP per Capita</th>\n",
       "      <th>Social support</th>\n",
       "      <th>Life Expectancy</th>\n",
       "      <th>Freedom to make life choices</th>\n",
       "      <th>Perceptions of corruption</th>\n",
       "      <th>Generosity</th>\n",
       "      <th>tier</th>\n",
       "    </tr>\n",
       "  </thead>\n",
       "  <tbody>\n",
       "    <tr>\n",
       "      <th>0</th>\n",
       "      <td>2015</td>\n",
       "      <td>1.39651</td>\n",
       "      <td>1.34951</td>\n",
       "      <td>0.94143</td>\n",
       "      <td>0.66557</td>\n",
       "      <td>0.41978</td>\n",
       "      <td>0.29678</td>\n",
       "      <td>1.0</td>\n",
       "    </tr>\n",
       "    <tr>\n",
       "      <th>1</th>\n",
       "      <td>2015</td>\n",
       "      <td>1.30232</td>\n",
       "      <td>1.40223</td>\n",
       "      <td>0.94784</td>\n",
       "      <td>0.62877</td>\n",
       "      <td>0.14145</td>\n",
       "      <td>0.43630</td>\n",
       "      <td>1.0</td>\n",
       "    </tr>\n",
       "    <tr>\n",
       "      <th>2</th>\n",
       "      <td>2015</td>\n",
       "      <td>1.32548</td>\n",
       "      <td>1.36058</td>\n",
       "      <td>0.87464</td>\n",
       "      <td>0.64938</td>\n",
       "      <td>0.48357</td>\n",
       "      <td>0.34139</td>\n",
       "      <td>1.0</td>\n",
       "    </tr>\n",
       "    <tr>\n",
       "      <th>3</th>\n",
       "      <td>2015</td>\n",
       "      <td>1.45900</td>\n",
       "      <td>1.33095</td>\n",
       "      <td>0.88521</td>\n",
       "      <td>0.66973</td>\n",
       "      <td>0.36503</td>\n",
       "      <td>0.34699</td>\n",
       "      <td>1.0</td>\n",
       "    </tr>\n",
       "    <tr>\n",
       "      <th>4</th>\n",
       "      <td>2015</td>\n",
       "      <td>1.32629</td>\n",
       "      <td>1.32261</td>\n",
       "      <td>0.90563</td>\n",
       "      <td>0.63297</td>\n",
       "      <td>0.32957</td>\n",
       "      <td>0.45811</td>\n",
       "      <td>1.0</td>\n",
       "    </tr>\n",
       "  </tbody>\n",
       "</table>\n",
       "</div>"
      ],
      "text/plain": [
       "   Year  GDP per Capita  Social support  Life Expectancy  \\\n",
       "0  2015         1.39651         1.34951          0.94143   \n",
       "1  2015         1.30232         1.40223          0.94784   \n",
       "2  2015         1.32548         1.36058          0.87464   \n",
       "3  2015         1.45900         1.33095          0.88521   \n",
       "4  2015         1.32629         1.32261          0.90563   \n",
       "\n",
       "   Freedom to make life choices  Perceptions of corruption  Generosity  tier  \n",
       "0                       0.66557                    0.41978     0.29678   1.0  \n",
       "1                       0.62877                    0.14145     0.43630   1.0  \n",
       "2                       0.64938                    0.48357     0.34139   1.0  \n",
       "3                       0.66973                    0.36503     0.34699   1.0  \n",
       "4                       0.63297                    0.32957     0.45811   1.0  "
      ]
     },
     "execution_count": 26,
     "metadata": {},
     "output_type": "execute_result"
    }
   ],
   "source": [
    "df.head()"
   ]
  },
  {
   "cell_type": "code",
   "execution_count": 27,
   "id": "4a1c4c20",
   "metadata": {},
   "outputs": [],
   "source": [
    "df['tier'] = df['tier'].replace(['First','Second'],['1','2'])\n",
    "df['tier'] = df['tier'].astype(float)"
   ]
  },
  {
   "cell_type": "markdown",
   "id": "2950c451",
   "metadata": {},
   "source": [
    "https://scikit-learn.org/stable/modules/generated/sklearn.linear_model.Perceptron.html\n",
    "\n",
    "”Perceptron” function if you use a nominal data set \n",
    "\n",
    "https://machinelearningmastery.com/perceptron-algorithm-for-classification-in-python/ \n",
    "\n",
    "Scikit-Learn provides a Perceptron class that implements a single threshold logic Unit (TLU) network. Contrary to Logistic Regression classifiers, Perceptrons do not output a class probability; rather, they just make predictions based on a hard threshold. This is one of the good reasons to prefer Logistic Regression over Perceptrons.\n",
    "\n",
    "It consists of a single node or neuron that takes a row of data as input and predicts a class label. This is achieved by calculating the weighted sum of the inputs and a bias (set to 1). The weighted sum of the input of the model is called the activation.\n",
    "- Activation = Weights * Inputs + Bias\n",
    "    - If the activation is above 0.0, the model will output 1.0; otherwise, it will output 0.0.\n",
    "    - Predict 1: If Activation > 0.0\n",
    "    - Predict 0: If Activation <= 0.0\n",
    "Below we use Perceptron on the data using all features and 2 classes ( 1st tier vrs all) "
   ]
  },
  {
   "cell_type": "code",
   "execution_count": 7,
   "id": "e7a13db6",
   "metadata": {},
   "outputs": [],
   "source": [
    "from sklearn.linear_model import Perceptron"
   ]
  },
  {
   "cell_type": "code",
   "execution_count": 28,
   "id": "0a28ec4e",
   "metadata": {},
   "outputs": [],
   "source": [
    "X = df.drop('tier',axis=1)\n",
    "y = df['tier']"
   ]
  },
  {
   "cell_type": "code",
   "execution_count": 29,
   "id": "1986c75e",
   "metadata": {},
   "outputs": [
    {
     "name": "stdout",
     "output_type": "stream",
     "text": [
      "Train Data: (744, 7), (744,)\n",
      "Train Data: (187, 7), (187,)\n"
     ]
    }
   ],
   "source": [
    "from sklearn.model_selection import train_test_split\n",
    "# Splitting the data into training and testing set\n",
    "X_train, X_test, y_train, y_test = train_test_split(X, y, test_size=0.2, random_state=24)\n",
    "print(f\"Train Data: {X_train.shape}, {y_train.shape}\")\n",
    "print(f\"Train Data: {X_test.shape}, {y_test.shape}\")"
   ]
  },
  {
   "cell_type": "code",
   "execution_count": 30,
   "id": "5805dd5c",
   "metadata": {},
   "outputs": [],
   "source": [
    "per = Perceptron(random_state=42)\n",
    "per.fit(X_train, y_train)\n",
    "y_pred = per.predict(X_test)"
   ]
  },
  {
   "cell_type": "markdown",
   "id": "586de4f1",
   "metadata": {},
   "source": [
    "on a training set, measure the accuracy."
   ]
  },
  {
   "cell_type": "code",
   "execution_count": 130,
   "id": "081ca380",
   "metadata": {},
   "outputs": [
    {
     "name": "stdout",
     "output_type": "stream",
     "text": [
      "Accuracy of the classifier is: 0.5268817204301075\n"
     ]
    }
   ],
   "source": [
    "from sklearn.metrics import accuracy_score\n",
    "y_pred_tr = per.predict(X_train)\n",
    "print(f\"Accuracy of the classifier is: {accuracy_score(y_train, y_pred_tr)}\")"
   ]
  },
  {
   "cell_type": "code",
   "execution_count": 34,
   "id": "5ea74f80",
   "metadata": {},
   "outputs": [
    {
     "name": "stdout",
     "output_type": "stream",
     "text": [
      "[[ 76   0]\n",
      " [111   0]]\n"
     ]
    },
    {
     "name": "stderr",
     "output_type": "stream",
     "text": [
      "C:\\Users\\Asus\\anaconda3\\lib\\site-packages\\sklearn\\utils\\deprecation.py:87: FutureWarning: Function plot_confusion_matrix is deprecated; Function `plot_confusion_matrix` is deprecated in 1.0 and will be removed in 1.2. Use one of the class methods: ConfusionMatrixDisplay.from_predictions or ConfusionMatrixDisplay.from_estimator.\n",
      "  warnings.warn(msg, category=FutureWarning)\n"
     ]
    },
    {
     "data": {
      "image/png": "[encoded data removed]",
      "text/plain": [
       "<Figure size 432x288 with 2 Axes>"
      ]
     },
     "metadata": {
      "needs_background": "light"
     },
     "output_type": "display_data"
    },
    {
     "name": "stdout",
     "output_type": "stream",
     "text": [
      "Sensitivity :  1.0\n",
      "Specificity :  0.0\n",
      "Precision Score of the classifier is: 0.40641711229946526\n",
      "Recall Score of the classifier is: 1.0\n",
      "F-measure of the classifier is: 0.5779467680608364\n",
      "              precision    recall  f1-score   support\n",
      "\n",
      "     class 0       0.41      1.00      0.58        76\n",
      "     class 1       0.00      0.00      0.00       111\n",
      "\n",
      "    accuracy                           0.41       187\n",
      "   macro avg       0.20      0.50      0.29       187\n",
      "weighted avg       0.17      0.41      0.23       187\n",
      "\n",
      "AUC: 0.50\n"
     ]
    },
    {
     "name": "stderr",
     "output_type": "stream",
     "text": [
      "C:\\Users\\Asus\\anaconda3\\lib\\site-packages\\sklearn\\metrics\\_classification.py:1334: UndefinedMetricWarning: Precision and F-score are ill-defined and being set to 0.0 in labels with no predicted samples. Use `zero_division` parameter to control this behavior.\n",
      "  _warn_prf(average, modifier, msg_start, len(result))\n",
      "C:\\Users\\Asus\\anaconda3\\lib\\site-packages\\sklearn\\metrics\\_classification.py:1334: UndefinedMetricWarning: Precision and F-score are ill-defined and being set to 0.0 in labels with no predicted samples. Use `zero_division` parameter to control this behavior.\n",
      "  _warn_prf(average, modifier, msg_start, len(result))\n",
      "C:\\Users\\Asus\\anaconda3\\lib\\site-packages\\sklearn\\metrics\\_classification.py:1334: UndefinedMetricWarning: Precision and F-score are ill-defined and being set to 0.0 in labels with no predicted samples. Use `zero_division` parameter to control this behavior.\n",
      "  _warn_prf(average, modifier, msg_start, len(result))\n"
     ]
    }
   ],
   "source": [
    "import matplotlib.pyplot as plt\n",
    "from sklearn.metrics import confusion_matrix\n",
    "from sklearn.metrics import plot_confusion_matrix\n",
    "\n",
    "# confusion_matrix funnction a matrix containing the summary of predictions\n",
    "print(confusion_matrix(y_test, y_pred))\n",
    "\n",
    "# plot_confusion_matrix function is used to visualize the confusion matrix\n",
    "plot_confusion_matrix(per, X_test, y_test)\n",
    "plt.show()\n",
    "\n",
    "#Sensitivity\n",
    "CM = confusion_matrix(y_test, y_pred)\n",
    "sensitivity = CM[0,0]/(CM[0,0]+CM[0,1])\n",
    "print('Sensitivity : ', sensitivity )\n",
    "#specificity\n",
    "specificity = CM[1,1]/(CM[1,0]+CM[1,1])\n",
    "print('Specificity : ', specificity)\n",
    "#Precision\n",
    "from sklearn.metrics import precision_score\n",
    "print(f\"Precision Score of the classifier is: {precision_score(y_test, y_pred)}\")\n",
    "#recall\n",
    "from sklearn.metrics import recall_score\n",
    "print(f\"Recall Score of the classifier is: {recall_score(y_test, y_pred)}\")\n",
    "#F-measure\n",
    "from sklearn.metrics import f1_score\n",
    "print(f\"F-measure of the classifier is: {f1_score(y_test,y_pred)}\")\n",
    "#classification report\n",
    "from sklearn.metrics import classification_report\n",
    "target_names = ['class 0', 'class 1']\n",
    "report = classification_report(y_test, y_pred, target_names=target_names)\n",
    "print(report)\n",
    "#ROC area under the curve\n",
    "from sklearn.metrics import roc_auc_score\n",
    "# Generate class membership probabilities\n",
    "#y_preb_probs = per.predict_proba(X_test)\n",
    "#y_preb_probs = y_preb_probs[:, 1]\n",
    "auc = roc_auc_score(y_test, y_pred)\n",
    "print('AUC: %.2f' % auc)"
   ]
  },
  {
   "cell_type": "markdown",
   "id": "a6aaf99a",
   "metadata": {},
   "source": [
    "measure the accuracy using 10-fold cross-validation on the training set."
   ]
  },
  {
   "cell_type": "code",
   "execution_count": 37,
   "id": "0eb52ba1",
   "metadata": {},
   "outputs": [
    {
     "data": {
      "text/plain": [
       "0.4931531531531531"
      ]
     },
     "execution_count": 37,
     "metadata": {},
     "output_type": "execute_result"
    }
   ],
   "source": [
    "from sklearn.model_selection import KFold\n",
    "from sklearn.model_selection import cross_val_score\n",
    "from numpy import mean\n",
    "from numpy import absolute\n",
    "cv = KFold(n_splits=10)\n",
    "#build multiple linear regression model\n",
    "model = Perceptron(random_state=42)\n",
    "#use k-fold CV to evaluate model\n",
    "scores = cross_val_score(model, X_train, y_train, scoring='accuracy', cv=cv, n_jobs=-1)\n",
    "#view mean absolute error\n",
    "mean(absolute(scores))"
   ]
  },
  {
   "cell_type": "markdown",
   "id": "5312175c",
   "metadata": {},
   "source": [
    "Confusion matrix of the 10 fold cross validation:\n",
    "\n",
    "https://towardsdatascience.com/how-to-plot-a-confusion-matrix-from-a-k-fold-cross-validation-b607317e9874\n",
    "\n",
    "The core part of the solution is to calculate the actual and predicted classes (i.e. classifications) for the folded data by defining a helper function called cross_val_predict that does the following -\n",
    "\n",
    "Takes a local copy of the machine learning algorithm (model) to avoid changing the one passed in\n",
    "Iterates around the 5 cross-validation data folds (given that n_splits=5).\n",
    "For each of the 5 splits —\n",
    "\n",
    "a. Extracts the rows from the data for the training features, training target, test features and test target\n",
    "\n",
    "b. Appends the actual target classifications to actual_classes\n",
    "\n",
    "c. Fits the machine learning model using the training data extracted from the current fold\n",
    "\n",
    "d. Uses the fitted model to predict the target classifications for the test data in the current fold\n",
    "\n",
    "e. Appends the predicted classes for the current fold of test data to predicted_classes\n",
    "\n",
    "The helper function then returns the full set of actual and predicted classes (classifications) that can be used to plot a confusion matrix."
   ]
  },
  {
   "cell_type": "code",
   "execution_count": 38,
   "id": "2622f8f3",
   "metadata": {},
   "outputs": [],
   "source": [
    "import numpy as np\n",
    "import copy as cp\n",
    "import matplotlib.pyplot as plt\n",
    "\n",
    "import seaborn as sns\n",
    "from typing import Tuple\n",
    "from sklearn.metrics import confusion_matrix"
   ]
  },
  {
   "cell_type": "code",
   "execution_count": 39,
   "id": "8c85d183",
   "metadata": {},
   "outputs": [],
   "source": [
    "def cross_val_predict(model, kfold : KFold, X : np.array, y : np.array) -> Tuple[np.array, np.array, np.array]:\n",
    "\n",
    "    model_ = cp.deepcopy(model)\n",
    "    \n",
    "    no_classes = len(np.unique(y))\n",
    "    \n",
    "    actual_classes = np.empty([0], dtype=int)\n",
    "    predicted_classes = np.empty([0], dtype=int)\n",
    "    predicted_proba = np.empty([0, no_classes]) \n",
    "\n",
    "    for train_ndx, test_ndx in kfold.split(X):\n",
    "\n",
    "        train_X, train_y, test_X, test_y = X[train_ndx], y[train_ndx], X[test_ndx], y[test_ndx]\n",
    "\n",
    "        actual_classes = np.append(actual_classes, test_y)\n",
    "\n",
    "        model_.fit(train_X, train_y)\n",
    "        predicted_classes = np.append(predicted_classes, model_.predict(test_X))\n",
    "\n",
    "        try:\n",
    "            predicted_proba = np.append(predicted_proba, model_.predict_proba(test_X), axis=0)\n",
    "        except:\n",
    "            predicted_proba = np.append(predicted_proba, np.zeros((len(test_X), no_classes), dtype=float), axis=0)\n",
    "\n",
    "    return actual_classes, predicted_classes, predicted_proba"
   ]
  },
  {
   "cell_type": "code",
   "execution_count": 40,
   "id": "fb6f7e57",
   "metadata": {},
   "outputs": [],
   "source": [
    "def plot_confusion_matrix(actual_classes : np.array, predicted_classes : np.array, sorted_labels : list):\n",
    "\n",
    "    matrix = confusion_matrix(actual_classes, predicted_classes, labels=sorted_labels)\n",
    "    \n",
    "    plt.figure(figsize=(12.8,6))\n",
    "    sns.heatmap(matrix, annot=True, xticklabels=sorted_labels, yticklabels=sorted_labels, cmap=\"Blues\", fmt=\"g\")\n",
    "    plt.xlabel('Predicted'); plt.ylabel('Actual'); plt.title('Confusion Matrix')\n",
    "\n",
    "    plt.show()"
   ]
  },
  {
   "cell_type": "code",
   "execution_count": 43,
   "id": "3a2af64e",
   "metadata": {
    "scrolled": false
   },
   "outputs": [
    {
     "data": {
      "image/png": "[encoded data removed]",
      "text/plain": [
       "<Figure size 921.6x432 with 2 Axes>"
      ]
     },
     "metadata": {
      "needs_background": "light"
     },
     "output_type": "display_data"
    }
   ],
   "source": [
    "actual_classes, predicted_classes, _ = cross_val_predict(model, cv, X_train.to_numpy(), y_train.to_numpy())\n",
    "plot_confusion_matrix(actual_classes, predicted_classes, [1.0, 2.0])"
   ]
  },
  {
   "cell_type": "markdown",
   "id": "bb7d6cf8",
   "metadata": {},
   "source": [
    "AUC of 10 fold cross validation \n",
    "\n",
    "https://www.projectpro.io/recipes/check-models-auc-score-using-cross-validation-in-python"
   ]
  },
  {
   "cell_type": "code",
   "execution_count": 45,
   "id": "81c92f6e",
   "metadata": {},
   "outputs": [],
   "source": [
    "mean_score = cross_val_score(model, X_train, y_train, scoring='roc_auc', cv=cv, n_jobs=-1).mean()"
   ]
  },
  {
   "cell_type": "code",
   "execution_count": 46,
   "id": "d934fc5f",
   "metadata": {},
   "outputs": [
    {
     "data": {
      "text/plain": [
       "0.762998472064208"
      ]
     },
     "execution_count": 46,
     "metadata": {},
     "output_type": "execute_result"
    }
   ],
   "source": [
    "mean_score"
   ]
  },
  {
   "cell_type": "markdown",
   "id": "c949c4ce",
   "metadata": {},
   "source": [
    "# MLP : \n",
    "\n",
    "https://www.programmingempire.com/example-of-multi-layer-perceptron-classifier-in-python/\n",
    "\n",
    "https://scikit-learn.org/stable/modules/generated/sklearn.neural_network.MLPClassifier.html\n",
    "\n",
    "Experiment with various parameters that control the learning. For example: the learning rate, the number and size of layers the\n",
    "number of iterations, batch size, epochs and momentum, and validation threshold. \n",
    "\n",
    "Default :\n",
    "\n",
    "lass sklearn.neural_network.MLPClassifier(**hidden_layer_sizes=(100,)**, **activation='relu'**, *, solver='adam', alpha=0.0001, **batch_size='auto'**, **learning_rate='constant'**, **learning_rate_init=0.001**, power_t=0.5, **max_iter=200**, shuffle=True, **random_state=None**, tol=0.0001, verbose=False, warm_start=False, **momentum=0.9**, nesterovs_momentum=True, early_stopping=False, **validation_fraction=0.1**, beta_1=0.9, beta_2=0.999, epsilon=1e-08, n_iter_no_change=10, max_fun=15000)"
   ]
  },
  {
   "cell_type": "code",
   "execution_count": 52,
   "id": "4c361381",
   "metadata": {},
   "outputs": [],
   "source": [
    "from sklearn.neural_network import MLPClassifier"
   ]
  },
  {
   "cell_type": "markdown",
   "id": "9f637697",
   "metadata": {},
   "source": [
    "**Architecture 1 :** "
   ]
  },
  {
   "cell_type": "code",
   "execution_count": 56,
   "id": "8f1758c6",
   "metadata": {},
   "outputs": [],
   "source": [
    "per1 = MLPClassifier(hidden_layer_sizes=(100,),activation='relu', batch_size='auto', \n",
    "                 learning_rate_init=0.001, max_iter=200, momentum=0.9, validation_fraction=0.1,random_state=42)"
   ]
  },
  {
   "cell_type": "code",
   "execution_count": 59,
   "id": "2f503404",
   "metadata": {},
   "outputs": [],
   "source": [
    "scores1 = cross_val_score(per1, X_train, y_train, scoring='accuracy', cv=cv, n_jobs=-1)"
   ]
  },
  {
   "cell_type": "code",
   "execution_count": 63,
   "id": "08c028e6",
   "metadata": {},
   "outputs": [
    {
     "name": "stdout",
     "output_type": "stream",
     "text": [
      "Accuracy of the classifier is: 0.5886126126126127\n"
     ]
    }
   ],
   "source": [
    "print(f\"Accuracy of the classifier is: {mean(absolute(scores1))}\")"
   ]
  },
  {
   "cell_type": "code",
   "execution_count": 61,
   "id": "dc12c349",
   "metadata": {},
   "outputs": [
    {
     "data": {
      "image/png": "[encoded data removed]",
      "text/plain": [
       "<Figure size 921.6x432 with 2 Axes>"
      ]
     },
     "metadata": {
      "needs_background": "light"
     },
     "output_type": "display_data"
    }
   ],
   "source": [
    "actual_classes, predicted_classes, _ = cross_val_predict(per1, cv, X_train.to_numpy(), y_train.to_numpy())\n",
    "plot_confusion_matrix(actual_classes, predicted_classes, [1.0, 2.0])"
   ]
  },
  {
   "cell_type": "code",
   "execution_count": 62,
   "id": "b6d2ab0c",
   "metadata": {},
   "outputs": [
    {
     "data": {
      "text/plain": [
       "0.9361058735177323"
      ]
     },
     "execution_count": 62,
     "metadata": {},
     "output_type": "execute_result"
    }
   ],
   "source": [
    "cross_val_score(per1, X_train, y_train, scoring='roc_auc', cv=cv, n_jobs=-1).mean()"
   ]
  },
  {
   "cell_type": "markdown",
   "id": "455e1be7",
   "metadata": {},
   "source": [
    "**Architecture 2 :**"
   ]
  },
  {
   "cell_type": "code",
   "execution_count": 64,
   "id": "531c2351",
   "metadata": {},
   "outputs": [],
   "source": [
    "per2 =MLPClassifier(hidden_layer_sizes=(12, 13, 14),activation='relu', batch_size=300, \n",
    "                 learning_rate_init=0.01, max_iter=300, momentum=0.8, validation_fraction=0.2,random_state=42)"
   ]
  },
  {
   "cell_type": "code",
   "execution_count": 65,
   "id": "2ad14d97",
   "metadata": {},
   "outputs": [],
   "source": [
    "scores2 = cross_val_score(per2, X_train, y_train, scoring='accuracy', cv=cv, n_jobs=-1)"
   ]
  },
  {
   "cell_type": "code",
   "execution_count": 66,
   "id": "5b3b7782",
   "metadata": {},
   "outputs": [
    {
     "name": "stdout",
     "output_type": "stream",
     "text": [
      "Accuracy of the classifier is: 0.516\n"
     ]
    }
   ],
   "source": [
    "print(f\"Accuracy of the classifier is: {mean(absolute(scores2))}\")"
   ]
  },
  {
   "cell_type": "code",
   "execution_count": 67,
   "id": "6f6c7bc8",
   "metadata": {},
   "outputs": [
    {
     "data": {
      "image/png": "[encoded data removed]",
      "text/plain": [
       "<Figure size 921.6x432 with 2 Axes>"
      ]
     },
     "metadata": {
      "needs_background": "light"
     },
     "output_type": "display_data"
    }
   ],
   "source": [
    "actual_classes, predicted_classes, _ = cross_val_predict(per2, cv, X_train.to_numpy(), y_train.to_numpy())\n",
    "plot_confusion_matrix(actual_classes, predicted_classes, [1.0, 2.0])"
   ]
  },
  {
   "cell_type": "code",
   "execution_count": 68,
   "id": "a1e35d22",
   "metadata": {},
   "outputs": [
    {
     "data": {
      "text/plain": [
       "0.8939425918016324"
      ]
     },
     "execution_count": 68,
     "metadata": {},
     "output_type": "execute_result"
    }
   ],
   "source": [
    "cross_val_score(per2, X_train, y_train, scoring='roc_auc', cv=cv, n_jobs=-1).mean()"
   ]
  },
  {
   "cell_type": "markdown",
   "id": "5f21b413",
   "metadata": {},
   "source": [
    "**Architecture 3 :**"
   ]
  },
  {
   "cell_type": "code",
   "execution_count": 69,
   "id": "be437eb1",
   "metadata": {},
   "outputs": [],
   "source": [
    "per3 = MLPClassifier(hidden_layer_sizes=(100,),activation='logistic', batch_size='auto', \n",
    "                 learning_rate_init=0.001, max_iter=200, momentum=0.9, validation_fraction=0.1,random_state=42)"
   ]
  },
  {
   "cell_type": "code",
   "execution_count": 70,
   "id": "344f4d9d",
   "metadata": {},
   "outputs": [
    {
     "name": "stdout",
     "output_type": "stream",
     "text": [
      "Accuracy of the classifier is: 0.5269909909909909\n"
     ]
    }
   ],
   "source": [
    "scores3 = cross_val_score(per3, X_train, y_train, scoring='accuracy', cv=cv, n_jobs=-1)\n",
    "print(f\"Accuracy of the classifier is: {mean(absolute(scores3))}\")"
   ]
  },
  {
   "cell_type": "code",
   "execution_count": 71,
   "id": "418c4051",
   "metadata": {},
   "outputs": [
    {
     "data": {
      "image/png": "[encoded data removed]",
      "text/plain": [
       "<Figure size 921.6x432 with 2 Axes>"
      ]
     },
     "metadata": {
      "needs_background": "light"
     },
     "output_type": "display_data"
    }
   ],
   "source": [
    "actual_classes, predicted_classes, _ = cross_val_predict(per3, cv, X_train.to_numpy(), y_train.to_numpy())\n",
    "plot_confusion_matrix(actual_classes, predicted_classes, [1.0, 2.0])"
   ]
  },
  {
   "cell_type": "code",
   "execution_count": 72,
   "id": "6efce064",
   "metadata": {},
   "outputs": [
    {
     "data": {
      "text/plain": [
       "0.6446754049439244"
      ]
     },
     "execution_count": 72,
     "metadata": {},
     "output_type": "execute_result"
    }
   ],
   "source": [
    "cross_val_score(per3, X_train, y_train, scoring='roc_auc', cv=cv, n_jobs=-1).mean()"
   ]
  },
  {
   "cell_type": "markdown",
   "id": "26aead6f",
   "metadata": {},
   "source": [
    "**Architecture 4 :**"
   ]
  },
  {
   "cell_type": "code",
   "execution_count": 76,
   "id": "d07b2f4d",
   "metadata": {},
   "outputs": [],
   "source": [
    "per4 =MLPClassifier(hidden_layer_sizes=(12, 13, 14),activation='logistic', batch_size=300, \n",
    "                 learning_rate_init=0.01, max_iter=300, momentum=0.8, validation_fraction=0.2,random_state=42)"
   ]
  },
  {
   "cell_type": "code",
   "execution_count": 77,
   "id": "2b4108f5",
   "metadata": {},
   "outputs": [
    {
     "name": "stdout",
     "output_type": "stream",
     "text": [
      "Accuracy of the classifier is: 0.5269909909909909\n"
     ]
    }
   ],
   "source": [
    "scores4 = cross_val_score(per4, X_train, y_train, scoring='accuracy', cv=cv, n_jobs=-1)\n",
    "print(f\"Accuracy of the classifier is: {mean(absolute(scores4))}\")"
   ]
  },
  {
   "cell_type": "code",
   "execution_count": 78,
   "id": "4b2e108d",
   "metadata": {},
   "outputs": [
    {
     "data": {
      "image/png": "[encoded data removed]",
      "text/plain": [
       "<Figure size 921.6x432 with 2 Axes>"
      ]
     },
     "metadata": {
      "needs_background": "light"
     },
     "output_type": "display_data"
    }
   ],
   "source": [
    "actual_classes, predicted_classes, _ = cross_val_predict(per4, cv, X_train.to_numpy(), y_train.to_numpy())\n",
    "plot_confusion_matrix(actual_classes, predicted_classes, [1.0, 2.0])"
   ]
  },
  {
   "cell_type": "code",
   "execution_count": 79,
   "id": "c7cb7a65",
   "metadata": {},
   "outputs": [
    {
     "data": {
      "text/plain": [
       "0.5670035598981149"
      ]
     },
     "execution_count": 79,
     "metadata": {},
     "output_type": "execute_result"
    }
   ],
   "source": [
    "cross_val_score(per4, X_train, y_train, scoring='roc_auc', cv=cv, n_jobs=-1).mean()"
   ]
  },
  {
   "cell_type": "markdown",
   "id": "d2a357bf",
   "metadata": {},
   "source": [
    "**Architecture 5 :**"
   ]
  },
  {
   "cell_type": "code",
   "execution_count": 84,
   "id": "90df2ba0",
   "metadata": {},
   "outputs": [],
   "source": [
    "per5 =MLPClassifier(hidden_layer_sizes=(31, 33, 34),activation='tanh', batch_size=400, \n",
    "                 learning_rate_init=0.1, max_iter=400, momentum=0.7, validation_fraction=0.8,random_state=42)"
   ]
  },
  {
   "cell_type": "code",
   "execution_count": 87,
   "id": "29dc887b",
   "metadata": {},
   "outputs": [
    {
     "name": "stdout",
     "output_type": "stream",
     "text": [
      "Accuracy of the classifier is: 0.4745945945945945\n"
     ]
    }
   ],
   "source": [
    "scores5 = cross_val_score(per5, X_train, y_train, scoring='accuracy', cv=cv, n_jobs=-1)\n",
    "print(f\"Accuracy of the classifier is: {mean(absolute(scores5))}\")"
   ]
  },
  {
   "cell_type": "code",
   "execution_count": 88,
   "id": "9b415849",
   "metadata": {},
   "outputs": [
    {
     "data": {
      "image/png": "[encoded data removed]",
      "text/plain": [
       "<Figure size 921.6x432 with 2 Axes>"
      ]
     },
     "metadata": {
      "needs_background": "light"
     },
     "output_type": "display_data"
    }
   ],
   "source": [
    "actual_classes, predicted_classes, _ = cross_val_predict(per5, cv, X_train.to_numpy(), y_train.to_numpy())\n",
    "plot_confusion_matrix(actual_classes, predicted_classes, [1.0, 2.0])"
   ]
  },
  {
   "cell_type": "code",
   "execution_count": 89,
   "id": "0563922c",
   "metadata": {},
   "outputs": [
    {
     "data": {
      "text/plain": [
       "0.479181362381353"
      ]
     },
     "execution_count": 89,
     "metadata": {},
     "output_type": "execute_result"
    }
   ],
   "source": [
    "cross_val_score(per5, X_train, y_train, scoring='roc_auc', cv=cv, n_jobs=-1).mean()"
   ]
  },
  {
   "cell_type": "markdown",
   "id": "dfc07706",
   "metadata": {},
   "source": [
    "**Architecture 6 :**"
   ]
  },
  {
   "cell_type": "code",
   "execution_count": 90,
   "id": "bccf3062",
   "metadata": {},
   "outputs": [],
   "source": [
    "per6 = MLPClassifier(hidden_layer_sizes=(100,),activation='relu', batch_size=400, \n",
    "                 learning_rate_init=0.001, max_iter=400, momentum=0.9, validation_fraction=0.1,random_state=42)"
   ]
  },
  {
   "cell_type": "code",
   "execution_count": 91,
   "id": "23dbb0e2",
   "metadata": {},
   "outputs": [
    {
     "name": "stdout",
     "output_type": "stream",
     "text": [
      "Accuracy of the classifier is: 0.5918738738738738\n"
     ]
    }
   ],
   "source": [
    "scores6 = cross_val_score(per6, X_train, y_train, scoring='accuracy', cv=cv, n_jobs=-1)\n",
    "print(f\"Accuracy of the classifier is: {mean(absolute(scores6))}\")"
   ]
  },
  {
   "cell_type": "code",
   "execution_count": 92,
   "id": "a47bc6e6",
   "metadata": {},
   "outputs": [
    {
     "data": {
      "image/png": "[encoded data removed]",
      "text/plain": [
       "<Figure size 921.6x432 with 2 Axes>"
      ]
     },
     "metadata": {
      "needs_background": "light"
     },
     "output_type": "display_data"
    }
   ],
   "source": [
    "actual_classes, predicted_classes, _ = cross_val_predict(per6, cv, X_train.to_numpy(), y_train.to_numpy())\n",
    "plot_confusion_matrix(actual_classes, predicted_classes, [1.0, 2.0])"
   ]
  },
  {
   "cell_type": "code",
   "execution_count": 93,
   "id": "a754522c",
   "metadata": {},
   "outputs": [
    {
     "data": {
      "text/plain": [
       "0.9365427121501633"
      ]
     },
     "execution_count": 93,
     "metadata": {},
     "output_type": "execute_result"
    }
   ],
   "source": [
    "cross_val_score(per6, X_train, y_train, scoring='roc_auc', cv=cv, n_jobs=-1).mean()"
   ]
  },
  {
   "cell_type": "markdown",
   "id": "0600cf95",
   "metadata": {},
   "source": [
    "Which architecture is the best performing? How do you tell?\n",
    "\n",
    "- Architecture 1 : \n",
    "- Architecture 2 :\n",
    "- Architecture 3 :\n",
    "- Architecture 4 :\n",
    "- Architecture 5 :\n",
    "- Architecture 6 :\n",
    "\n",
    "We eliminated the architectures 3 and 4 as they lack balance between sensitivity and specificity, these classifiers only predict one class for all instances.\n",
    "\n",
    "Architectures 1 and 6 are pretty close but architecture 6 gives us overall the best results."
   ]
  },
  {
   "cell_type": "markdown",
   "id": "80b05f38",
   "metadata": {},
   "source": [
    "**Classifier 1** : Using the best working Architecture, repeat the experiment, this time using training and testing data\n",
    "sets instead of the cross validation. That is, build the classifier using the training data set, and test the\n",
    "classifier using the test data set."
   ]
  },
  {
   "cell_type": "code",
   "execution_count": 94,
   "id": "302b5c62",
   "metadata": {},
   "outputs": [],
   "source": [
    "per7 = MLPClassifier(hidden_layer_sizes=(100,),activation='relu', batch_size=400, \n",
    "                 learning_rate_init=0.001, max_iter=400, momentum=0.9, validation_fraction=0.1,random_state=42)\n",
    "per7.fit(X_train, y_train)\n",
    "y_pred7 = per7.predict(X_test)"
   ]
  },
  {
   "cell_type": "markdown",
   "id": "6683f336",
   "metadata": {},
   "source": [
    "Note the accuracy. Answer the question: Does the classifier generalize\n",
    "well to new data? How do you tell? "
   ]
  },
  {
   "cell_type": "code",
   "execution_count": 95,
   "id": "d2b40228",
   "metadata": {},
   "outputs": [
    {
     "name": "stdout",
     "output_type": "stream",
     "text": [
      "Accuracy of the classifier on the test set is: 0.7219251336898396\n"
     ]
    }
   ],
   "source": [
    "print(f\"Accuracy of the classifier on the test set is: {accuracy_score(y_test, y_pred7)}\")"
   ]
  },
  {
   "cell_type": "code",
   "execution_count": 99,
   "id": "de06d71e",
   "metadata": {},
   "outputs": [
    {
     "name": "stdout",
     "output_type": "stream",
     "text": [
      "Accuracy of the classifier on the training set is: 0.6276881720430108\n"
     ]
    }
   ],
   "source": [
    "y_pred_tr = per7.predict(X_train)\n",
    "print(f\"Accuracy of the classifier on the training set is: {accuracy_score(y_train, y_pred_tr)}\")"
   ]
  },
  {
   "cell_type": "code",
   "execution_count": 98,
   "id": "f9f381e9",
   "metadata": {},
   "outputs": [
    {
     "name": "stdout",
     "output_type": "stream",
     "text": [
      "[[ 24  52]\n",
      " [  0 111]]\n",
      "Sensitivity :  0.3157894736842105\n",
      "Specificity :  1.0\n",
      "Precision Score of the classifier is: 1.0\n",
      "Recall Score of the classifier is: 0.3157894736842105\n",
      "F-measure of the classifier is: 0.4799999999999999\n",
      "              precision    recall  f1-score   support\n",
      "\n",
      "     class 0       1.00      0.32      0.48        76\n",
      "     class 1       0.68      1.00      0.81       111\n",
      "\n",
      "    accuracy                           0.72       187\n",
      "   macro avg       0.84      0.66      0.65       187\n",
      "weighted avg       0.81      0.72      0.68       187\n",
      "\n",
      "AUC: 0.66\n"
     ]
    }
   ],
   "source": [
    "# confusion_matrix funnction a matrix containing the summary of predictions\n",
    "print(confusion_matrix(y_test, y_pred7))\n",
    "# plot_confusion_matrix function is used to visualize the confusion matrix\n",
    "#plot_confusion_matrix(per7, X_test, y_test)\n",
    "#plt.show()\n",
    "#Sensitivity\n",
    "CM = confusion_matrix(y_test, y_pred7)\n",
    "sensitivity = CM[0,0]/(CM[0,0]+CM[0,1])\n",
    "print('Sensitivity : ', sensitivity )\n",
    "#specificity\n",
    "specificity = CM[1,1]/(CM[1,0]+CM[1,1])\n",
    "print('Specificity : ', specificity)\n",
    "#Precision\n",
    "print(f\"Precision Score of the classifier is: {precision_score(y_test, y_pred7)}\")\n",
    "#recall\n",
    "print(f\"Recall Score of the classifier is: {recall_score(y_test, y_pred7)}\")\n",
    "#F-measure\n",
    "print(f\"F-measure of the classifier is: {f1_score(y_test,y_pred7)}\")\n",
    "#classification report\n",
    "target_names = ['class 0', 'class 1']\n",
    "report = classification_report(y_test, y_pred7, target_names=target_names)\n",
    "print(report)\n",
    "#ROC area under the curve\n",
    "# Generate class membership probabilities\n",
    "#y_preb_probs = per.predict_proba(X_test)\n",
    "#y_preb_probs = y_preb_probs[:, 1]\n",
    "auc = roc_auc_score(y_test, y_pred7)\n",
    "print('AUC: %.2f' % auc)"
   ]
  },
  {
   "cell_type": "markdown",
   "id": "150bfd0e",
   "metadata": {},
   "source": [
    "**Classifier 2** : Make new training and testing sets, by moving 30% of the instances from the original training set into\n",
    "the testing set."
   ]
  },
  {
   "cell_type": "code",
   "execution_count": 100,
   "id": "92ec270e",
   "metadata": {},
   "outputs": [],
   "source": [
    "X_train2, X_test2, y_train2, y_test2 = train_test_split(X, y, test_size=0.3, random_state=24)"
   ]
  },
  {
   "cell_type": "code",
   "execution_count": 101,
   "id": "9f74918a",
   "metadata": {},
   "outputs": [],
   "source": [
    "per8 = MLPClassifier(hidden_layer_sizes=(100,),activation='relu', batch_size=400, \n",
    "                 learning_rate_init=0.001, max_iter=400, momentum=0.9, validation_fraction=0.1,random_state=42)\n",
    "per8.fit(X_train2, y_train2)\n",
    "y_pred8 = per8.predict(X_test2)"
   ]
  },
  {
   "cell_type": "markdown",
   "id": "7661fc1d",
   "metadata": {},
   "source": [
    "Note the accuracies on the training and the testing sets."
   ]
  },
  {
   "cell_type": "code",
   "execution_count": 102,
   "id": "d14b0392",
   "metadata": {},
   "outputs": [
    {
     "name": "stdout",
     "output_type": "stream",
     "text": [
      "Accuracy of the classifier on the test set is: 0.4392857142857143\n"
     ]
    }
   ],
   "source": [
    "print(f\"Accuracy of the classifier on the test set is: {accuracy_score(y_test2, y_pred8)}\")"
   ]
  },
  {
   "cell_type": "code",
   "execution_count": 103,
   "id": "d6e1507d",
   "metadata": {},
   "outputs": [
    {
     "name": "stdout",
     "output_type": "stream",
     "text": [
      "Accuracy of the classifier on the training set is: 0.5299539170506913\n"
     ]
    }
   ],
   "source": [
    "y_pred_tr2 = per8.predict(X_train2)\n",
    "print(f\"Accuracy of the classifier on the training set is: {accuracy_score(y_train2, y_pred_tr2)}\")"
   ]
  },
  {
   "cell_type": "code",
   "execution_count": 106,
   "id": "5d7c74c4",
   "metadata": {},
   "outputs": [
    {
     "name": "stdout",
     "output_type": "stream",
     "text": [
      "[[123   0]\n",
      " [157   0]]\n",
      "Sensitivity :  1.0\n",
      "Specificity :  0.0\n",
      "Precision Score of the classifier is: 0.4392857142857143\n",
      "Recall Score of the classifier is: 1.0\n",
      "F-measure of the classifier is: 0.6104218362282878\n",
      "              precision    recall  f1-score   support\n",
      "\n",
      "     class 0       0.44      1.00      0.61       123\n",
      "     class 1       0.00      0.00      0.00       157\n",
      "\n",
      "    accuracy                           0.44       280\n",
      "   macro avg       0.22      0.50      0.31       280\n",
      "weighted avg       0.19      0.44      0.27       280\n",
      "\n",
      "AUC: 0.50\n"
     ]
    },
    {
     "name": "stderr",
     "output_type": "stream",
     "text": [
      "C:\\Users\\Asus\\anaconda3\\lib\\site-packages\\sklearn\\metrics\\_classification.py:1334: UndefinedMetricWarning: Precision and F-score are ill-defined and being set to 0.0 in labels with no predicted samples. Use `zero_division` parameter to control this behavior.\n",
      "  _warn_prf(average, modifier, msg_start, len(result))\n",
      "C:\\Users\\Asus\\anaconda3\\lib\\site-packages\\sklearn\\metrics\\_classification.py:1334: UndefinedMetricWarning: Precision and F-score are ill-defined and being set to 0.0 in labels with no predicted samples. Use `zero_division` parameter to control this behavior.\n",
      "  _warn_prf(average, modifier, msg_start, len(result))\n",
      "C:\\Users\\Asus\\anaconda3\\lib\\site-packages\\sklearn\\metrics\\_classification.py:1334: UndefinedMetricWarning: Precision and F-score are ill-defined and being set to 0.0 in labels with no predicted samples. Use `zero_division` parameter to control this behavior.\n",
      "  _warn_prf(average, modifier, msg_start, len(result))\n"
     ]
    }
   ],
   "source": [
    "# confusion_matrix funnction a matrix containing the summary of predictions\n",
    "print(confusion_matrix(y_test2, y_pred8))\n",
    "# plot_confusion_matrix function is used to visualize the confusion matrix\n",
    "#plot_confusion_matrix(per8, X_test2, y_test2)\n",
    "#plt.show()\n",
    "#Sensitivity\n",
    "CM = confusion_matrix(y_test2, y_pred8)\n",
    "sensitivity = CM[0,0]/(CM[0,0]+CM[0,1])\n",
    "print('Sensitivity : ', sensitivity )\n",
    "#specificity\n",
    "specificity = CM[1,1]/(CM[1,0]+CM[1,1])\n",
    "print('Specificity : ', specificity)\n",
    "#Precision\n",
    "print(f\"Precision Score of the classifier is: {precision_score(y_test2, y_pred8)}\")\n",
    "#recall\n",
    "print(f\"Recall Score of the classifier is: {recall_score(y_test2, y_pred8)}\")\n",
    "#F-measure\n",
    "print(f\"F-measure of the classifier is: {f1_score(y_test2,y_pred8)}\")\n",
    "#classification report\n",
    "target_names = ['class 0', 'class 1']\n",
    "report = classification_report(y_test2, y_pred8, target_names=target_names)\n",
    "print(report)\n",
    "#ROC area under the curve\n",
    "# Generate class membership probabilities\n",
    "#y_preb_probs = per.predict_proba(X_test)\n",
    "#y_preb_probs = y_preb_probs[:, 1]\n",
    "auc = roc_auc_score(y_test2, y_pred8)\n",
    "print('AUC: %.2f' % auc)"
   ]
  },
  {
   "cell_type": "markdown",
   "id": "e310a719",
   "metadata": {},
   "source": [
    "**Classifier 3** : Make new training and testing sets, by moving 60% of the instances from the original training set into the testing set. "
   ]
  },
  {
   "cell_type": "code",
   "execution_count": 107,
   "id": "48436644",
   "metadata": {},
   "outputs": [],
   "source": [
    "X_train3, X_test3, y_train3, y_test3 = train_test_split(X, y, test_size=0.6, random_state=24)"
   ]
  },
  {
   "cell_type": "code",
   "execution_count": 108,
   "id": "4424affe",
   "metadata": {},
   "outputs": [
    {
     "name": "stderr",
     "output_type": "stream",
     "text": [
      "C:\\Users\\Asus\\anaconda3\\lib\\site-packages\\sklearn\\neural_network\\_multilayer_perceptron.py:621: UserWarning: Got `batch_size` less than 1 or larger than sample size. It is going to be clipped\n",
      "  warnings.warn(\n"
     ]
    }
   ],
   "source": [
    "per9 = MLPClassifier(hidden_layer_sizes=(100,),activation='relu', batch_size=400, \n",
    "                 learning_rate_init=0.001, max_iter=400, momentum=0.9, validation_fraction=0.1,random_state=42)\n",
    "per9.fit(X_train3, y_train3)\n",
    "y_pred9 = per9.predict(X_test3)"
   ]
  },
  {
   "cell_type": "markdown",
   "id": "b2d00e8a",
   "metadata": {},
   "source": [
    "Note the accuracies on the training and the testing sets."
   ]
  },
  {
   "cell_type": "code",
   "execution_count": 109,
   "id": "ba8646e3",
   "metadata": {},
   "outputs": [
    {
     "name": "stdout",
     "output_type": "stream",
     "text": [
      "Accuracy of the classifier on the test set is: 0.5205724508050089\n"
     ]
    }
   ],
   "source": [
    "print(f\"Accuracy of the classifier on the test set is: {accuracy_score(y_test3, y_pred9)}\")"
   ]
  },
  {
   "cell_type": "code",
   "execution_count": 111,
   "id": "640bcfbc",
   "metadata": {},
   "outputs": [
    {
     "name": "stdout",
     "output_type": "stream",
     "text": [
      "Accuracy of the classifier on the training set is: 0.46236559139784944\n"
     ]
    }
   ],
   "source": [
    "y_pred_tr3 = per9.predict(X_train3)\n",
    "print(f\"Accuracy of the classifier on the training set is: {accuracy_score(y_train3, y_pred_tr3)}\")"
   ]
  },
  {
   "cell_type": "code",
   "execution_count": 112,
   "id": "2233635d",
   "metadata": {},
   "outputs": [
    {
     "name": "stdout",
     "output_type": "stream",
     "text": [
      "[[  0 268]\n",
      " [  0 291]]\n",
      "Sensitivity :  0.0\n",
      "Specificity :  1.0\n",
      "Precision Score of the classifier is: 0.0\n",
      "Recall Score of the classifier is: 0.0\n",
      "F-measure of the classifier is: 0.0\n",
      "              precision    recall  f1-score   support\n",
      "\n",
      "     class 0       0.00      0.00      0.00       268\n",
      "     class 1       0.52      1.00      0.68       291\n",
      "\n",
      "    accuracy                           0.52       559\n",
      "   macro avg       0.26      0.50      0.34       559\n",
      "weighted avg       0.27      0.52      0.36       559\n",
      "\n",
      "AUC: 0.50\n"
     ]
    },
    {
     "name": "stderr",
     "output_type": "stream",
     "text": [
      "C:\\Users\\Asus\\anaconda3\\lib\\site-packages\\sklearn\\metrics\\_classification.py:1334: UndefinedMetricWarning: Precision is ill-defined and being set to 0.0 due to no predicted samples. Use `zero_division` parameter to control this behavior.\n",
      "  _warn_prf(average, modifier, msg_start, len(result))\n",
      "C:\\Users\\Asus\\anaconda3\\lib\\site-packages\\sklearn\\metrics\\_classification.py:1334: UndefinedMetricWarning: Precision and F-score are ill-defined and being set to 0.0 in labels with no predicted samples. Use `zero_division` parameter to control this behavior.\n",
      "  _warn_prf(average, modifier, msg_start, len(result))\n",
      "C:\\Users\\Asus\\anaconda3\\lib\\site-packages\\sklearn\\metrics\\_classification.py:1334: UndefinedMetricWarning: Precision and F-score are ill-defined and being set to 0.0 in labels with no predicted samples. Use `zero_division` parameter to control this behavior.\n",
      "  _warn_prf(average, modifier, msg_start, len(result))\n",
      "C:\\Users\\Asus\\anaconda3\\lib\\site-packages\\sklearn\\metrics\\_classification.py:1334: UndefinedMetricWarning: Precision and F-score are ill-defined and being set to 0.0 in labels with no predicted samples. Use `zero_division` parameter to control this behavior.\n",
      "  _warn_prf(average, modifier, msg_start, len(result))\n"
     ]
    }
   ],
   "source": [
    "# confusion_matrix funnction a matrix containing the summary of predictions\n",
    "print(confusion_matrix(y_test3, y_pred9))\n",
    "# plot_confusion_matrix function is used to visualize the confusion matrix\n",
    "#plot_confusion_matrix(per8, X_test2, y_test2)\n",
    "#plt.show()\n",
    "#Sensitivity\n",
    "CM = confusion_matrix(y_test3, y_pred9)\n",
    "sensitivity = CM[0,0]/(CM[0,0]+CM[0,1])\n",
    "print('Sensitivity : ', sensitivity )\n",
    "#specificity\n",
    "specificity = CM[1,1]/(CM[1,0]+CM[1,1])\n",
    "print('Specificity : ', specificity)\n",
    "#Precision\n",
    "print(f\"Precision Score of the classifier is: {precision_score(y_test3, y_pred9)}\")\n",
    "#recall\n",
    "print(f\"Recall Score of the classifier is: {recall_score(y_test3, y_pred9)}\")\n",
    "#F-measure\n",
    "print(f\"F-measure of the classifier is: {f1_score(y_test3,y_pred9)}\")\n",
    "#classification report\n",
    "target_names = ['class 0', 'class 1']\n",
    "report = classification_report(y_test3, y_pred9, target_names=target_names)\n",
    "print(report)\n",
    "#ROC area under the curve\n",
    "# Generate class membership probabilities\n",
    "#y_preb_probs = per.predict_proba(X_test)\n",
    "#y_preb_probs = y_preb_probs[:, 1]\n",
    "auc = roc_auc_score(y_test3, y_pred9)\n",
    "print('AUC: %.2f' % auc)"
   ]
  },
  {
   "cell_type": "markdown",
   "id": "ff82e4b3",
   "metadata": {},
   "source": [
    "Finally, analyse Classifier 1, Classifier 2 and Classifier 3 from the point of view of the problem of classifier over-fitting. Do you notice the effects of over-fitting? How? Note your conclusions in the Jupyter notebook.\n",
    "\n",
    "Note: to make conclusions about overfitting, you must compare accuracies of your three classifiers on\n",
    "training and on testing data sets."
   ]
  },
  {
   "cell_type": "markdown",
   "id": "653c84d0",
   "metadata": {},
   "source": [
    "Make conclusions about your experiments with tuning parameters of the multilayer perceptron. Make\n",
    "conclusions: what was the influence of various parameters on the classifier’s performance? Hypothesise\n",
    "why."
   ]
  },
  {
   "cell_type": "markdown",
   "id": "4e0b9b6f",
   "metadata": {},
   "source": [
    "Make conclusions about the\n",
    "problem of overfitting of neural networks. What are the ways to stop neural networks from over-fitting?\n",
    "Try a few on your data set and see if it works?\n",
    "\n",
    "https://www.educba.com/overfitting-neural-network/\n",
    "\n",
    "- **Data Augmentation** : Given limited datasets, overfitting can be prevented by Data augmentation. It is a process of creating more versions of the existing dataset by adding pan, zoom, vertical flip, horizontal flip, padding, rotating, etc. Using batch normalization with backpropagation – Scale the data by normalizing -> Improves the learning rate & reduces the dependencies on data.\n",
    "- **Batch Normalization** : Normalization is the process of introducing mean and standard deviation of data in order to enable better generalization. Batch normalization adds a layer on top of the regular input layer to apply normalization to every node of the neural network. Batch normalization has additional benefits like improved gradient flow, higher learning rates, etc. Also, the batch normalization can be ignored during backpropagation, making it faster to train the model.\n",
    "- **Dropouts** : It is a process of randomly dropping the activations from the last layer of every level, before passing the activation function to the next layer. \n",
    "- **Weight Decay** : Although weight decay is similar to dropouts, they are totally different in implementation. The primary constructs of neural networks are weights and biases between different neurons. Weight decay engages selective weights that reduce while moving towards the output layers. As the weight decays, overfitting reduces enabling generalization.\n",
    "- **Early stopping** : prevents overfitting by preventing the model training for the entire set whenever validation loss rises\n",
    "- **L1/L2 Regularization** : L1 is a Lasso Regression, whereas L2 is Ridge regression. These techniques introduce a penalty system within the model to help keep features in check.\n",
    "- **Recursive Feature Elimination** : We develop a system to calculate the importance of every feature after training the dataset, and the least important feature gets eliminated from passing on to the next layer. One can assume recursive feature elimination as a sophisticated dropout method for large models.\n",
    "- **Test Time Augmentation** : Test time augmentation is like data augmentation but happens at the end of the training. The mean of final activations obtained by training the model with different versions of the training data is the output of the model. Although TTA provides just 1 or 2 per cent improvement inaccuracy \n"
   ]
  },
  {
   "cell_type": "markdown",
   "id": "daaaf57e",
   "metadata": {},
   "source": [
    "First I'll use GridSearch to find the best parameters for the MLP since the best architecture didn't really have high scores of accuracy that would reflect overfitting"
   ]
  },
  {
   "cell_type": "code",
   "execution_count": 117,
   "id": "9970c9ba",
   "metadata": {},
   "outputs": [],
   "source": [
    "params = {'activation':['identity', 'logistic', 'tanh', 'relu'],'solver':['lbfgs', 'sgd', 'adam'],'max_iter':[200,300,400,500,1000]}"
   ]
  },
  {
   "cell_type": "code",
   "execution_count": 115,
   "id": "b1123e2d",
   "metadata": {},
   "outputs": [],
   "source": [
    "from sklearn.model_selection import GridSearchCV"
   ]
  },
  {
   "cell_type": "code",
   "execution_count": 118,
   "id": "8a9916f3",
   "metadata": {},
   "outputs": [
    {
     "name": "stdout",
     "output_type": "stream",
     "text": [
      "Fitting 3 folds for each of 60 candidates, totalling 180 fits\n"
     ]
    },
    {
     "name": "stderr",
     "output_type": "stream",
     "text": [
      "C:\\Users\\Asus\\anaconda3\\lib\\site-packages\\sklearn\\neural_network\\_multilayer_perceptron.py:559: ConvergenceWarning: lbfgs failed to converge (status=2):\n",
      "ABNORMAL_TERMINATION_IN_LNSRCH.\n",
      "\n",
      "Increase the number of iterations (max_iter) or scale the data as shown in:\n",
      "    https://scikit-learn.org/stable/modules/preprocessing.html\n",
      "  self.n_iter_ = _check_optimize_result(\"lbfgs\", opt_res, self.max_iter)\n",
      "C:\\Users\\Asus\\anaconda3\\lib\\site-packages\\sklearn\\neural_network\\_multilayer_perceptron.py:559: ConvergenceWarning: lbfgs failed to converge (status=2):\n",
      "ABNORMAL_TERMINATION_IN_LNSRCH.\n",
      "\n",
      "Increase the number of iterations (max_iter) or scale the data as shown in:\n",
      "    https://scikit-learn.org/stable/modules/preprocessing.html\n",
      "  self.n_iter_ = _check_optimize_result(\"lbfgs\", opt_res, self.max_iter)\n",
      "C:\\Users\\Asus\\anaconda3\\lib\\site-packages\\sklearn\\neural_network\\_multilayer_perceptron.py:559: ConvergenceWarning: lbfgs failed to converge (status=2):\n",
      "ABNORMAL_TERMINATION_IN_LNSRCH.\n",
      "\n",
      "Increase the number of iterations (max_iter) or scale the data as shown in:\n",
      "    https://scikit-learn.org/stable/modules/preprocessing.html\n",
      "  self.n_iter_ = _check_optimize_result(\"lbfgs\", opt_res, self.max_iter)\n",
      "C:\\Users\\Asus\\anaconda3\\lib\\site-packages\\sklearn\\neural_network\\_multilayer_perceptron.py:559: ConvergenceWarning: lbfgs failed to converge (status=2):\n",
      "ABNORMAL_TERMINATION_IN_LNSRCH.\n",
      "\n",
      "Increase the number of iterations (max_iter) or scale the data as shown in:\n",
      "    https://scikit-learn.org/stable/modules/preprocessing.html\n",
      "  self.n_iter_ = _check_optimize_result(\"lbfgs\", opt_res, self.max_iter)\n",
      "C:\\Users\\Asus\\anaconda3\\lib\\site-packages\\sklearn\\neural_network\\_multilayer_perceptron.py:559: ConvergenceWarning: lbfgs failed to converge (status=2):\n",
      "ABNORMAL_TERMINATION_IN_LNSRCH.\n",
      "\n",
      "Increase the number of iterations (max_iter) or scale the data as shown in:\n",
      "    https://scikit-learn.org/stable/modules/preprocessing.html\n",
      "  self.n_iter_ = _check_optimize_result(\"lbfgs\", opt_res, self.max_iter)\n",
      "C:\\Users\\Asus\\anaconda3\\lib\\site-packages\\sklearn\\neural_network\\_multilayer_perceptron.py:559: ConvergenceWarning: lbfgs failed to converge (status=2):\n",
      "ABNORMAL_TERMINATION_IN_LNSRCH.\n",
      "\n",
      "Increase the number of iterations (max_iter) or scale the data as shown in:\n",
      "    https://scikit-learn.org/stable/modules/preprocessing.html\n",
      "  self.n_iter_ = _check_optimize_result(\"lbfgs\", opt_res, self.max_iter)\n",
      "C:\\Users\\Asus\\anaconda3\\lib\\site-packages\\sklearn\\neural_network\\_multilayer_perceptron.py:559: ConvergenceWarning: lbfgs failed to converge (status=2):\n",
      "ABNORMAL_TERMINATION_IN_LNSRCH.\n",
      "\n",
      "Increase the number of iterations (max_iter) or scale the data as shown in:\n",
      "    https://scikit-learn.org/stable/modules/preprocessing.html\n",
      "  self.n_iter_ = _check_optimize_result(\"lbfgs\", opt_res, self.max_iter)\n",
      "C:\\Users\\Asus\\anaconda3\\lib\\site-packages\\sklearn\\neural_network\\_multilayer_perceptron.py:559: ConvergenceWarning: lbfgs failed to converge (status=2):\n",
      "ABNORMAL_TERMINATION_IN_LNSRCH.\n",
      "\n",
      "Increase the number of iterations (max_iter) or scale the data as shown in:\n",
      "    https://scikit-learn.org/stable/modules/preprocessing.html\n",
      "  self.n_iter_ = _check_optimize_result(\"lbfgs\", opt_res, self.max_iter)\n",
      "C:\\Users\\Asus\\anaconda3\\lib\\site-packages\\sklearn\\neural_network\\_multilayer_perceptron.py:559: ConvergenceWarning: lbfgs failed to converge (status=2):\n",
      "ABNORMAL_TERMINATION_IN_LNSRCH.\n",
      "\n",
      "Increase the number of iterations (max_iter) or scale the data as shown in:\n",
      "    https://scikit-learn.org/stable/modules/preprocessing.html\n",
      "  self.n_iter_ = _check_optimize_result(\"lbfgs\", opt_res, self.max_iter)\n",
      "C:\\Users\\Asus\\anaconda3\\lib\\site-packages\\sklearn\\neural_network\\_multilayer_perceptron.py:559: ConvergenceWarning: lbfgs failed to converge (status=2):\n",
      "ABNORMAL_TERMINATION_IN_LNSRCH.\n",
      "\n",
      "Increase the number of iterations (max_iter) or scale the data as shown in:\n",
      "    https://scikit-learn.org/stable/modules/preprocessing.html\n",
      "  self.n_iter_ = _check_optimize_result(\"lbfgs\", opt_res, self.max_iter)\n",
      "C:\\Users\\Asus\\anaconda3\\lib\\site-packages\\sklearn\\neural_network\\_multilayer_perceptron.py:559: ConvergenceWarning: lbfgs failed to converge (status=2):\n",
      "ABNORMAL_TERMINATION_IN_LNSRCH.\n",
      "\n",
      "Increase the number of iterations (max_iter) or scale the data as shown in:\n",
      "    https://scikit-learn.org/stable/modules/preprocessing.html\n",
      "  self.n_iter_ = _check_optimize_result(\"lbfgs\", opt_res, self.max_iter)\n",
      "C:\\Users\\Asus\\anaconda3\\lib\\site-packages\\sklearn\\neural_network\\_multilayer_perceptron.py:702: ConvergenceWarning: Stochastic Optimizer: Maximum iterations (200) reached and the optimization hasn't converged yet.\n",
      "  warnings.warn(\n",
      "C:\\Users\\Asus\\anaconda3\\lib\\site-packages\\sklearn\\neural_network\\_multilayer_perceptron.py:702: ConvergenceWarning: Stochastic Optimizer: Maximum iterations (300) reached and the optimization hasn't converged yet.\n",
      "  warnings.warn(\n",
      "C:\\Users\\Asus\\anaconda3\\lib\\site-packages\\sklearn\\neural_network\\_multilayer_perceptron.py:559: ConvergenceWarning: lbfgs failed to converge (status=2):\n",
      "ABNORMAL_TERMINATION_IN_LNSRCH.\n",
      "\n",
      "Increase the number of iterations (max_iter) or scale the data as shown in:\n",
      "    https://scikit-learn.org/stable/modules/preprocessing.html\n",
      "  self.n_iter_ = _check_optimize_result(\"lbfgs\", opt_res, self.max_iter)\n",
      "C:\\Users\\Asus\\anaconda3\\lib\\site-packages\\sklearn\\neural_network\\_multilayer_perceptron.py:559: ConvergenceWarning: lbfgs failed to converge (status=2):\n",
      "ABNORMAL_TERMINATION_IN_LNSRCH.\n",
      "\n",
      "Increase the number of iterations (max_iter) or scale the data as shown in:\n",
      "    https://scikit-learn.org/stable/modules/preprocessing.html\n",
      "  self.n_iter_ = _check_optimize_result(\"lbfgs\", opt_res, self.max_iter)\n",
      "C:\\Users\\Asus\\anaconda3\\lib\\site-packages\\sklearn\\neural_network\\_multilayer_perceptron.py:559: ConvergenceWarning: lbfgs failed to converge (status=2):\n",
      "ABNORMAL_TERMINATION_IN_LNSRCH.\n",
      "\n",
      "Increase the number of iterations (max_iter) or scale the data as shown in:\n",
      "    https://scikit-learn.org/stable/modules/preprocessing.html\n",
      "  self.n_iter_ = _check_optimize_result(\"lbfgs\", opt_res, self.max_iter)\n",
      "C:\\Users\\Asus\\anaconda3\\lib\\site-packages\\sklearn\\neural_network\\_multilayer_perceptron.py:559: ConvergenceWarning: lbfgs failed to converge (status=2):\n",
      "ABNORMAL_TERMINATION_IN_LNSRCH.\n",
      "\n",
      "Increase the number of iterations (max_iter) or scale the data as shown in:\n",
      "    https://scikit-learn.org/stable/modules/preprocessing.html\n",
      "  self.n_iter_ = _check_optimize_result(\"lbfgs\", opt_res, self.max_iter)\n",
      "C:\\Users\\Asus\\anaconda3\\lib\\site-packages\\sklearn\\neural_network\\_multilayer_perceptron.py:559: ConvergenceWarning: lbfgs failed to converge (status=2):\n",
      "ABNORMAL_TERMINATION_IN_LNSRCH.\n",
      "\n",
      "Increase the number of iterations (max_iter) or scale the data as shown in:\n",
      "    https://scikit-learn.org/stable/modules/preprocessing.html\n",
      "  self.n_iter_ = _check_optimize_result(\"lbfgs\", opt_res, self.max_iter)\n",
      "C:\\Users\\Asus\\anaconda3\\lib\\site-packages\\sklearn\\neural_network\\_multilayer_perceptron.py:559: ConvergenceWarning: lbfgs failed to converge (status=2):\n",
      "ABNORMAL_TERMINATION_IN_LNSRCH.\n",
      "\n",
      "Increase the number of iterations (max_iter) or scale the data as shown in:\n",
      "    https://scikit-learn.org/stable/modules/preprocessing.html\n",
      "  self.n_iter_ = _check_optimize_result(\"lbfgs\", opt_res, self.max_iter)\n",
      "C:\\Users\\Asus\\anaconda3\\lib\\site-packages\\sklearn\\neural_network\\_multilayer_perceptron.py:559: ConvergenceWarning: lbfgs failed to converge (status=2):\n",
      "ABNORMAL_TERMINATION_IN_LNSRCH.\n",
      "\n",
      "Increase the number of iterations (max_iter) or scale the data as shown in:\n",
      "    https://scikit-learn.org/stable/modules/preprocessing.html\n",
      "  self.n_iter_ = _check_optimize_result(\"lbfgs\", opt_res, self.max_iter)\n",
      "C:\\Users\\Asus\\anaconda3\\lib\\site-packages\\sklearn\\neural_network\\_multilayer_perceptron.py:559: ConvergenceWarning: lbfgs failed to converge (status=2):\n",
      "ABNORMAL_TERMINATION_IN_LNSRCH.\n",
      "\n",
      "Increase the number of iterations (max_iter) or scale the data as shown in:\n",
      "    https://scikit-learn.org/stable/modules/preprocessing.html\n",
      "  self.n_iter_ = _check_optimize_result(\"lbfgs\", opt_res, self.max_iter)\n",
      "C:\\Users\\Asus\\anaconda3\\lib\\site-packages\\sklearn\\neural_network\\_multilayer_perceptron.py:559: ConvergenceWarning: lbfgs failed to converge (status=2):\n",
      "ABNORMAL_TERMINATION_IN_LNSRCH.\n",
      "\n",
      "Increase the number of iterations (max_iter) or scale the data as shown in:\n",
      "    https://scikit-learn.org/stable/modules/preprocessing.html\n",
      "  self.n_iter_ = _check_optimize_result(\"lbfgs\", opt_res, self.max_iter)\n"
     ]
    },
    {
     "name": "stderr",
     "output_type": "stream",
     "text": [
      "C:\\Users\\Asus\\anaconda3\\lib\\site-packages\\sklearn\\neural_network\\_multilayer_perceptron.py:559: ConvergenceWarning: lbfgs failed to converge (status=2):\n",
      "ABNORMAL_TERMINATION_IN_LNSRCH.\n",
      "\n",
      "Increase the number of iterations (max_iter) or scale the data as shown in:\n",
      "    https://scikit-learn.org/stable/modules/preprocessing.html\n",
      "  self.n_iter_ = _check_optimize_result(\"lbfgs\", opt_res, self.max_iter)\n",
      "C:\\Users\\Asus\\anaconda3\\lib\\site-packages\\sklearn\\neural_network\\_multilayer_perceptron.py:559: ConvergenceWarning: lbfgs failed to converge (status=2):\n",
      "ABNORMAL_TERMINATION_IN_LNSRCH.\n",
      "\n",
      "Increase the number of iterations (max_iter) or scale the data as shown in:\n",
      "    https://scikit-learn.org/stable/modules/preprocessing.html\n",
      "  self.n_iter_ = _check_optimize_result(\"lbfgs\", opt_res, self.max_iter)\n"
     ]
    },
    {
     "data": {
      "text/html": [
       "<style>#sk-container-id-1 {color: black;background-color: white;}#sk-container-id-1 pre{padding: 0;}#sk-container-id-1 div.sk-toggleable {background-color: white;}#sk-container-id-1 label.sk-toggleable__label {cursor: pointer;display: block;width: 100%;margin-bottom: 0;padding: 0.3em;box-sizing: border-box;text-align: center;}#sk-container-id-1 label.sk-toggleable__label-arrow:before {content: \"▸\";float: left;margin-right: 0.25em;color: #696969;}#sk-container-id-1 label.sk-toggleable__label-arrow:hover:before {color: black;}#sk-container-id-1 div.sk-estimator:hover label.sk-toggleable__label-arrow:before {color: black;}#sk-container-id-1 div.sk-toggleable__content {max-height: 0;max-width: 0;overflow: hidden;text-align: left;background-color: #f0f8ff;}#sk-container-id-1 div.sk-toggleable__content pre {margin: 0.2em;color: black;border-radius: 0.25em;background-color: #f0f8ff;}#sk-container-id-1 input.sk-toggleable__control:checked~div.sk-toggleable__content {max-height: 200px;max-width: 100%;overflow: auto;}#sk-container-id-1 input.sk-toggleable__control:checked~label.sk-toggleable__label-arrow:before {content: \"▾\";}#sk-container-id-1 div.sk-estimator input.sk-toggleable__control:checked~label.sk-toggleable__label {background-color: #d4ebff;}#sk-container-id-1 div.sk-label input.sk-toggleable__control:checked~label.sk-toggleable__label {background-color: #d4ebff;}#sk-container-id-1 input.sk-hidden--visually {border: 0;clip: rect(1px 1px 1px 1px);clip: rect(1px, 1px, 1px, 1px);height: 1px;margin: -1px;overflow: hidden;padding: 0;position: absolute;width: 1px;}#sk-container-id-1 div.sk-estimator {font-family: monospace;background-color: #f0f8ff;border: 1px dotted black;border-radius: 0.25em;box-sizing: border-box;margin-bottom: 0.5em;}#sk-container-id-1 div.sk-estimator:hover {background-color: #d4ebff;}#sk-container-id-1 div.sk-parallel-item::after {content: \"\";width: 100%;border-bottom: 1px solid gray;flex-grow: 1;}#sk-container-id-1 div.sk-label:hover label.sk-toggleable__label {background-color: #d4ebff;}#sk-container-id-1 div.sk-serial::before {content: \"\";position: absolute;border-left: 1px solid gray;box-sizing: border-box;top: 0;bottom: 0;left: 50%;z-index: 0;}#sk-container-id-1 div.sk-serial {display: flex;flex-direction: column;align-items: center;background-color: white;padding-right: 0.2em;padding-left: 0.2em;position: relative;}#sk-container-id-1 div.sk-item {position: relative;z-index: 1;}#sk-container-id-1 div.sk-parallel {display: flex;align-items: stretch;justify-content: center;background-color: white;position: relative;}#sk-container-id-1 div.sk-item::before, #sk-container-id-1 div.sk-parallel-item::before {content: \"\";position: absolute;border-left: 1px solid gray;box-sizing: border-box;top: 0;bottom: 0;left: 50%;z-index: -1;}#sk-container-id-1 div.sk-parallel-item {display: flex;flex-direction: column;z-index: 1;position: relative;background-color: white;}#sk-container-id-1 div.sk-parallel-item:first-child::after {align-self: flex-end;width: 50%;}#sk-container-id-1 div.sk-parallel-item:last-child::after {align-self: flex-start;width: 50%;}#sk-container-id-1 div.sk-parallel-item:only-child::after {width: 0;}#sk-container-id-1 div.sk-dashed-wrapped {border: 1px dashed gray;margin: 0 0.4em 0.5em 0.4em;box-sizing: border-box;padding-bottom: 0.4em;background-color: white;}#sk-container-id-1 div.sk-label label {font-family: monospace;font-weight: bold;display: inline-block;line-height: 1.2em;}#sk-container-id-1 div.sk-label-container {text-align: center;}#sk-container-id-1 div.sk-container {/* jupyter's `normalize.less` sets `[hidden] { display: none; }` but bootstrap.min.css set `[hidden] { display: none !important; }` so we also need the `!important` here to be able to override the default hidden behavior on the sphinx rendered scikit-learn.org. See: https://github.com/scikit-learn/scikit-learn/issues/21755 */display: inline-block !important;position: relative;}#sk-container-id-1 div.sk-text-repr-fallback {display: none;}</style><div id=\"sk-container-id-1\" class=\"sk-top-container\"><div class=\"sk-text-repr-fallback\"><pre>GridSearchCV(cv=3, estimator=MLPClassifier(),\n",
       "             param_grid={&#x27;activation&#x27;: [&#x27;identity&#x27;, &#x27;logistic&#x27;, &#x27;tanh&#x27;, &#x27;relu&#x27;],\n",
       "                         &#x27;max_iter&#x27;: [200, 300, 400, 500, 1000],\n",
       "                         &#x27;solver&#x27;: [&#x27;lbfgs&#x27;, &#x27;sgd&#x27;, &#x27;adam&#x27;]},\n",
       "             verbose=1)</pre><b>In a Jupyter environment, please rerun this cell to show the HTML representation or trust the notebook. <br />On GitHub, the HTML representation is unable to render, please try loading this page with nbviewer.org.</b></div><div class=\"sk-container\" hidden><div class=\"sk-item sk-dashed-wrapped\"><div class=\"sk-label-container\"><div class=\"sk-label sk-toggleable\"><input class=\"sk-toggleable__control sk-hidden--visually\" id=\"sk-estimator-id-1\" type=\"checkbox\" ><label for=\"sk-estimator-id-1\" class=\"sk-toggleable__label sk-toggleable__label-arrow\">GridSearchCV</label><div class=\"sk-toggleable__content\"><pre>GridSearchCV(cv=3, estimator=MLPClassifier(),\n",
       "             param_grid={&#x27;activation&#x27;: [&#x27;identity&#x27;, &#x27;logistic&#x27;, &#x27;tanh&#x27;, &#x27;relu&#x27;],\n",
       "                         &#x27;max_iter&#x27;: [200, 300, 400, 500, 1000],\n",
       "                         &#x27;solver&#x27;: [&#x27;lbfgs&#x27;, &#x27;sgd&#x27;, &#x27;adam&#x27;]},\n",
       "             verbose=1)</pre></div></div></div><div class=\"sk-parallel\"><div class=\"sk-parallel-item\"><div class=\"sk-item\"><div class=\"sk-label-container\"><div class=\"sk-label sk-toggleable\"><input class=\"sk-toggleable__control sk-hidden--visually\" id=\"sk-estimator-id-2\" type=\"checkbox\" ><label for=\"sk-estimator-id-2\" class=\"sk-toggleable__label sk-toggleable__label-arrow\">estimator: MLPClassifier</label><div class=\"sk-toggleable__content\"><pre>MLPClassifier()</pre></div></div></div><div class=\"sk-serial\"><div class=\"sk-item\"><div class=\"sk-estimator sk-toggleable\"><input class=\"sk-toggleable__control sk-hidden--visually\" id=\"sk-estimator-id-3\" type=\"checkbox\" ><label for=\"sk-estimator-id-3\" class=\"sk-toggleable__label sk-toggleable__label-arrow\">MLPClassifier</label><div class=\"sk-toggleable__content\"><pre>MLPClassifier()</pre></div></div></div></div></div></div></div></div></div></div>"
      ],
      "text/plain": [
       "GridSearchCV(cv=3, estimator=MLPClassifier(),\n",
       "             param_grid={'activation': ['identity', 'logistic', 'tanh', 'relu'],\n",
       "                         'max_iter': [200, 300, 400, 500, 1000],\n",
       "                         'solver': ['lbfgs', 'sgd', 'adam']},\n",
       "             verbose=1)"
      ]
     },
     "execution_count": 118,
     "metadata": {},
     "output_type": "execute_result"
    }
   ],
   "source": [
    "grid_search_cv = GridSearchCV(MLPClassifier(), params, verbose=1, cv=3)\n",
    "grid_search_cv.fit(X_train, y_train)"
   ]
  },
  {
   "cell_type": "code",
   "execution_count": 119,
   "id": "5437aab1",
   "metadata": {},
   "outputs": [
    {
     "data": {
      "text/html": [
       "<style>#sk-container-id-2 {color: black;background-color: white;}#sk-container-id-2 pre{padding: 0;}#sk-container-id-2 div.sk-toggleable {background-color: white;}#sk-container-id-2 label.sk-toggleable__label {cursor: pointer;display: block;width: 100%;margin-bottom: 0;padding: 0.3em;box-sizing: border-box;text-align: center;}#sk-container-id-2 label.sk-toggleable__label-arrow:before {content: \"▸\";float: left;margin-right: 0.25em;color: #696969;}#sk-container-id-2 label.sk-toggleable__label-arrow:hover:before {color: black;}#sk-container-id-2 div.sk-estimator:hover label.sk-toggleable__label-arrow:before {color: black;}#sk-container-id-2 div.sk-toggleable__content {max-height: 0;max-width: 0;overflow: hidden;text-align: left;background-color: #f0f8ff;}#sk-container-id-2 div.sk-toggleable__content pre {margin: 0.2em;color: black;border-radius: 0.25em;background-color: #f0f8ff;}#sk-container-id-2 input.sk-toggleable__control:checked~div.sk-toggleable__content {max-height: 200px;max-width: 100%;overflow: auto;}#sk-container-id-2 input.sk-toggleable__control:checked~label.sk-toggleable__label-arrow:before {content: \"▾\";}#sk-container-id-2 div.sk-estimator input.sk-toggleable__control:checked~label.sk-toggleable__label {background-color: #d4ebff;}#sk-container-id-2 div.sk-label input.sk-toggleable__control:checked~label.sk-toggleable__label {background-color: #d4ebff;}#sk-container-id-2 input.sk-hidden--visually {border: 0;clip: rect(1px 1px 1px 1px);clip: rect(1px, 1px, 1px, 1px);height: 1px;margin: -1px;overflow: hidden;padding: 0;position: absolute;width: 1px;}#sk-container-id-2 div.sk-estimator {font-family: monospace;background-color: #f0f8ff;border: 1px dotted black;border-radius: 0.25em;box-sizing: border-box;margin-bottom: 0.5em;}#sk-container-id-2 div.sk-estimator:hover {background-color: #d4ebff;}#sk-container-id-2 div.sk-parallel-item::after {content: \"\";width: 100%;border-bottom: 1px solid gray;flex-grow: 1;}#sk-container-id-2 div.sk-label:hover label.sk-toggleable__label {background-color: #d4ebff;}#sk-container-id-2 div.sk-serial::before {content: \"\";position: absolute;border-left: 1px solid gray;box-sizing: border-box;top: 0;bottom: 0;left: 50%;z-index: 0;}#sk-container-id-2 div.sk-serial {display: flex;flex-direction: column;align-items: center;background-color: white;padding-right: 0.2em;padding-left: 0.2em;position: relative;}#sk-container-id-2 div.sk-item {position: relative;z-index: 1;}#sk-container-id-2 div.sk-parallel {display: flex;align-items: stretch;justify-content: center;background-color: white;position: relative;}#sk-container-id-2 div.sk-item::before, #sk-container-id-2 div.sk-parallel-item::before {content: \"\";position: absolute;border-left: 1px solid gray;box-sizing: border-box;top: 0;bottom: 0;left: 50%;z-index: -1;}#sk-container-id-2 div.sk-parallel-item {display: flex;flex-direction: column;z-index: 1;position: relative;background-color: white;}#sk-container-id-2 div.sk-parallel-item:first-child::after {align-self: flex-end;width: 50%;}#sk-container-id-2 div.sk-parallel-item:last-child::after {align-self: flex-start;width: 50%;}#sk-container-id-2 div.sk-parallel-item:only-child::after {width: 0;}#sk-container-id-2 div.sk-dashed-wrapped {border: 1px dashed gray;margin: 0 0.4em 0.5em 0.4em;box-sizing: border-box;padding-bottom: 0.4em;background-color: white;}#sk-container-id-2 div.sk-label label {font-family: monospace;font-weight: bold;display: inline-block;line-height: 1.2em;}#sk-container-id-2 div.sk-label-container {text-align: center;}#sk-container-id-2 div.sk-container {/* jupyter's `normalize.less` sets `[hidden] { display: none; }` but bootstrap.min.css set `[hidden] { display: none !important; }` so we also need the `!important` here to be able to override the default hidden behavior on the sphinx rendered scikit-learn.org. See: https://github.com/scikit-learn/scikit-learn/issues/21755 */display: inline-block !important;position: relative;}#sk-container-id-2 div.sk-text-repr-fallback {display: none;}</style><div id=\"sk-container-id-2\" class=\"sk-top-container\"><div class=\"sk-text-repr-fallback\"><pre>MLPClassifier(solver=&#x27;lbfgs&#x27;)</pre><b>In a Jupyter environment, please rerun this cell to show the HTML representation or trust the notebook. <br />On GitHub, the HTML representation is unable to render, please try loading this page with nbviewer.org.</b></div><div class=\"sk-container\" hidden><div class=\"sk-item\"><div class=\"sk-estimator sk-toggleable\"><input class=\"sk-toggleable__control sk-hidden--visually\" id=\"sk-estimator-id-4\" type=\"checkbox\" checked><label for=\"sk-estimator-id-4\" class=\"sk-toggleable__label sk-toggleable__label-arrow\">MLPClassifier</label><div class=\"sk-toggleable__content\"><pre>MLPClassifier(solver=&#x27;lbfgs&#x27;)</pre></div></div></div></div></div>"
      ],
      "text/plain": [
       "MLPClassifier(solver='lbfgs')"
      ]
     },
     "execution_count": 119,
     "metadata": {},
     "output_type": "execute_result"
    }
   ],
   "source": [
    "grid_search_cv.best_estimator_"
   ]
  },
  {
   "cell_type": "code",
   "execution_count": 120,
   "id": "082d6dc6",
   "metadata": {},
   "outputs": [
    {
     "name": "stdout",
     "output_type": "stream",
     "text": [
      "Accuracy of the classifier on the test set is: 0.8716577540106952\n"
     ]
    }
   ],
   "source": [
    "per10 = MLPClassifier(solver='lbfgs')\n",
    "per10.fit(X_train, y_train)\n",
    "y_pred10 = per10.predict(X_test)\n",
    "print(f\"Accuracy of the classifier on the test set is: {accuracy_score(y_test, y_pred10)}\")"
   ]
  },
  {
   "cell_type": "code",
   "execution_count": 121,
   "id": "2ed6e0af",
   "metadata": {
    "scrolled": true
   },
   "outputs": [
    {
     "name": "stdout",
     "output_type": "stream",
     "text": [
      "Accuracy of the classifier on the training set is: 0.8548387096774194\n"
     ]
    }
   ],
   "source": [
    "y_pred_tr4 = per10.predict(X_train)\n",
    "print(f\"Accuracy of the classifier on the training set is: {accuracy_score(y_train, y_pred_tr4)}\")"
   ]
  },
  {
   "cell_type": "markdown",
   "id": "b0a65df5",
   "metadata": {},
   "source": [
    "While I wouldn't really consider the model as overfitted, we'll proceed with the ways of mitigating the problem for practice.\n",
    "- Can't use the parameter early stopping here since our solver isn't sgd or adam\n",
    "- we can use alpha to raise the strength of the L2 regularization \n",
    "- We can also try Recursive feature elimination (year most likely is an attribute we can drop)\n",
    "\n",
    "First we'll see the effects of the alpha parameter :"
   ]
  },
  {
   "cell_type": "code",
   "execution_count": 160,
   "id": "dedbed52",
   "metadata": {},
   "outputs": [
    {
     "name": "stdout",
     "output_type": "stream",
     "text": [
      "Accuracy of the classifier on the test set is: 0.8502673796791443\n"
     ]
    }
   ],
   "source": [
    "per11 = MLPClassifier(solver='lbfgs',alpha = 0.001)\n",
    "per11.fit(X_train, y_train)\n",
    "y_pred11 = per11.predict(X_test)\n",
    "print(f\"Accuracy of the classifier on the test set is: {accuracy_score(y_test, y_pred11)}\")"
   ]
  },
  {
   "cell_type": "code",
   "execution_count": 161,
   "id": "738a539c",
   "metadata": {},
   "outputs": [
    {
     "name": "stdout",
     "output_type": "stream",
     "text": [
      "Accuracy of the classifier on the test set is: 0.40641711229946526\n"
     ]
    },
    {
     "name": "stderr",
     "output_type": "stream",
     "text": [
      "C:\\Users\\Asus\\anaconda3\\lib\\site-packages\\sklearn\\neural_network\\_multilayer_perceptron.py:559: ConvergenceWarning: lbfgs failed to converge (status=2):\n",
      "ABNORMAL_TERMINATION_IN_LNSRCH.\n",
      "\n",
      "Increase the number of iterations (max_iter) or scale the data as shown in:\n",
      "    https://scikit-learn.org/stable/modules/preprocessing.html\n",
      "  self.n_iter_ = _check_optimize_result(\"lbfgs\", opt_res, self.max_iter)\n"
     ]
    }
   ],
   "source": [
    "per12 = MLPClassifier(solver='lbfgs',alpha = 0.01)\n",
    "per12.fit(X_train, y_train)\n",
    "y_pred12 = per12.predict(X_test)\n",
    "print(f\"Accuracy of the classifier on the test set is: {accuracy_score(y_test, y_pred12)}\")"
   ]
  },
  {
   "cell_type": "markdown",
   "id": "ad304a1e",
   "metadata": {},
   "source": [
    "https://towardsdatascience.com/powerful-feature-selection-with-recursive-feature-elimination-rfe-of-sklearn-23efb2cdb54e#:~:text=One%20such%20technique%20offered%20by%20Sklearn%20is%20Recursive,due%20to%20its%20flexibility%20and%20ease%20of%20use.\n",
    "\n",
    "Sklearn Recursive Feature Elimination Class :\n"
   ]
  },
  {
   "cell_type": "code",
   "execution_count": 166,
   "id": "99437a10",
   "metadata": {},
   "outputs": [
    {
     "name": "stderr",
     "output_type": "stream",
     "text": [
      "C:\\Users\\Asus\\anaconda3\\lib\\site-packages\\sklearn\\neural_network\\_multilayer_perceptron.py:559: ConvergenceWarning: lbfgs failed to converge (status=2):\n",
      "ABNORMAL_TERMINATION_IN_LNSRCH.\n",
      "\n",
      "Increase the number of iterations (max_iter) or scale the data as shown in:\n",
      "    https://scikit-learn.org/stable/modules/preprocessing.html\n",
      "  self.n_iter_ = _check_optimize_result(\"lbfgs\", opt_res, self.max_iter)\n"
     ]
    },
    {
     "ename": "ValueError",
     "evalue": "when `importance_getter=='auto'`, the underlying estimator MLPClassifier should have `coef_` or `feature_importances_` attribute. Either pass a fitted estimator to feature selector or call fit before calling transform.",
     "output_type": "error",
     "traceback": [
      "\u001b[1;31m---------------------------------------------------------------------------\u001b[0m",
      "\u001b[1;31mValueError\u001b[0m                                Traceback (most recent call last)",
      "\u001b[1;32m<ipython-input-166-4d2318fee5ac>\u001b[0m in \u001b[0;36m<module>\u001b[1;34m\u001b[0m\n\u001b[0;32m      2\u001b[0m \u001b[1;31m# Init the transformer\u001b[0m\u001b[1;33m\u001b[0m\u001b[1;33m\u001b[0m\u001b[1;33m\u001b[0m\u001b[0m\n\u001b[0;32m      3\u001b[0m \u001b[0mrfe\u001b[0m \u001b[1;33m=\u001b[0m \u001b[0mRFE\u001b[0m\u001b[1;33m(\u001b[0m\u001b[0mMLPClassifier\u001b[0m\u001b[1;33m(\u001b[0m\u001b[0msolver\u001b[0m\u001b[1;33m=\u001b[0m\u001b[1;34m'lbfgs'\u001b[0m\u001b[1;33m)\u001b[0m\u001b[1;33m,\u001b[0m \u001b[0mn_features_to_select\u001b[0m\u001b[1;33m=\u001b[0m\u001b[1;36m5\u001b[0m\u001b[1;33m)\u001b[0m\u001b[1;33m\u001b[0m\u001b[1;33m\u001b[0m\u001b[0m\n\u001b[1;32m----> 4\u001b[1;33m \u001b[0mrfe\u001b[0m\u001b[1;33m.\u001b[0m\u001b[0mfit\u001b[0m\u001b[1;33m(\u001b[0m\u001b[0mX_train\u001b[0m\u001b[1;33m,\u001b[0m \u001b[0my_train\u001b[0m\u001b[1;33m)\u001b[0m\u001b[1;33m\u001b[0m\u001b[1;33m\u001b[0m\u001b[0m\n\u001b[0m",
      "\u001b[1;32m~\\anaconda3\\lib\\site-packages\\sklearn\\feature_selection\\_rfe.py\u001b[0m in \u001b[0;36mfit\u001b[1;34m(self, X, y, **fit_params)\u001b[0m\n\u001b[0;32m    233\u001b[0m             \u001b[0mFitted\u001b[0m \u001b[0mestimator\u001b[0m\u001b[1;33m.\u001b[0m\u001b[1;33m\u001b[0m\u001b[1;33m\u001b[0m\u001b[0m\n\u001b[0;32m    234\u001b[0m         \"\"\"\n\u001b[1;32m--> 235\u001b[1;33m         \u001b[1;32mreturn\u001b[0m \u001b[0mself\u001b[0m\u001b[1;33m.\u001b[0m\u001b[0m_fit\u001b[0m\u001b[1;33m(\u001b[0m\u001b[0mX\u001b[0m\u001b[1;33m,\u001b[0m \u001b[0my\u001b[0m\u001b[1;33m,\u001b[0m \u001b[1;33m**\u001b[0m\u001b[0mfit_params\u001b[0m\u001b[1;33m)\u001b[0m\u001b[1;33m\u001b[0m\u001b[1;33m\u001b[0m\u001b[0m\n\u001b[0m\u001b[0;32m    236\u001b[0m \u001b[1;33m\u001b[0m\u001b[0m\n\u001b[0;32m    237\u001b[0m     \u001b[1;32mdef\u001b[0m \u001b[0m_fit\u001b[0m\u001b[1;33m(\u001b[0m\u001b[0mself\u001b[0m\u001b[1;33m,\u001b[0m \u001b[0mX\u001b[0m\u001b[1;33m,\u001b[0m \u001b[0my\u001b[0m\u001b[1;33m,\u001b[0m \u001b[0mstep_score\u001b[0m\u001b[1;33m=\u001b[0m\u001b[1;32mNone\u001b[0m\u001b[1;33m,\u001b[0m \u001b[1;33m**\u001b[0m\u001b[0mfit_params\u001b[0m\u001b[1;33m)\u001b[0m\u001b[1;33m:\u001b[0m\u001b[1;33m\u001b[0m\u001b[1;33m\u001b[0m\u001b[0m\n",
      "\u001b[1;32m~\\anaconda3\\lib\\site-packages\\sklearn\\feature_selection\\_rfe.py\u001b[0m in \u001b[0;36m_fit\u001b[1;34m(self, X, y, step_score, **fit_params)\u001b[0m\n\u001b[0;32m    297\u001b[0m \u001b[1;33m\u001b[0m\u001b[0m\n\u001b[0;32m    298\u001b[0m             \u001b[1;31m# Get importance and rank them\u001b[0m\u001b[1;33m\u001b[0m\u001b[1;33m\u001b[0m\u001b[1;33m\u001b[0m\u001b[0m\n\u001b[1;32m--> 299\u001b[1;33m             importances = _get_feature_importances(\n\u001b[0m\u001b[0;32m    300\u001b[0m                 \u001b[0mestimator\u001b[0m\u001b[1;33m,\u001b[0m\u001b[1;33m\u001b[0m\u001b[1;33m\u001b[0m\u001b[0m\n\u001b[0;32m    301\u001b[0m                 \u001b[0mself\u001b[0m\u001b[1;33m.\u001b[0m\u001b[0mimportance_getter\u001b[0m\u001b[1;33m,\u001b[0m\u001b[1;33m\u001b[0m\u001b[1;33m\u001b[0m\u001b[0m\n",
      "\u001b[1;32m~\\anaconda3\\lib\\site-packages\\sklearn\\feature_selection\\_base.py\u001b[0m in \u001b[0;36m_get_feature_importances\u001b[1;34m(estimator, getter, transform_func, norm_order)\u001b[0m\n\u001b[0;32m    206\u001b[0m                 \u001b[0mgetter\u001b[0m \u001b[1;33m=\u001b[0m \u001b[0mattrgetter\u001b[0m\u001b[1;33m(\u001b[0m\u001b[1;34m\"feature_importances_\"\u001b[0m\u001b[1;33m)\u001b[0m\u001b[1;33m\u001b[0m\u001b[1;33m\u001b[0m\u001b[0m\n\u001b[0;32m    207\u001b[0m             \u001b[1;32melse\u001b[0m\u001b[1;33m:\u001b[0m\u001b[1;33m\u001b[0m\u001b[1;33m\u001b[0m\u001b[0m\n\u001b[1;32m--> 208\u001b[1;33m                 raise ValueError(\n\u001b[0m\u001b[0;32m    209\u001b[0m                     \u001b[1;34m\"when `importance_getter=='auto'`, the underlying \"\u001b[0m\u001b[1;33m\u001b[0m\u001b[1;33m\u001b[0m\u001b[0m\n\u001b[0;32m    210\u001b[0m                     \u001b[1;34mf\"estimator {estimator.__class__.__name__} should have \"\u001b[0m\u001b[1;33m\u001b[0m\u001b[1;33m\u001b[0m\u001b[0m\n",
      "\u001b[1;31mValueError\u001b[0m: when `importance_getter=='auto'`, the underlying estimator MLPClassifier should have `coef_` or `feature_importances_` attribute. Either pass a fitted estimator to feature selector or call fit before calling transform."
     ]
    }
   ],
   "source": [
    "from sklearn.feature_selection import RFE\n",
    "# Init the transformer\n",
    "rfe = RFE(MLPClassifier(solver='lbfgs'), n_features_to_select=5)\n",
    "rfe.fit(X_train, y_train)"
   ]
  },
  {
   "cell_type": "markdown",
   "id": "93e7cd57",
   "metadata": {},
   "source": [
    "https://datascience.stackexchange.com/questions/44700/how-do-i-get-the-feature-importace-for-a-mlpclassifier#:~:text=Although%20not%20all%20scikit-learn%20integration%20is%20present%20when,saves%20you%20from%20trying%20to%20implement%20it%20yourself.\n",
    "\n",
    "https://stackoverflow.com/questions/41082835/sklearn-mlp-feature-selection\n",
    "\n",
    "https://scikit-learn.org/stable/modules/permutation_importance.html"
   ]
  },
  {
   "cell_type": "code",
   "execution_count": 169,
   "id": "e40294b9",
   "metadata": {},
   "outputs": [],
   "source": [
    "from sklearn.inspection import permutation_importance"
   ]
  },
  {
   "cell_type": "code",
   "execution_count": 171,
   "id": "ce3cc77f",
   "metadata": {},
   "outputs": [],
   "source": [
    "r = permutation_importance(per11, X_train, y_train, n_repeats=30)"
   ]
  },
  {
   "cell_type": "code",
   "execution_count": 174,
   "id": "69017457",
   "metadata": {},
   "outputs": [
    {
     "data": {
      "text/plain": [
       "0.8239247311827957"
      ]
     },
     "execution_count": 174,
     "metadata": {},
     "output_type": "execute_result"
    }
   ],
   "source": [
    "per11.score(X_train, y_train)"
   ]
  },
  {
   "cell_type": "code",
   "execution_count": 173,
   "id": "fb5187fe",
   "metadata": {},
   "outputs": [
    {
     "name": "stdout",
     "output_type": "stream",
     "text": [
      "GDP per Capita0.150 +/- 0.013\n",
      "Social support0.027 +/- 0.010\n"
     ]
    }
   ],
   "source": [
    "for i in r.importances_mean.argsort()[::-1]:\n",
    "    if r.importances_mean[i] - 2 * r.importances_std[i] > 0:\n",
    "        print(f\"{df.columns[i]:<8}\"\n",
    "              f\"{r.importances_mean[i]:.3f}\"\n",
    "              f\" +/- {r.importances_std[i]:.3f}\")"
   ]
  },
  {
   "cell_type": "markdown",
   "id": "2c9b7f27",
   "metadata": {},
   "source": [
    "https://machinelearningmastery.com/how-to-reduce-overfitting-with-dropout-regularization-in-keras/"
   ]
  },
  {
   "cell_type": "code",
   "execution_count": 175,
   "id": "d404ab23",
   "metadata": {},
   "outputs": [],
   "source": [
    "import tensorflow as tf\n",
    "from tensorflow import keras"
   ]
  },
  {
   "cell_type": "markdown",
   "id": "e54715ae",
   "metadata": {},
   "source": [
    "german street sign recognition\n",
    "\n",
    "Fashion MNIST"
   ]
  },
  {
   "cell_type": "markdown",
   "id": "bd2f5608",
   "metadata": {},
   "source": [
    "https://machinelearningmastery.com/understand-the-dynamics-of-learning-rate-on-deep-learning-neural-networks/#:~:text=The%20learning%20rate%20controls%20how%20quickly%20the%20model,in%20rapid%20changes%20and%20require%20fewer%20training%20epochs.\n",
    "\n",
    "https://stats.stackexchange.com/questions/338255/what-is-effect-of-increasing-number-of-hidden-layers-in-a-feed-forward-nn#:~:text=2%29%20Increasing%20the%20number%20of%20hidden%20layers%20much,be%20able%20to%20generalize%20to%20new%20unseen%20data.\n",
    "\n",
    "https://www.aitude.com/comparison-of-sigmoid-tanh-and-relu-activation-functions/https://www.aitude.com/comparison-of-sigmoid-tanh-and-relu-activation-functions/"
   ]
  }
 ],
 "metadata": {
  "kernelspec": {
   "display_name": "Python 3",
   "language": "python",
   "name": "python3"
  },
  "language_info": {
   "codemirror_mode": {
    "name": "ipython",
    "version": 3
   },
   "file_extension": ".py",
   "mimetype": "text/x-python",
   "name": "python",
   "nbconvert_exporter": "python",
   "pygments_lexer": "ipython3",
   "version": "3.8.8"
  }
 },
 "nbformat": 4,
 "nbformat_minor": 5
}
