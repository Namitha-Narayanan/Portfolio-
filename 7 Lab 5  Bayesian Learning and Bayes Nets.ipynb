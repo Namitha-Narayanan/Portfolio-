{
 "cells": [
  {
   "cell_type": "markdown",
   "id": "ef5060f3",
   "metadata": {},
   "source": [
    "Topics :\n",
    "- Bayesian Probabilities\n",
    "- Bayes Nets and algorithms that underpin them\n",
    "- Practical considerations in running Bayes nets on the given data"
   ]
  },
  {
   "cell_type": "code",
   "execution_count": 9,
   "id": "f8b0bbc1",
   "metadata": {},
   "outputs": [],
   "source": [
    "from IPython.display import Image"
   ]
  },
  {
   "cell_type": "code",
   "execution_count": 3,
   "id": "68089e71",
   "metadata": {},
   "outputs": [
    {
     "name": "stderr",
     "output_type": "stream",
     "text": [
      "C:\\Users\\Asus\\anaconda3\\lib\\site-packages\\scipy\\__init__.py:146: UserWarning: A NumPy version >=1.16.5 and <1.23.0 is required for this version of SciPy (detected version 1.23.3\n",
      "  warnings.warn(f\"A NumPy version >={np_minversion} and <{np_maxversion}\"\n"
     ]
    }
   ],
   "source": [
    "import pandas as pd\n",
    "import numpy as np\n",
    "import seaborn as sns\n",
    "import statsmodels.api as sm\n",
    "\n",
    "import matplotlib.pyplot as plt\n",
    "import matplotlib as mlp\n",
    "%matplotlib inline"
   ]
  },
  {
   "cell_type": "code",
   "execution_count": 11,
   "id": "1946dfcd",
   "metadata": {},
   "outputs": [],
   "source": [
    "df = pd.read_csv(\"data_2_cat.csv\")"
   ]
  },
  {
   "cell_type": "code",
   "execution_count": 12,
   "id": "ba6e58d7",
   "metadata": {},
   "outputs": [],
   "source": [
    "df = df.drop(df.columns[0], axis=1)"
   ]
  },
  {
   "cell_type": "code",
   "execution_count": 13,
   "id": "ebf48c6a",
   "metadata": {},
   "outputs": [],
   "source": [
    "df['tier'] = df['tier'].replace(['First','Second'],['1','2'])\n",
    "df['tier'] = df['tier'].astype(float)"
   ]
  },
  {
   "cell_type": "code",
   "execution_count": 14,
   "id": "89764756",
   "metadata": {},
   "outputs": [],
   "source": [
    "df = df.drop('Country',axis=1)"
   ]
  },
  {
   "cell_type": "code",
   "execution_count": 15,
   "id": "b5c7469b",
   "metadata": {},
   "outputs": [],
   "source": [
    "df = df.drop('Happiness Rank',axis=1)"
   ]
  },
  {
   "cell_type": "code",
   "execution_count": 16,
   "id": "663b5333",
   "metadata": {},
   "outputs": [],
   "source": [
    "df = df.drop('Happiness Score',axis=1)"
   ]
  },
  {
   "cell_type": "code",
   "execution_count": 17,
   "id": "6c6e61ff",
   "metadata": {},
   "outputs": [
    {
     "data": {
      "text/html": [
       "<div>\n",
       "<style scoped>\n",
       "    .dataframe tbody tr th:only-of-type {\n",
       "        vertical-align: middle;\n",
       "    }\n",
       "\n",
       "    .dataframe tbody tr th {\n",
       "        vertical-align: top;\n",
       "    }\n",
       "\n",
       "    .dataframe thead th {\n",
       "        text-align: right;\n",
       "    }\n",
       "</style>\n",
       "<table border=\"1\" class=\"dataframe\">\n",
       "  <thead>\n",
       "    <tr style=\"text-align: right;\">\n",
       "      <th></th>\n",
       "      <th>Year</th>\n",
       "      <th>GDP per Capita</th>\n",
       "      <th>Social support</th>\n",
       "      <th>Life Expectancy</th>\n",
       "      <th>Freedom to make life choices</th>\n",
       "      <th>Perceptions of corruption</th>\n",
       "      <th>Generosity</th>\n",
       "      <th>tier</th>\n",
       "    </tr>\n",
       "  </thead>\n",
       "  <tbody>\n",
       "    <tr>\n",
       "      <th>0</th>\n",
       "      <td>2015</td>\n",
       "      <td>1.39651</td>\n",
       "      <td>1.34951</td>\n",
       "      <td>0.94143</td>\n",
       "      <td>0.66557</td>\n",
       "      <td>0.41978</td>\n",
       "      <td>0.29678</td>\n",
       "      <td>1.0</td>\n",
       "    </tr>\n",
       "    <tr>\n",
       "      <th>1</th>\n",
       "      <td>2015</td>\n",
       "      <td>1.30232</td>\n",
       "      <td>1.40223</td>\n",
       "      <td>0.94784</td>\n",
       "      <td>0.62877</td>\n",
       "      <td>0.14145</td>\n",
       "      <td>0.43630</td>\n",
       "      <td>1.0</td>\n",
       "    </tr>\n",
       "    <tr>\n",
       "      <th>2</th>\n",
       "      <td>2015</td>\n",
       "      <td>1.32548</td>\n",
       "      <td>1.36058</td>\n",
       "      <td>0.87464</td>\n",
       "      <td>0.64938</td>\n",
       "      <td>0.48357</td>\n",
       "      <td>0.34139</td>\n",
       "      <td>1.0</td>\n",
       "    </tr>\n",
       "    <tr>\n",
       "      <th>3</th>\n",
       "      <td>2015</td>\n",
       "      <td>1.45900</td>\n",
       "      <td>1.33095</td>\n",
       "      <td>0.88521</td>\n",
       "      <td>0.66973</td>\n",
       "      <td>0.36503</td>\n",
       "      <td>0.34699</td>\n",
       "      <td>1.0</td>\n",
       "    </tr>\n",
       "    <tr>\n",
       "      <th>4</th>\n",
       "      <td>2015</td>\n",
       "      <td>1.32629</td>\n",
       "      <td>1.32261</td>\n",
       "      <td>0.90563</td>\n",
       "      <td>0.63297</td>\n",
       "      <td>0.32957</td>\n",
       "      <td>0.45811</td>\n",
       "      <td>1.0</td>\n",
       "    </tr>\n",
       "  </tbody>\n",
       "</table>\n",
       "</div>"
      ],
      "text/plain": [
       "   Year  GDP per Capita  Social support  Life Expectancy  \\\n",
       "0  2015         1.39651         1.34951          0.94143   \n",
       "1  2015         1.30232         1.40223          0.94784   \n",
       "2  2015         1.32548         1.36058          0.87464   \n",
       "3  2015         1.45900         1.33095          0.88521   \n",
       "4  2015         1.32629         1.32261          0.90563   \n",
       "\n",
       "   Freedom to make life choices  Perceptions of corruption  Generosity  tier  \n",
       "0                       0.66557                    0.41978     0.29678   1.0  \n",
       "1                       0.62877                    0.14145     0.43630   1.0  \n",
       "2                       0.64938                    0.48357     0.34139   1.0  \n",
       "3                       0.66973                    0.36503     0.34699   1.0  \n",
       "4                       0.63297                    0.32957     0.45811   1.0  "
      ]
     },
     "execution_count": 17,
     "metadata": {},
     "output_type": "execute_result"
    }
   ],
   "source": [
    "df.head()"
   ]
  },
  {
   "cell_type": "markdown",
   "id": "dcb6801a",
   "metadata": {},
   "source": [
    "# Documentation on Bayes nets"
   ]
  },
  {
   "cell_type": "markdown",
   "id": "d13d2536",
   "metadata": {},
   "source": [
    "https://scikit-learn.org/stable/modules/naive_bayes.html#"
   ]
  },
  {
   "cell_type": "markdown",
   "id": "fb08f63f",
   "metadata": {},
   "source": [
    "- Naive Bayes methods are a set of supervised learning algorithms based on applying Bayes’ theorem"
   ]
  },
  {
   "cell_type": "code",
   "execution_count": 13,
   "id": "a343392b",
   "metadata": {},
   "outputs": [
    {
     "data": {
      "text/html": [
       "<img src=\"2.PNG\" width=\"200\" height=\"300\"/>"
      ],
      "text/plain": [
       "<IPython.core.display.Image object>"
      ]
     },
     "execution_count": 13,
     "metadata": {},
     "output_type": "execute_result"
    }
   ],
   "source": [
    "Image(url=\"2.PNG\", width=200, height=300)"
   ]
  },
  {
   "cell_type": "markdown",
   "id": "52c7168b",
   "metadata": {},
   "source": [
    "P(cause\\effect) = P(effect\\cause)P(cause)/P(effect)\n",
    "- knowing P (effect |cause) is a matter of routine observation\n",
    "- finding out P (cause|effect ) – amounts to learning, acquiring new knowledge about the world!"
   ]
  },
  {
   "cell_type": "code",
   "execution_count": 15,
   "id": "c5d16dda",
   "metadata": {},
   "outputs": [
    {
     "data": {
      "text/html": [
       "<img src=\"3.PNG\" width=\"400\" height=\"300\"/>"
      ],
      "text/plain": [
       "<IPython.core.display.Image object>"
      ]
     },
     "execution_count": 15,
     "metadata": {},
     "output_type": "execute_result"
    }
   ],
   "source": [
    "Image(url=\"3.PNG\", width=400, height=300)"
   ]
  },
  {
   "cell_type": "markdown",
   "id": "768a4f79",
   "metadata": {},
   "source": [
    "and we can use Maximum A Posteriori (MAP) estimation to estimate P(y) and P(xi \\y) ; the former is then the **relative frequency of class y in the training set**."
   ]
  },
  {
   "cell_type": "markdown",
   "id": "9311406d",
   "metadata": {},
   "source": [
    "- The different naive Bayes classifiers differ mainly by the assumptions they make regarding the distribution P(xi \\y)\n",
    "- Naive Bayes classifiers have worked quite well in many real-world situations, famously document classification and spam filtering.\n",
    "- Naive Bayes classifiers require a small amount of training data to estimate the necessary parameters. The decoupling of the class conditional feature distributions means that each distribution can be independently estimated as a one dimensional distribution. This in turn helps to alleviate problems stemming from the curse of dimensionality.\n",
    "- Although naive Bayes is known as a decent classifier, it is known to be a bad estimator, so the probability outputs from predict_proba are not to be taken too seriously."
   ]
  },
  {
   "cell_type": "markdown",
   "id": "66775aee",
   "metadata": {},
   "source": [
    "## Gaussian Naive Bayes"
   ]
  },
  {
   "cell_type": "markdown",
   "id": "798e1072",
   "metadata": {},
   "source": [
    "The likelihood of the features is assumed to be Gaussian:"
   ]
  },
  {
   "cell_type": "code",
   "execution_count": 21,
   "id": "5a25f871",
   "metadata": {},
   "outputs": [
    {
     "data": {
      "text/html": [
       "<img src=\"5.PNG\" width=\"400\" height=\"300\"/>"
      ],
      "text/plain": [
       "<IPython.core.display.Image object>"
      ]
     },
     "execution_count": 21,
     "metadata": {},
     "output_type": "execute_result"
    }
   ],
   "source": [
    "Image(url=\"5.PNG\", width=400, height=300)"
   ]
  },
  {
   "cell_type": "markdown",
   "id": "37f96059",
   "metadata": {},
   "source": [
    "https://scikit-learn.org/stable/modules/generated/sklearn.naive_bayes.GaussianNB.html#sklearn.naive_bayes.GaussianNB"
   ]
  },
  {
   "cell_type": "code",
   "execution_count": 23,
   "id": "baab6b41",
   "metadata": {},
   "outputs": [
    {
     "name": "stdout",
     "output_type": "stream",
     "text": [
      "Number of mislabeled points out of a total 75 points : 4\n"
     ]
    }
   ],
   "source": [
    "from sklearn.datasets import load_iris\n",
    "from sklearn.model_selection import train_test_split\n",
    "from sklearn.naive_bayes import GaussianNB\n",
    "X, y = load_iris(return_X_y=True)\n",
    "X_train, X_test, y_train, y_test = train_test_split(X, y, test_size=0.5, random_state=0)\n",
    "gnb = GaussianNB()\n",
    "y_pred = gnb.fit(X_train, y_train).predict(X_test)\n",
    "print(\"Number of mislabeled points out of a total %d points : %d\" % (X_test.shape[0], (y_test != y_pred).sum()))"
   ]
  },
  {
   "cell_type": "markdown",
   "id": "e953744a",
   "metadata": {},
   "source": [
    "## Multinomial Naive Bayes"
   ]
  },
  {
   "cell_type": "markdown",
   "id": "985c58d7",
   "metadata": {},
   "source": [
    "It implements the naive Bayes algorithm for multinomially distributed data, and is one of the two classic naive Bayes variants used in text classification (where the data are typically represented as word vector counts, although tf-idf vectors (product of two statistics, term frequency and inverse document frequency, formula that aims to define the importance of a keyword or phrase within a document or a web page) are also known to work well in practice)."
   ]
  },
  {
   "cell_type": "markdown",
   "id": "9dced63f",
   "metadata": {},
   "source": [
    "- The distribution is parametrized by vectors θy = (θy1,...,θyn) for each class y, where n is the number of features (in text classification, the size of vocabulary) and θyi is the probability P(xi \\y) of feature i appearing in sample belonging to class y."
   ]
  },
  {
   "cell_type": "code",
   "execution_count": 27,
   "id": "8044e606",
   "metadata": {},
   "outputs": [
    {
     "data": {
      "text/html": [
       "<img src=\"6.PNG\" width=\"600\" height=\"400\"/>"
      ],
      "text/plain": [
       "<IPython.core.display.Image object>"
      ]
     },
     "execution_count": 27,
     "metadata": {},
     "output_type": "execute_result"
    }
   ],
   "source": [
    "Image(url=\"6.PNG\", width=600, height=400)"
   ]
  },
  {
   "cell_type": "markdown",
   "id": "c1be32ee",
   "metadata": {},
   "source": [
    "- The smoothing priors **α >= 0** accounts for features not present in the learning samples and prevents zero probabilities in further computations.\n",
    "- Setting **α = 1** is called **Laplace smoothing**\n",
    "- **α < 1** is called **Lidstone smoothing**."
   ]
  },
  {
   "cell_type": "markdown",
   "id": "3f4cc003",
   "metadata": {},
   "source": [
    "https://scikit-learn.org/stable/modules/generated/sklearn.naive_bayes.MultinomialNB.html#sklearn.naive_bayes.MultinomialNB"
   ]
  },
  {
   "cell_type": "code",
   "execution_count": 30,
   "id": "346a8459",
   "metadata": {},
   "outputs": [
    {
     "name": "stdout",
     "output_type": "stream",
     "text": [
      "Number of mislabeled points out of a total 75 points : 30\n"
     ]
    }
   ],
   "source": [
    "from sklearn.datasets import load_iris\n",
    "from sklearn.model_selection import train_test_split\n",
    "from sklearn.naive_bayes import MultinomialNB\n",
    "X, y = load_iris(return_X_y=True)\n",
    "X_train, X_test, y_train, y_test = train_test_split(X, y, test_size=0.5, random_state=0)\n",
    "gnb = MultinomialNB()\n",
    "y_pred = gnb.fit(X_train, y_train).predict(X_test)\n",
    "print(\"Number of mislabeled points out of a total %d points : %d\" % (X_test.shape[0], (y_test != y_pred).sum()))"
   ]
  },
  {
   "cell_type": "markdown",
   "id": "9573dbb9",
   "metadata": {},
   "source": [
    "## Complement Naive Bayes"
   ]
  },
  {
   "cell_type": "markdown",
   "id": "7db036ac",
   "metadata": {},
   "source": [
    "- It implements the complement naive Bayes (CNB) algorithm.\n",
    "- CNB is an adaptation of the standard multinomial naive Bayes (MNB) algorithm that is particularly suited for imbalanced data sets.\n",
    "- CNB uses statistics from the complement of each class to compute the model’s weights.\n",
    "- The parameter estimates for CNB are more stable than those for MNB\n",
    "- CNB regularly outperforms MNB (often by a considerable margin) on text classification tasks.\n",
    "- A document is assigned to the class that is the poorest complement match."
   ]
  },
  {
   "cell_type": "markdown",
   "id": "a39dcd68",
   "metadata": {},
   "source": [
    "https://scikit-learn.org/stable/modules/generated/sklearn.naive_bayes.ComplementNB.html#sklearn.naive_bayes.ComplementNB"
   ]
  },
  {
   "cell_type": "code",
   "execution_count": 31,
   "id": "e3306365",
   "metadata": {},
   "outputs": [
    {
     "name": "stdout",
     "output_type": "stream",
     "text": [
      "Number of mislabeled points out of a total 75 points : 30\n"
     ]
    }
   ],
   "source": [
    "from sklearn.datasets import load_iris\n",
    "from sklearn.model_selection import train_test_split\n",
    "from sklearn.naive_bayes import ComplementNB\n",
    "X, y = load_iris(return_X_y=True)\n",
    "X_train, X_test, y_train, y_test = train_test_split(X, y, test_size=0.5, random_state=0)\n",
    "gnb = ComplementNB()\n",
    "y_pred = gnb.fit(X_train, y_train).predict(X_test)\n",
    "print(\"Number of mislabeled points out of a total %d points : %d\" % (X_test.shape[0], (y_test != y_pred).sum()))"
   ]
  },
  {
   "cell_type": "markdown",
   "id": "4997206a",
   "metadata": {},
   "source": [
    "## Bernoulli Naive Bayes"
   ]
  },
  {
   "cell_type": "markdown",
   "id": "80b6c3b9",
   "metadata": {},
   "source": [
    "- Implements the naive Bayes training and classification algorithms for data that is distributed according to multivariate Bernoulli distributions; there may be multiple features but each one is assumed to be a binary-valued (Bernoulli, boolean) variable. \n",
    "- This class requires samples to be represented as binary-valued feature vectors, if handed any other kind of data a BernoulliNB instance may binarize its input (depending on the binarize parameter)"
   ]
  },
  {
   "cell_type": "markdown",
   "id": "a0d150ba",
   "metadata": {},
   "source": [
    "The decision rule for Bernoulli naive Bayes is based on :"
   ]
  },
  {
   "cell_type": "code",
   "execution_count": 33,
   "id": "ad0fec7b",
   "metadata": {},
   "outputs": [
    {
     "data": {
      "text/html": [
       "<img src=\"7.PNG\" width=\"400\" height=\"400\"/>"
      ],
      "text/plain": [
       "<IPython.core.display.Image object>"
      ]
     },
     "execution_count": 33,
     "metadata": {},
     "output_type": "execute_result"
    }
   ],
   "source": [
    "Image(url=\"7.PNG\", width=400, height=400)"
   ]
  },
  {
   "cell_type": "markdown",
   "id": "b0685d5d",
   "metadata": {},
   "source": [
    "- This differs from multinomial NB’s rule in that it explicitly penalizes the non-occurrence of a feature i that is an indicator for class y, where the multinomial variant would simply ignore a non-occurring feature.\n",
    "- In the case of text classification, word occurrence vectors (rather than word count vectors) may be used to train and use this classifier. BernoulliNB might perform better on some datasets, especially those with shorter documents. It is advisable to evaluate both models, if time permits."
   ]
  },
  {
   "cell_type": "markdown",
   "id": "1812efa5",
   "metadata": {},
   "source": [
    "https://scikit-learn.org/stable/modules/generated/sklearn.naive_bayes.BernoulliNB.html#sklearn.naive_bayes.BernoulliNB"
   ]
  },
  {
   "cell_type": "code",
   "execution_count": 64,
   "id": "c190432b",
   "metadata": {},
   "outputs": [
    {
     "name": "stdout",
     "output_type": "stream",
     "text": [
      "Number of mislabeled points out of a total 75 points : 54\n"
     ]
    }
   ],
   "source": [
    "from sklearn.datasets import load_iris\n",
    "from sklearn.model_selection import train_test_split\n",
    "from sklearn.naive_bayes import BernoulliNB\n",
    "X, y = load_iris(return_X_y=True)\n",
    "X_train, X_test, y_train, y_test = train_test_split(X, y, test_size=0.5, random_state=0)\n",
    "gnb = BernoulliNB()\n",
    "y_pred = gnb.fit(X_train, y_train).predict(X_test)\n",
    "print(\"Number of mislabeled points out of a total %d points : %d\" % (X_test.shape[0], (y_test != y_pred).sum()))"
   ]
  },
  {
   "cell_type": "markdown",
   "id": "6f5dff78",
   "metadata": {},
   "source": [
    "Note : the data is not binary might affect results"
   ]
  },
  {
   "cell_type": "markdown",
   "id": "ddea5b09",
   "metadata": {},
   "source": [
    "## Categorical Naive Bayes"
   ]
  },
  {
   "cell_type": "markdown",
   "id": "8c92bcf1",
   "metadata": {},
   "source": [
    "- Implements the categorical naive Bayes algorithm for categorically distributed data.\n",
    "- It assumes that each feature, which is described by the index i, has its own categorical distribution.\n",
    "- For each feature i in the training set X, CategoricalNB estimates a categorical distribution for each feature i of X conditioned on the class y.\n",
    "- The index set of the samples is defined as J = {1,...,m}, with m as the number of samples."
   ]
  },
  {
   "cell_type": "code",
   "execution_count": 35,
   "id": "ab1c75f2",
   "metadata": {},
   "outputs": [
    {
     "data": {
      "text/html": [
       "<img src=\"8.PNG\" width=\"600\" height=\"400\"/>"
      ],
      "text/plain": [
       "<IPython.core.display.Image object>"
      ]
     },
     "execution_count": 35,
     "metadata": {},
     "output_type": "execute_result"
    }
   ],
   "source": [
    "Image(url=\"8.PNG\", width=600, height=400)"
   ]
  },
  {
   "cell_type": "markdown",
   "id": "505f2c32",
   "metadata": {},
   "source": [
    "CategoricalNB assumes that the sample matrix X is encoded (for instance with the help of **OrdinalEncoder**) such that all categories for each feature i are represented with numbers 0,...,ni-1 where ni is the number of available categories of feature i."
   ]
  },
  {
   "cell_type": "markdown",
   "id": "2380e137",
   "metadata": {},
   "source": [
    "https://scikit-learn.org/stable/modules/generated/sklearn.naive_bayes.CategoricalNB.html#sklearn.naive_bayes.CategoricalNB"
   ]
  },
  {
   "cell_type": "code",
   "execution_count": 36,
   "id": "594c1134",
   "metadata": {},
   "outputs": [
    {
     "name": "stdout",
     "output_type": "stream",
     "text": [
      "Number of mislabeled points out of a total 75 points : 7\n"
     ]
    }
   ],
   "source": [
    "from sklearn.datasets import load_iris\n",
    "from sklearn.model_selection import train_test_split\n",
    "from sklearn.naive_bayes import CategoricalNB\n",
    "X, y = load_iris(return_X_y=True)\n",
    "X_train, X_test, y_train, y_test = train_test_split(X, y, test_size=0.5, random_state=0)\n",
    "gnb = CategoricalNB()\n",
    "y_pred = gnb.fit(X_train, y_train).predict(X_test)\n",
    "print(\"Number of mislabeled points out of a total %d points : %d\" % (X_test.shape[0], (y_test != y_pred).sum()))"
   ]
  },
  {
   "cell_type": "markdown",
   "id": "81d2f8ce",
   "metadata": {},
   "source": [
    "## Out-of-core Naive Bayes model fitting "
   ]
  },
  {
   "cell_type": "markdown",
   "id": "0994f9a1",
   "metadata": {},
   "source": [
    "Naive Bayes models can be used to tackle large scale classification problems for which the full training set might not fit in memory.\n",
    "- To handle this, MultinomialNB, BernoulliNB, and GaussianNB expose a **partial_fit** method that can be used incrementally as done with other classifiers\n",
    "- All naive Bayes classifiers support sample weighting.\n",
    "- Contrary to the fit method, the first call to partial_fit needs to be passed the list of all the expected class labels.\n",
    "-  out-of-core learning documentation : https://scikit-learn.org/stable/computing/scaling_strategies.html#scaling-strategies\n",
    "- The partial_fit method call of naive Bayes models introduces some computational overhead (any combination of excess or indirect computation time, memory, bandwidth...). It is recommended to use data chunk sizes that are as large as possible, that is as the available RAM allows."
   ]
  },
  {
   "cell_type": "markdown",
   "id": "17b71ef1",
   "metadata": {},
   "source": [
    "Out-of-core classification of text documents : https://scikit-learn.org/stable/auto_examples/applications/plot_out_of_core_classification.html#sphx-glr-auto-examples-applications-plot-out-of-core-classification-py "
   ]
  },
  {
   "cell_type": "markdown",
   "id": "9749d51a",
   "metadata": {},
   "source": [
    "# DM and ML portfolio"
   ]
  },
  {
   "cell_type": "markdown",
   "id": "861a021b",
   "metadata": {},
   "source": [
    "Repeat the evaluation steps from the last lab, replacing the classifier you used with the Bayes net. Check: does it have better performance in any of the evaluation metrics?"
   ]
  },
  {
   "cell_type": "code",
   "execution_count": 18,
   "id": "aeae26ed",
   "metadata": {},
   "outputs": [
    {
     "name": "stdout",
     "output_type": "stream",
     "text": [
      "Train Data: (744, 7), (744,)\n",
      "Train Data: (187, 7), (187,)\n"
     ]
    }
   ],
   "source": [
    "from sklearn.model_selection import train_test_split\n",
    "# Creating independent and dependent variables\n",
    "X = df.drop('tier',axis=1)\n",
    "y = df['tier']\n",
    "X_train, X_test, y_train, y_test = train_test_split(X, y, test_size=0.2, random_state=24)\n",
    "print(f\"Train Data: {X_train.shape}, {y_train.shape}\")\n",
    "print(f\"Train Data: {X_test.shape}, {y_test.shape}\")"
   ]
  },
  {
   "cell_type": "markdown",
   "id": "2d5869a6",
   "metadata": {},
   "source": [
    "## Gaussian Naive Bayes"
   ]
  },
  {
   "cell_type": "code",
   "execution_count": 19,
   "id": "ed853d01",
   "metadata": {},
   "outputs": [],
   "source": [
    "from sklearn.naive_bayes import GaussianNB\n",
    "GNB = GaussianNB()\n",
    "predictions = GNB.fit(X_train, y_train).predict(X_test)"
   ]
  },
  {
   "cell_type": "markdown",
   "id": "695e9b49",
   "metadata": {},
   "source": [
    "### Accuracy"
   ]
  },
  {
   "cell_type": "code",
   "execution_count": 43,
   "id": "3d25a8dc",
   "metadata": {},
   "outputs": [
    {
     "name": "stdout",
     "output_type": "stream",
     "text": [
      "Accuracy of the classifier is: 0.8502673796791443\n"
     ]
    }
   ],
   "source": [
    "from sklearn.metrics import accuracy_score\n",
    "# Calculating the accuracy of classifier\n",
    "print(f\"Accuracy of the classifier is: {accuracy_score(y_test, predictions)}\")"
   ]
  },
  {
   "cell_type": "markdown",
   "id": "25845e7e",
   "metadata": {},
   "source": [
    "### Confusion matrix"
   ]
  },
  {
   "cell_type": "code",
   "execution_count": 45,
   "id": "3d866dae",
   "metadata": {},
   "outputs": [
    {
     "name": "stdout",
     "output_type": "stream",
     "text": [
      "[[65 11]\n",
      " [17 94]]\n"
     ]
    },
    {
     "data": {
      "image/png": "[encoded data removed]",
      "text/plain": [
       "<Figure size 432x288 with 2 Axes>"
      ]
     },
     "metadata": {
      "needs_background": "light"
     },
     "output_type": "display_data"
    }
   ],
   "source": [
    "import matplotlib.pyplot as plt\n",
    "from sklearn.metrics import confusion_matrix\n",
    "from sklearn.metrics import plot_confusion_matrix\n",
    "\n",
    "# confusion_matrix funnction a matrix containing the summary of predictions\n",
    "print(confusion_matrix(y_test, predictions))\n",
    "\n",
    "# plot_confusion_matrix function is used to visualize the confusion matrix\n",
    "plot_confusion_matrix(GNB, X_test, y_test)\n",
    "plt.show()"
   ]
  },
  {
   "cell_type": "code",
   "execution_count": 69,
   "id": "32a2a6fe",
   "metadata": {},
   "outputs": [],
   "source": [
    "CM = confusion_matrix(y_test, predictions)\n",
    "total =sum(sum(CM))"
   ]
  },
  {
   "cell_type": "code",
   "execution_count": 70,
   "id": "1f8d0d25",
   "metadata": {},
   "outputs": [],
   "source": [
    "FP = CM.sum(axis=0)- np.diag(CM)\n",
    "FN = CM.sum(axis=1)-np.diag(CM)\n",
    "\n",
    "TP = np.diag(CM)\n",
    "TN = CM.sum() - (FP + FN + TP)"
   ]
  },
  {
   "cell_type": "markdown",
   "id": "726d4ceb",
   "metadata": {},
   "source": [
    "### Sensitivity"
   ]
  },
  {
   "cell_type": "code",
   "execution_count": 75,
   "id": "d57b8e88",
   "metadata": {},
   "outputs": [
    {
     "name": "stdout",
     "output_type": "stream",
     "text": [
      "Sensitivity :  0.9473684210526315\n"
     ]
    }
   ],
   "source": [
    "sensitivity = CM[0,0]/(CM[0,0]+CM[0,1])\n",
    "print('Sensitivity : ', sensitivity )"
   ]
  },
  {
   "cell_type": "code",
   "execution_count": 72,
   "id": "bd48d934",
   "metadata": {},
   "outputs": [
    {
     "name": "stdout",
     "output_type": "stream",
     "text": [
      "Sensitivity:  [0.94736842 0.69369369]\n"
     ]
    }
   ],
   "source": [
    "TPR = TP/(TP + FN)\n",
    "print(\"Sensitivity: \", TPR )"
   ]
  },
  {
   "cell_type": "markdown",
   "id": "02d32f3c",
   "metadata": {},
   "source": [
    "### Specificity"
   ]
  },
  {
   "cell_type": "code",
   "execution_count": 76,
   "id": "86ca2e67",
   "metadata": {},
   "outputs": [
    {
     "name": "stdout",
     "output_type": "stream",
     "text": [
      "Specificity :  0.6936936936936937\n"
     ]
    }
   ],
   "source": [
    "specificity = CM[1,1]/(CM[1,0]+CM[1,1])\n",
    "print('Specificity : ', specificity)"
   ]
  },
  {
   "cell_type": "code",
   "execution_count": 74,
   "id": "0936ad0a",
   "metadata": {},
   "outputs": [
    {
     "name": "stdout",
     "output_type": "stream",
     "text": [
      "Sensitivity:  [0.69369369 0.94736842]\n"
     ]
    }
   ],
   "source": [
    "PPV = TN/(TN + FP)\n",
    "print(\"Sensitivity: \", PPV )"
   ]
  },
  {
   "cell_type": "markdown",
   "id": "f43dfe9c",
   "metadata": {},
   "source": [
    "### Precision"
   ]
  },
  {
   "cell_type": "code",
   "execution_count": 48,
   "id": "47a2be87",
   "metadata": {},
   "outputs": [
    {
     "name": "stdout",
     "output_type": "stream",
     "text": [
      "Precision Score of the classifier is: 0.8502673796791443\n"
     ]
    }
   ],
   "source": [
    "from sklearn.metrics import precision_score\n",
    "#fixed error : https://stackoverflow.com/questions/52269187/facing-valueerror-target-is-multiclass-but-average-binary \n",
    "# Calculating the precision score of classifier\n",
    "print(f\"Precision Score of the classifier is: {precision_score(y_test, predictions,average='micro')}\")"
   ]
  },
  {
   "cell_type": "code",
   "execution_count": 49,
   "id": "83d44926",
   "metadata": {},
   "outputs": [
    {
     "name": "stdout",
     "output_type": "stream",
     "text": [
      "Precision Score of the classifier is: 0.7926829268292683\n"
     ]
    }
   ],
   "source": [
    "print(f\"Precision Score of the classifier is: {precision_score(y_test, predictions)}\")"
   ]
  },
  {
   "cell_type": "markdown",
   "id": "cbed36d4",
   "metadata": {},
   "source": [
    "### Recall"
   ]
  },
  {
   "cell_type": "code",
   "execution_count": 50,
   "id": "a59880c3",
   "metadata": {},
   "outputs": [
    {
     "name": "stdout",
     "output_type": "stream",
     "text": [
      "Recall Score of the classifier is: 0.8502673796791443\n"
     ]
    }
   ],
   "source": [
    "from sklearn.metrics import recall_score\n",
    "# Calculating the recall score of classifier\n",
    "print(f\"Recall Score of the classifier is: {recall_score(y_test, predictions, average='micro')}\")"
   ]
  },
  {
   "cell_type": "code",
   "execution_count": 51,
   "id": "29e2b3c3",
   "metadata": {},
   "outputs": [
    {
     "name": "stdout",
     "output_type": "stream",
     "text": [
      "Recall Score of the classifier is: 0.8552631578947368\n"
     ]
    }
   ],
   "source": [
    "print(f\"Recall Score of the classifier is: {recall_score(y_test, predictions)}\")"
   ]
  },
  {
   "cell_type": "markdown",
   "id": "a83419d2",
   "metadata": {},
   "source": [
    "### F1-score"
   ]
  },
  {
   "cell_type": "code",
   "execution_count": 52,
   "id": "52cdf2f6",
   "metadata": {},
   "outputs": [
    {
     "name": "stdout",
     "output_type": "stream",
     "text": [
      "F1 Score of the classifier is: 0.8502673796791445\n"
     ]
    }
   ],
   "source": [
    "from sklearn.metrics import f1_score\n",
    "\n",
    "# Calculating the F1 score of classifier\n",
    "print(f\"F1 Score of the classifier is: {f1_score(y_test, predictions, average='micro' )}\")"
   ]
  },
  {
   "cell_type": "code",
   "execution_count": 53,
   "id": "540608c4",
   "metadata": {},
   "outputs": [
    {
     "name": "stdout",
     "output_type": "stream",
     "text": [
      "F1 Score of the classifier is: 0.8227848101265822\n"
     ]
    }
   ],
   "source": [
    "print(f\"F1 Score of the classifier is: {f1_score(y_test, predictions )}\")"
   ]
  },
  {
   "cell_type": "markdown",
   "id": "2022b892",
   "metadata": {},
   "source": [
    "### Classification report"
   ]
  },
  {
   "cell_type": "code",
   "execution_count": 55,
   "id": "463ab963",
   "metadata": {},
   "outputs": [],
   "source": [
    "from sklearn.metrics import classification_report\n",
    "target_names = ['class 0', 'class 1']\n",
    "report = classification_report(y_test, predictions, target_names=target_names)"
   ]
  },
  {
   "cell_type": "code",
   "execution_count": 56,
   "id": "2eedf9a3",
   "metadata": {
    "scrolled": true
   },
   "outputs": [
    {
     "name": "stdout",
     "output_type": "stream",
     "text": [
      "              precision    recall  f1-score   support\n",
      "\n",
      "     class 0       0.79      0.86      0.82        76\n",
      "     class 1       0.90      0.85      0.87       111\n",
      "\n",
      "    accuracy                           0.85       187\n",
      "   macro avg       0.84      0.85      0.85       187\n",
      "weighted avg       0.85      0.85      0.85       187\n",
      "\n"
     ]
    }
   ],
   "source": [
    "print(report)"
   ]
  },
  {
   "cell_type": "markdown",
   "id": "da76ef2e",
   "metadata": {},
   "source": [
    "### Area under ROC curve"
   ]
  },
  {
   "cell_type": "code",
   "execution_count": 85,
   "id": "6ae94347",
   "metadata": {},
   "outputs": [],
   "source": [
    "# Importing all necessary libraries\n",
    "#from sklearn.metrics import roc_curve, auc\n",
    "\n",
    "#class_probabilities = GNB.predict_proba(X_test)\n",
    "#preds = class_probabilities[:, 1]\n",
    "\n",
    "#added pos_label=1 because before i had the error ValueError: multiclass format is not supported\n",
    "#https://stackoverflow.com/questions/61114520/how-to-fix-valueerror-multiclass-format-is-not-supported \n",
    "#fpr, tpr, threshold = roc_curve(y_test, preds, pos_label=1)\n",
    "#roc_auc = auc(fpr, tpr)\n",
    "\n",
    "# Printing AUC\n",
    "#print(f\"AUC for our classifier is: {roc_auc}\")"
   ]
  },
  {
   "cell_type": "code",
   "execution_count": 84,
   "id": "0fc4dfff",
   "metadata": {},
   "outputs": [
    {
     "name": "stdout",
     "output_type": "stream",
     "text": [
      "AUC: 0.95\n"
     ]
    }
   ],
   "source": [
    "from sklearn.metrics import roc_auc_score\n",
    "\n",
    "# Generate class membership probabilities\n",
    "y_preb_probs = GNB.predict_proba(X_test)\n",
    "y_preb_probs = y_preb_probs[:, 1]\n",
    "auc = roc_auc_score(y_test, y_preb_probs)\n",
    "print('AUC: %.2f' % auc)"
   ]
  },
  {
   "cell_type": "markdown",
   "id": "a0d8ce6a",
   "metadata": {},
   "source": [
    "## Multinomial Naive Bayes"
   ]
  },
  {
   "cell_type": "code",
   "execution_count": 137,
   "id": "1254dcfc",
   "metadata": {},
   "outputs": [],
   "source": [
    "from sklearn.naive_bayes import  MultinomialNB\n",
    "MNB =  MultinomialNB()\n",
    "predictions = MNB.fit(X_train, y_train).predict(X_test)"
   ]
  },
  {
   "cell_type": "markdown",
   "id": "2a9fda8d",
   "metadata": {},
   "source": [
    "### Accuracy"
   ]
  },
  {
   "cell_type": "code",
   "execution_count": 87,
   "id": "4bc49ba1",
   "metadata": {},
   "outputs": [
    {
     "name": "stdout",
     "output_type": "stream",
     "text": [
      "Accuracy of the classifier is: 0.7967914438502673\n"
     ]
    }
   ],
   "source": [
    "print(f\"Accuracy of the classifier is: {accuracy_score(y_test, predictions)}\")"
   ]
  },
  {
   "cell_type": "markdown",
   "id": "ba8469ea",
   "metadata": {},
   "source": [
    "### Confusion matrix"
   ]
  },
  {
   "cell_type": "code",
   "execution_count": 88,
   "id": "8dfcae2c",
   "metadata": {},
   "outputs": [
    {
     "name": "stdout",
     "output_type": "stream",
     "text": [
      "[[72  4]\n",
      " [34 77]]\n"
     ]
    },
    {
     "data": {
      "image/png": "[encoded data removed]",
      "text/plain": [
       "<Figure size 432x288 with 2 Axes>"
      ]
     },
     "metadata": {
      "needs_background": "light"
     },
     "output_type": "display_data"
    }
   ],
   "source": [
    "print(confusion_matrix(y_test, predictions))\n",
    "plot_confusion_matrix(MNB, X_test, y_test)\n",
    "plt.show()"
   ]
  },
  {
   "cell_type": "markdown",
   "id": "cc23f3ec",
   "metadata": {},
   "source": [
    "### Sensitivity"
   ]
  },
  {
   "cell_type": "code",
   "execution_count": 109,
   "id": "bad716b6",
   "metadata": {},
   "outputs": [
    {
     "name": "stdout",
     "output_type": "stream",
     "text": [
      "Sensitivity :  0.9473684210526315\n"
     ]
    }
   ],
   "source": [
    "sensitivity = CM[0,0]/(CM[0,0]+CM[0,1])\n",
    "print('Sensitivity : ', sensitivity )"
   ]
  },
  {
   "cell_type": "markdown",
   "id": "0b33a899",
   "metadata": {},
   "source": [
    "### Specificity"
   ]
  },
  {
   "cell_type": "code",
   "execution_count": 110,
   "id": "690fac01",
   "metadata": {},
   "outputs": [
    {
     "name": "stdout",
     "output_type": "stream",
     "text": [
      "Specificity :  0.6936936936936937\n"
     ]
    }
   ],
   "source": [
    "specificity = CM[1,1]/(CM[1,0]+CM[1,1])\n",
    "print('Specificity : ', specificity)"
   ]
  },
  {
   "cell_type": "markdown",
   "id": "ac265d66",
   "metadata": {},
   "source": [
    "### Precision"
   ]
  },
  {
   "cell_type": "code",
   "execution_count": 111,
   "id": "33d04c31",
   "metadata": {},
   "outputs": [
    {
     "name": "stdout",
     "output_type": "stream",
     "text": [
      "Precision Score of the classifier is: 0.6792452830188679\n"
     ]
    }
   ],
   "source": [
    "print(f\"Precision Score of the classifier is: {precision_score(y_test, predictions)}\")"
   ]
  },
  {
   "cell_type": "markdown",
   "id": "a7e9cdfc",
   "metadata": {},
   "source": [
    "### Recall"
   ]
  },
  {
   "cell_type": "code",
   "execution_count": 112,
   "id": "34ec7a27",
   "metadata": {},
   "outputs": [
    {
     "name": "stdout",
     "output_type": "stream",
     "text": [
      "Recall Score of the classifier is: 0.9473684210526315\n"
     ]
    }
   ],
   "source": [
    "print(f\"Recall Score of the classifier is: {recall_score(y_test, predictions)}\")"
   ]
  },
  {
   "cell_type": "markdown",
   "id": "f830f507",
   "metadata": {},
   "source": [
    "### F1-score"
   ]
  },
  {
   "cell_type": "code",
   "execution_count": 113,
   "id": "161f4118",
   "metadata": {},
   "outputs": [
    {
     "name": "stdout",
     "output_type": "stream",
     "text": [
      "F1 Score of the classifier is: 0.7912087912087911\n"
     ]
    }
   ],
   "source": [
    "print(f\"F1 Score of the classifier is: {f1_score(y_test, predictions )}\")"
   ]
  },
  {
   "cell_type": "markdown",
   "id": "62135330",
   "metadata": {},
   "source": [
    "### Classification report"
   ]
  },
  {
   "cell_type": "code",
   "execution_count": 114,
   "id": "be226eea",
   "metadata": {},
   "outputs": [],
   "source": [
    "target_names = ['class 0', 'class 1']\n",
    "report = classification_report(y_test, predictions, target_names=target_names)"
   ]
  },
  {
   "cell_type": "code",
   "execution_count": 115,
   "id": "654ae6f1",
   "metadata": {},
   "outputs": [
    {
     "name": "stdout",
     "output_type": "stream",
     "text": [
      "              precision    recall  f1-score   support\n",
      "\n",
      "     class 0       0.68      0.95      0.79        76\n",
      "     class 1       0.95      0.69      0.80       111\n",
      "\n",
      "    accuracy                           0.80       187\n",
      "   macro avg       0.81      0.82      0.80       187\n",
      "weighted avg       0.84      0.80      0.80       187\n",
      "\n"
     ]
    }
   ],
   "source": [
    "print(report)"
   ]
  },
  {
   "cell_type": "markdown",
   "id": "63cf1ee2",
   "metadata": {},
   "source": [
    "### AUC"
   ]
  },
  {
   "cell_type": "code",
   "execution_count": 138,
   "id": "6bd91433",
   "metadata": {},
   "outputs": [
    {
     "name": "stdout",
     "output_type": "stream",
     "text": [
      "AUC: 0.95\n"
     ]
    }
   ],
   "source": [
    "y_preb_probs = MNB.predict_proba(X_test)\n",
    "y_preb_probs = y_preb_probs[:, 1]\n",
    "auc = roc_auc_score(y_test, y_preb_probs)\n",
    "print('AUC: %.2f' % auc)"
   ]
  },
  {
   "cell_type": "markdown",
   "id": "e792f77a",
   "metadata": {},
   "source": [
    "## Complement Naive Bayes"
   ]
  },
  {
   "cell_type": "code",
   "execution_count": 139,
   "id": "6c42fc10",
   "metadata": {},
   "outputs": [],
   "source": [
    "from sklearn.naive_bayes import  ComplementNB\n",
    "CNB =  ComplementNB()\n",
    "predictions = CNB.fit(X_train, y_train).predict(X_test)"
   ]
  },
  {
   "cell_type": "markdown",
   "id": "30d9ba64",
   "metadata": {},
   "source": [
    "### Accuracy"
   ]
  },
  {
   "cell_type": "code",
   "execution_count": 118,
   "id": "2b1e9be9",
   "metadata": {},
   "outputs": [
    {
     "name": "stdout",
     "output_type": "stream",
     "text": [
      "Accuracy of the classifier is: 0.8556149732620321\n"
     ]
    }
   ],
   "source": [
    "print(f\"Accuracy of the classifier is: {accuracy_score(y_test, predictions)}\")"
   ]
  },
  {
   "cell_type": "markdown",
   "id": "f7997ed6",
   "metadata": {},
   "source": [
    "### Confusion matrix"
   ]
  },
  {
   "cell_type": "code",
   "execution_count": 119,
   "id": "00bbf8c0",
   "metadata": {},
   "outputs": [
    {
     "name": "stdout",
     "output_type": "stream",
     "text": [
      "[[69  7]\n",
      " [20 91]]\n"
     ]
    },
    {
     "data": {
      "image/png": "[encoded data removed]",
      "text/plain": [
       "<Figure size 432x288 with 2 Axes>"
      ]
     },
     "metadata": {
      "needs_background": "light"
     },
     "output_type": "display_data"
    }
   ],
   "source": [
    "print(confusion_matrix(y_test, predictions))\n",
    "plot_confusion_matrix(CNB, X_test, y_test)\n",
    "plt.show()"
   ]
  },
  {
   "cell_type": "code",
   "execution_count": 120,
   "id": "62216c1e",
   "metadata": {},
   "outputs": [],
   "source": [
    "CM = confusion_matrix(y_test, predictions)"
   ]
  },
  {
   "cell_type": "markdown",
   "id": "61117b91",
   "metadata": {},
   "source": [
    "### Sensitivity"
   ]
  },
  {
   "cell_type": "code",
   "execution_count": 121,
   "id": "d09e3d1d",
   "metadata": {},
   "outputs": [
    {
     "name": "stdout",
     "output_type": "stream",
     "text": [
      "Sensitivity :  0.9078947368421053\n"
     ]
    }
   ],
   "source": [
    "sensitivity = CM[0,0]/(CM[0,0]+CM[0,1])\n",
    "print('Sensitivity : ', sensitivity )"
   ]
  },
  {
   "cell_type": "markdown",
   "id": "3a016124",
   "metadata": {},
   "source": [
    "### Specificity"
   ]
  },
  {
   "cell_type": "code",
   "execution_count": 122,
   "id": "2786813c",
   "metadata": {},
   "outputs": [
    {
     "name": "stdout",
     "output_type": "stream",
     "text": [
      "Specificity :  0.8198198198198198\n"
     ]
    }
   ],
   "source": [
    "specificity = CM[1,1]/(CM[1,0]+CM[1,1])\n",
    "print('Specificity : ', specificity)"
   ]
  },
  {
   "cell_type": "markdown",
   "id": "e8111d80",
   "metadata": {},
   "source": [
    "### Precision"
   ]
  },
  {
   "cell_type": "code",
   "execution_count": 123,
   "id": "aabad8c0",
   "metadata": {},
   "outputs": [
    {
     "name": "stdout",
     "output_type": "stream",
     "text": [
      "Precision Score of the classifier is: 0.7752808988764045\n"
     ]
    }
   ],
   "source": [
    "print(f\"Precision Score of the classifier is: {precision_score(y_test, predictions)}\")"
   ]
  },
  {
   "cell_type": "markdown",
   "id": "c90ac678",
   "metadata": {},
   "source": [
    "### Recall"
   ]
  },
  {
   "cell_type": "code",
   "execution_count": 124,
   "id": "41d1fd40",
   "metadata": {},
   "outputs": [
    {
     "name": "stdout",
     "output_type": "stream",
     "text": [
      "Recall Score of the classifier is: 0.9078947368421053\n"
     ]
    }
   ],
   "source": [
    "print(f\"Recall Score of the classifier is: {recall_score(y_test, predictions)}\")"
   ]
  },
  {
   "cell_type": "markdown",
   "id": "09704dbb",
   "metadata": {},
   "source": [
    "### AUC"
   ]
  },
  {
   "cell_type": "code",
   "execution_count": 140,
   "id": "50095d13",
   "metadata": {},
   "outputs": [
    {
     "name": "stdout",
     "output_type": "stream",
     "text": [
      "AUC: 0.95\n"
     ]
    }
   ],
   "source": [
    "y_preb_probs = CNB.predict_proba(X_test)\n",
    "y_preb_probs = y_preb_probs[:, 1]\n",
    "auc = roc_auc_score(y_test, y_preb_probs)\n",
    "print('AUC: %.2f' % auc)"
   ]
  },
  {
   "cell_type": "markdown",
   "id": "f2a36731",
   "metadata": {},
   "source": [
    "## Bernoulli Naive Bayes"
   ]
  },
  {
   "cell_type": "code",
   "execution_count": 141,
   "id": "6df44f9a",
   "metadata": {},
   "outputs": [],
   "source": [
    "from sklearn.naive_bayes import  BernoulliNB\n",
    "BNB =  BernoulliNB()\n",
    "predictions = BNB.fit(X_train, y_train).predict(X_test)"
   ]
  },
  {
   "cell_type": "code",
   "execution_count": 127,
   "id": "f3d22185",
   "metadata": {
    "scrolled": true
   },
   "outputs": [
    {
     "name": "stdout",
     "output_type": "stream",
     "text": [
      "Accuracy of the classifier is: 0.43315508021390375\n"
     ]
    }
   ],
   "source": [
    "print(f\"Accuracy of the classifier is: {accuracy_score(y_test, predictions)}\")"
   ]
  },
  {
   "cell_type": "code",
   "execution_count": 129,
   "id": "f3f36786",
   "metadata": {},
   "outputs": [
    {
     "name": "stdout",
     "output_type": "stream",
     "text": [
      "[[ 76   0]\n",
      " [106   5]]\n"
     ]
    },
    {
     "data": {
      "image/png": "[encoded data removed]",
      "text/plain": [
       "<Figure size 432x288 with 2 Axes>"
      ]
     },
     "metadata": {
      "needs_background": "light"
     },
     "output_type": "display_data"
    }
   ],
   "source": [
    "print(confusion_matrix(y_test, predictions))\n",
    "plot_confusion_matrix(BNB, X_test, y_test)\n",
    "plt.show()"
   ]
  },
  {
   "cell_type": "code",
   "execution_count": 130,
   "id": "b16b6ab6",
   "metadata": {},
   "outputs": [],
   "source": [
    "CM = confusion_matrix(y_test, predictions)"
   ]
  },
  {
   "cell_type": "code",
   "execution_count": 131,
   "id": "7195dae3",
   "metadata": {},
   "outputs": [
    {
     "name": "stdout",
     "output_type": "stream",
     "text": [
      "Sensitivity :  1.0\n"
     ]
    }
   ],
   "source": [
    "sensitivity = CM[0,0]/(CM[0,0]+CM[0,1])\n",
    "print('Sensitivity : ', sensitivity )"
   ]
  },
  {
   "cell_type": "code",
   "execution_count": 132,
   "id": "50faca14",
   "metadata": {},
   "outputs": [
    {
     "name": "stdout",
     "output_type": "stream",
     "text": [
      "Specificity :  0.04504504504504504\n"
     ]
    }
   ],
   "source": [
    "specificity = CM[1,1]/(CM[1,0]+CM[1,1])\n",
    "print('Specificity : ', specificity)"
   ]
  },
  {
   "cell_type": "code",
   "execution_count": 135,
   "id": "13a8f944",
   "metadata": {},
   "outputs": [
    {
     "name": "stdout",
     "output_type": "stream",
     "text": [
      "Precision Score of the classifier is: 0.4175824175824176\n"
     ]
    }
   ],
   "source": [
    "print(f\"Precision Score of the classifier is: {precision_score(y_test, predictions)}\")"
   ]
  },
  {
   "cell_type": "code",
   "execution_count": 136,
   "id": "7732b40d",
   "metadata": {},
   "outputs": [
    {
     "name": "stdout",
     "output_type": "stream",
     "text": [
      "Recall Score of the classifier is: 1.0\n"
     ]
    }
   ],
   "source": [
    "print(f\"Recall Score of the classifier is: {recall_score(y_test, predictions)}\")"
   ]
  },
  {
   "cell_type": "code",
   "execution_count": 142,
   "id": "b9e5afc5",
   "metadata": {},
   "outputs": [
    {
     "name": "stdout",
     "output_type": "stream",
     "text": [
      "AUC: 0.52\n"
     ]
    }
   ],
   "source": [
    "y_preb_probs = BNB.predict_proba(X_test)\n",
    "y_preb_probs = y_preb_probs[:, 1]\n",
    "auc = roc_auc_score(y_test, y_preb_probs)\n",
    "print('AUC: %.2f' % auc)"
   ]
  },
  {
   "cell_type": "markdown",
   "id": "429a2031",
   "metadata": {},
   "source": [
    "## Categorical Naive Bayes"
   ]
  },
  {
   "cell_type": "code",
   "execution_count": 145,
   "id": "2cb63209",
   "metadata": {},
   "outputs": [],
   "source": [
    "from sklearn.naive_bayes import  CategoricalNB\n",
    "CANB =  CategoricalNB()\n",
    "predictions = CANB.fit(X_train, y_train).predict(X_test)"
   ]
  },
  {
   "cell_type": "code",
   "execution_count": 146,
   "id": "e0f2eba4",
   "metadata": {},
   "outputs": [
    {
     "name": "stdout",
     "output_type": "stream",
     "text": [
      "Accuracy of the classifier is: 0.8235294117647058\n"
     ]
    }
   ],
   "source": [
    "print(f\"Accuracy of the classifier is: {accuracy_score(y_test, predictions)}\")"
   ]
  },
  {
   "cell_type": "code",
   "execution_count": 147,
   "id": "00b35b21",
   "metadata": {},
   "outputs": [
    {
     "name": "stdout",
     "output_type": "stream",
     "text": [
      "[[62 14]\n",
      " [19 92]]\n"
     ]
    },
    {
     "data": {
      "image/png": "[encoded data removed]",
      "text/plain": [
       "<Figure size 432x288 with 2 Axes>"
      ]
     },
     "metadata": {
      "needs_background": "light"
     },
     "output_type": "display_data"
    }
   ],
   "source": [
    "print(confusion_matrix(y_test, predictions))\n",
    "plot_confusion_matrix(CANB, X_test, y_test)\n",
    "plt.show()"
   ]
  },
  {
   "cell_type": "code",
   "execution_count": 148,
   "id": "4b01574e",
   "metadata": {},
   "outputs": [],
   "source": [
    "CM = confusion_matrix(y_test, predictions)"
   ]
  },
  {
   "cell_type": "code",
   "execution_count": 149,
   "id": "1f15a83e",
   "metadata": {},
   "outputs": [
    {
     "name": "stdout",
     "output_type": "stream",
     "text": [
      "Sensitivity :  0.8157894736842105\n"
     ]
    }
   ],
   "source": [
    "sensitivity = CM[0,0]/(CM[0,0]+CM[0,1])\n",
    "print('Sensitivity : ', sensitivity )"
   ]
  },
  {
   "cell_type": "code",
   "execution_count": 150,
   "id": "0ef3deef",
   "metadata": {},
   "outputs": [
    {
     "name": "stdout",
     "output_type": "stream",
     "text": [
      "Specificity :  0.8288288288288288\n"
     ]
    }
   ],
   "source": [
    "specificity = CM[1,1]/(CM[1,0]+CM[1,1])\n",
    "print('Specificity : ', specificity)"
   ]
  },
  {
   "cell_type": "code",
   "execution_count": 151,
   "id": "be677fdd",
   "metadata": {},
   "outputs": [
    {
     "name": "stdout",
     "output_type": "stream",
     "text": [
      "Precision Score of the classifier is: 0.7654320987654321\n"
     ]
    }
   ],
   "source": [
    "print(f\"Precision Score of the classifier is: {precision_score(y_test, predictions)}\")"
   ]
  },
  {
   "cell_type": "code",
   "execution_count": 152,
   "id": "f1b07556",
   "metadata": {},
   "outputs": [
    {
     "name": "stdout",
     "output_type": "stream",
     "text": [
      "Recall Score of the classifier is: 0.8157894736842105\n"
     ]
    }
   ],
   "source": [
    "print(f\"Recall Score of the classifier is: {recall_score(y_test, predictions)}\")"
   ]
  },
  {
   "cell_type": "code",
   "execution_count": 153,
   "id": "46c4b319",
   "metadata": {},
   "outputs": [
    {
     "name": "stdout",
     "output_type": "stream",
     "text": [
      "AUC: 0.86\n"
     ]
    }
   ],
   "source": [
    "y_preb_probs = CANB.predict_proba(X_test)\n",
    "y_preb_probs = y_preb_probs[:, 1]\n",
    "auc = roc_auc_score(y_test, y_preb_probs)\n",
    "print('AUC: %.2f' % auc)"
   ]
  },
  {
   "cell_type": "markdown",
   "id": "55b7c60c",
   "metadata": {},
   "source": [
    "##  Complex Bayes Nets (i.e. Bayes nets with complex hierarchical structure) (optional)"
   ]
  },
  {
   "cell_type": "markdown",
   "id": "f13c44f4",
   "metadata": {},
   "source": [
    "- Investigate whether any of these libraries can work with your data sets, and whether this brings any improvement. \n",
    "- Note: complex Bayes nets can show non-trivial dependencies among features. So, they may have better explanatory power."
   ]
  },
  {
   "cell_type": "markdown",
   "id": "c2f8da38",
   "metadata": {},
   "source": [
    "**PyMC3** and **PySTAN** are two of the leading frameworks for Bayesian inference in Python: offering concise model specification, MCMC sampling, and a growing amount of built-in conveniences for model validation, verification and prediction. **Arviz** which is a suite of vizualization tools which supports both PyMC3 and PyStan."
   ]
  },
  {
   "cell_type": "markdown",
   "id": "f89e9a71",
   "metadata": {},
   "source": [
    "https://www.modelop.com/blog/an-introduction-to-bayesian-modeling-in-pystan/"
   ]
  },
  {
   "cell_type": "code",
   "execution_count": 157,
   "id": "ec0b44fa",
   "metadata": {},
   "outputs": [
    {
     "name": "stdout",
     "output_type": "stream",
     "text": [
      "Note: you may need to restart the kernel to use updated packages.Collecting pystan\n",
      "\n",
      "  Downloading pystan-3.5.0-py3-none-any.whl (13 kB)\n",
      "Requirement already satisfied: setuptools in c:\\users\\asus\\anaconda3\\lib\\site-packages (from pystan) (52.0.0.post20210125)\n",
      "Collecting aiohttp<4.0,>=3.6\n",
      "  Downloading aiohttp-3.8.3-cp38-cp38-win_amd64.whl (324 kB)\n",
      "Collecting pysimdjson<4.0,>=3.2\n",
      "  Downloading pysimdjson-3.2.0-cp38-cp38-win_amd64.whl (151 kB)\n",
      "Collecting pystan\n",
      "  Downloading pystan-3.4.0-py3-none-any.whl (13 kB)\n",
      "Collecting clikit<0.7,>=0.6\n",
      "  Downloading clikit-0.6.2-py2.py3-none-any.whl (91 kB)\n",
      "Collecting pystan\n",
      "  Downloading pystan-3.3.0-py3-none-any.whl (13 kB)\n",
      "Requirement already satisfied: numpy<2.0,>=1.7 in c:\\users\\asus\\anaconda3\\lib\\site-packages (from pystan) (1.20.1)\n",
      "  Downloading pystan-3.2.0-py3-none-any.whl (13 kB)\n",
      "  Downloading pystan-3.1.1-py3-none-any.whl (13 kB)\n",
      "  Downloading pystan-3.1.0-py3-none-any.whl (13 kB)\n",
      "  Downloading pystan-3.0.2-py3-none-any.whl (13 kB)\n",
      "  Downloading pystan-3.0.1-py3-none-any.whl (12 kB)\n",
      "  Downloading pystan-3.0.0-py3-none-any.whl (12 kB)\n",
      "  Downloading pystan-2.19.1.1-cp38-cp38-win_amd64.whl (79.8 MB)\n",
      "Requirement already satisfied: Cython!=0.25.1,>=0.22 in c:\\users\\asus\\anaconda3\\lib\\site-packages (from pystan) (0.29.23)\n",
      "Installing collected packages: pystan\n",
      "Successfully installed pystan-2.19.1.1\n"
     ]
    }
   ],
   "source": [
    "pip install pystan"
   ]
  },
  {
   "cell_type": "code",
   "execution_count": 159,
   "id": "5ca7cb45",
   "metadata": {},
   "outputs": [
    {
     "name": "stdout",
     "output_type": "stream",
     "text": [
      "Collecting arvizNote: you may need to restart the kernel to use updated packages.\n",
      "\n",
      "  Downloading arviz-0.12.1-py3-none-any.whl (1.6 MB)\n",
      "Requirement already satisfied: packaging in c:\\users\\asus\\anaconda3\\lib\\site-packages (from arviz) (20.9)\n",
      "Requirement already satisfied: pandas>=0.23 in c:\\users\\asus\\anaconda3\\lib\\site-packages (from arviz) (1.2.4)\n",
      "Collecting netcdf4\n",
      "  Downloading netCDF4-1.6.1-cp38-cp38-win_amd64.whl (5.2 MB)\n",
      "Requirement already satisfied: typing-extensions>=3.7.4.3 in c:\\users\\asus\\anaconda3\\lib\\site-packages (from arviz) (3.7.4.3)\n",
      "Collecting xarray>=0.16.1\n",
      "  Downloading xarray-2022.9.0-py3-none-any.whl (943 kB)\n",
      "Collecting xarray-einstats>=0.2\n",
      "  Downloading xarray_einstats-0.3.0-py3-none-any.whl (34 kB)\n",
      "Requirement already satisfied: numpy>=1.12 in c:\\users\\asus\\anaconda3\\lib\\site-packages (from arviz) (1.20.1)\n",
      "Requirement already satisfied: scipy>=0.19 in c:\\users\\asus\\anaconda3\\lib\\site-packages (from arviz) (1.6.2)\n",
      "Requirement already satisfied: matplotlib>=3.0 in c:\\users\\asus\\anaconda3\\lib\\site-packages (from arviz) (3.3.4)\n",
      "Requirement already satisfied: setuptools>=38.4 in c:\\users\\asus\\anaconda3\\lib\\site-packages (from arviz) (52.0.0.post20210125)\n",
      "Requirement already satisfied: pillow>=6.2.0 in c:\\users\\asus\\anaconda3\\lib\\site-packages (from matplotlib>=3.0->arviz) (8.2.0)\n",
      "Requirement already satisfied: pyparsing!=2.0.4,!=2.1.2,!=2.1.6,>=2.0.3 in c:\\users\\asus\\anaconda3\\lib\\site-packages (from matplotlib>=3.0->arviz) (2.4.7)\n",
      "Requirement already satisfied: cycler>=0.10 in c:\\users\\asus\\anaconda3\\lib\\site-packages (from matplotlib>=3.0->arviz) (0.10.0)\n",
      "Requirement already satisfied: python-dateutil>=2.1 in c:\\users\\asus\\anaconda3\\lib\\site-packages (from matplotlib>=3.0->arviz) (2.8.1)\n",
      "Requirement already satisfied: kiwisolver>=1.0.1 in c:\\users\\asus\\anaconda3\\lib\\site-packages (from matplotlib>=3.0->arviz) (1.3.1)\n",
      "Requirement already satisfied: six in c:\\users\\asus\\anaconda3\\lib\\site-packages (from cycler>=0.10->matplotlib>=3.0->arviz) (1.15.0)\n",
      "Requirement already satisfied: pytz>=2017.3 in c:\\users\\asus\\anaconda3\\lib\\site-packages (from pandas>=0.23->arviz) (2021.1)\n",
      "Collecting cftime\n",
      "  Downloading cftime-1.6.2-cp38-cp38-win_amd64.whl (171 kB)\n",
      "Installing collected packages: xarray, cftime, xarray-einstats, netcdf4, arviz\n",
      "Successfully installed arviz-0.12.1 cftime-1.6.2 netcdf4-1.6.1 xarray-2022.9.0 xarray-einstats-0.3.0\n"
     ]
    }
   ],
   "source": [
    "pip install arviz"
   ]
  },
  {
   "cell_type": "code",
   "execution_count": 160,
   "id": "f51fbffe",
   "metadata": {},
   "outputs": [],
   "source": [
    "import pystan as stan\n",
    "from sklearn.utils import resample\n",
    "from scipy.stats import bernoulli\n",
    "import scipy\n",
    "import itertools\n",
    "import arviz as az"
   ]
  },
  {
   "cell_type": "markdown",
   "id": "7dfc4545",
   "metadata": {},
   "source": [
    "There are several blocks of most Stan model: \n",
    "- the data block where the input data is defined, \n",
    "- the parameters block where model parameters are introduced, \n",
    "- the model block where the model is specified, \n",
    "- the generated quantities block where samples which are dependent on the posterior distribution can be generated. \n",
    "\n",
    "There are a number of other blocks which are often used in Stan but not present in this model: transformed data and transformed parameters are quite common as well."
   ]
  },
  {
   "cell_type": "markdown",
   "id": "a9078e3d",
   "metadata": {},
   "source": [
    "https://twiecki.io/blog/2018/08/13/hierarchical_bayesian_neural_network/"
   ]
  },
  {
   "cell_type": "markdown",
   "id": "744f050e",
   "metadata": {},
   "source": [
    "https://towardsdatascience.com/hands-on-bayesian-statistics-with-python-pymc3-arviz-499db9a59501"
   ]
  },
  {
   "cell_type": "code",
   "execution_count": 164,
   "id": "9e416658",
   "metadata": {},
   "outputs": [
    {
     "name": "stdout",
     "output_type": "stream",
     "text": [
      "Collecting pymc3\n",
      "  Using cached pymc3-3.11.5-py3-none-any.whl (872 kB)\n",
      "Requirement already satisfied: numpy<1.22.2,>=1.15.0 in c:\\users\\asus\\anaconda3\\lib\\site-packages (from pymc3) (1.20.1)\n",
      "Collecting fastprogress>=0.2.0\n",
      "  Using cached fastprogress-1.0.3-py3-none-any.whl (12 kB)\n",
      "Collecting theano-pymc==1.1.2\n",
      "  Using cached Theano_PyMC-1.1.2-py3-none-any.whl\n",
      "Requirement already satisfied: cachetools>=4.2.1 in c:\\users\\asus\\anaconda3\\lib\\site-packages (from pymc3) (5.0.0)\n",
      "Requirement already satisfied: patsy>=0.5.1 in c:\\users\\asus\\anaconda3\\lib\\site-packages (from pymc3) (0.5.1)\n",
      "Collecting dill\n",
      "  Using cached dill-0.3.5.1-py2.py3-none-any.whl (95 kB)\n",
      "Requirement already satisfied: scipy<1.8.0,>=1.7.3 in c:\\users\\asus\\anaconda3\\lib\\site-packages (from pymc3) (1.7.3)\n",
      "Collecting semver>=2.13.0\n",
      "  Using cached semver-2.13.0-py2.py3-none-any.whl (12 kB)\n",
      "Requirement already satisfied: arviz>=0.11.0 in c:\\users\\asus\\anaconda3\\lib\\site-packages (from pymc3) (0.12.1)\n",
      "Collecting deprecat\n",
      "  Using cached deprecat-2.1.1-py2.py3-none-any.whl (9.8 kB)\n",
      "Requirement already satisfied: typing-extensions>=3.7.4 in c:\\users\\asus\\anaconda3\\lib\\site-packages (from pymc3) (3.7.4.3)\n",
      "Requirement already satisfied: pandas>=0.24.0 in c:\\users\\asus\\anaconda3\\lib\\site-packages (from pymc3) (1.2.4)\n",
      "Requirement already satisfied: filelock in c:\\users\\asus\\anaconda3\\lib\\site-packages (from theano-pymc==1.1.2->pymc3) (3.4.0)\n",
      "Requirement already satisfied: packaging in c:\\users\\asus\\anaconda3\\lib\\site-packages (from arviz>=0.11.0->pymc3) (20.9)\n",
      "Requirement already satisfied: xarray>=0.16.1 in c:\\users\\asus\\anaconda3\\lib\\site-packages (from arviz>=0.11.0->pymc3) (2022.9.0)\n",
      "Requirement already satisfied: setuptools>=38.4 in c:\\users\\asus\\anaconda3\\lib\\site-packages (from arviz>=0.11.0->pymc3) (52.0.0.post20210125)\n",
      "Requirement already satisfied: matplotlib>=3.0 in c:\\users\\asus\\anaconda3\\lib\\site-packages (from arviz>=0.11.0->pymc3) (3.3.4)\n",
      "Requirement already satisfied: xarray-einstats>=0.2 in c:\\users\\asus\\anaconda3\\lib\\site-packages (from arviz>=0.11.0->pymc3) (0.3.0)\n",
      "Requirement already satisfied: netcdf4 in c:\\users\\asus\\anaconda3\\lib\\site-packages (from arviz>=0.11.0->pymc3) (1.6.1)\n",
      "Requirement already satisfied: pillow>=6.2.0 in c:\\users\\asus\\anaconda3\\lib\\site-packages (from matplotlib>=3.0->arviz>=0.11.0->pymc3) (8.2.0)\n",
      "Requirement already satisfied: cycler>=0.10 in c:\\users\\asus\\anaconda3\\lib\\site-packages (from matplotlib>=3.0->arviz>=0.11.0->pymc3) (0.10.0)\n",
      "Requirement already satisfied: python-dateutil>=2.1 in c:\\users\\asus\\anaconda3\\lib\\site-packages (from matplotlib>=3.0->arviz>=0.11.0->pymc3) (2.8.1)\n",
      "Requirement already satisfied: kiwisolver>=1.0.1 in c:\\users\\asus\\anaconda3\\lib\\site-packages (from matplotlib>=3.0->arviz>=0.11.0->pymc3) (1.3.1)\n",
      "Requirement already satisfied: pyparsing!=2.0.4,!=2.1.2,!=2.1.6,>=2.0.3 in c:\\users\\asus\\anaconda3\\lib\\site-packages (from matplotlib>=3.0->arviz>=0.11.0->pymc3) (2.4.7)\n",
      "Requirement already satisfied: six in c:\\users\\asus\\anaconda3\\lib\\site-packages (from cycler>=0.10->matplotlib>=3.0->arviz>=0.11.0->pymc3) (1.15.0)\n",
      "Requirement already satisfied: pytz>=2017.3 in c:\\users\\asus\\anaconda3\\lib\\site-packages (from pandas>=0.24.0->pymc3) (2021.1)\n",
      "Requirement already satisfied: wrapt<2,>=1.10 in c:\\users\\asus\\anaconda3\\lib\\site-packages (from deprecat->pymc3) (1.12.1)\n",
      "Requirement already satisfied: cftime in c:\\users\\asus\\anaconda3\\lib\\site-packages (from netcdf4->arviz>=0.11.0->pymc3) (1.6.2)\n",
      "Installing collected packages: theano-pymc, semver, fastprogress, dill, deprecat, pymc3\n",
      "Successfully installed deprecat-2.1.1 dill-0.3.5.1 fastprogress-1.0.3 pymc3-3.11.5 semver-2.13.0 theano-pymc-1.1.2\n",
      "Note: you may need to restart the kernel to use updated packages.\n"
     ]
    }
   ],
   "source": [
    "pip install pymc3"
   ]
  },
  {
   "cell_type": "code",
   "execution_count": 166,
   "id": "938fe770",
   "metadata": {},
   "outputs": [],
   "source": [
    "from scipy import stats\n",
    "import matplotlib.pyplot as plt\n",
    "import seaborn as sns\n",
    "\n",
    "import pymc3 as pm\n",
    "from pymc3 import floatX\n",
    "import theano\n",
    "import theano.tensor as tt"
   ]
  },
  {
   "cell_type": "code",
   "execution_count": 167,
   "id": "da6848c7",
   "metadata": {},
   "outputs": [],
   "source": [
    "from theano import shared\n",
    "from sklearn import preprocessing"
   ]
  },
  {
   "cell_type": "code",
   "execution_count": 168,
   "id": "2f2b4ba1",
   "metadata": {},
   "outputs": [
    {
     "data": {
      "image/png": "[encoded data removed]",
      "text/plain": [
       "<Figure size 432x288 with 1 Axes>"
      ]
     },
     "metadata": {
      "needs_background": "light"
     },
     "output_type": "display_data"
    }
   ],
   "source": [
    "az.plot_kde(df['GDP per Capita'].values, rug=True)\n",
    "plt.yticks([0], alpha=0);"
   ]
  },
  {
   "cell_type": "code",
   "execution_count": 4,
   "id": "372a5902",
   "metadata": {},
   "outputs": [],
   "source": [
    "df2 = pd.read_csv(\"data_2_cat.csv\")"
   ]
  },
  {
   "cell_type": "code",
   "execution_count": 5,
   "id": "353882d4",
   "metadata": {},
   "outputs": [],
   "source": [
    "df2 = df2.drop(df2.columns[0], axis=1)"
   ]
  },
  {
   "cell_type": "code",
   "execution_count": 6,
   "id": "804dfb8e",
   "metadata": {},
   "outputs": [],
   "source": [
    "df2['tier'] = df2['tier'].replace(['First','Second'],['1','2'])\n",
    "df2['tier'] = df2['tier'].astype(float)"
   ]
  },
  {
   "cell_type": "code",
   "execution_count": 7,
   "id": "4fcd78e0",
   "metadata": {},
   "outputs": [],
   "source": [
    "df2 = df2.drop('Country',axis=1)"
   ]
  },
  {
   "cell_type": "code",
   "execution_count": 8,
   "id": "31a7be64",
   "metadata": {},
   "outputs": [],
   "source": [
    "df2 = df2.drop('Happiness Rank',axis=1)"
   ]
  },
  {
   "cell_type": "code",
   "execution_count": 9,
   "id": "48078613",
   "metadata": {},
   "outputs": [],
   "source": [
    "df2 = df2.drop('Happiness Score',axis=1)"
   ]
  },
  {
   "cell_type": "code",
   "execution_count": 176,
   "id": "8732353e",
   "metadata": {},
   "outputs": [
    {
     "name": "stdout",
     "output_type": "stream",
     "text": [
      "Requirement already satisfied: scipy in c:\\users\\asus\\anaconda3\\lib\\site-packages (1.7.3)\n",
      "Requirement already satisfied: numpy<1.23.0,>=1.16.5 in c:\\users\\asus\\anaconda3\\lib\\site-packages (from scipy) (1.20.1)\n",
      "Note: you may need to restart the kernel to use updated packages.\n"
     ]
    }
   ],
   "source": [
    "pip install scipy"
   ]
  },
  {
   "cell_type": "markdown",
   "id": "3811d952",
   "metadata": {},
   "source": [
    "https://medium.com/edureka/bayesian-networks-2499f133d2ec#:~:text=Bayesian%20Networks%20In%20Python%20Bayesian%20Networks%20have%20given,era%20such%20as%20Artificial%20Intelligence%20and%20Machine%20Learning."
   ]
  },
  {
   "cell_type": "code",
   "execution_count": 178,
   "id": "6e65edad",
   "metadata": {},
   "outputs": [
    {
     "name": "stdout",
     "output_type": "stream",
     "text": [
      "Collecting pomegranate\n",
      "  Downloading pomegranate-0.14.8-cp38-cp38-win_amd64.whl (6.5 MB)\n",
      "Requirement already satisfied: joblib>=0.9.0b4 in c:\\users\\asus\\anaconda3\\lib\\site-packages (from pomegranate) (1.0.1)\n",
      "Requirement already satisfied: pyyaml in c:\\users\\asus\\anaconda3\\lib\\site-packages (from pomegranate) (5.4.1)\n",
      "Requirement already satisfied: networkx>=2.4 in c:\\users\\asus\\anaconda3\\lib\\site-packages (from pomegranate) (2.5)\n",
      "Requirement already satisfied: scipy>=0.17.0 in c:\\users\\asus\\anaconda3\\lib\\site-packages (from pomegranate) (1.7.3)\n",
      "Requirement already satisfied: numpy>=1.20.0 in c:\\users\\asus\\anaconda3\\lib\\site-packages (from pomegranate) (1.20.1)\n",
      "Requirement already satisfied: decorator>=4.3.0 in c:\\users\\asus\\anaconda3\\lib\\site-packages (from networkx>=2.4->pomegranate) (5.0.6)\n",
      "Installing collected packages: pomegranate\n",
      "Successfully installed pomegranate-0.14.8\n",
      "Note: you may need to restart the kernel to use updated packages.\n"
     ]
    }
   ],
   "source": [
    "pip install pomegranate"
   ]
  },
  {
   "cell_type": "code",
   "execution_count": 192,
   "id": "5a19559b",
   "metadata": {},
   "outputs": [
    {
     "ename": "ValueError",
     "evalue": "numpy.ndarray size changed, may indicate binary incompatibility. Expected 96 from C header, got 88 from PyObject",
     "output_type": "error",
     "traceback": [
      "\u001b[1;31m---------------------------------------------------------------------------\u001b[0m",
      "\u001b[1;31mValueError\u001b[0m                                Traceback (most recent call last)",
      "\u001b[1;32m<ipython-input-192-f3056831eade>\u001b[0m in \u001b[0;36m<module>\u001b[1;34m\u001b[0m\n\u001b[0;32m      1\u001b[0m \u001b[1;32mimport\u001b[0m \u001b[0mmath\u001b[0m\u001b[1;33m\u001b[0m\u001b[1;33m\u001b[0m\u001b[0m\n\u001b[1;32m----> 2\u001b[1;33m \u001b[1;32mimport\u001b[0m \u001b[0mpomegranate\u001b[0m\u001b[1;33m\u001b[0m\u001b[1;33m\u001b[0m\u001b[0m\n\u001b[0m",
      "\u001b[1;32m~\\anaconda3\\lib\\site-packages\\pomegranate\\__init__.py\u001b[0m in \u001b[0;36m<module>\u001b[1;34m\u001b[0m\n\u001b[0;32m      9\u001b[0m \u001b[1;32mimport\u001b[0m \u001b[0mos\u001b[0m\u001b[1;33m\u001b[0m\u001b[1;33m\u001b[0m\u001b[0m\n\u001b[0;32m     10\u001b[0m \u001b[1;33m\u001b[0m\u001b[0m\n\u001b[1;32m---> 11\u001b[1;33m \u001b[1;32mfrom\u001b[0m \u001b[1;33m.\u001b[0m\u001b[0mbase\u001b[0m \u001b[1;32mimport\u001b[0m \u001b[1;33m*\u001b[0m\u001b[1;33m\u001b[0m\u001b[1;33m\u001b[0m\u001b[0m\n\u001b[0m\u001b[0;32m     12\u001b[0m \u001b[1;32mfrom\u001b[0m \u001b[1;33m.\u001b[0m\u001b[0mparallel\u001b[0m \u001b[1;32mimport\u001b[0m \u001b[1;33m*\u001b[0m\u001b[1;33m\u001b[0m\u001b[1;33m\u001b[0m\u001b[0m\n\u001b[0;32m     13\u001b[0m \u001b[1;33m\u001b[0m\u001b[0m\n",
      "\u001b[1;32m~\\anaconda3\\lib\\site-packages\\pomegranate\\base.pyx\u001b[0m in \u001b[0;36minit pomegranate.base\u001b[1;34m()\u001b[0m\n",
      "\u001b[1;31mValueError\u001b[0m: numpy.ndarray size changed, may indicate binary incompatibility. Expected 96 from C header, got 88 from PyObject"
     ]
    }
   ],
   "source": [
    "import math\n",
    "import pomegranate"
   ]
  },
  {
   "cell_type": "code",
   "execution_count": null,
   "id": "93fff18a",
   "metadata": {},
   "outputs": [],
   "source": []
  },
  {
   "cell_type": "markdown",
   "id": "02684221",
   "metadata": {},
   "source": [
    "# Conclusions :"
   ]
  },
  {
   "cell_type": "markdown",
   "id": "23e07184",
   "metadata": {},
   "source": [
    "- discuss which Bayes net implementations and which evaluation metrics worked best. If some worked better, can you hypothesise why?\n",
    "- fill table \"Algorithm versus metrics performance\":"
   ]
  },
  {
   "cell_type": "code",
   "execution_count": 37,
   "id": "c6224075",
   "metadata": {},
   "outputs": [
    {
     "data": {
      "text/html": [
       "<img src=\"9.PNG\" width=\"600\" height=\"400\"/>"
      ],
      "text/plain": [
       "<IPython.core.display.Image object>"
      ]
     },
     "execution_count": 37,
     "metadata": {},
     "output_type": "execute_result"
    }
   ],
   "source": [
    "Image(url=\"9.PNG\", width=600, height=400)"
   ]
  },
  {
   "cell_type": "markdown",
   "id": "bc9c6ec4",
   "metadata": {},
   "source": [
    "- In the table, highlight with bold the best performing algorithms in each category. Make conclusions"
   ]
  },
  {
   "cell_type": "markdown",
   "id": "8d2e1731",
   "metadata": {},
   "source": [
    "### Distribution of the class \"tier\""
   ]
  },
  {
   "cell_type": "code",
   "execution_count": 10,
   "id": "b068f60e",
   "metadata": {},
   "outputs": [
    {
     "data": {
      "image/png": "[encoded data removed]",
      "text/plain": [
       "<Figure size 720x576 with 1 Axes>"
      ]
     },
     "metadata": {
      "needs_background": "light"
     },
     "output_type": "display_data"
    }
   ],
   "source": [
    "count = df2['tier'].value_counts()\n",
    "count.plot(kind='bar',figsize=(10,8))\n",
    "plt.title(\"Class distribution\")\n",
    "# Setting the X and Y labels\n",
    "plt.xlabel('Tier')\n",
    "plt.ylabel('Count') \n",
    "# Adding the legends\n",
    "plt.show()"
   ]
  },
  {
   "cell_type": "code",
   "execution_count": 20,
   "id": "e04c3a94",
   "metadata": {},
   "outputs": [
    {
     "data": {
      "image/png": "[encoded data removed]",
      "text/plain": [
       "<Figure size 720x576 with 1 Axes>"
      ]
     },
     "metadata": {
      "needs_background": "light"
     },
     "output_type": "display_data"
    }
   ],
   "source": [
    "count = y_train.value_counts()\n",
    "count.plot(kind='bar',figsize=(10,8))\n",
    "plt.title(\"Class distribution\")\n",
    "# Setting the X and Y labels\n",
    "plt.xlabel('Tier')\n",
    "plt.ylabel('Count') \n",
    "# Adding the legends\n",
    "plt.show()"
   ]
  },
  {
   "cell_type": "code",
   "execution_count": 21,
   "id": "37b2182d",
   "metadata": {},
   "outputs": [
    {
     "data": {
      "image/png": "[encoded data removed]",
      "text/plain": [
       "<Figure size 720x576 with 1 Axes>"
      ]
     },
     "metadata": {
      "needs_background": "light"
     },
     "output_type": "display_data"
    }
   ],
   "source": [
    "count = y_test.value_counts()\n",
    "count.plot(kind='bar',figsize=(10,8))\n",
    "plt.title(\"Class distribution\")\n",
    "# Setting the X and Y labels\n",
    "plt.xlabel('Tier')\n",
    "plt.ylabel('Count') \n",
    "# Adding the legends\n",
    "plt.show()"
   ]
  }
 ],
 "metadata": {
  "kernelspec": {
   "display_name": "Python 3",
   "language": "python",
   "name": "python3"
  },
  "language_info": {
   "codemirror_mode": {
    "name": "ipython",
    "version": 3
   },
   "file_extension": ".py",
   "mimetype": "text/x-python",
   "name": "python",
   "nbconvert_exporter": "python",
   "pygments_lexer": "ipython3",
   "version": "3.8.8"
  }
 },
 "nbformat": 4,
 "nbformat_minor": 5
}
