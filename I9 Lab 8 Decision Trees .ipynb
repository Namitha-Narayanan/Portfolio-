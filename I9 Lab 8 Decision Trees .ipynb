{
 "cells": [
  {
   "cell_type": "code",
   "execution_count": 2,
   "id": "2dc10997",
   "metadata": {},
   "outputs": [
    {
     "name": "stderr",
     "output_type": "stream",
     "text": [
      "C:\\Users\\Asus\\anaconda3\\lib\\site-packages\\statsmodels\\tsa\\base\\tsa_model.py:7: FutureWarning: pandas.Int64Index is deprecated and will be removed from pandas in a future version. Use pandas.Index with the appropriate dtype instead.\n",
      "  from pandas import (to_datetime, Int64Index, DatetimeIndex, Period,\n",
      "C:\\Users\\Asus\\anaconda3\\lib\\site-packages\\statsmodels\\tsa\\base\\tsa_model.py:7: FutureWarning: pandas.Float64Index is deprecated and will be removed from pandas in a future version. Use pandas.Index with the appropriate dtype instead.\n",
      "  from pandas import (to_datetime, Int64Index, DatetimeIndex, Period,\n"
     ]
    }
   ],
   "source": [
    "import pandas as pd\n",
    "import numpy as np\n",
    "import seaborn as sns\n",
    "import statsmodels.api as sm\n",
    "\n",
    "import matplotlib.pyplot as plt\n",
    "import matplotlib as mlp"
   ]
  },
  {
   "cell_type": "markdown",
   "id": "ff6ba7d9",
   "metadata": {},
   "source": [
    "Import data"
   ]
  },
  {
   "cell_type": "code",
   "execution_count": 3,
   "id": "c154a7d4",
   "metadata": {
    "scrolled": true
   },
   "outputs": [],
   "source": [
    "df = pd.read_csv(\"data_2_cat.csv\")"
   ]
  },
  {
   "cell_type": "code",
   "execution_count": 5,
   "id": "059d4548",
   "metadata": {},
   "outputs": [],
   "source": [
    "df['tier'] = df['tier'].replace(['First','Second'],['1','2'])\n",
    "df['tier'] = df['tier'].astype(float)"
   ]
  },
  {
   "cell_type": "code",
   "execution_count": 9,
   "id": "bf55cf49",
   "metadata": {},
   "outputs": [],
   "source": [
    "df = df.drop('Country',axis=1)"
   ]
  },
  {
   "cell_type": "code",
   "execution_count": 6,
   "id": "a0ad12fc",
   "metadata": {},
   "outputs": [],
   "source": [
    "df = df.drop('Happiness Rank',axis=1)"
   ]
  },
  {
   "cell_type": "code",
   "execution_count": 7,
   "id": "cc58dd7b",
   "metadata": {},
   "outputs": [],
   "source": [
    "df = df.drop('Happiness Score',axis=1)"
   ]
  },
  {
   "cell_type": "code",
   "execution_count": 10,
   "id": "80358553",
   "metadata": {
    "scrolled": true
   },
   "outputs": [
    {
     "data": {
      "text/html": [
       "<div>\n",
       "<style scoped>\n",
       "    .dataframe tbody tr th:only-of-type {\n",
       "        vertical-align: middle;\n",
       "    }\n",
       "\n",
       "    .dataframe tbody tr th {\n",
       "        vertical-align: top;\n",
       "    }\n",
       "\n",
       "    .dataframe thead th {\n",
       "        text-align: right;\n",
       "    }\n",
       "</style>\n",
       "<table border=\"1\" class=\"dataframe\">\n",
       "  <thead>\n",
       "    <tr style=\"text-align: right;\">\n",
       "      <th></th>\n",
       "      <th>Year</th>\n",
       "      <th>GDP per Capita</th>\n",
       "      <th>Social support</th>\n",
       "      <th>Life Expectancy</th>\n",
       "      <th>Freedom to make life choices</th>\n",
       "      <th>Perceptions of corruption</th>\n",
       "      <th>Generosity</th>\n",
       "      <th>tier</th>\n",
       "    </tr>\n",
       "  </thead>\n",
       "  <tbody>\n",
       "    <tr>\n",
       "      <th>0</th>\n",
       "      <td>2015</td>\n",
       "      <td>1.39651</td>\n",
       "      <td>1.34951</td>\n",
       "      <td>0.94143</td>\n",
       "      <td>0.66557</td>\n",
       "      <td>0.41978</td>\n",
       "      <td>0.29678</td>\n",
       "      <td>1.0</td>\n",
       "    </tr>\n",
       "    <tr>\n",
       "      <th>1</th>\n",
       "      <td>2015</td>\n",
       "      <td>1.30232</td>\n",
       "      <td>1.40223</td>\n",
       "      <td>0.94784</td>\n",
       "      <td>0.62877</td>\n",
       "      <td>0.14145</td>\n",
       "      <td>0.43630</td>\n",
       "      <td>1.0</td>\n",
       "    </tr>\n",
       "    <tr>\n",
       "      <th>2</th>\n",
       "      <td>2015</td>\n",
       "      <td>1.32548</td>\n",
       "      <td>1.36058</td>\n",
       "      <td>0.87464</td>\n",
       "      <td>0.64938</td>\n",
       "      <td>0.48357</td>\n",
       "      <td>0.34139</td>\n",
       "      <td>1.0</td>\n",
       "    </tr>\n",
       "    <tr>\n",
       "      <th>3</th>\n",
       "      <td>2015</td>\n",
       "      <td>1.45900</td>\n",
       "      <td>1.33095</td>\n",
       "      <td>0.88521</td>\n",
       "      <td>0.66973</td>\n",
       "      <td>0.36503</td>\n",
       "      <td>0.34699</td>\n",
       "      <td>1.0</td>\n",
       "    </tr>\n",
       "    <tr>\n",
       "      <th>4</th>\n",
       "      <td>2015</td>\n",
       "      <td>1.32629</td>\n",
       "      <td>1.32261</td>\n",
       "      <td>0.90563</td>\n",
       "      <td>0.63297</td>\n",
       "      <td>0.32957</td>\n",
       "      <td>0.45811</td>\n",
       "      <td>1.0</td>\n",
       "    </tr>\n",
       "  </tbody>\n",
       "</table>\n",
       "</div>"
      ],
      "text/plain": [
       "   Year  GDP per Capita  Social support  Life Expectancy  \\\n",
       "0  2015         1.39651         1.34951          0.94143   \n",
       "1  2015         1.30232         1.40223          0.94784   \n",
       "2  2015         1.32548         1.36058          0.87464   \n",
       "3  2015         1.45900         1.33095          0.88521   \n",
       "4  2015         1.32629         1.32261          0.90563   \n",
       "\n",
       "   Freedom to make life choices  Perceptions of corruption  Generosity  tier  \n",
       "0                       0.66557                    0.41978     0.29678   1.0  \n",
       "1                       0.62877                    0.14145     0.43630   1.0  \n",
       "2                       0.64938                    0.48357     0.34139   1.0  \n",
       "3                       0.66973                    0.36503     0.34699   1.0  \n",
       "4                       0.63297                    0.32957     0.45811   1.0  "
      ]
     },
     "execution_count": 10,
     "metadata": {},
     "output_type": "execute_result"
    }
   ],
   "source": [
    "df.head()"
   ]
  },
  {
   "cell_type": "code",
   "execution_count": 11,
   "id": "998acd05",
   "metadata": {},
   "outputs": [],
   "source": [
    "from sklearn.model_selection import train_test_split"
   ]
  },
  {
   "cell_type": "code",
   "execution_count": 12,
   "id": "f628ee39",
   "metadata": {},
   "outputs": [
    {
     "name": "stdout",
     "output_type": "stream",
     "text": [
      "Train Data: (744, 7), (744,)\n",
      "Train Data: (187, 7), (187,)\n"
     ]
    }
   ],
   "source": [
    "X = df.drop('tier',axis=1)\n",
    "y = df['tier']\n",
    "X_train, X_test, y_train, y_test = train_test_split(X, y, test_size=0.2, random_state=24)\n",
    "print(f\"Train Data: {X_train.shape}, {y_train.shape}\")\n",
    "print(f\"Train Data: {X_test.shape}, {y_test.shape}\")"
   ]
  },
  {
   "cell_type": "markdown",
   "id": "db1ad43a",
   "metadata": {},
   "source": [
    "Decision Trees"
   ]
  },
  {
   "cell_type": "code",
   "execution_count": 13,
   "id": "2bd5db5b",
   "metadata": {},
   "outputs": [],
   "source": [
    "from sklearn.tree import DecisionTreeClassifier"
   ]
  },
  {
   "cell_type": "code",
   "execution_count": 34,
   "id": "d1f8aa17",
   "metadata": {},
   "outputs": [],
   "source": [
    "trees = DecisionTreeClassifier(max_depth=2, random_state=42)"
   ]
  },
  {
   "cell_type": "code",
   "execution_count": 35,
   "id": "8c249c41",
   "metadata": {},
   "outputs": [],
   "source": [
    "trees = trees.fit(X_train,y_train)"
   ]
  },
  {
   "cell_type": "code",
   "execution_count": 36,
   "id": "fda39b24",
   "metadata": {},
   "outputs": [
    {
     "data": {
      "text/plain": [
       "[Text(0.5, 0.8333333333333334, 'X[1] <= 1.124\\ngini = 0.499\\nsamples = 744\\nvalue = [392, 352]'),\n",
       " Text(0.25, 0.5, 'X[3] <= 0.44\\ngini = 0.4\\nsamples = 464\\nvalue = [128, 336]'),\n",
       " Text(0.125, 0.16666666666666666, 'gini = 0.032\\nsamples = 186\\nvalue = [3, 183]'),\n",
       " Text(0.375, 0.16666666666666666, 'gini = 0.495\\nsamples = 278\\nvalue = [125, 153]'),\n",
       " Text(0.75, 0.5, 'X[4] <= 0.156\\ngini = 0.108\\nsamples = 280\\nvalue = [264, 16]'),\n",
       " Text(0.625, 0.16666666666666666, 'gini = 0.0\\nsamples = 6\\nvalue = [0, 6]'),\n",
       " Text(0.875, 0.16666666666666666, 'gini = 0.07\\nsamples = 274\\nvalue = [264, 10]')]"
      ]
     },
     "execution_count": 36,
     "metadata": {},
     "output_type": "execute_result"
    },
    {
     "data": {
      "image/png": "[encoded data removed]",
      "text/plain": [
       "<Figure size 432x288 with 1 Axes>"
      ]
     },
     "metadata": {
      "needs_background": "light"
     },
     "output_type": "display_data"
    }
   ],
   "source": [
    "from sklearn import tree\n",
    "tree.plot_tree(trees) "
   ]
  },
  {
   "cell_type": "code",
   "execution_count": 22,
   "id": "19e73537",
   "metadata": {},
   "outputs": [
    {
     "data": {
      "text/plain": [
       "Index(['Year', 'GDP per Capita', 'Social support', 'Life Expectancy',\n",
       "       'Freedom to make life choices', 'Perceptions of corruption',\n",
       "       'Generosity', 'tier'],\n",
       "      dtype='object')"
      ]
     },
     "execution_count": 22,
     "metadata": {},
     "output_type": "execute_result"
    }
   ],
   "source": [
    "df.columns"
   ]
  },
  {
   "cell_type": "code",
   "execution_count": 29,
   "id": "b766ab36",
   "metadata": {},
   "outputs": [],
   "source": [
    "feature_cols = ['Year', 'GDP per Capita', 'Social support', 'Life Expectancy',\n",
    "       'Freedom to make life choices', 'Perceptions of corruption',\n",
    "       'Generosity']"
   ]
  },
  {
   "cell_type": "code",
   "execution_count": 25,
   "id": "34856aa5",
   "metadata": {},
   "outputs": [
    {
     "name": "stdout",
     "output_type": "stream",
     "text": [
      "Requirement already satisfied: six in c:\\users\\asus\\anaconda3\\lib\\site-packages (1.15.0)\n",
      "Note: you may need to restart the kernel to use updated packages.\n"
     ]
    }
   ],
   "source": [
    "pip install six"
   ]
  },
  {
   "cell_type": "code",
   "execution_count": 27,
   "id": "4a5b1449",
   "metadata": {},
   "outputs": [
    {
     "name": "stdout",
     "output_type": "stream",
     "text": [
      "Collecting pydotplus\n",
      "  Downloading pydotplus-2.0.2.tar.gz (278 kB)\n",
      "Requirement already satisfied: pyparsing>=2.0.1 in c:\\users\\asus\\anaconda3\\lib\\site-packages (from pydotplus) (2.4.7)\n",
      "Building wheels for collected packages: pydotplus\n",
      "  Building wheel for pydotplus (setup.py): started\n",
      "  Building wheel for pydotplus (setup.py): finished with status 'done'\n",
      "  Created wheel for pydotplus: filename=pydotplus-2.0.2-py3-none-any.whl size=24566 sha256=641a703994c19790afe2ac00b48c3ef128aac5c7258f81ba3af6462389300ca2\n",
      "  Stored in directory: c:\\users\\asus\\appdata\\local\\pip\\cache\\wheels\\fe\\cd\\78\\a7e873cc049759194f8271f780640cf96b35e5a48bef0e2f36\n",
      "Successfully built pydotplus\n",
      "Installing collected packages: pydotplus\n",
      "Successfully installed pydotplus-2.0.2\n",
      "Note: you may need to restart the kernel to use updated packages.\n"
     ]
    }
   ],
   "source": [
    "pip install pydotplus"
   ]
  },
  {
   "cell_type": "code",
   "execution_count": 32,
   "id": "cec24bdc",
   "metadata": {},
   "outputs": [
    {
     "name": "stdout",
     "output_type": "stream",
     "text": [
      "Collecting graphviz\n",
      "  Downloading graphviz-0.20.1-py3-none-any.whl (47 kB)\n",
      "Installing collected packages: graphviz\n",
      "Successfully installed graphviz-0.20.1\n",
      "Note: you may need to restart the kernel to use updated packages.\n"
     ]
    }
   ],
   "source": [
    "pip install graphviz"
   ]
  },
  {
   "cell_type": "code",
   "execution_count": 41,
   "id": "0a063967",
   "metadata": {},
   "outputs": [],
   "source": [
    "from sklearn.tree import export_graphviz\n",
    "from six import StringIO  \n",
    "from IPython.display import Image  \n",
    "import pydotplus\n",
    "dot_data = StringIO()\n",
    "export_graphviz(trees, out_file=dot_data,  \n",
    "                filled=True, rounded=True,\n",
    "                special_characters=True,feature_names = feature_cols,class_names=['0','1'])\n",
    "graph = pydotplus.graph_from_dot_data(dot_data.getvalue())  \n",
    "graph.write_png('happiness.png')\n",
    "Image(graph.create_png())\n",
    "# to fix error must install something on anaconda \n",
    "#https://askubuntu.com/questions/1214728/pydot-invocationexception-graphvizs-executables-not-found"
   ]
  },
  {
   "cell_type": "code",
   "execution_count": 38,
   "id": "4bbf99af",
   "metadata": {},
   "outputs": [],
   "source": [
    "y_pred = trees.predict(X_test)"
   ]
  },
  {
   "cell_type": "markdown",
   "id": "8924c182",
   "metadata": {},
   "source": [
    "Linear Regression"
   ]
  },
  {
   "cell_type": "code",
   "execution_count": 39,
   "id": "8ca8f6fd",
   "metadata": {},
   "outputs": [
    {
     "data": {
      "text/plain": [
       "(-15.276913725205024,\n",
       " array([ 0.00888718, -0.50072437, -0.2044792 , -0.35579325, -0.67446692,\n",
       "         0.03212242,  0.02100288]))"
      ]
     },
     "execution_count": 39,
     "metadata": {},
     "output_type": "execute_result"
    }
   ],
   "source": [
    "from sklearn.linear_model import LinearRegression\n",
    "\n",
    "lin_reg = LinearRegression()\n",
    "lin_reg.fit(X_train, y_train) #train linear regression on X and y\n",
    "lin_reg.intercept_, lin_reg.coef_ # learning parameters "
   ]
  },
  {
   "cell_type": "code",
   "execution_count": 40,
   "id": "16c03ddd",
   "metadata": {},
   "outputs": [],
   "source": [
    "y_pred_lr = lin_reg.predict(X_test)"
   ]
  },
  {
   "cell_type": "markdown",
   "id": "a812b5a3",
   "metadata": {},
   "source": [
    "Logistic Regression"
   ]
  },
  {
   "cell_type": "code",
   "execution_count": 42,
   "id": "33c817e1",
   "metadata": {},
   "outputs": [
    {
     "data": {
      "text/html": [
       "<style>#sk-container-id-1 {color: black;background-color: white;}#sk-container-id-1 pre{padding: 0;}#sk-container-id-1 div.sk-toggleable {background-color: white;}#sk-container-id-1 label.sk-toggleable__label {cursor: pointer;display: block;width: 100%;margin-bottom: 0;padding: 0.3em;box-sizing: border-box;text-align: center;}#sk-container-id-1 label.sk-toggleable__label-arrow:before {content: \"▸\";float: left;margin-right: 0.25em;color: #696969;}#sk-container-id-1 label.sk-toggleable__label-arrow:hover:before {color: black;}#sk-container-id-1 div.sk-estimator:hover label.sk-toggleable__label-arrow:before {color: black;}#sk-container-id-1 div.sk-toggleable__content {max-height: 0;max-width: 0;overflow: hidden;text-align: left;background-color: #f0f8ff;}#sk-container-id-1 div.sk-toggleable__content pre {margin: 0.2em;color: black;border-radius: 0.25em;background-color: #f0f8ff;}#sk-container-id-1 input.sk-toggleable__control:checked~div.sk-toggleable__content {max-height: 200px;max-width: 100%;overflow: auto;}#sk-container-id-1 input.sk-toggleable__control:checked~label.sk-toggleable__label-arrow:before {content: \"▾\";}#sk-container-id-1 div.sk-estimator input.sk-toggleable__control:checked~label.sk-toggleable__label {background-color: #d4ebff;}#sk-container-id-1 div.sk-label input.sk-toggleable__control:checked~label.sk-toggleable__label {background-color: #d4ebff;}#sk-container-id-1 input.sk-hidden--visually {border: 0;clip: rect(1px 1px 1px 1px);clip: rect(1px, 1px, 1px, 1px);height: 1px;margin: -1px;overflow: hidden;padding: 0;position: absolute;width: 1px;}#sk-container-id-1 div.sk-estimator {font-family: monospace;background-color: #f0f8ff;border: 1px dotted black;border-radius: 0.25em;box-sizing: border-box;margin-bottom: 0.5em;}#sk-container-id-1 div.sk-estimator:hover {background-color: #d4ebff;}#sk-container-id-1 div.sk-parallel-item::after {content: \"\";width: 100%;border-bottom: 1px solid gray;flex-grow: 1;}#sk-container-id-1 div.sk-label:hover label.sk-toggleable__label {background-color: #d4ebff;}#sk-container-id-1 div.sk-serial::before {content: \"\";position: absolute;border-left: 1px solid gray;box-sizing: border-box;top: 0;bottom: 0;left: 50%;z-index: 0;}#sk-container-id-1 div.sk-serial {display: flex;flex-direction: column;align-items: center;background-color: white;padding-right: 0.2em;padding-left: 0.2em;position: relative;}#sk-container-id-1 div.sk-item {position: relative;z-index: 1;}#sk-container-id-1 div.sk-parallel {display: flex;align-items: stretch;justify-content: center;background-color: white;position: relative;}#sk-container-id-1 div.sk-item::before, #sk-container-id-1 div.sk-parallel-item::before {content: \"\";position: absolute;border-left: 1px solid gray;box-sizing: border-box;top: 0;bottom: 0;left: 50%;z-index: -1;}#sk-container-id-1 div.sk-parallel-item {display: flex;flex-direction: column;z-index: 1;position: relative;background-color: white;}#sk-container-id-1 div.sk-parallel-item:first-child::after {align-self: flex-end;width: 50%;}#sk-container-id-1 div.sk-parallel-item:last-child::after {align-self: flex-start;width: 50%;}#sk-container-id-1 div.sk-parallel-item:only-child::after {width: 0;}#sk-container-id-1 div.sk-dashed-wrapped {border: 1px dashed gray;margin: 0 0.4em 0.5em 0.4em;box-sizing: border-box;padding-bottom: 0.4em;background-color: white;}#sk-container-id-1 div.sk-label label {font-family: monospace;font-weight: bold;display: inline-block;line-height: 1.2em;}#sk-container-id-1 div.sk-label-container {text-align: center;}#sk-container-id-1 div.sk-container {/* jupyter's `normalize.less` sets `[hidden] { display: none; }` but bootstrap.min.css set `[hidden] { display: none !important; }` so we also need the `!important` here to be able to override the default hidden behavior on the sphinx rendered scikit-learn.org. See: https://github.com/scikit-learn/scikit-learn/issues/21755 */display: inline-block !important;position: relative;}#sk-container-id-1 div.sk-text-repr-fallback {display: none;}</style><div id=\"sk-container-id-1\" class=\"sk-top-container\"><div class=\"sk-text-repr-fallback\"><pre>LogisticRegression(random_state=42)</pre><b>In a Jupyter environment, please rerun this cell to show the HTML representation or trust the notebook. <br />On GitHub, the HTML representation is unable to render, please try loading this page with nbviewer.org.</b></div><div class=\"sk-container\" hidden><div class=\"sk-item\"><div class=\"sk-estimator sk-toggleable\"><input class=\"sk-toggleable__control sk-hidden--visually\" id=\"sk-estimator-id-1\" type=\"checkbox\" checked><label for=\"sk-estimator-id-1\" class=\"sk-toggleable__label sk-toggleable__label-arrow\">LogisticRegression</label><div class=\"sk-toggleable__content\"><pre>LogisticRegression(random_state=42)</pre></div></div></div></div></div>"
      ],
      "text/plain": [
       "LogisticRegression(random_state=42)"
      ]
     },
     "execution_count": 42,
     "metadata": {},
     "output_type": "execute_result"
    }
   ],
   "source": [
    "from sklearn.linear_model import LogisticRegression\n",
    "log_reg = LogisticRegression(solver=\"lbfgs\", random_state=42)\n",
    "log_reg.fit(X_train, y_train)"
   ]
  },
  {
   "cell_type": "code",
   "execution_count": 43,
   "id": "4f782909",
   "metadata": {},
   "outputs": [],
   "source": [
    "y_pred_lor = log_reg.predict(X_test)"
   ]
  },
  {
   "cell_type": "markdown",
   "id": "67e6b6f8",
   "metadata": {},
   "source": [
    "### the J48/C4.5 algorithm"
   ]
  },
  {
   "cell_type": "markdown",
   "id": "cf324bf0",
   "metadata": {},
   "source": [
    "It is based on the principle of entropy reduction and information gain. Many times it leads to overfitting and thus to improve the rate of classification and overcome over-fitting, a random forest tree can be used subsets as it builds different trees from sub sets of training data"
   ]
  },
  {
   "cell_type": "markdown",
   "id": "bc73d505",
   "metadata": {},
   "source": [
    "https://github.com/serengil/chefboost"
   ]
  },
  {
   "cell_type": "code",
   "execution_count": 44,
   "id": "fdc5dbc2",
   "metadata": {
    "scrolled": true
   },
   "outputs": [
    {
     "name": "stdout",
     "output_type": "stream",
     "text": [
      "Collecting chefboostNote: you may need to restart the kernel to use updated packages.\n",
      "\n",
      "  Downloading chefboost-0.0.17-py3-none-any.whl (26 kB)\n",
      "Requirement already satisfied: psutil>=5.4.3 in c:\\users\\asus\\anaconda3\\lib\\site-packages (from chefboost) (5.8.0)\n",
      "Requirement already satisfied: tqdm>=4.30.0 in c:\\users\\asus\\anaconda3\\lib\\site-packages (from chefboost) (4.59.0)\n",
      "Requirement already satisfied: numpy>=1.14.0 in c:\\users\\asus\\anaconda3\\lib\\site-packages (from chefboost) (1.22.4)\n",
      "Requirement already satisfied: pandas>=0.22.0 in c:\\users\\asus\\anaconda3\\lib\\site-packages (from chefboost) (1.5.1)\n",
      "Requirement already satisfied: pytz>=2020.1 in c:\\users\\asus\\anaconda3\\lib\\site-packages (from pandas>=0.22.0->chefboost) (2021.1)\n",
      "Requirement already satisfied: python-dateutil>=2.8.1 in c:\\users\\asus\\anaconda3\\lib\\site-packages (from pandas>=0.22.0->chefboost) (2.8.1)\n",
      "Requirement already satisfied: six>=1.5 in c:\\users\\asus\\anaconda3\\lib\\site-packages (from python-dateutil>=2.8.1->pandas>=0.22.0->chefboost) (1.15.0)\n",
      "Installing collected packages: chefboost\n",
      "Successfully installed chefboost-0.0.17\n"
     ]
    }
   ],
   "source": [
    "pip install chefboost"
   ]
  },
  {
   "cell_type": "code",
   "execution_count": 45,
   "id": "de2d1420",
   "metadata": {},
   "outputs": [],
   "source": [
    "from chefboost import Chefboost as chef"
   ]
  },
  {
   "cell_type": "code",
   "execution_count": 46,
   "id": "ca2a77ef",
   "metadata": {},
   "outputs": [],
   "source": [
    "config = {'algorithm': 'C4.5'}"
   ]
  },
  {
   "cell_type": "code",
   "execution_count": null,
   "id": "872076d9",
   "metadata": {},
   "outputs": [],
   "source": [
    "model = chef.fit(df, config = config, target_label = 'Decision')"
   ]
  },
  {
   "cell_type": "markdown",
   "id": "588b67e6",
   "metadata": {},
   "source": [
    "CART which is the algorithm used by sklearn library for the decision tree classifier is very similar to C4.5 so i'll be going with that for now"
   ]
  },
  {
   "cell_type": "code",
   "execution_count": 50,
   "id": "ee338699",
   "metadata": {},
   "outputs": [],
   "source": [
    "from sklearn.tree import DecisionTreeClassifier\n",
    "trees = DecisionTreeClassifier()\n",
    "trees = trees.fit(X_train,y_train)\n",
    "y_pred1 = trees.predict(X_test)"
   ]
  },
  {
   "cell_type": "markdown",
   "id": "c0b0596e",
   "metadata": {},
   "source": [
    "Measure training set accuracy of decision trees"
   ]
  },
  {
   "cell_type": "code",
   "execution_count": 51,
   "id": "f720e84e",
   "metadata": {},
   "outputs": [
    {
     "name": "stdout",
     "output_type": "stream",
     "text": [
      "Training set accuracy: 1.0\n"
     ]
    }
   ],
   "source": [
    "from sklearn import metrics\n",
    "y_pred1_train = trees.predict(X_train)\n",
    "print(\"Training set accuracy:\", metrics.accuracy_score(y_train, y_pred1_train))"
   ]
  },
  {
   "cell_type": "markdown",
   "id": "e1dd399f",
   "metadata": {},
   "source": [
    "Measure test set accuracy of decision trees"
   ]
  },
  {
   "cell_type": "code",
   "execution_count": 52,
   "id": "cd3d45a8",
   "metadata": {},
   "outputs": [
    {
     "name": "stdout",
     "output_type": "stream",
     "text": [
      "Test set accuracy: 0.8556149732620321\n"
     ]
    }
   ],
   "source": [
    "print(\"Test set accuracy:\", metrics.accuracy_score(y_test, y_pred1))"
   ]
  },
  {
   "cell_type": "markdown",
   "id": "be861e85",
   "metadata": {},
   "source": [
    "measure the accuracy using 10-fold cross-validation on the training set for decision trees"
   ]
  },
  {
   "cell_type": "code",
   "execution_count": 53,
   "id": "7e2e8c9b",
   "metadata": {},
   "outputs": [],
   "source": [
    "from sklearn.model_selection import cross_val_score"
   ]
  },
  {
   "cell_type": "code",
   "execution_count": 54,
   "id": "e2b22cf5",
   "metadata": {},
   "outputs": [
    {
     "name": "stdout",
     "output_type": "stream",
     "text": [
      "accuracy scores for 10 folds:  [0.84       0.85333333 0.86666667 0.84       0.90540541 0.86486486\n",
      " 0.74324324 0.90540541 0.85135135 0.85135135]\n",
      "mean of accuracy scores:  0.8495315315315315\n"
     ]
    }
   ],
   "source": [
    "print(\"accuracy scores for 10 folds: \", cross_val_score(trees, X_train, y_train, scoring=\"accuracy\", cv = 10))\n",
    "mean_score = cross_val_score(trees, X_train, y_train, scoring=\"accuracy\", cv = 10).mean()\n",
    "print(\"mean of accuracy scores: \" ,mean_score)"
   ]
  },
  {
   "cell_type": "markdown",
   "id": "86b473c0",
   "metadata": {},
   "source": [
    "Explain accuracy results"
   ]
  },
  {
   "cell_type": "markdown",
   "id": "c8693ad1",
   "metadata": {},
   "source": [
    "- The accuracy of the training set tells us that the classifier in the best scenario is 100% accurate\n",
    "- The accuracy of the test set tells us that the classifier generralises rather well to unseen examples (~85%), the classifier does not seem to overfit\n",
    "- 10 fold cross validation gives us the average estimate of the classifier : 85% "
   ]
  },
  {
   "cell_type": "markdown",
   "id": "dc8e6c30",
   "metadata": {},
   "source": [
    "Use the major metrics: accuracy, TP rate (sensitivity), FP rate (specifity), precision, recall, F measure, the ROC area "
   ]
  },
  {
   "cell_type": "code",
   "execution_count": 60,
   "id": "5dabc0b8",
   "metadata": {},
   "outputs": [
    {
     "name": "stdout",
     "output_type": "stream",
     "text": [
      "[[66 10]\n",
      " [17 94]]\n"
     ]
    },
    {
     "name": "stderr",
     "output_type": "stream",
     "text": [
      "C:\\Users\\Asus\\anaconda3\\lib\\site-packages\\sklearn\\utils\\deprecation.py:87: FutureWarning: Function plot_confusion_matrix is deprecated; Function `plot_confusion_matrix` is deprecated in 1.0 and will be removed in 1.2. Use one of the class methods: ConfusionMatrixDisplay.from_predictions or ConfusionMatrixDisplay.from_estimator.\n",
      "  warnings.warn(msg, category=FutureWarning)\n"
     ]
    },
    {
     "data": {
      "image/png": "[encoded data removed]",
      "text/plain": [
       "<Figure size 432x288 with 2 Axes>"
      ]
     },
     "metadata": {
      "needs_background": "light"
     },
     "output_type": "display_data"
    },
    {
     "name": "stdout",
     "output_type": "stream",
     "text": [
      "Sensitivity :  0.868421052631579\n",
      "Specificity :  0.8468468468468469\n",
      "Precision Score of the classifier is: 0.7951807228915663\n",
      "Recall Score of the classifier is: 0.868421052631579\n",
      "F-measure of the classifier is: 0.8301886792452832\n",
      "              precision    recall  f1-score   support\n",
      "\n",
      "     class 0       0.80      0.87      0.83        76\n",
      "     class 1       0.90      0.85      0.87       111\n",
      "\n",
      "    accuracy                           0.86       187\n",
      "   macro avg       0.85      0.86      0.85       187\n",
      "weighted avg       0.86      0.86      0.86       187\n",
      "\n",
      "AUC: 0.86\n"
     ]
    }
   ],
   "source": [
    "#confusion matrix \n",
    "import matplotlib.pyplot as plt\n",
    "from sklearn.metrics import confusion_matrix\n",
    "from sklearn.metrics import plot_confusion_matrix\n",
    "\n",
    "# confusion_matrix funnction a matrix containing the summary of predictions\n",
    "print(confusion_matrix(y_test, y_pred1))\n",
    "\n",
    "# plot_confusion_matrix function is used to visualize the confusion matrix\n",
    "plot_confusion_matrix(trees, X_test, y_test)\n",
    "plt.show()\n",
    "\n",
    "#Sensitivity\n",
    "CM = confusion_matrix(y_test, y_pred1)\n",
    "sensitivity = CM[0,0]/(CM[0,0]+CM[0,1])\n",
    "print('Sensitivity : ', sensitivity )\n",
    "#specificity\n",
    "specificity = CM[1,1]/(CM[1,0]+CM[1,1])\n",
    "print('Specificity : ', specificity)\n",
    "#Precision\n",
    "from sklearn.metrics import precision_score\n",
    "print(f\"Precision Score of the classifier is: {precision_score(y_test, y_pred1)}\")\n",
    "#recall\n",
    "from sklearn.metrics import recall_score\n",
    "print(f\"Recall Score of the classifier is: {recall_score(y_test, y_pred1)}\")\n",
    "#F-measure\n",
    "from sklearn.metrics import f1_score\n",
    "print(f\"F-measure of the classifier is: {f1_score(y_test,y_pred1)}\")\n",
    "#classification report\n",
    "from sklearn.metrics import classification_report\n",
    "target_names = ['class 0', 'class 1']\n",
    "report = classification_report(y_test, y_pred1, target_names=target_names)\n",
    "print(report)\n",
    "#ROC area under the curve\n",
    "from sklearn.metrics import roc_auc_score\n",
    "# Generate class membership probabilities\n",
    "y_preb_probs = trees.predict_proba(X_test)\n",
    "y_preb_probs = y_preb_probs[:, 1]\n",
    "auc = roc_auc_score(y_test, y_preb_probs)\n",
    "print('AUC: %.2f' % auc)"
   ]
  },
  {
   "cell_type": "markdown",
   "id": "03d01e40",
   "metadata": {},
   "source": [
    "### Experiment with various decision tree parameters that control the size of the tree. \n",
    "\n",
    "For example: depth of the tree, confidence threshold for pruning, splitting criteria and the minimal number of instances permissible per leaf.\n",
    "\n",
    "https://medium.com/@mohtedibf/indepth-parameter-tuning-for-decision-tree-6753118a03c3#:~:text=InDepth%3A%20Parameter%20tuning%20for%20Decision%20Tree%201%20max_depth,consider%20when%20looking%20for%20the%20best%20split.%20\n",
    "\n",
    "https://python.plainenglish.io/decision-tree-parameters-explanations-tuning-a2b0749976e5"
   ]
  },
  {
   "cell_type": "markdown",
   "id": "f2b02536",
   "metadata": {},
   "source": [
    "depth of the tree :\n",
    "\n",
    "The deeper the tree, the more splits it has and it captures more information about the data. We fit a decision tree with depths ranging from 1 to 32 and plot the training and test auccuracy scores"
   ]
  },
  {
   "cell_type": "code",
   "execution_count": 69,
   "id": "38a265de",
   "metadata": {},
   "outputs": [
    {
     "data": {
      "image/png": "[encoded data removed]",
      "text/plain": [
       "<Figure size 432x288 with 1 Axes>"
      ]
     },
     "metadata": {
      "needs_background": "light"
     },
     "output_type": "display_data"
    }
   ],
   "source": [
    "max_depths = np.linspace(1, 32, 32, endpoint=True).astype(int)\n",
    "train_results = []\n",
    "test_results = []\n",
    "for max_depth in max_depths:\n",
    "    dt = DecisionTreeClassifier(max_depth=max_depth)\n",
    "    dt.fit(X_train, y_train)\n",
    "    train_pred = dt.predict(X_train)\n",
    "    acc = metrics.accuracy_score(y_train, train_pred)\n",
    "    # Add to previous train results\n",
    "    train_results.append(acc)\n",
    "    \n",
    "    y_pred = dt.predict(X_test)\n",
    "    acc2 = metrics.accuracy_score(y_test, y_pred)\n",
    "    # Add to previous test results\n",
    "    test_results.append(acc2)\n",
    "    \n",
    "from matplotlib.legend_handler import HandlerLine2D\n",
    "line1, = plt.plot(max_depths, train_results, 'b', label=\"Train accuracy\")\n",
    "line2, = plt.plot(max_depths, test_results, 'r', label=\"Test accuracy\")\n",
    "plt.legend(handler_map={line1: HandlerLine2D(numpoints=2)})\n",
    "plt.ylabel(\"Accuracy score\")\n",
    "plt.xlabel(\"Tree depth\")\n",
    "plt.show()"
   ]
  },
  {
   "cell_type": "markdown",
   "id": "3e2cedf0",
   "metadata": {},
   "source": [
    "spliting criteria :\n",
    "\n",
    "min_samples_split represents the minimum number of samples required to split an internal node. This can vary between considering at least one sample at each node to considering all of the samples at each node. When we increase this parameter, the tree becomes more constrained as it has to consider more samples at each node. Here we will vary the parameter from 10% to 100% of the samples"
   ]
  },
  {
   "cell_type": "code",
   "execution_count": 161,
   "id": "4cad9339",
   "metadata": {},
   "outputs": [
    {
     "data": {
      "image/png": "[encoded data removed]",
      "text/plain": [
       "<Figure size 432x288 with 1 Axes>"
      ]
     },
     "metadata": {
      "needs_background": "light"
     },
     "output_type": "display_data"
    }
   ],
   "source": [
    "min_samples_splits = np.linspace(0.1, 1.0, 5, endpoint=True)\n",
    "train_results = []\n",
    "test_results = []\n",
    "for min_samples_split in min_samples_splits:\n",
    "    dt = DecisionTreeClassifier(min_samples_split=min_samples_split)\n",
    "    dt.fit(X_train, y_train)\n",
    "    train_pred = dt.predict(X_train)\n",
    "    train_pred = dt.predict(X_train)\n",
    "    acc = metrics.accuracy_score(y_train, train_pred)    \n",
    "    train_results.append(acc)\n",
    "    \n",
    "    y_pred = dt.predict(X_test)\n",
    "    acc2 = metrics.accuracy_score(y_test, y_pred)\n",
    "    test_results.append(acc2)\n",
    "    \n",
    "from matplotlib.legend_handler import HandlerLine2D\n",
    "line1, = plt.plot(min_samples_splits, train_results, 'b', label=\"Train accuracy\")\n",
    "line2, = plt.plot(min_samples_splits, test_results, 'r', label=\"Test accuracy\")\n",
    "plt.legend(handler_map={line1: HandlerLine2D(numpoints=2)})\n",
    "plt.ylabel(\"Accuracy score\")\n",
    "plt.xlabel(\"min samples split\")\n",
    "plt.show()"
   ]
  },
  {
   "cell_type": "markdown",
   "id": "fa0deca8",
   "metadata": {},
   "source": [
    "minimal number of instances permissible per leaf :\n",
    "\n",
    "min_samples_leaf describe the minimum number of samples of samples at the leafs, the base of the tree."
   ]
  },
  {
   "cell_type": "code",
   "execution_count": 162,
   "id": "1850c9e2",
   "metadata": {},
   "outputs": [
    {
     "data": {
      "image/png": "[encoded data removed]",
      "text/plain": [
       "<Figure size 432x288 with 1 Axes>"
      ]
     },
     "metadata": {
      "needs_background": "light"
     },
     "output_type": "display_data"
    }
   ],
   "source": [
    "min_samples_leafs = np.linspace(0.1, 1.0, 5, endpoint=True)\n",
    "train_results = []\n",
    "test_results = []\n",
    "for min_samples_leaf in min_samples_leafs:\n",
    "    dt = DecisionTreeClassifier(min_samples_leaf=min_samples_leaf)\n",
    "    dt.fit(X_train, y_train)\n",
    "    train_pred = dt.predict(X_train)\n",
    "    train_pred = dt.predict(X_train)\n",
    "    acc = metrics.accuracy_score(y_train, train_pred)    \n",
    "    train_results.append(acc)\n",
    "    \n",
    "    y_pred = dt.predict(X_test)\n",
    "    acc2 = metrics.accuracy_score(y_test, y_pred)\n",
    "    test_results.append(acc2)\n",
    "    \n",
    "from matplotlib.legend_handler import HandlerLine2D\n",
    "line1, = plt.plot(min_samples_leafs, train_results, 'b', label=\"Train accuracy\")\n",
    "line2, = plt.plot(min_samples_leafs, test_results, 'r', label=\"Test accuracy\")\n",
    "plt.legend(handler_map={line1: HandlerLine2D(numpoints=2)})\n",
    "plt.ylabel(\"Accuracy score\")\n",
    "plt.xlabel(\"min samples leaf\")\n",
    "plt.show()"
   ]
  },
  {
   "cell_type": "markdown",
   "id": "efa9adfd",
   "metadata": {},
   "source": [
    "Number of features :"
   ]
  },
  {
   "cell_type": "code",
   "execution_count": 75,
   "id": "25ffaf0c",
   "metadata": {},
   "outputs": [
    {
     "data": {
      "image/png": "[encoded data removed]",
      "text/plain": [
       "<Figure size 432x288 with 1 Axes>"
      ]
     },
     "metadata": {
      "needs_background": "light"
     },
     "output_type": "display_data"
    }
   ],
   "source": [
    "max_features = list(range(1, X.shape[1]))\n",
    "train_results = []\n",
    "test_results = []\n",
    "for max_feature in max_features:\n",
    "    dt = DecisionTreeClassifier(max_features=max_feature)\n",
    "    dt.fit(X_train, y_train)\n",
    "    train_pred = dt.predict(X_train)\n",
    "    train_pred = dt.predict(X_train)\n",
    "    acc = metrics.accuracy_score(y_train, train_pred)    \n",
    "    train_results.append(acc)\n",
    "    \n",
    "    y_pred = dt.predict(X_test)\n",
    "    acc2 = metrics.accuracy_score(y_test, y_pred)\n",
    "    test_results.append(acc2)\n",
    "    \n",
    "from matplotlib.legend_handler import HandlerLine2D\n",
    "line1, = plt.plot(max_features, train_results, 'b', label=\"Train accuracy\")\n",
    "line2, = plt.plot(max_features, test_results, 'r', label=\"Test accuracy\")\n",
    "plt.legend(handler_map={line1: HandlerLine2D(numpoints=2)})\n",
    "plt.ylabel(\"Accuracy score\")\n",
    "plt.xlabel(\"max features\")\n",
    "plt.show()"
   ]
  },
  {
   "cell_type": "markdown",
   "id": "3947dee2",
   "metadata": {},
   "source": [
    "use Scikit-Learn’s GridSearchCV to optimize hyperparameters for you\n",
    "\n",
    "documentation : https://scikit-learn.org/stable/modules/generated/sklearn.model_selection.GridSearchCV.html"
   ]
  },
  {
   "cell_type": "code",
   "execution_count": 76,
   "id": "6d9165b9",
   "metadata": {},
   "outputs": [],
   "source": [
    "from sklearn.model_selection import GridSearchCV"
   ]
  },
  {
   "cell_type": "code",
   "execution_count": 83,
   "id": "de916690",
   "metadata": {},
   "outputs": [
    {
     "name": "stdout",
     "output_type": "stream",
     "text": [
      "Fitting 3 folds for each of 3528 candidates, totalling 10584 fits\n"
     ]
    },
    {
     "data": {
      "text/html": [
       "<style>#sk-container-id-4 {color: black;background-color: white;}#sk-container-id-4 pre{padding: 0;}#sk-container-id-4 div.sk-toggleable {background-color: white;}#sk-container-id-4 label.sk-toggleable__label {cursor: pointer;display: block;width: 100%;margin-bottom: 0;padding: 0.3em;box-sizing: border-box;text-align: center;}#sk-container-id-4 label.sk-toggleable__label-arrow:before {content: \"▸\";float: left;margin-right: 0.25em;color: #696969;}#sk-container-id-4 label.sk-toggleable__label-arrow:hover:before {color: black;}#sk-container-id-4 div.sk-estimator:hover label.sk-toggleable__label-arrow:before {color: black;}#sk-container-id-4 div.sk-toggleable__content {max-height: 0;max-width: 0;overflow: hidden;text-align: left;background-color: #f0f8ff;}#sk-container-id-4 div.sk-toggleable__content pre {margin: 0.2em;color: black;border-radius: 0.25em;background-color: #f0f8ff;}#sk-container-id-4 input.sk-toggleable__control:checked~div.sk-toggleable__content {max-height: 200px;max-width: 100%;overflow: auto;}#sk-container-id-4 input.sk-toggleable__control:checked~label.sk-toggleable__label-arrow:before {content: \"▾\";}#sk-container-id-4 div.sk-estimator input.sk-toggleable__control:checked~label.sk-toggleable__label {background-color: #d4ebff;}#sk-container-id-4 div.sk-label input.sk-toggleable__control:checked~label.sk-toggleable__label {background-color: #d4ebff;}#sk-container-id-4 input.sk-hidden--visually {border: 0;clip: rect(1px 1px 1px 1px);clip: rect(1px, 1px, 1px, 1px);height: 1px;margin: -1px;overflow: hidden;padding: 0;position: absolute;width: 1px;}#sk-container-id-4 div.sk-estimator {font-family: monospace;background-color: #f0f8ff;border: 1px dotted black;border-radius: 0.25em;box-sizing: border-box;margin-bottom: 0.5em;}#sk-container-id-4 div.sk-estimator:hover {background-color: #d4ebff;}#sk-container-id-4 div.sk-parallel-item::after {content: \"\";width: 100%;border-bottom: 1px solid gray;flex-grow: 1;}#sk-container-id-4 div.sk-label:hover label.sk-toggleable__label {background-color: #d4ebff;}#sk-container-id-4 div.sk-serial::before {content: \"\";position: absolute;border-left: 1px solid gray;box-sizing: border-box;top: 0;bottom: 0;left: 50%;z-index: 0;}#sk-container-id-4 div.sk-serial {display: flex;flex-direction: column;align-items: center;background-color: white;padding-right: 0.2em;padding-left: 0.2em;position: relative;}#sk-container-id-4 div.sk-item {position: relative;z-index: 1;}#sk-container-id-4 div.sk-parallel {display: flex;align-items: stretch;justify-content: center;background-color: white;position: relative;}#sk-container-id-4 div.sk-item::before, #sk-container-id-4 div.sk-parallel-item::before {content: \"\";position: absolute;border-left: 1px solid gray;box-sizing: border-box;top: 0;bottom: 0;left: 50%;z-index: -1;}#sk-container-id-4 div.sk-parallel-item {display: flex;flex-direction: column;z-index: 1;position: relative;background-color: white;}#sk-container-id-4 div.sk-parallel-item:first-child::after {align-self: flex-end;width: 50%;}#sk-container-id-4 div.sk-parallel-item:last-child::after {align-self: flex-start;width: 50%;}#sk-container-id-4 div.sk-parallel-item:only-child::after {width: 0;}#sk-container-id-4 div.sk-dashed-wrapped {border: 1px dashed gray;margin: 0 0.4em 0.5em 0.4em;box-sizing: border-box;padding-bottom: 0.4em;background-color: white;}#sk-container-id-4 div.sk-label label {font-family: monospace;font-weight: bold;display: inline-block;line-height: 1.2em;}#sk-container-id-4 div.sk-label-container {text-align: center;}#sk-container-id-4 div.sk-container {/* jupyter's `normalize.less` sets `[hidden] { display: none; }` but bootstrap.min.css set `[hidden] { display: none !important; }` so we also need the `!important` here to be able to override the default hidden behavior on the sphinx rendered scikit-learn.org. See: https://github.com/scikit-learn/scikit-learn/issues/21755 */display: inline-block !important;position: relative;}#sk-container-id-4 div.sk-text-repr-fallback {display: none;}</style><div id=\"sk-container-id-4\" class=\"sk-top-container\"><div class=\"sk-text-repr-fallback\"><pre>GridSearchCV(cv=3, estimator=DecisionTreeClassifier(),\n",
       "             param_grid={&#x27;criterion&#x27;: [&#x27;gini&#x27;, &#x27;entropy&#x27;],\n",
       "                         &#x27;max_depth&#x27;: [4, 5, 6, 7, 8, 9, 10, 11, 12, 15, 20, 30,\n",
       "                                       40, 50, 70, 90, 120, 150],\n",
       "                         &#x27;max_leaf_nodes&#x27;: [2, 3, 4, 5, 6, 7, 8, 9, 10, 11, 12,\n",
       "                                            13, 14, 15, 16, 17, 18, 19, 20, 21,\n",
       "                                            22, 23, 24, 25, 26, 27, 28, 29, 30,\n",
       "                                            31, ...]},\n",
       "             verbose=1)</pre><b>In a Jupyter environment, please rerun this cell to show the HTML representation or trust the notebook. <br />On GitHub, the HTML representation is unable to render, please try loading this page with nbviewer.org.</b></div><div class=\"sk-container\" hidden><div class=\"sk-item sk-dashed-wrapped\"><div class=\"sk-label-container\"><div class=\"sk-label sk-toggleable\"><input class=\"sk-toggleable__control sk-hidden--visually\" id=\"sk-estimator-id-6\" type=\"checkbox\" ><label for=\"sk-estimator-id-6\" class=\"sk-toggleable__label sk-toggleable__label-arrow\">GridSearchCV</label><div class=\"sk-toggleable__content\"><pre>GridSearchCV(cv=3, estimator=DecisionTreeClassifier(),\n",
       "             param_grid={&#x27;criterion&#x27;: [&#x27;gini&#x27;, &#x27;entropy&#x27;],\n",
       "                         &#x27;max_depth&#x27;: [4, 5, 6, 7, 8, 9, 10, 11, 12, 15, 20, 30,\n",
       "                                       40, 50, 70, 90, 120, 150],\n",
       "                         &#x27;max_leaf_nodes&#x27;: [2, 3, 4, 5, 6, 7, 8, 9, 10, 11, 12,\n",
       "                                            13, 14, 15, 16, 17, 18, 19, 20, 21,\n",
       "                                            22, 23, 24, 25, 26, 27, 28, 29, 30,\n",
       "                                            31, ...]},\n",
       "             verbose=1)</pre></div></div></div><div class=\"sk-parallel\"><div class=\"sk-parallel-item\"><div class=\"sk-item\"><div class=\"sk-label-container\"><div class=\"sk-label sk-toggleable\"><input class=\"sk-toggleable__control sk-hidden--visually\" id=\"sk-estimator-id-7\" type=\"checkbox\" ><label for=\"sk-estimator-id-7\" class=\"sk-toggleable__label sk-toggleable__label-arrow\">estimator: DecisionTreeClassifier</label><div class=\"sk-toggleable__content\"><pre>DecisionTreeClassifier()</pre></div></div></div><div class=\"sk-serial\"><div class=\"sk-item\"><div class=\"sk-estimator sk-toggleable\"><input class=\"sk-toggleable__control sk-hidden--visually\" id=\"sk-estimator-id-8\" type=\"checkbox\" ><label for=\"sk-estimator-id-8\" class=\"sk-toggleable__label sk-toggleable__label-arrow\">DecisionTreeClassifier</label><div class=\"sk-toggleable__content\"><pre>DecisionTreeClassifier()</pre></div></div></div></div></div></div></div></div></div></div>"
      ],
      "text/plain": [
       "GridSearchCV(cv=3, estimator=DecisionTreeClassifier(),\n",
       "             param_grid={'criterion': ['gini', 'entropy'],\n",
       "                         'max_depth': [4, 5, 6, 7, 8, 9, 10, 11, 12, 15, 20, 30,\n",
       "                                       40, 50, 70, 90, 120, 150],\n",
       "                         'max_leaf_nodes': [2, 3, 4, 5, 6, 7, 8, 9, 10, 11, 12,\n",
       "                                            13, 14, 15, 16, 17, 18, 19, 20, 21,\n",
       "                                            22, 23, 24, 25, 26, 27, 28, 29, 30,\n",
       "                                            31, ...]},\n",
       "             verbose=1)"
      ]
     },
     "execution_count": 83,
     "metadata": {},
     "output_type": "execute_result"
    }
   ],
   "source": [
    "params = {'criterion':['gini','entropy'],'max_leaf_nodes': list(range(2, 100)),'max_depth':[4,5,6,7,8,9,10,11,12,15,20,30,40,50,70,90,120,150]}\n",
    "grid_search_cv = GridSearchCV(DecisionTreeClassifier(), params, verbose=1, cv=3)\n",
    "grid_search_cv.fit(X_train, y_train)"
   ]
  },
  {
   "cell_type": "code",
   "execution_count": 84,
   "id": "e72a39bc",
   "metadata": {},
   "outputs": [
    {
     "data": {
      "text/html": [
       "<style>#sk-container-id-5 {color: black;background-color: white;}#sk-container-id-5 pre{padding: 0;}#sk-container-id-5 div.sk-toggleable {background-color: white;}#sk-container-id-5 label.sk-toggleable__label {cursor: pointer;display: block;width: 100%;margin-bottom: 0;padding: 0.3em;box-sizing: border-box;text-align: center;}#sk-container-id-5 label.sk-toggleable__label-arrow:before {content: \"▸\";float: left;margin-right: 0.25em;color: #696969;}#sk-container-id-5 label.sk-toggleable__label-arrow:hover:before {color: black;}#sk-container-id-5 div.sk-estimator:hover label.sk-toggleable__label-arrow:before {color: black;}#sk-container-id-5 div.sk-toggleable__content {max-height: 0;max-width: 0;overflow: hidden;text-align: left;background-color: #f0f8ff;}#sk-container-id-5 div.sk-toggleable__content pre {margin: 0.2em;color: black;border-radius: 0.25em;background-color: #f0f8ff;}#sk-container-id-5 input.sk-toggleable__control:checked~div.sk-toggleable__content {max-height: 200px;max-width: 100%;overflow: auto;}#sk-container-id-5 input.sk-toggleable__control:checked~label.sk-toggleable__label-arrow:before {content: \"▾\";}#sk-container-id-5 div.sk-estimator input.sk-toggleable__control:checked~label.sk-toggleable__label {background-color: #d4ebff;}#sk-container-id-5 div.sk-label input.sk-toggleable__control:checked~label.sk-toggleable__label {background-color: #d4ebff;}#sk-container-id-5 input.sk-hidden--visually {border: 0;clip: rect(1px 1px 1px 1px);clip: rect(1px, 1px, 1px, 1px);height: 1px;margin: -1px;overflow: hidden;padding: 0;position: absolute;width: 1px;}#sk-container-id-5 div.sk-estimator {font-family: monospace;background-color: #f0f8ff;border: 1px dotted black;border-radius: 0.25em;box-sizing: border-box;margin-bottom: 0.5em;}#sk-container-id-5 div.sk-estimator:hover {background-color: #d4ebff;}#sk-container-id-5 div.sk-parallel-item::after {content: \"\";width: 100%;border-bottom: 1px solid gray;flex-grow: 1;}#sk-container-id-5 div.sk-label:hover label.sk-toggleable__label {background-color: #d4ebff;}#sk-container-id-5 div.sk-serial::before {content: \"\";position: absolute;border-left: 1px solid gray;box-sizing: border-box;top: 0;bottom: 0;left: 50%;z-index: 0;}#sk-container-id-5 div.sk-serial {display: flex;flex-direction: column;align-items: center;background-color: white;padding-right: 0.2em;padding-left: 0.2em;position: relative;}#sk-container-id-5 div.sk-item {position: relative;z-index: 1;}#sk-container-id-5 div.sk-parallel {display: flex;align-items: stretch;justify-content: center;background-color: white;position: relative;}#sk-container-id-5 div.sk-item::before, #sk-container-id-5 div.sk-parallel-item::before {content: \"\";position: absolute;border-left: 1px solid gray;box-sizing: border-box;top: 0;bottom: 0;left: 50%;z-index: -1;}#sk-container-id-5 div.sk-parallel-item {display: flex;flex-direction: column;z-index: 1;position: relative;background-color: white;}#sk-container-id-5 div.sk-parallel-item:first-child::after {align-self: flex-end;width: 50%;}#sk-container-id-5 div.sk-parallel-item:last-child::after {align-self: flex-start;width: 50%;}#sk-container-id-5 div.sk-parallel-item:only-child::after {width: 0;}#sk-container-id-5 div.sk-dashed-wrapped {border: 1px dashed gray;margin: 0 0.4em 0.5em 0.4em;box-sizing: border-box;padding-bottom: 0.4em;background-color: white;}#sk-container-id-5 div.sk-label label {font-family: monospace;font-weight: bold;display: inline-block;line-height: 1.2em;}#sk-container-id-5 div.sk-label-container {text-align: center;}#sk-container-id-5 div.sk-container {/* jupyter's `normalize.less` sets `[hidden] { display: none; }` but bootstrap.min.css set `[hidden] { display: none !important; }` so we also need the `!important` here to be able to override the default hidden behavior on the sphinx rendered scikit-learn.org. See: https://github.com/scikit-learn/scikit-learn/issues/21755 */display: inline-block !important;position: relative;}#sk-container-id-5 div.sk-text-repr-fallback {display: none;}</style><div id=\"sk-container-id-5\" class=\"sk-top-container\"><div class=\"sk-text-repr-fallback\"><pre>DecisionTreeClassifier(max_depth=9, max_leaf_nodes=19)</pre><b>In a Jupyter environment, please rerun this cell to show the HTML representation or trust the notebook. <br />On GitHub, the HTML representation is unable to render, please try loading this page with nbviewer.org.</b></div><div class=\"sk-container\" hidden><div class=\"sk-item\"><div class=\"sk-estimator sk-toggleable\"><input class=\"sk-toggleable__control sk-hidden--visually\" id=\"sk-estimator-id-9\" type=\"checkbox\" checked><label for=\"sk-estimator-id-9\" class=\"sk-toggleable__label sk-toggleable__label-arrow\">DecisionTreeClassifier</label><div class=\"sk-toggleable__content\"><pre>DecisionTreeClassifier(max_depth=9, max_leaf_nodes=19)</pre></div></div></div></div></div>"
      ],
      "text/plain": [
       "DecisionTreeClassifier(max_depth=9, max_leaf_nodes=19)"
      ]
     },
     "execution_count": 84,
     "metadata": {},
     "output_type": "execute_result"
    }
   ],
   "source": [
    "grid_search_cv.best_estimator_"
   ]
  },
  {
   "cell_type": "code",
   "execution_count": 85,
   "id": "de14cc7c",
   "metadata": {},
   "outputs": [
    {
     "data": {
      "text/plain": [
       "['mean_fit_time',\n",
       " 'mean_score_time',\n",
       " 'mean_test_score',\n",
       " 'param_criterion',\n",
       " 'param_max_depth',\n",
       " 'param_max_leaf_nodes',\n",
       " 'params',\n",
       " 'rank_test_score',\n",
       " 'split0_test_score',\n",
       " 'split1_test_score',\n",
       " 'split2_test_score',\n",
       " 'std_fit_time',\n",
       " 'std_score_time',\n",
       " 'std_test_score']"
      ]
     },
     "execution_count": 85,
     "metadata": {},
     "output_type": "execute_result"
    }
   ],
   "source": [
    "sorted(grid_search_cv.cv_results_.keys())"
   ]
  },
  {
   "cell_type": "code",
   "execution_count": 86,
   "id": "dd024325",
   "metadata": {},
   "outputs": [
    {
     "data": {
      "text/plain": [
       "{'mean_fit_time': array([0.00532238, 0.00801516, 0.00797256, ..., 0.01236526, 0.0125672 ,\n",
       "        0.01600997]),\n",
       " 'std_fit_time': array([3.78245778e-03, 1.82220436e-04, 4.78211383e-05, ...,\n",
       "        4.50677651e-03, 3.27499656e-03, 2.13375378e-05]),\n",
       " 'mean_score_time': array([0.00579365, 0.00266385, 0.00266369, ..., 0.00337251, 0.00319767,\n",
       "        0.        ]),\n",
       " 'std_score_time': array([0.00413264, 0.00376725, 0.00376703, ..., 0.00339555, 0.00411883,\n",
       "        0.        ]),\n",
       " 'param_criterion': masked_array(data=['gini', 'gini', 'gini', ..., 'entropy', 'entropy',\n",
       "                    'entropy'],\n",
       "              mask=[False, False, False, ..., False, False, False],\n",
       "        fill_value='?',\n",
       "             dtype=object),\n",
       " 'param_max_depth': masked_array(data=[4, 4, 4, ..., 150, 150, 150],\n",
       "              mask=[False, False, False, ..., False, False, False],\n",
       "        fill_value='?',\n",
       "             dtype=object),\n",
       " 'param_max_leaf_nodes': masked_array(data=[2, 3, 4, ..., 97, 98, 99],\n",
       "              mask=[False, False, False, ..., False, False, False],\n",
       "        fill_value='?',\n",
       "             dtype=object),\n",
       " 'params': [{'criterion': 'gini', 'max_depth': 4, 'max_leaf_nodes': 2},\n",
       "  {'criterion': 'gini', 'max_depth': 4, 'max_leaf_nodes': 3},\n",
       "  {'criterion': 'gini', 'max_depth': 4, 'max_leaf_nodes': 4},\n",
       "  {'criterion': 'gini', 'max_depth': 4, 'max_leaf_nodes': 5},\n",
       "  {'criterion': 'gini', 'max_depth': 4, 'max_leaf_nodes': 6},\n",
       "  {'criterion': 'gini', 'max_depth': 4, 'max_leaf_nodes': 7},\n",
       "  {'criterion': 'gini', 'max_depth': 4, 'max_leaf_nodes': 8},\n",
       "  {'criterion': 'gini', 'max_depth': 4, 'max_leaf_nodes': 9},\n",
       "  {'criterion': 'gini', 'max_depth': 4, 'max_leaf_nodes': 10},\n",
       "  {'criterion': 'gini', 'max_depth': 4, 'max_leaf_nodes': 11},\n",
       "  {'criterion': 'gini', 'max_depth': 4, 'max_leaf_nodes': 12},\n",
       "  {'criterion': 'gini', 'max_depth': 4, 'max_leaf_nodes': 13},\n",
       "  {'criterion': 'gini', 'max_depth': 4, 'max_leaf_nodes': 14},\n",
       "  {'criterion': 'gini', 'max_depth': 4, 'max_leaf_nodes': 15},\n",
       "  {'criterion': 'gini', 'max_depth': 4, 'max_leaf_nodes': 16},\n",
       "  {'criterion': 'gini', 'max_depth': 4, 'max_leaf_nodes': 17},\n",
       "  {'criterion': 'gini', 'max_depth': 4, 'max_leaf_nodes': 18},\n",
       "  {'criterion': 'gini', 'max_depth': 4, 'max_leaf_nodes': 19},\n",
       "  {'criterion': 'gini', 'max_depth': 4, 'max_leaf_nodes': 20},\n",
       "  {'criterion': 'gini', 'max_depth': 4, 'max_leaf_nodes': 21},\n",
       "  {'criterion': 'gini', 'max_depth': 4, 'max_leaf_nodes': 22},\n",
       "  {'criterion': 'gini', 'max_depth': 4, 'max_leaf_nodes': 23},\n",
       "  {'criterion': 'gini', 'max_depth': 4, 'max_leaf_nodes': 24},\n",
       "  {'criterion': 'gini', 'max_depth': 4, 'max_leaf_nodes': 25},\n",
       "  {'criterion': 'gini', 'max_depth': 4, 'max_leaf_nodes': 26},\n",
       "  {'criterion': 'gini', 'max_depth': 4, 'max_leaf_nodes': 27},\n",
       "  {'criterion': 'gini', 'max_depth': 4, 'max_leaf_nodes': 28},\n",
       "  {'criterion': 'gini', 'max_depth': 4, 'max_leaf_nodes': 29},\n",
       "  {'criterion': 'gini', 'max_depth': 4, 'max_leaf_nodes': 30},\n",
       "  {'criterion': 'gini', 'max_depth': 4, 'max_leaf_nodes': 31},\n",
       "  {'criterion': 'gini', 'max_depth': 4, 'max_leaf_nodes': 32},\n",
       "  {'criterion': 'gini', 'max_depth': 4, 'max_leaf_nodes': 33},\n",
       "  {'criterion': 'gini', 'max_depth': 4, 'max_leaf_nodes': 34},\n",
       "  {'criterion': 'gini', 'max_depth': 4, 'max_leaf_nodes': 35},\n",
       "  {'criterion': 'gini', 'max_depth': 4, 'max_leaf_nodes': 36},\n",
       "  {'criterion': 'gini', 'max_depth': 4, 'max_leaf_nodes': 37},\n",
       "  {'criterion': 'gini', 'max_depth': 4, 'max_leaf_nodes': 38},\n",
       "  {'criterion': 'gini', 'max_depth': 4, 'max_leaf_nodes': 39},\n",
       "  {'criterion': 'gini', 'max_depth': 4, 'max_leaf_nodes': 40},\n",
       "  {'criterion': 'gini', 'max_depth': 4, 'max_leaf_nodes': 41},\n",
       "  {'criterion': 'gini', 'max_depth': 4, 'max_leaf_nodes': 42},\n",
       "  {'criterion': 'gini', 'max_depth': 4, 'max_leaf_nodes': 43},\n",
       "  {'criterion': 'gini', 'max_depth': 4, 'max_leaf_nodes': 44},\n",
       "  {'criterion': 'gini', 'max_depth': 4, 'max_leaf_nodes': 45},\n",
       "  {'criterion': 'gini', 'max_depth': 4, 'max_leaf_nodes': 46},\n",
       "  {'criterion': 'gini', 'max_depth': 4, 'max_leaf_nodes': 47},\n",
       "  {'criterion': 'gini', 'max_depth': 4, 'max_leaf_nodes': 48},\n",
       "  {'criterion': 'gini', 'max_depth': 4, 'max_leaf_nodes': 49},\n",
       "  {'criterion': 'gini', 'max_depth': 4, 'max_leaf_nodes': 50},\n",
       "  {'criterion': 'gini', 'max_depth': 4, 'max_leaf_nodes': 51},\n",
       "  {'criterion': 'gini', 'max_depth': 4, 'max_leaf_nodes': 52},\n",
       "  {'criterion': 'gini', 'max_depth': 4, 'max_leaf_nodes': 53},\n",
       "  {'criterion': 'gini', 'max_depth': 4, 'max_leaf_nodes': 54},\n",
       "  {'criterion': 'gini', 'max_depth': 4, 'max_leaf_nodes': 55},\n",
       "  {'criterion': 'gini', 'max_depth': 4, 'max_leaf_nodes': 56},\n",
       "  {'criterion': 'gini', 'max_depth': 4, 'max_leaf_nodes': 57},\n",
       "  {'criterion': 'gini', 'max_depth': 4, 'max_leaf_nodes': 58},\n",
       "  {'criterion': 'gini', 'max_depth': 4, 'max_leaf_nodes': 59},\n",
       "  {'criterion': 'gini', 'max_depth': 4, 'max_leaf_nodes': 60},\n",
       "  {'criterion': 'gini', 'max_depth': 4, 'max_leaf_nodes': 61},\n",
       "  {'criterion': 'gini', 'max_depth': 4, 'max_leaf_nodes': 62},\n",
       "  {'criterion': 'gini', 'max_depth': 4, 'max_leaf_nodes': 63},\n",
       "  {'criterion': 'gini', 'max_depth': 4, 'max_leaf_nodes': 64},\n",
       "  {'criterion': 'gini', 'max_depth': 4, 'max_leaf_nodes': 65},\n",
       "  {'criterion': 'gini', 'max_depth': 4, 'max_leaf_nodes': 66},\n",
       "  {'criterion': 'gini', 'max_depth': 4, 'max_leaf_nodes': 67},\n",
       "  {'criterion': 'gini', 'max_depth': 4, 'max_leaf_nodes': 68},\n",
       "  {'criterion': 'gini', 'max_depth': 4, 'max_leaf_nodes': 69},\n",
       "  {'criterion': 'gini', 'max_depth': 4, 'max_leaf_nodes': 70},\n",
       "  {'criterion': 'gini', 'max_depth': 4, 'max_leaf_nodes': 71},\n",
       "  {'criterion': 'gini', 'max_depth': 4, 'max_leaf_nodes': 72},\n",
       "  {'criterion': 'gini', 'max_depth': 4, 'max_leaf_nodes': 73},\n",
       "  {'criterion': 'gini', 'max_depth': 4, 'max_leaf_nodes': 74},\n",
       "  {'criterion': 'gini', 'max_depth': 4, 'max_leaf_nodes': 75},\n",
       "  {'criterion': 'gini', 'max_depth': 4, 'max_leaf_nodes': 76},\n",
       "  {'criterion': 'gini', 'max_depth': 4, 'max_leaf_nodes': 77},\n",
       "  {'criterion': 'gini', 'max_depth': 4, 'max_leaf_nodes': 78},\n",
       "  {'criterion': 'gini', 'max_depth': 4, 'max_leaf_nodes': 79},\n",
       "  {'criterion': 'gini', 'max_depth': 4, 'max_leaf_nodes': 80},\n",
       "  {'criterion': 'gini', 'max_depth': 4, 'max_leaf_nodes': 81},\n",
       "  {'criterion': 'gini', 'max_depth': 4, 'max_leaf_nodes': 82},\n",
       "  {'criterion': 'gini', 'max_depth': 4, 'max_leaf_nodes': 83},\n",
       "  {'criterion': 'gini', 'max_depth': 4, 'max_leaf_nodes': 84},\n",
       "  {'criterion': 'gini', 'max_depth': 4, 'max_leaf_nodes': 85},\n",
       "  {'criterion': 'gini', 'max_depth': 4, 'max_leaf_nodes': 86},\n",
       "  {'criterion': 'gini', 'max_depth': 4, 'max_leaf_nodes': 87},\n",
       "  {'criterion': 'gini', 'max_depth': 4, 'max_leaf_nodes': 88},\n",
       "  {'criterion': 'gini', 'max_depth': 4, 'max_leaf_nodes': 89},\n",
       "  {'criterion': 'gini', 'max_depth': 4, 'max_leaf_nodes': 90},\n",
       "  {'criterion': 'gini', 'max_depth': 4, 'max_leaf_nodes': 91},\n",
       "  {'criterion': 'gini', 'max_depth': 4, 'max_leaf_nodes': 92},\n",
       "  {'criterion': 'gini', 'max_depth': 4, 'max_leaf_nodes': 93},\n",
       "  {'criterion': 'gini', 'max_depth': 4, 'max_leaf_nodes': 94},\n",
       "  {'criterion': 'gini', 'max_depth': 4, 'max_leaf_nodes': 95},\n",
       "  {'criterion': 'gini', 'max_depth': 4, 'max_leaf_nodes': 96},\n",
       "  {'criterion': 'gini', 'max_depth': 4, 'max_leaf_nodes': 97},\n",
       "  {'criterion': 'gini', 'max_depth': 4, 'max_leaf_nodes': 98},\n",
       "  {'criterion': 'gini', 'max_depth': 4, 'max_leaf_nodes': 99},\n",
       "  {'criterion': 'gini', 'max_depth': 5, 'max_leaf_nodes': 2},\n",
       "  {'criterion': 'gini', 'max_depth': 5, 'max_leaf_nodes': 3},\n",
       "  {'criterion': 'gini', 'max_depth': 5, 'max_leaf_nodes': 4},\n",
       "  {'criterion': 'gini', 'max_depth': 5, 'max_leaf_nodes': 5},\n",
       "  {'criterion': 'gini', 'max_depth': 5, 'max_leaf_nodes': 6},\n",
       "  {'criterion': 'gini', 'max_depth': 5, 'max_leaf_nodes': 7},\n",
       "  {'criterion': 'gini', 'max_depth': 5, 'max_leaf_nodes': 8},\n",
       "  {'criterion': 'gini', 'max_depth': 5, 'max_leaf_nodes': 9},\n",
       "  {'criterion': 'gini', 'max_depth': 5, 'max_leaf_nodes': 10},\n",
       "  {'criterion': 'gini', 'max_depth': 5, 'max_leaf_nodes': 11},\n",
       "  {'criterion': 'gini', 'max_depth': 5, 'max_leaf_nodes': 12},\n",
       "  {'criterion': 'gini', 'max_depth': 5, 'max_leaf_nodes': 13},\n",
       "  {'criterion': 'gini', 'max_depth': 5, 'max_leaf_nodes': 14},\n",
       "  {'criterion': 'gini', 'max_depth': 5, 'max_leaf_nodes': 15},\n",
       "  {'criterion': 'gini', 'max_depth': 5, 'max_leaf_nodes': 16},\n",
       "  {'criterion': 'gini', 'max_depth': 5, 'max_leaf_nodes': 17},\n",
       "  {'criterion': 'gini', 'max_depth': 5, 'max_leaf_nodes': 18},\n",
       "  {'criterion': 'gini', 'max_depth': 5, 'max_leaf_nodes': 19},\n",
       "  {'criterion': 'gini', 'max_depth': 5, 'max_leaf_nodes': 20},\n",
       "  {'criterion': 'gini', 'max_depth': 5, 'max_leaf_nodes': 21},\n",
       "  {'criterion': 'gini', 'max_depth': 5, 'max_leaf_nodes': 22},\n",
       "  {'criterion': 'gini', 'max_depth': 5, 'max_leaf_nodes': 23},\n",
       "  {'criterion': 'gini', 'max_depth': 5, 'max_leaf_nodes': 24},\n",
       "  {'criterion': 'gini', 'max_depth': 5, 'max_leaf_nodes': 25},\n",
       "  {'criterion': 'gini', 'max_depth': 5, 'max_leaf_nodes': 26},\n",
       "  {'criterion': 'gini', 'max_depth': 5, 'max_leaf_nodes': 27},\n",
       "  {'criterion': 'gini', 'max_depth': 5, 'max_leaf_nodes': 28},\n",
       "  {'criterion': 'gini', 'max_depth': 5, 'max_leaf_nodes': 29},\n",
       "  {'criterion': 'gini', 'max_depth': 5, 'max_leaf_nodes': 30},\n",
       "  {'criterion': 'gini', 'max_depth': 5, 'max_leaf_nodes': 31},\n",
       "  {'criterion': 'gini', 'max_depth': 5, 'max_leaf_nodes': 32},\n",
       "  {'criterion': 'gini', 'max_depth': 5, 'max_leaf_nodes': 33},\n",
       "  {'criterion': 'gini', 'max_depth': 5, 'max_leaf_nodes': 34},\n",
       "  {'criterion': 'gini', 'max_depth': 5, 'max_leaf_nodes': 35},\n",
       "  {'criterion': 'gini', 'max_depth': 5, 'max_leaf_nodes': 36},\n",
       "  {'criterion': 'gini', 'max_depth': 5, 'max_leaf_nodes': 37},\n",
       "  {'criterion': 'gini', 'max_depth': 5, 'max_leaf_nodes': 38},\n",
       "  {'criterion': 'gini', 'max_depth': 5, 'max_leaf_nodes': 39},\n",
       "  {'criterion': 'gini', 'max_depth': 5, 'max_leaf_nodes': 40},\n",
       "  {'criterion': 'gini', 'max_depth': 5, 'max_leaf_nodes': 41},\n",
       "  {'criterion': 'gini', 'max_depth': 5, 'max_leaf_nodes': 42},\n",
       "  {'criterion': 'gini', 'max_depth': 5, 'max_leaf_nodes': 43},\n",
       "  {'criterion': 'gini', 'max_depth': 5, 'max_leaf_nodes': 44},\n",
       "  {'criterion': 'gini', 'max_depth': 5, 'max_leaf_nodes': 45},\n",
       "  {'criterion': 'gini', 'max_depth': 5, 'max_leaf_nodes': 46},\n",
       "  {'criterion': 'gini', 'max_depth': 5, 'max_leaf_nodes': 47},\n",
       "  {'criterion': 'gini', 'max_depth': 5, 'max_leaf_nodes': 48},\n",
       "  {'criterion': 'gini', 'max_depth': 5, 'max_leaf_nodes': 49},\n",
       "  {'criterion': 'gini', 'max_depth': 5, 'max_leaf_nodes': 50},\n",
       "  {'criterion': 'gini', 'max_depth': 5, 'max_leaf_nodes': 51},\n",
       "  {'criterion': 'gini', 'max_depth': 5, 'max_leaf_nodes': 52},\n",
       "  {'criterion': 'gini', 'max_depth': 5, 'max_leaf_nodes': 53},\n",
       "  {'criterion': 'gini', 'max_depth': 5, 'max_leaf_nodes': 54},\n",
       "  {'criterion': 'gini', 'max_depth': 5, 'max_leaf_nodes': 55},\n",
       "  {'criterion': 'gini', 'max_depth': 5, 'max_leaf_nodes': 56},\n",
       "  {'criterion': 'gini', 'max_depth': 5, 'max_leaf_nodes': 57},\n",
       "  {'criterion': 'gini', 'max_depth': 5, 'max_leaf_nodes': 58},\n",
       "  {'criterion': 'gini', 'max_depth': 5, 'max_leaf_nodes': 59},\n",
       "  {'criterion': 'gini', 'max_depth': 5, 'max_leaf_nodes': 60},\n",
       "  {'criterion': 'gini', 'max_depth': 5, 'max_leaf_nodes': 61},\n",
       "  {'criterion': 'gini', 'max_depth': 5, 'max_leaf_nodes': 62},\n",
       "  {'criterion': 'gini', 'max_depth': 5, 'max_leaf_nodes': 63},\n",
       "  {'criterion': 'gini', 'max_depth': 5, 'max_leaf_nodes': 64},\n",
       "  {'criterion': 'gini', 'max_depth': 5, 'max_leaf_nodes': 65},\n",
       "  {'criterion': 'gini', 'max_depth': 5, 'max_leaf_nodes': 66},\n",
       "  {'criterion': 'gini', 'max_depth': 5, 'max_leaf_nodes': 67},\n",
       "  {'criterion': 'gini', 'max_depth': 5, 'max_leaf_nodes': 68},\n",
       "  {'criterion': 'gini', 'max_depth': 5, 'max_leaf_nodes': 69},\n",
       "  {'criterion': 'gini', 'max_depth': 5, 'max_leaf_nodes': 70},\n",
       "  {'criterion': 'gini', 'max_depth': 5, 'max_leaf_nodes': 71},\n",
       "  {'criterion': 'gini', 'max_depth': 5, 'max_leaf_nodes': 72},\n",
       "  {'criterion': 'gini', 'max_depth': 5, 'max_leaf_nodes': 73},\n",
       "  {'criterion': 'gini', 'max_depth': 5, 'max_leaf_nodes': 74},\n",
       "  {'criterion': 'gini', 'max_depth': 5, 'max_leaf_nodes': 75},\n",
       "  {'criterion': 'gini', 'max_depth': 5, 'max_leaf_nodes': 76},\n",
       "  {'criterion': 'gini', 'max_depth': 5, 'max_leaf_nodes': 77},\n",
       "  {'criterion': 'gini', 'max_depth': 5, 'max_leaf_nodes': 78},\n",
       "  {'criterion': 'gini', 'max_depth': 5, 'max_leaf_nodes': 79},\n",
       "  {'criterion': 'gini', 'max_depth': 5, 'max_leaf_nodes': 80},\n",
       "  {'criterion': 'gini', 'max_depth': 5, 'max_leaf_nodes': 81},\n",
       "  {'criterion': 'gini', 'max_depth': 5, 'max_leaf_nodes': 82},\n",
       "  {'criterion': 'gini', 'max_depth': 5, 'max_leaf_nodes': 83},\n",
       "  {'criterion': 'gini', 'max_depth': 5, 'max_leaf_nodes': 84},\n",
       "  {'criterion': 'gini', 'max_depth': 5, 'max_leaf_nodes': 85},\n",
       "  {'criterion': 'gini', 'max_depth': 5, 'max_leaf_nodes': 86},\n",
       "  {'criterion': 'gini', 'max_depth': 5, 'max_leaf_nodes': 87},\n",
       "  {'criterion': 'gini', 'max_depth': 5, 'max_leaf_nodes': 88},\n",
       "  {'criterion': 'gini', 'max_depth': 5, 'max_leaf_nodes': 89},\n",
       "  {'criterion': 'gini', 'max_depth': 5, 'max_leaf_nodes': 90},\n",
       "  {'criterion': 'gini', 'max_depth': 5, 'max_leaf_nodes': 91},\n",
       "  {'criterion': 'gini', 'max_depth': 5, 'max_leaf_nodes': 92},\n",
       "  {'criterion': 'gini', 'max_depth': 5, 'max_leaf_nodes': 93},\n",
       "  {'criterion': 'gini', 'max_depth': 5, 'max_leaf_nodes': 94},\n",
       "  {'criterion': 'gini', 'max_depth': 5, 'max_leaf_nodes': 95},\n",
       "  {'criterion': 'gini', 'max_depth': 5, 'max_leaf_nodes': 96},\n",
       "  {'criterion': 'gini', 'max_depth': 5, 'max_leaf_nodes': 97},\n",
       "  {'criterion': 'gini', 'max_depth': 5, 'max_leaf_nodes': 98},\n",
       "  {'criterion': 'gini', 'max_depth': 5, 'max_leaf_nodes': 99},\n",
       "  {'criterion': 'gini', 'max_depth': 6, 'max_leaf_nodes': 2},\n",
       "  {'criterion': 'gini', 'max_depth': 6, 'max_leaf_nodes': 3},\n",
       "  {'criterion': 'gini', 'max_depth': 6, 'max_leaf_nodes': 4},\n",
       "  {'criterion': 'gini', 'max_depth': 6, 'max_leaf_nodes': 5},\n",
       "  {'criterion': 'gini', 'max_depth': 6, 'max_leaf_nodes': 6},\n",
       "  {'criterion': 'gini', 'max_depth': 6, 'max_leaf_nodes': 7},\n",
       "  {'criterion': 'gini', 'max_depth': 6, 'max_leaf_nodes': 8},\n",
       "  {'criterion': 'gini', 'max_depth': 6, 'max_leaf_nodes': 9},\n",
       "  {'criterion': 'gini', 'max_depth': 6, 'max_leaf_nodes': 10},\n",
       "  {'criterion': 'gini', 'max_depth': 6, 'max_leaf_nodes': 11},\n",
       "  {'criterion': 'gini', 'max_depth': 6, 'max_leaf_nodes': 12},\n",
       "  {'criterion': 'gini', 'max_depth': 6, 'max_leaf_nodes': 13},\n",
       "  {'criterion': 'gini', 'max_depth': 6, 'max_leaf_nodes': 14},\n",
       "  {'criterion': 'gini', 'max_depth': 6, 'max_leaf_nodes': 15},\n",
       "  {'criterion': 'gini', 'max_depth': 6, 'max_leaf_nodes': 16},\n",
       "  {'criterion': 'gini', 'max_depth': 6, 'max_leaf_nodes': 17},\n",
       "  {'criterion': 'gini', 'max_depth': 6, 'max_leaf_nodes': 18},\n",
       "  {'criterion': 'gini', 'max_depth': 6, 'max_leaf_nodes': 19},\n",
       "  {'criterion': 'gini', 'max_depth': 6, 'max_leaf_nodes': 20},\n",
       "  {'criterion': 'gini', 'max_depth': 6, 'max_leaf_nodes': 21},\n",
       "  {'criterion': 'gini', 'max_depth': 6, 'max_leaf_nodes': 22},\n",
       "  {'criterion': 'gini', 'max_depth': 6, 'max_leaf_nodes': 23},\n",
       "  {'criterion': 'gini', 'max_depth': 6, 'max_leaf_nodes': 24},\n",
       "  {'criterion': 'gini', 'max_depth': 6, 'max_leaf_nodes': 25},\n",
       "  {'criterion': 'gini', 'max_depth': 6, 'max_leaf_nodes': 26},\n",
       "  {'criterion': 'gini', 'max_depth': 6, 'max_leaf_nodes': 27},\n",
       "  {'criterion': 'gini', 'max_depth': 6, 'max_leaf_nodes': 28},\n",
       "  {'criterion': 'gini', 'max_depth': 6, 'max_leaf_nodes': 29},\n",
       "  {'criterion': 'gini', 'max_depth': 6, 'max_leaf_nodes': 30},\n",
       "  {'criterion': 'gini', 'max_depth': 6, 'max_leaf_nodes': 31},\n",
       "  {'criterion': 'gini', 'max_depth': 6, 'max_leaf_nodes': 32},\n",
       "  {'criterion': 'gini', 'max_depth': 6, 'max_leaf_nodes': 33},\n",
       "  {'criterion': 'gini', 'max_depth': 6, 'max_leaf_nodes': 34},\n",
       "  {'criterion': 'gini', 'max_depth': 6, 'max_leaf_nodes': 35},\n",
       "  {'criterion': 'gini', 'max_depth': 6, 'max_leaf_nodes': 36},\n",
       "  {'criterion': 'gini', 'max_depth': 6, 'max_leaf_nodes': 37},\n",
       "  {'criterion': 'gini', 'max_depth': 6, 'max_leaf_nodes': 38},\n",
       "  {'criterion': 'gini', 'max_depth': 6, 'max_leaf_nodes': 39},\n",
       "  {'criterion': 'gini', 'max_depth': 6, 'max_leaf_nodes': 40},\n",
       "  {'criterion': 'gini', 'max_depth': 6, 'max_leaf_nodes': 41},\n",
       "  {'criterion': 'gini', 'max_depth': 6, 'max_leaf_nodes': 42},\n",
       "  {'criterion': 'gini', 'max_depth': 6, 'max_leaf_nodes': 43},\n",
       "  {'criterion': 'gini', 'max_depth': 6, 'max_leaf_nodes': 44},\n",
       "  {'criterion': 'gini', 'max_depth': 6, 'max_leaf_nodes': 45},\n",
       "  {'criterion': 'gini', 'max_depth': 6, 'max_leaf_nodes': 46},\n",
       "  {'criterion': 'gini', 'max_depth': 6, 'max_leaf_nodes': 47},\n",
       "  {'criterion': 'gini', 'max_depth': 6, 'max_leaf_nodes': 48},\n",
       "  {'criterion': 'gini', 'max_depth': 6, 'max_leaf_nodes': 49},\n",
       "  {'criterion': 'gini', 'max_depth': 6, 'max_leaf_nodes': 50},\n",
       "  {'criterion': 'gini', 'max_depth': 6, 'max_leaf_nodes': 51},\n",
       "  {'criterion': 'gini', 'max_depth': 6, 'max_leaf_nodes': 52},\n",
       "  {'criterion': 'gini', 'max_depth': 6, 'max_leaf_nodes': 53},\n",
       "  {'criterion': 'gini', 'max_depth': 6, 'max_leaf_nodes': 54},\n",
       "  {'criterion': 'gini', 'max_depth': 6, 'max_leaf_nodes': 55},\n",
       "  {'criterion': 'gini', 'max_depth': 6, 'max_leaf_nodes': 56},\n",
       "  {'criterion': 'gini', 'max_depth': 6, 'max_leaf_nodes': 57},\n",
       "  {'criterion': 'gini', 'max_depth': 6, 'max_leaf_nodes': 58},\n",
       "  {'criterion': 'gini', 'max_depth': 6, 'max_leaf_nodes': 59},\n",
       "  {'criterion': 'gini', 'max_depth': 6, 'max_leaf_nodes': 60},\n",
       "  {'criterion': 'gini', 'max_depth': 6, 'max_leaf_nodes': 61},\n",
       "  {'criterion': 'gini', 'max_depth': 6, 'max_leaf_nodes': 62},\n",
       "  {'criterion': 'gini', 'max_depth': 6, 'max_leaf_nodes': 63},\n",
       "  {'criterion': 'gini', 'max_depth': 6, 'max_leaf_nodes': 64},\n",
       "  {'criterion': 'gini', 'max_depth': 6, 'max_leaf_nodes': 65},\n",
       "  {'criterion': 'gini', 'max_depth': 6, 'max_leaf_nodes': 66},\n",
       "  {'criterion': 'gini', 'max_depth': 6, 'max_leaf_nodes': 67},\n",
       "  {'criterion': 'gini', 'max_depth': 6, 'max_leaf_nodes': 68},\n",
       "  {'criterion': 'gini', 'max_depth': 6, 'max_leaf_nodes': 69},\n",
       "  {'criterion': 'gini', 'max_depth': 6, 'max_leaf_nodes': 70},\n",
       "  {'criterion': 'gini', 'max_depth': 6, 'max_leaf_nodes': 71},\n",
       "  {'criterion': 'gini', 'max_depth': 6, 'max_leaf_nodes': 72},\n",
       "  {'criterion': 'gini', 'max_depth': 6, 'max_leaf_nodes': 73},\n",
       "  {'criterion': 'gini', 'max_depth': 6, 'max_leaf_nodes': 74},\n",
       "  {'criterion': 'gini', 'max_depth': 6, 'max_leaf_nodes': 75},\n",
       "  {'criterion': 'gini', 'max_depth': 6, 'max_leaf_nodes': 76},\n",
       "  {'criterion': 'gini', 'max_depth': 6, 'max_leaf_nodes': 77},\n",
       "  {'criterion': 'gini', 'max_depth': 6, 'max_leaf_nodes': 78},\n",
       "  {'criterion': 'gini', 'max_depth': 6, 'max_leaf_nodes': 79},\n",
       "  {'criterion': 'gini', 'max_depth': 6, 'max_leaf_nodes': 80},\n",
       "  {'criterion': 'gini', 'max_depth': 6, 'max_leaf_nodes': 81},\n",
       "  {'criterion': 'gini', 'max_depth': 6, 'max_leaf_nodes': 82},\n",
       "  {'criterion': 'gini', 'max_depth': 6, 'max_leaf_nodes': 83},\n",
       "  {'criterion': 'gini', 'max_depth': 6, 'max_leaf_nodes': 84},\n",
       "  {'criterion': 'gini', 'max_depth': 6, 'max_leaf_nodes': 85},\n",
       "  {'criterion': 'gini', 'max_depth': 6, 'max_leaf_nodes': 86},\n",
       "  {'criterion': 'gini', 'max_depth': 6, 'max_leaf_nodes': 87},\n",
       "  {'criterion': 'gini', 'max_depth': 6, 'max_leaf_nodes': 88},\n",
       "  {'criterion': 'gini', 'max_depth': 6, 'max_leaf_nodes': 89},\n",
       "  {'criterion': 'gini', 'max_depth': 6, 'max_leaf_nodes': 90},\n",
       "  {'criterion': 'gini', 'max_depth': 6, 'max_leaf_nodes': 91},\n",
       "  {'criterion': 'gini', 'max_depth': 6, 'max_leaf_nodes': 92},\n",
       "  {'criterion': 'gini', 'max_depth': 6, 'max_leaf_nodes': 93},\n",
       "  {'criterion': 'gini', 'max_depth': 6, 'max_leaf_nodes': 94},\n",
       "  {'criterion': 'gini', 'max_depth': 6, 'max_leaf_nodes': 95},\n",
       "  {'criterion': 'gini', 'max_depth': 6, 'max_leaf_nodes': 96},\n",
       "  {'criterion': 'gini', 'max_depth': 6, 'max_leaf_nodes': 97},\n",
       "  {'criterion': 'gini', 'max_depth': 6, 'max_leaf_nodes': 98},\n",
       "  {'criterion': 'gini', 'max_depth': 6, 'max_leaf_nodes': 99},\n",
       "  {'criterion': 'gini', 'max_depth': 7, 'max_leaf_nodes': 2},\n",
       "  {'criterion': 'gini', 'max_depth': 7, 'max_leaf_nodes': 3},\n",
       "  {'criterion': 'gini', 'max_depth': 7, 'max_leaf_nodes': 4},\n",
       "  {'criterion': 'gini', 'max_depth': 7, 'max_leaf_nodes': 5},\n",
       "  {'criterion': 'gini', 'max_depth': 7, 'max_leaf_nodes': 6},\n",
       "  {'criterion': 'gini', 'max_depth': 7, 'max_leaf_nodes': 7},\n",
       "  {'criterion': 'gini', 'max_depth': 7, 'max_leaf_nodes': 8},\n",
       "  {'criterion': 'gini', 'max_depth': 7, 'max_leaf_nodes': 9},\n",
       "  {'criterion': 'gini', 'max_depth': 7, 'max_leaf_nodes': 10},\n",
       "  {'criterion': 'gini', 'max_depth': 7, 'max_leaf_nodes': 11},\n",
       "  {'criterion': 'gini', 'max_depth': 7, 'max_leaf_nodes': 12},\n",
       "  {'criterion': 'gini', 'max_depth': 7, 'max_leaf_nodes': 13},\n",
       "  {'criterion': 'gini', 'max_depth': 7, 'max_leaf_nodes': 14},\n",
       "  {'criterion': 'gini', 'max_depth': 7, 'max_leaf_nodes': 15},\n",
       "  {'criterion': 'gini', 'max_depth': 7, 'max_leaf_nodes': 16},\n",
       "  {'criterion': 'gini', 'max_depth': 7, 'max_leaf_nodes': 17},\n",
       "  {'criterion': 'gini', 'max_depth': 7, 'max_leaf_nodes': 18},\n",
       "  {'criterion': 'gini', 'max_depth': 7, 'max_leaf_nodes': 19},\n",
       "  {'criterion': 'gini', 'max_depth': 7, 'max_leaf_nodes': 20},\n",
       "  {'criterion': 'gini', 'max_depth': 7, 'max_leaf_nodes': 21},\n",
       "  {'criterion': 'gini', 'max_depth': 7, 'max_leaf_nodes': 22},\n",
       "  {'criterion': 'gini', 'max_depth': 7, 'max_leaf_nodes': 23},\n",
       "  {'criterion': 'gini', 'max_depth': 7, 'max_leaf_nodes': 24},\n",
       "  {'criterion': 'gini', 'max_depth': 7, 'max_leaf_nodes': 25},\n",
       "  {'criterion': 'gini', 'max_depth': 7, 'max_leaf_nodes': 26},\n",
       "  {'criterion': 'gini', 'max_depth': 7, 'max_leaf_nodes': 27},\n",
       "  {'criterion': 'gini', 'max_depth': 7, 'max_leaf_nodes': 28},\n",
       "  {'criterion': 'gini', 'max_depth': 7, 'max_leaf_nodes': 29},\n",
       "  {'criterion': 'gini', 'max_depth': 7, 'max_leaf_nodes': 30},\n",
       "  {'criterion': 'gini', 'max_depth': 7, 'max_leaf_nodes': 31},\n",
       "  {'criterion': 'gini', 'max_depth': 7, 'max_leaf_nodes': 32},\n",
       "  {'criterion': 'gini', 'max_depth': 7, 'max_leaf_nodes': 33},\n",
       "  {'criterion': 'gini', 'max_depth': 7, 'max_leaf_nodes': 34},\n",
       "  {'criterion': 'gini', 'max_depth': 7, 'max_leaf_nodes': 35},\n",
       "  {'criterion': 'gini', 'max_depth': 7, 'max_leaf_nodes': 36},\n",
       "  {'criterion': 'gini', 'max_depth': 7, 'max_leaf_nodes': 37},\n",
       "  {'criterion': 'gini', 'max_depth': 7, 'max_leaf_nodes': 38},\n",
       "  {'criterion': 'gini', 'max_depth': 7, 'max_leaf_nodes': 39},\n",
       "  {'criterion': 'gini', 'max_depth': 7, 'max_leaf_nodes': 40},\n",
       "  {'criterion': 'gini', 'max_depth': 7, 'max_leaf_nodes': 41},\n",
       "  {'criterion': 'gini', 'max_depth': 7, 'max_leaf_nodes': 42},\n",
       "  {'criterion': 'gini', 'max_depth': 7, 'max_leaf_nodes': 43},\n",
       "  {'criterion': 'gini', 'max_depth': 7, 'max_leaf_nodes': 44},\n",
       "  {'criterion': 'gini', 'max_depth': 7, 'max_leaf_nodes': 45},\n",
       "  {'criterion': 'gini', 'max_depth': 7, 'max_leaf_nodes': 46},\n",
       "  {'criterion': 'gini', 'max_depth': 7, 'max_leaf_nodes': 47},\n",
       "  {'criterion': 'gini', 'max_depth': 7, 'max_leaf_nodes': 48},\n",
       "  {'criterion': 'gini', 'max_depth': 7, 'max_leaf_nodes': 49},\n",
       "  {'criterion': 'gini', 'max_depth': 7, 'max_leaf_nodes': 50},\n",
       "  {'criterion': 'gini', 'max_depth': 7, 'max_leaf_nodes': 51},\n",
       "  {'criterion': 'gini', 'max_depth': 7, 'max_leaf_nodes': 52},\n",
       "  {'criterion': 'gini', 'max_depth': 7, 'max_leaf_nodes': 53},\n",
       "  {'criterion': 'gini', 'max_depth': 7, 'max_leaf_nodes': 54},\n",
       "  {'criterion': 'gini', 'max_depth': 7, 'max_leaf_nodes': 55},\n",
       "  {'criterion': 'gini', 'max_depth': 7, 'max_leaf_nodes': 56},\n",
       "  {'criterion': 'gini', 'max_depth': 7, 'max_leaf_nodes': 57},\n",
       "  {'criterion': 'gini', 'max_depth': 7, 'max_leaf_nodes': 58},\n",
       "  {'criterion': 'gini', 'max_depth': 7, 'max_leaf_nodes': 59},\n",
       "  {'criterion': 'gini', 'max_depth': 7, 'max_leaf_nodes': 60},\n",
       "  {'criterion': 'gini', 'max_depth': 7, 'max_leaf_nodes': 61},\n",
       "  {'criterion': 'gini', 'max_depth': 7, 'max_leaf_nodes': 62},\n",
       "  {'criterion': 'gini', 'max_depth': 7, 'max_leaf_nodes': 63},\n",
       "  {'criterion': 'gini', 'max_depth': 7, 'max_leaf_nodes': 64},\n",
       "  {'criterion': 'gini', 'max_depth': 7, 'max_leaf_nodes': 65},\n",
       "  {'criterion': 'gini', 'max_depth': 7, 'max_leaf_nodes': 66},\n",
       "  {'criterion': 'gini', 'max_depth': 7, 'max_leaf_nodes': 67},\n",
       "  {'criterion': 'gini', 'max_depth': 7, 'max_leaf_nodes': 68},\n",
       "  {'criterion': 'gini', 'max_depth': 7, 'max_leaf_nodes': 69},\n",
       "  {'criterion': 'gini', 'max_depth': 7, 'max_leaf_nodes': 70},\n",
       "  {'criterion': 'gini', 'max_depth': 7, 'max_leaf_nodes': 71},\n",
       "  {'criterion': 'gini', 'max_depth': 7, 'max_leaf_nodes': 72},\n",
       "  {'criterion': 'gini', 'max_depth': 7, 'max_leaf_nodes': 73},\n",
       "  {'criterion': 'gini', 'max_depth': 7, 'max_leaf_nodes': 74},\n",
       "  {'criterion': 'gini', 'max_depth': 7, 'max_leaf_nodes': 75},\n",
       "  {'criterion': 'gini', 'max_depth': 7, 'max_leaf_nodes': 76},\n",
       "  {'criterion': 'gini', 'max_depth': 7, 'max_leaf_nodes': 77},\n",
       "  {'criterion': 'gini', 'max_depth': 7, 'max_leaf_nodes': 78},\n",
       "  {'criterion': 'gini', 'max_depth': 7, 'max_leaf_nodes': 79},\n",
       "  {'criterion': 'gini', 'max_depth': 7, 'max_leaf_nodes': 80},\n",
       "  {'criterion': 'gini', 'max_depth': 7, 'max_leaf_nodes': 81},\n",
       "  {'criterion': 'gini', 'max_depth': 7, 'max_leaf_nodes': 82},\n",
       "  {'criterion': 'gini', 'max_depth': 7, 'max_leaf_nodes': 83},\n",
       "  {'criterion': 'gini', 'max_depth': 7, 'max_leaf_nodes': 84},\n",
       "  {'criterion': 'gini', 'max_depth': 7, 'max_leaf_nodes': 85},\n",
       "  {'criterion': 'gini', 'max_depth': 7, 'max_leaf_nodes': 86},\n",
       "  {'criterion': 'gini', 'max_depth': 7, 'max_leaf_nodes': 87},\n",
       "  {'criterion': 'gini', 'max_depth': 7, 'max_leaf_nodes': 88},\n",
       "  {'criterion': 'gini', 'max_depth': 7, 'max_leaf_nodes': 89},\n",
       "  {'criterion': 'gini', 'max_depth': 7, 'max_leaf_nodes': 90},\n",
       "  {'criterion': 'gini', 'max_depth': 7, 'max_leaf_nodes': 91},\n",
       "  {'criterion': 'gini', 'max_depth': 7, 'max_leaf_nodes': 92},\n",
       "  {'criterion': 'gini', 'max_depth': 7, 'max_leaf_nodes': 93},\n",
       "  {'criterion': 'gini', 'max_depth': 7, 'max_leaf_nodes': 94},\n",
       "  {'criterion': 'gini', 'max_depth': 7, 'max_leaf_nodes': 95},\n",
       "  {'criterion': 'gini', 'max_depth': 7, 'max_leaf_nodes': 96},\n",
       "  {'criterion': 'gini', 'max_depth': 7, 'max_leaf_nodes': 97},\n",
       "  {'criterion': 'gini', 'max_depth': 7, 'max_leaf_nodes': 98},\n",
       "  {'criterion': 'gini', 'max_depth': 7, 'max_leaf_nodes': 99},\n",
       "  {'criterion': 'gini', 'max_depth': 8, 'max_leaf_nodes': 2},\n",
       "  {'criterion': 'gini', 'max_depth': 8, 'max_leaf_nodes': 3},\n",
       "  {'criterion': 'gini', 'max_depth': 8, 'max_leaf_nodes': 4},\n",
       "  {'criterion': 'gini', 'max_depth': 8, 'max_leaf_nodes': 5},\n",
       "  {'criterion': 'gini', 'max_depth': 8, 'max_leaf_nodes': 6},\n",
       "  {'criterion': 'gini', 'max_depth': 8, 'max_leaf_nodes': 7},\n",
       "  {'criterion': 'gini', 'max_depth': 8, 'max_leaf_nodes': 8},\n",
       "  {'criterion': 'gini', 'max_depth': 8, 'max_leaf_nodes': 9},\n",
       "  {'criterion': 'gini', 'max_depth': 8, 'max_leaf_nodes': 10},\n",
       "  {'criterion': 'gini', 'max_depth': 8, 'max_leaf_nodes': 11},\n",
       "  {'criterion': 'gini', 'max_depth': 8, 'max_leaf_nodes': 12},\n",
       "  {'criterion': 'gini', 'max_depth': 8, 'max_leaf_nodes': 13},\n",
       "  {'criterion': 'gini', 'max_depth': 8, 'max_leaf_nodes': 14},\n",
       "  {'criterion': 'gini', 'max_depth': 8, 'max_leaf_nodes': 15},\n",
       "  {'criterion': 'gini', 'max_depth': 8, 'max_leaf_nodes': 16},\n",
       "  {'criterion': 'gini', 'max_depth': 8, 'max_leaf_nodes': 17},\n",
       "  {'criterion': 'gini', 'max_depth': 8, 'max_leaf_nodes': 18},\n",
       "  {'criterion': 'gini', 'max_depth': 8, 'max_leaf_nodes': 19},\n",
       "  {'criterion': 'gini', 'max_depth': 8, 'max_leaf_nodes': 20},\n",
       "  {'criterion': 'gini', 'max_depth': 8, 'max_leaf_nodes': 21},\n",
       "  {'criterion': 'gini', 'max_depth': 8, 'max_leaf_nodes': 22},\n",
       "  {'criterion': 'gini', 'max_depth': 8, 'max_leaf_nodes': 23},\n",
       "  {'criterion': 'gini', 'max_depth': 8, 'max_leaf_nodes': 24},\n",
       "  {'criterion': 'gini', 'max_depth': 8, 'max_leaf_nodes': 25},\n",
       "  {'criterion': 'gini', 'max_depth': 8, 'max_leaf_nodes': 26},\n",
       "  {'criterion': 'gini', 'max_depth': 8, 'max_leaf_nodes': 27},\n",
       "  {'criterion': 'gini', 'max_depth': 8, 'max_leaf_nodes': 28},\n",
       "  {'criterion': 'gini', 'max_depth': 8, 'max_leaf_nodes': 29},\n",
       "  {'criterion': 'gini', 'max_depth': 8, 'max_leaf_nodes': 30},\n",
       "  {'criterion': 'gini', 'max_depth': 8, 'max_leaf_nodes': 31},\n",
       "  {'criterion': 'gini', 'max_depth': 8, 'max_leaf_nodes': 32},\n",
       "  {'criterion': 'gini', 'max_depth': 8, 'max_leaf_nodes': 33},\n",
       "  {'criterion': 'gini', 'max_depth': 8, 'max_leaf_nodes': 34},\n",
       "  {'criterion': 'gini', 'max_depth': 8, 'max_leaf_nodes': 35},\n",
       "  {'criterion': 'gini', 'max_depth': 8, 'max_leaf_nodes': 36},\n",
       "  {'criterion': 'gini', 'max_depth': 8, 'max_leaf_nodes': 37},\n",
       "  {'criterion': 'gini', 'max_depth': 8, 'max_leaf_nodes': 38},\n",
       "  {'criterion': 'gini', 'max_depth': 8, 'max_leaf_nodes': 39},\n",
       "  {'criterion': 'gini', 'max_depth': 8, 'max_leaf_nodes': 40},\n",
       "  {'criterion': 'gini', 'max_depth': 8, 'max_leaf_nodes': 41},\n",
       "  {'criterion': 'gini', 'max_depth': 8, 'max_leaf_nodes': 42},\n",
       "  {'criterion': 'gini', 'max_depth': 8, 'max_leaf_nodes': 43},\n",
       "  {'criterion': 'gini', 'max_depth': 8, 'max_leaf_nodes': 44},\n",
       "  {'criterion': 'gini', 'max_depth': 8, 'max_leaf_nodes': 45},\n",
       "  {'criterion': 'gini', 'max_depth': 8, 'max_leaf_nodes': 46},\n",
       "  {'criterion': 'gini', 'max_depth': 8, 'max_leaf_nodes': 47},\n",
       "  {'criterion': 'gini', 'max_depth': 8, 'max_leaf_nodes': 48},\n",
       "  {'criterion': 'gini', 'max_depth': 8, 'max_leaf_nodes': 49},\n",
       "  {'criterion': 'gini', 'max_depth': 8, 'max_leaf_nodes': 50},\n",
       "  {'criterion': 'gini', 'max_depth': 8, 'max_leaf_nodes': 51},\n",
       "  {'criterion': 'gini', 'max_depth': 8, 'max_leaf_nodes': 52},\n",
       "  {'criterion': 'gini', 'max_depth': 8, 'max_leaf_nodes': 53},\n",
       "  {'criterion': 'gini', 'max_depth': 8, 'max_leaf_nodes': 54},\n",
       "  {'criterion': 'gini', 'max_depth': 8, 'max_leaf_nodes': 55},\n",
       "  {'criterion': 'gini', 'max_depth': 8, 'max_leaf_nodes': 56},\n",
       "  {'criterion': 'gini', 'max_depth': 8, 'max_leaf_nodes': 57},\n",
       "  {'criterion': 'gini', 'max_depth': 8, 'max_leaf_nodes': 58},\n",
       "  {'criterion': 'gini', 'max_depth': 8, 'max_leaf_nodes': 59},\n",
       "  {'criterion': 'gini', 'max_depth': 8, 'max_leaf_nodes': 60},\n",
       "  {'criterion': 'gini', 'max_depth': 8, 'max_leaf_nodes': 61},\n",
       "  {'criterion': 'gini', 'max_depth': 8, 'max_leaf_nodes': 62},\n",
       "  {'criterion': 'gini', 'max_depth': 8, 'max_leaf_nodes': 63},\n",
       "  {'criterion': 'gini', 'max_depth': 8, 'max_leaf_nodes': 64},\n",
       "  {'criterion': 'gini', 'max_depth': 8, 'max_leaf_nodes': 65},\n",
       "  {'criterion': 'gini', 'max_depth': 8, 'max_leaf_nodes': 66},\n",
       "  {'criterion': 'gini', 'max_depth': 8, 'max_leaf_nodes': 67},\n",
       "  {'criterion': 'gini', 'max_depth': 8, 'max_leaf_nodes': 68},\n",
       "  {'criterion': 'gini', 'max_depth': 8, 'max_leaf_nodes': 69},\n",
       "  {'criterion': 'gini', 'max_depth': 8, 'max_leaf_nodes': 70},\n",
       "  {'criterion': 'gini', 'max_depth': 8, 'max_leaf_nodes': 71},\n",
       "  {'criterion': 'gini', 'max_depth': 8, 'max_leaf_nodes': 72},\n",
       "  {'criterion': 'gini', 'max_depth': 8, 'max_leaf_nodes': 73},\n",
       "  {'criterion': 'gini', 'max_depth': 8, 'max_leaf_nodes': 74},\n",
       "  {'criterion': 'gini', 'max_depth': 8, 'max_leaf_nodes': 75},\n",
       "  {'criterion': 'gini', 'max_depth': 8, 'max_leaf_nodes': 76},\n",
       "  {'criterion': 'gini', 'max_depth': 8, 'max_leaf_nodes': 77},\n",
       "  {'criterion': 'gini', 'max_depth': 8, 'max_leaf_nodes': 78},\n",
       "  {'criterion': 'gini', 'max_depth': 8, 'max_leaf_nodes': 79},\n",
       "  {'criterion': 'gini', 'max_depth': 8, 'max_leaf_nodes': 80},\n",
       "  {'criterion': 'gini', 'max_depth': 8, 'max_leaf_nodes': 81},\n",
       "  {'criterion': 'gini', 'max_depth': 8, 'max_leaf_nodes': 82},\n",
       "  {'criterion': 'gini', 'max_depth': 8, 'max_leaf_nodes': 83},\n",
       "  {'criterion': 'gini', 'max_depth': 8, 'max_leaf_nodes': 84},\n",
       "  {'criterion': 'gini', 'max_depth': 8, 'max_leaf_nodes': 85},\n",
       "  {'criterion': 'gini', 'max_depth': 8, 'max_leaf_nodes': 86},\n",
       "  {'criterion': 'gini', 'max_depth': 8, 'max_leaf_nodes': 87},\n",
       "  {'criterion': 'gini', 'max_depth': 8, 'max_leaf_nodes': 88},\n",
       "  {'criterion': 'gini', 'max_depth': 8, 'max_leaf_nodes': 89},\n",
       "  {'criterion': 'gini', 'max_depth': 8, 'max_leaf_nodes': 90},\n",
       "  {'criterion': 'gini', 'max_depth': 8, 'max_leaf_nodes': 91},\n",
       "  {'criterion': 'gini', 'max_depth': 8, 'max_leaf_nodes': 92},\n",
       "  {'criterion': 'gini', 'max_depth': 8, 'max_leaf_nodes': 93},\n",
       "  {'criterion': 'gini', 'max_depth': 8, 'max_leaf_nodes': 94},\n",
       "  {'criterion': 'gini', 'max_depth': 8, 'max_leaf_nodes': 95},\n",
       "  {'criterion': 'gini', 'max_depth': 8, 'max_leaf_nodes': 96},\n",
       "  {'criterion': 'gini', 'max_depth': 8, 'max_leaf_nodes': 97},\n",
       "  {'criterion': 'gini', 'max_depth': 8, 'max_leaf_nodes': 98},\n",
       "  {'criterion': 'gini', 'max_depth': 8, 'max_leaf_nodes': 99},\n",
       "  {'criterion': 'gini', 'max_depth': 9, 'max_leaf_nodes': 2},\n",
       "  {'criterion': 'gini', 'max_depth': 9, 'max_leaf_nodes': 3},\n",
       "  {'criterion': 'gini', 'max_depth': 9, 'max_leaf_nodes': 4},\n",
       "  {'criterion': 'gini', 'max_depth': 9, 'max_leaf_nodes': 5},\n",
       "  {'criterion': 'gini', 'max_depth': 9, 'max_leaf_nodes': 6},\n",
       "  {'criterion': 'gini', 'max_depth': 9, 'max_leaf_nodes': 7},\n",
       "  {'criterion': 'gini', 'max_depth': 9, 'max_leaf_nodes': 8},\n",
       "  {'criterion': 'gini', 'max_depth': 9, 'max_leaf_nodes': 9},\n",
       "  {'criterion': 'gini', 'max_depth': 9, 'max_leaf_nodes': 10},\n",
       "  {'criterion': 'gini', 'max_depth': 9, 'max_leaf_nodes': 11},\n",
       "  {'criterion': 'gini', 'max_depth': 9, 'max_leaf_nodes': 12},\n",
       "  {'criterion': 'gini', 'max_depth': 9, 'max_leaf_nodes': 13},\n",
       "  {'criterion': 'gini', 'max_depth': 9, 'max_leaf_nodes': 14},\n",
       "  {'criterion': 'gini', 'max_depth': 9, 'max_leaf_nodes': 15},\n",
       "  {'criterion': 'gini', 'max_depth': 9, 'max_leaf_nodes': 16},\n",
       "  {'criterion': 'gini', 'max_depth': 9, 'max_leaf_nodes': 17},\n",
       "  {'criterion': 'gini', 'max_depth': 9, 'max_leaf_nodes': 18},\n",
       "  {'criterion': 'gini', 'max_depth': 9, 'max_leaf_nodes': 19},\n",
       "  {'criterion': 'gini', 'max_depth': 9, 'max_leaf_nodes': 20},\n",
       "  {'criterion': 'gini', 'max_depth': 9, 'max_leaf_nodes': 21},\n",
       "  {'criterion': 'gini', 'max_depth': 9, 'max_leaf_nodes': 22},\n",
       "  {'criterion': 'gini', 'max_depth': 9, 'max_leaf_nodes': 23},\n",
       "  {'criterion': 'gini', 'max_depth': 9, 'max_leaf_nodes': 24},\n",
       "  {'criterion': 'gini', 'max_depth': 9, 'max_leaf_nodes': 25},\n",
       "  {'criterion': 'gini', 'max_depth': 9, 'max_leaf_nodes': 26},\n",
       "  {'criterion': 'gini', 'max_depth': 9, 'max_leaf_nodes': 27},\n",
       "  {'criterion': 'gini', 'max_depth': 9, 'max_leaf_nodes': 28},\n",
       "  {'criterion': 'gini', 'max_depth': 9, 'max_leaf_nodes': 29},\n",
       "  {'criterion': 'gini', 'max_depth': 9, 'max_leaf_nodes': 30},\n",
       "  {'criterion': 'gini', 'max_depth': 9, 'max_leaf_nodes': 31},\n",
       "  {'criterion': 'gini', 'max_depth': 9, 'max_leaf_nodes': 32},\n",
       "  {'criterion': 'gini', 'max_depth': 9, 'max_leaf_nodes': 33},\n",
       "  {'criterion': 'gini', 'max_depth': 9, 'max_leaf_nodes': 34},\n",
       "  {'criterion': 'gini', 'max_depth': 9, 'max_leaf_nodes': 35},\n",
       "  {'criterion': 'gini', 'max_depth': 9, 'max_leaf_nodes': 36},\n",
       "  {'criterion': 'gini', 'max_depth': 9, 'max_leaf_nodes': 37},\n",
       "  {'criterion': 'gini', 'max_depth': 9, 'max_leaf_nodes': 38},\n",
       "  {'criterion': 'gini', 'max_depth': 9, 'max_leaf_nodes': 39},\n",
       "  {'criterion': 'gini', 'max_depth': 9, 'max_leaf_nodes': 40},\n",
       "  {'criterion': 'gini', 'max_depth': 9, 'max_leaf_nodes': 41},\n",
       "  {'criterion': 'gini', 'max_depth': 9, 'max_leaf_nodes': 42},\n",
       "  {'criterion': 'gini', 'max_depth': 9, 'max_leaf_nodes': 43},\n",
       "  {'criterion': 'gini', 'max_depth': 9, 'max_leaf_nodes': 44},\n",
       "  {'criterion': 'gini', 'max_depth': 9, 'max_leaf_nodes': 45},\n",
       "  {'criterion': 'gini', 'max_depth': 9, 'max_leaf_nodes': 46},\n",
       "  {'criterion': 'gini', 'max_depth': 9, 'max_leaf_nodes': 47},\n",
       "  {'criterion': 'gini', 'max_depth': 9, 'max_leaf_nodes': 48},\n",
       "  {'criterion': 'gini', 'max_depth': 9, 'max_leaf_nodes': 49},\n",
       "  {'criterion': 'gini', 'max_depth': 9, 'max_leaf_nodes': 50},\n",
       "  {'criterion': 'gini', 'max_depth': 9, 'max_leaf_nodes': 51},\n",
       "  {'criterion': 'gini', 'max_depth': 9, 'max_leaf_nodes': 52},\n",
       "  {'criterion': 'gini', 'max_depth': 9, 'max_leaf_nodes': 53},\n",
       "  {'criterion': 'gini', 'max_depth': 9, 'max_leaf_nodes': 54},\n",
       "  {'criterion': 'gini', 'max_depth': 9, 'max_leaf_nodes': 55},\n",
       "  {'criterion': 'gini', 'max_depth': 9, 'max_leaf_nodes': 56},\n",
       "  {'criterion': 'gini', 'max_depth': 9, 'max_leaf_nodes': 57},\n",
       "  {'criterion': 'gini', 'max_depth': 9, 'max_leaf_nodes': 58},\n",
       "  {'criterion': 'gini', 'max_depth': 9, 'max_leaf_nodes': 59},\n",
       "  {'criterion': 'gini', 'max_depth': 9, 'max_leaf_nodes': 60},\n",
       "  {'criterion': 'gini', 'max_depth': 9, 'max_leaf_nodes': 61},\n",
       "  {'criterion': 'gini', 'max_depth': 9, 'max_leaf_nodes': 62},\n",
       "  {'criterion': 'gini', 'max_depth': 9, 'max_leaf_nodes': 63},\n",
       "  {'criterion': 'gini', 'max_depth': 9, 'max_leaf_nodes': 64},\n",
       "  {'criterion': 'gini', 'max_depth': 9, 'max_leaf_nodes': 65},\n",
       "  {'criterion': 'gini', 'max_depth': 9, 'max_leaf_nodes': 66},\n",
       "  {'criterion': 'gini', 'max_depth': 9, 'max_leaf_nodes': 67},\n",
       "  {'criterion': 'gini', 'max_depth': 9, 'max_leaf_nodes': 68},\n",
       "  {'criterion': 'gini', 'max_depth': 9, 'max_leaf_nodes': 69},\n",
       "  {'criterion': 'gini', 'max_depth': 9, 'max_leaf_nodes': 70},\n",
       "  {'criterion': 'gini', 'max_depth': 9, 'max_leaf_nodes': 71},\n",
       "  {'criterion': 'gini', 'max_depth': 9, 'max_leaf_nodes': 72},\n",
       "  {'criterion': 'gini', 'max_depth': 9, 'max_leaf_nodes': 73},\n",
       "  {'criterion': 'gini', 'max_depth': 9, 'max_leaf_nodes': 74},\n",
       "  {'criterion': 'gini', 'max_depth': 9, 'max_leaf_nodes': 75},\n",
       "  {'criterion': 'gini', 'max_depth': 9, 'max_leaf_nodes': 76},\n",
       "  {'criterion': 'gini', 'max_depth': 9, 'max_leaf_nodes': 77},\n",
       "  {'criterion': 'gini', 'max_depth': 9, 'max_leaf_nodes': 78},\n",
       "  {'criterion': 'gini', 'max_depth': 9, 'max_leaf_nodes': 79},\n",
       "  {'criterion': 'gini', 'max_depth': 9, 'max_leaf_nodes': 80},\n",
       "  {'criterion': 'gini', 'max_depth': 9, 'max_leaf_nodes': 81},\n",
       "  {'criterion': 'gini', 'max_depth': 9, 'max_leaf_nodes': 82},\n",
       "  {'criterion': 'gini', 'max_depth': 9, 'max_leaf_nodes': 83},\n",
       "  {'criterion': 'gini', 'max_depth': 9, 'max_leaf_nodes': 84},\n",
       "  {'criterion': 'gini', 'max_depth': 9, 'max_leaf_nodes': 85},\n",
       "  {'criterion': 'gini', 'max_depth': 9, 'max_leaf_nodes': 86},\n",
       "  {'criterion': 'gini', 'max_depth': 9, 'max_leaf_nodes': 87},\n",
       "  {'criterion': 'gini', 'max_depth': 9, 'max_leaf_nodes': 88},\n",
       "  {'criterion': 'gini', 'max_depth': 9, 'max_leaf_nodes': 89},\n",
       "  {'criterion': 'gini', 'max_depth': 9, 'max_leaf_nodes': 90},\n",
       "  {'criterion': 'gini', 'max_depth': 9, 'max_leaf_nodes': 91},\n",
       "  {'criterion': 'gini', 'max_depth': 9, 'max_leaf_nodes': 92},\n",
       "  {'criterion': 'gini', 'max_depth': 9, 'max_leaf_nodes': 93},\n",
       "  {'criterion': 'gini', 'max_depth': 9, 'max_leaf_nodes': 94},\n",
       "  {'criterion': 'gini', 'max_depth': 9, 'max_leaf_nodes': 95},\n",
       "  {'criterion': 'gini', 'max_depth': 9, 'max_leaf_nodes': 96},\n",
       "  {'criterion': 'gini', 'max_depth': 9, 'max_leaf_nodes': 97},\n",
       "  {'criterion': 'gini', 'max_depth': 9, 'max_leaf_nodes': 98},\n",
       "  {'criterion': 'gini', 'max_depth': 9, 'max_leaf_nodes': 99},\n",
       "  {'criterion': 'gini', 'max_depth': 10, 'max_leaf_nodes': 2},\n",
       "  {'criterion': 'gini', 'max_depth': 10, 'max_leaf_nodes': 3},\n",
       "  {'criterion': 'gini', 'max_depth': 10, 'max_leaf_nodes': 4},\n",
       "  {'criterion': 'gini', 'max_depth': 10, 'max_leaf_nodes': 5},\n",
       "  {'criterion': 'gini', 'max_depth': 10, 'max_leaf_nodes': 6},\n",
       "  {'criterion': 'gini', 'max_depth': 10, 'max_leaf_nodes': 7},\n",
       "  {'criterion': 'gini', 'max_depth': 10, 'max_leaf_nodes': 8},\n",
       "  {'criterion': 'gini', 'max_depth': 10, 'max_leaf_nodes': 9},\n",
       "  {'criterion': 'gini', 'max_depth': 10, 'max_leaf_nodes': 10},\n",
       "  {'criterion': 'gini', 'max_depth': 10, 'max_leaf_nodes': 11},\n",
       "  {'criterion': 'gini', 'max_depth': 10, 'max_leaf_nodes': 12},\n",
       "  {'criterion': 'gini', 'max_depth': 10, 'max_leaf_nodes': 13},\n",
       "  {'criterion': 'gini', 'max_depth': 10, 'max_leaf_nodes': 14},\n",
       "  {'criterion': 'gini', 'max_depth': 10, 'max_leaf_nodes': 15},\n",
       "  {'criterion': 'gini', 'max_depth': 10, 'max_leaf_nodes': 16},\n",
       "  {'criterion': 'gini', 'max_depth': 10, 'max_leaf_nodes': 17},\n",
       "  {'criterion': 'gini', 'max_depth': 10, 'max_leaf_nodes': 18},\n",
       "  {'criterion': 'gini', 'max_depth': 10, 'max_leaf_nodes': 19},\n",
       "  {'criterion': 'gini', 'max_depth': 10, 'max_leaf_nodes': 20},\n",
       "  {'criterion': 'gini', 'max_depth': 10, 'max_leaf_nodes': 21},\n",
       "  {'criterion': 'gini', 'max_depth': 10, 'max_leaf_nodes': 22},\n",
       "  {'criterion': 'gini', 'max_depth': 10, 'max_leaf_nodes': 23},\n",
       "  {'criterion': 'gini', 'max_depth': 10, 'max_leaf_nodes': 24},\n",
       "  {'criterion': 'gini', 'max_depth': 10, 'max_leaf_nodes': 25},\n",
       "  {'criterion': 'gini', 'max_depth': 10, 'max_leaf_nodes': 26},\n",
       "  {'criterion': 'gini', 'max_depth': 10, 'max_leaf_nodes': 27},\n",
       "  {'criterion': 'gini', 'max_depth': 10, 'max_leaf_nodes': 28},\n",
       "  {'criterion': 'gini', 'max_depth': 10, 'max_leaf_nodes': 29},\n",
       "  {'criterion': 'gini', 'max_depth': 10, 'max_leaf_nodes': 30},\n",
       "  {'criterion': 'gini', 'max_depth': 10, 'max_leaf_nodes': 31},\n",
       "  {'criterion': 'gini', 'max_depth': 10, 'max_leaf_nodes': 32},\n",
       "  {'criterion': 'gini', 'max_depth': 10, 'max_leaf_nodes': 33},\n",
       "  {'criterion': 'gini', 'max_depth': 10, 'max_leaf_nodes': 34},\n",
       "  {'criterion': 'gini', 'max_depth': 10, 'max_leaf_nodes': 35},\n",
       "  {'criterion': 'gini', 'max_depth': 10, 'max_leaf_nodes': 36},\n",
       "  {'criterion': 'gini', 'max_depth': 10, 'max_leaf_nodes': 37},\n",
       "  {'criterion': 'gini', 'max_depth': 10, 'max_leaf_nodes': 38},\n",
       "  {'criterion': 'gini', 'max_depth': 10, 'max_leaf_nodes': 39},\n",
       "  {'criterion': 'gini', 'max_depth': 10, 'max_leaf_nodes': 40},\n",
       "  {'criterion': 'gini', 'max_depth': 10, 'max_leaf_nodes': 41},\n",
       "  {'criterion': 'gini', 'max_depth': 10, 'max_leaf_nodes': 42},\n",
       "  {'criterion': 'gini', 'max_depth': 10, 'max_leaf_nodes': 43},\n",
       "  {'criterion': 'gini', 'max_depth': 10, 'max_leaf_nodes': 44},\n",
       "  {'criterion': 'gini', 'max_depth': 10, 'max_leaf_nodes': 45},\n",
       "  {'criterion': 'gini', 'max_depth': 10, 'max_leaf_nodes': 46},\n",
       "  {'criterion': 'gini', 'max_depth': 10, 'max_leaf_nodes': 47},\n",
       "  {'criterion': 'gini', 'max_depth': 10, 'max_leaf_nodes': 48},\n",
       "  {'criterion': 'gini', 'max_depth': 10, 'max_leaf_nodes': 49},\n",
       "  {'criterion': 'gini', 'max_depth': 10, 'max_leaf_nodes': 50},\n",
       "  {'criterion': 'gini', 'max_depth': 10, 'max_leaf_nodes': 51},\n",
       "  {'criterion': 'gini', 'max_depth': 10, 'max_leaf_nodes': 52},\n",
       "  {'criterion': 'gini', 'max_depth': 10, 'max_leaf_nodes': 53},\n",
       "  {'criterion': 'gini', 'max_depth': 10, 'max_leaf_nodes': 54},\n",
       "  {'criterion': 'gini', 'max_depth': 10, 'max_leaf_nodes': 55},\n",
       "  {'criterion': 'gini', 'max_depth': 10, 'max_leaf_nodes': 56},\n",
       "  {'criterion': 'gini', 'max_depth': 10, 'max_leaf_nodes': 57},\n",
       "  {'criterion': 'gini', 'max_depth': 10, 'max_leaf_nodes': 58},\n",
       "  {'criterion': 'gini', 'max_depth': 10, 'max_leaf_nodes': 59},\n",
       "  {'criterion': 'gini', 'max_depth': 10, 'max_leaf_nodes': 60},\n",
       "  {'criterion': 'gini', 'max_depth': 10, 'max_leaf_nodes': 61},\n",
       "  {'criterion': 'gini', 'max_depth': 10, 'max_leaf_nodes': 62},\n",
       "  {'criterion': 'gini', 'max_depth': 10, 'max_leaf_nodes': 63},\n",
       "  {'criterion': 'gini', 'max_depth': 10, 'max_leaf_nodes': 64},\n",
       "  {'criterion': 'gini', 'max_depth': 10, 'max_leaf_nodes': 65},\n",
       "  {'criterion': 'gini', 'max_depth': 10, 'max_leaf_nodes': 66},\n",
       "  {'criterion': 'gini', 'max_depth': 10, 'max_leaf_nodes': 67},\n",
       "  {'criterion': 'gini', 'max_depth': 10, 'max_leaf_nodes': 68},\n",
       "  {'criterion': 'gini', 'max_depth': 10, 'max_leaf_nodes': 69},\n",
       "  {'criterion': 'gini', 'max_depth': 10, 'max_leaf_nodes': 70},\n",
       "  {'criterion': 'gini', 'max_depth': 10, 'max_leaf_nodes': 71},\n",
       "  {'criterion': 'gini', 'max_depth': 10, 'max_leaf_nodes': 72},\n",
       "  {'criterion': 'gini', 'max_depth': 10, 'max_leaf_nodes': 73},\n",
       "  {'criterion': 'gini', 'max_depth': 10, 'max_leaf_nodes': 74},\n",
       "  {'criterion': 'gini', 'max_depth': 10, 'max_leaf_nodes': 75},\n",
       "  {'criterion': 'gini', 'max_depth': 10, 'max_leaf_nodes': 76},\n",
       "  {'criterion': 'gini', 'max_depth': 10, 'max_leaf_nodes': 77},\n",
       "  {'criterion': 'gini', 'max_depth': 10, 'max_leaf_nodes': 78},\n",
       "  {'criterion': 'gini', 'max_depth': 10, 'max_leaf_nodes': 79},\n",
       "  {'criterion': 'gini', 'max_depth': 10, 'max_leaf_nodes': 80},\n",
       "  {'criterion': 'gini', 'max_depth': 10, 'max_leaf_nodes': 81},\n",
       "  {'criterion': 'gini', 'max_depth': 10, 'max_leaf_nodes': 82},\n",
       "  {'criterion': 'gini', 'max_depth': 10, 'max_leaf_nodes': 83},\n",
       "  {'criterion': 'gini', 'max_depth': 10, 'max_leaf_nodes': 84},\n",
       "  {'criterion': 'gini', 'max_depth': 10, 'max_leaf_nodes': 85},\n",
       "  {'criterion': 'gini', 'max_depth': 10, 'max_leaf_nodes': 86},\n",
       "  {'criterion': 'gini', 'max_depth': 10, 'max_leaf_nodes': 87},\n",
       "  {'criterion': 'gini', 'max_depth': 10, 'max_leaf_nodes': 88},\n",
       "  {'criterion': 'gini', 'max_depth': 10, 'max_leaf_nodes': 89},\n",
       "  {'criterion': 'gini', 'max_depth': 10, 'max_leaf_nodes': 90},\n",
       "  {'criterion': 'gini', 'max_depth': 10, 'max_leaf_nodes': 91},\n",
       "  {'criterion': 'gini', 'max_depth': 10, 'max_leaf_nodes': 92},\n",
       "  {'criterion': 'gini', 'max_depth': 10, 'max_leaf_nodes': 93},\n",
       "  {'criterion': 'gini', 'max_depth': 10, 'max_leaf_nodes': 94},\n",
       "  {'criterion': 'gini', 'max_depth': 10, 'max_leaf_nodes': 95},\n",
       "  {'criterion': 'gini', 'max_depth': 10, 'max_leaf_nodes': 96},\n",
       "  {'criterion': 'gini', 'max_depth': 10, 'max_leaf_nodes': 97},\n",
       "  {'criterion': 'gini', 'max_depth': 10, 'max_leaf_nodes': 98},\n",
       "  {'criterion': 'gini', 'max_depth': 10, 'max_leaf_nodes': 99},\n",
       "  {'criterion': 'gini', 'max_depth': 11, 'max_leaf_nodes': 2},\n",
       "  {'criterion': 'gini', 'max_depth': 11, 'max_leaf_nodes': 3},\n",
       "  {'criterion': 'gini', 'max_depth': 11, 'max_leaf_nodes': 4},\n",
       "  {'criterion': 'gini', 'max_depth': 11, 'max_leaf_nodes': 5},\n",
       "  {'criterion': 'gini', 'max_depth': 11, 'max_leaf_nodes': 6},\n",
       "  {'criterion': 'gini', 'max_depth': 11, 'max_leaf_nodes': 7},\n",
       "  {'criterion': 'gini', 'max_depth': 11, 'max_leaf_nodes': 8},\n",
       "  {'criterion': 'gini', 'max_depth': 11, 'max_leaf_nodes': 9},\n",
       "  {'criterion': 'gini', 'max_depth': 11, 'max_leaf_nodes': 10},\n",
       "  {'criterion': 'gini', 'max_depth': 11, 'max_leaf_nodes': 11},\n",
       "  {'criterion': 'gini', 'max_depth': 11, 'max_leaf_nodes': 12},\n",
       "  {'criterion': 'gini', 'max_depth': 11, 'max_leaf_nodes': 13},\n",
       "  {'criterion': 'gini', 'max_depth': 11, 'max_leaf_nodes': 14},\n",
       "  {'criterion': 'gini', 'max_depth': 11, 'max_leaf_nodes': 15},\n",
       "  {'criterion': 'gini', 'max_depth': 11, 'max_leaf_nodes': 16},\n",
       "  {'criterion': 'gini', 'max_depth': 11, 'max_leaf_nodes': 17},\n",
       "  {'criterion': 'gini', 'max_depth': 11, 'max_leaf_nodes': 18},\n",
       "  {'criterion': 'gini', 'max_depth': 11, 'max_leaf_nodes': 19},\n",
       "  {'criterion': 'gini', 'max_depth': 11, 'max_leaf_nodes': 20},\n",
       "  {'criterion': 'gini', 'max_depth': 11, 'max_leaf_nodes': 21},\n",
       "  {'criterion': 'gini', 'max_depth': 11, 'max_leaf_nodes': 22},\n",
       "  {'criterion': 'gini', 'max_depth': 11, 'max_leaf_nodes': 23},\n",
       "  {'criterion': 'gini', 'max_depth': 11, 'max_leaf_nodes': 24},\n",
       "  {'criterion': 'gini', 'max_depth': 11, 'max_leaf_nodes': 25},\n",
       "  {'criterion': 'gini', 'max_depth': 11, 'max_leaf_nodes': 26},\n",
       "  {'criterion': 'gini', 'max_depth': 11, 'max_leaf_nodes': 27},\n",
       "  {'criterion': 'gini', 'max_depth': 11, 'max_leaf_nodes': 28},\n",
       "  {'criterion': 'gini', 'max_depth': 11, 'max_leaf_nodes': 29},\n",
       "  {'criterion': 'gini', 'max_depth': 11, 'max_leaf_nodes': 30},\n",
       "  {'criterion': 'gini', 'max_depth': 11, 'max_leaf_nodes': 31},\n",
       "  {'criterion': 'gini', 'max_depth': 11, 'max_leaf_nodes': 32},\n",
       "  {'criterion': 'gini', 'max_depth': 11, 'max_leaf_nodes': 33},\n",
       "  {'criterion': 'gini', 'max_depth': 11, 'max_leaf_nodes': 34},\n",
       "  {'criterion': 'gini', 'max_depth': 11, 'max_leaf_nodes': 35},\n",
       "  {'criterion': 'gini', 'max_depth': 11, 'max_leaf_nodes': 36},\n",
       "  {'criterion': 'gini', 'max_depth': 11, 'max_leaf_nodes': 37},\n",
       "  {'criterion': 'gini', 'max_depth': 11, 'max_leaf_nodes': 38},\n",
       "  {'criterion': 'gini', 'max_depth': 11, 'max_leaf_nodes': 39},\n",
       "  {'criterion': 'gini', 'max_depth': 11, 'max_leaf_nodes': 40},\n",
       "  {'criterion': 'gini', 'max_depth': 11, 'max_leaf_nodes': 41},\n",
       "  {'criterion': 'gini', 'max_depth': 11, 'max_leaf_nodes': 42},\n",
       "  {'criterion': 'gini', 'max_depth': 11, 'max_leaf_nodes': 43},\n",
       "  {'criterion': 'gini', 'max_depth': 11, 'max_leaf_nodes': 44},\n",
       "  {'criterion': 'gini', 'max_depth': 11, 'max_leaf_nodes': 45},\n",
       "  {'criterion': 'gini', 'max_depth': 11, 'max_leaf_nodes': 46},\n",
       "  {'criterion': 'gini', 'max_depth': 11, 'max_leaf_nodes': 47},\n",
       "  {'criterion': 'gini', 'max_depth': 11, 'max_leaf_nodes': 48},\n",
       "  {'criterion': 'gini', 'max_depth': 11, 'max_leaf_nodes': 49},\n",
       "  {'criterion': 'gini', 'max_depth': 11, 'max_leaf_nodes': 50},\n",
       "  {'criterion': 'gini', 'max_depth': 11, 'max_leaf_nodes': 51},\n",
       "  {'criterion': 'gini', 'max_depth': 11, 'max_leaf_nodes': 52},\n",
       "  {'criterion': 'gini', 'max_depth': 11, 'max_leaf_nodes': 53},\n",
       "  {'criterion': 'gini', 'max_depth': 11, 'max_leaf_nodes': 54},\n",
       "  {'criterion': 'gini', 'max_depth': 11, 'max_leaf_nodes': 55},\n",
       "  {'criterion': 'gini', 'max_depth': 11, 'max_leaf_nodes': 56},\n",
       "  {'criterion': 'gini', 'max_depth': 11, 'max_leaf_nodes': 57},\n",
       "  {'criterion': 'gini', 'max_depth': 11, 'max_leaf_nodes': 58},\n",
       "  {'criterion': 'gini', 'max_depth': 11, 'max_leaf_nodes': 59},\n",
       "  {'criterion': 'gini', 'max_depth': 11, 'max_leaf_nodes': 60},\n",
       "  {'criterion': 'gini', 'max_depth': 11, 'max_leaf_nodes': 61},\n",
       "  {'criterion': 'gini', 'max_depth': 11, 'max_leaf_nodes': 62},\n",
       "  {'criterion': 'gini', 'max_depth': 11, 'max_leaf_nodes': 63},\n",
       "  {'criterion': 'gini', 'max_depth': 11, 'max_leaf_nodes': 64},\n",
       "  {'criterion': 'gini', 'max_depth': 11, 'max_leaf_nodes': 65},\n",
       "  {'criterion': 'gini', 'max_depth': 11, 'max_leaf_nodes': 66},\n",
       "  {'criterion': 'gini', 'max_depth': 11, 'max_leaf_nodes': 67},\n",
       "  {'criterion': 'gini', 'max_depth': 11, 'max_leaf_nodes': 68},\n",
       "  {'criterion': 'gini', 'max_depth': 11, 'max_leaf_nodes': 69},\n",
       "  {'criterion': 'gini', 'max_depth': 11, 'max_leaf_nodes': 70},\n",
       "  {'criterion': 'gini', 'max_depth': 11, 'max_leaf_nodes': 71},\n",
       "  {'criterion': 'gini', 'max_depth': 11, 'max_leaf_nodes': 72},\n",
       "  {'criterion': 'gini', 'max_depth': 11, 'max_leaf_nodes': 73},\n",
       "  {'criterion': 'gini', 'max_depth': 11, 'max_leaf_nodes': 74},\n",
       "  {'criterion': 'gini', 'max_depth': 11, 'max_leaf_nodes': 75},\n",
       "  {'criterion': 'gini', 'max_depth': 11, 'max_leaf_nodes': 76},\n",
       "  {'criterion': 'gini', 'max_depth': 11, 'max_leaf_nodes': 77},\n",
       "  {'criterion': 'gini', 'max_depth': 11, 'max_leaf_nodes': 78},\n",
       "  {'criterion': 'gini', 'max_depth': 11, 'max_leaf_nodes': 79},\n",
       "  {'criterion': 'gini', 'max_depth': 11, 'max_leaf_nodes': 80},\n",
       "  {'criterion': 'gini', 'max_depth': 11, 'max_leaf_nodes': 81},\n",
       "  {'criterion': 'gini', 'max_depth': 11, 'max_leaf_nodes': 82},\n",
       "  {'criterion': 'gini', 'max_depth': 11, 'max_leaf_nodes': 83},\n",
       "  {'criterion': 'gini', 'max_depth': 11, 'max_leaf_nodes': 84},\n",
       "  {'criterion': 'gini', 'max_depth': 11, 'max_leaf_nodes': 85},\n",
       "  {'criterion': 'gini', 'max_depth': 11, 'max_leaf_nodes': 86},\n",
       "  {'criterion': 'gini', 'max_depth': 11, 'max_leaf_nodes': 87},\n",
       "  {'criterion': 'gini', 'max_depth': 11, 'max_leaf_nodes': 88},\n",
       "  {'criterion': 'gini', 'max_depth': 11, 'max_leaf_nodes': 89},\n",
       "  {'criterion': 'gini', 'max_depth': 11, 'max_leaf_nodes': 90},\n",
       "  {'criterion': 'gini', 'max_depth': 11, 'max_leaf_nodes': 91},\n",
       "  {'criterion': 'gini', 'max_depth': 11, 'max_leaf_nodes': 92},\n",
       "  {'criterion': 'gini', 'max_depth': 11, 'max_leaf_nodes': 93},\n",
       "  {'criterion': 'gini', 'max_depth': 11, 'max_leaf_nodes': 94},\n",
       "  {'criterion': 'gini', 'max_depth': 11, 'max_leaf_nodes': 95},\n",
       "  {'criterion': 'gini', 'max_depth': 11, 'max_leaf_nodes': 96},\n",
       "  {'criterion': 'gini', 'max_depth': 11, 'max_leaf_nodes': 97},\n",
       "  {'criterion': 'gini', 'max_depth': 11, 'max_leaf_nodes': 98},\n",
       "  {'criterion': 'gini', 'max_depth': 11, 'max_leaf_nodes': 99},\n",
       "  {'criterion': 'gini', 'max_depth': 12, 'max_leaf_nodes': 2},\n",
       "  {'criterion': 'gini', 'max_depth': 12, 'max_leaf_nodes': 3},\n",
       "  {'criterion': 'gini', 'max_depth': 12, 'max_leaf_nodes': 4},\n",
       "  {'criterion': 'gini', 'max_depth': 12, 'max_leaf_nodes': 5},\n",
       "  {'criterion': 'gini', 'max_depth': 12, 'max_leaf_nodes': 6},\n",
       "  {'criterion': 'gini', 'max_depth': 12, 'max_leaf_nodes': 7},\n",
       "  {'criterion': 'gini', 'max_depth': 12, 'max_leaf_nodes': 8},\n",
       "  {'criterion': 'gini', 'max_depth': 12, 'max_leaf_nodes': 9},\n",
       "  {'criterion': 'gini', 'max_depth': 12, 'max_leaf_nodes': 10},\n",
       "  {'criterion': 'gini', 'max_depth': 12, 'max_leaf_nodes': 11},\n",
       "  {'criterion': 'gini', 'max_depth': 12, 'max_leaf_nodes': 12},\n",
       "  {'criterion': 'gini', 'max_depth': 12, 'max_leaf_nodes': 13},\n",
       "  {'criterion': 'gini', 'max_depth': 12, 'max_leaf_nodes': 14},\n",
       "  {'criterion': 'gini', 'max_depth': 12, 'max_leaf_nodes': 15},\n",
       "  {'criterion': 'gini', 'max_depth': 12, 'max_leaf_nodes': 16},\n",
       "  {'criterion': 'gini', 'max_depth': 12, 'max_leaf_nodes': 17},\n",
       "  {'criterion': 'gini', 'max_depth': 12, 'max_leaf_nodes': 18},\n",
       "  {'criterion': 'gini', 'max_depth': 12, 'max_leaf_nodes': 19},\n",
       "  {'criterion': 'gini', 'max_depth': 12, 'max_leaf_nodes': 20},\n",
       "  {'criterion': 'gini', 'max_depth': 12, 'max_leaf_nodes': 21},\n",
       "  {'criterion': 'gini', 'max_depth': 12, 'max_leaf_nodes': 22},\n",
       "  {'criterion': 'gini', 'max_depth': 12, 'max_leaf_nodes': 23},\n",
       "  {'criterion': 'gini', 'max_depth': 12, 'max_leaf_nodes': 24},\n",
       "  {'criterion': 'gini', 'max_depth': 12, 'max_leaf_nodes': 25},\n",
       "  {'criterion': 'gini', 'max_depth': 12, 'max_leaf_nodes': 26},\n",
       "  {'criterion': 'gini', 'max_depth': 12, 'max_leaf_nodes': 27},\n",
       "  {'criterion': 'gini', 'max_depth': 12, 'max_leaf_nodes': 28},\n",
       "  {'criterion': 'gini', 'max_depth': 12, 'max_leaf_nodes': 29},\n",
       "  {'criterion': 'gini', 'max_depth': 12, 'max_leaf_nodes': 30},\n",
       "  {'criterion': 'gini', 'max_depth': 12, 'max_leaf_nodes': 31},\n",
       "  {'criterion': 'gini', 'max_depth': 12, 'max_leaf_nodes': 32},\n",
       "  {'criterion': 'gini', 'max_depth': 12, 'max_leaf_nodes': 33},\n",
       "  {'criterion': 'gini', 'max_depth': 12, 'max_leaf_nodes': 34},\n",
       "  {'criterion': 'gini', 'max_depth': 12, 'max_leaf_nodes': 35},\n",
       "  {'criterion': 'gini', 'max_depth': 12, 'max_leaf_nodes': 36},\n",
       "  {'criterion': 'gini', 'max_depth': 12, 'max_leaf_nodes': 37},\n",
       "  {'criterion': 'gini', 'max_depth': 12, 'max_leaf_nodes': 38},\n",
       "  {'criterion': 'gini', 'max_depth': 12, 'max_leaf_nodes': 39},\n",
       "  {'criterion': 'gini', 'max_depth': 12, 'max_leaf_nodes': 40},\n",
       "  {'criterion': 'gini', 'max_depth': 12, 'max_leaf_nodes': 41},\n",
       "  {'criterion': 'gini', 'max_depth': 12, 'max_leaf_nodes': 42},\n",
       "  {'criterion': 'gini', 'max_depth': 12, 'max_leaf_nodes': 43},\n",
       "  {'criterion': 'gini', 'max_depth': 12, 'max_leaf_nodes': 44},\n",
       "  {'criterion': 'gini', 'max_depth': 12, 'max_leaf_nodes': 45},\n",
       "  {'criterion': 'gini', 'max_depth': 12, 'max_leaf_nodes': 46},\n",
       "  {'criterion': 'gini', 'max_depth': 12, 'max_leaf_nodes': 47},\n",
       "  {'criterion': 'gini', 'max_depth': 12, 'max_leaf_nodes': 48},\n",
       "  {'criterion': 'gini', 'max_depth': 12, 'max_leaf_nodes': 49},\n",
       "  {'criterion': 'gini', 'max_depth': 12, 'max_leaf_nodes': 50},\n",
       "  {'criterion': 'gini', 'max_depth': 12, 'max_leaf_nodes': 51},\n",
       "  {'criterion': 'gini', 'max_depth': 12, 'max_leaf_nodes': 52},\n",
       "  {'criterion': 'gini', 'max_depth': 12, 'max_leaf_nodes': 53},\n",
       "  {'criterion': 'gini', 'max_depth': 12, 'max_leaf_nodes': 54},\n",
       "  {'criterion': 'gini', 'max_depth': 12, 'max_leaf_nodes': 55},\n",
       "  {'criterion': 'gini', 'max_depth': 12, 'max_leaf_nodes': 56},\n",
       "  {'criterion': 'gini', 'max_depth': 12, 'max_leaf_nodes': 57},\n",
       "  {'criterion': 'gini', 'max_depth': 12, 'max_leaf_nodes': 58},\n",
       "  {'criterion': 'gini', 'max_depth': 12, 'max_leaf_nodes': 59},\n",
       "  {'criterion': 'gini', 'max_depth': 12, 'max_leaf_nodes': 60},\n",
       "  {'criterion': 'gini', 'max_depth': 12, 'max_leaf_nodes': 61},\n",
       "  {'criterion': 'gini', 'max_depth': 12, 'max_leaf_nodes': 62},\n",
       "  {'criterion': 'gini', 'max_depth': 12, 'max_leaf_nodes': 63},\n",
       "  {'criterion': 'gini', 'max_depth': 12, 'max_leaf_nodes': 64},\n",
       "  {'criterion': 'gini', 'max_depth': 12, 'max_leaf_nodes': 65},\n",
       "  {'criterion': 'gini', 'max_depth': 12, 'max_leaf_nodes': 66},\n",
       "  {'criterion': 'gini', 'max_depth': 12, 'max_leaf_nodes': 67},\n",
       "  {'criterion': 'gini', 'max_depth': 12, 'max_leaf_nodes': 68},\n",
       "  {'criterion': 'gini', 'max_depth': 12, 'max_leaf_nodes': 69},\n",
       "  {'criterion': 'gini', 'max_depth': 12, 'max_leaf_nodes': 70},\n",
       "  {'criterion': 'gini', 'max_depth': 12, 'max_leaf_nodes': 71},\n",
       "  {'criterion': 'gini', 'max_depth': 12, 'max_leaf_nodes': 72},\n",
       "  {'criterion': 'gini', 'max_depth': 12, 'max_leaf_nodes': 73},\n",
       "  {'criterion': 'gini', 'max_depth': 12, 'max_leaf_nodes': 74},\n",
       "  {'criterion': 'gini', 'max_depth': 12, 'max_leaf_nodes': 75},\n",
       "  {'criterion': 'gini', 'max_depth': 12, 'max_leaf_nodes': 76},\n",
       "  {'criterion': 'gini', 'max_depth': 12, 'max_leaf_nodes': 77},\n",
       "  {'criterion': 'gini', 'max_depth': 12, 'max_leaf_nodes': 78},\n",
       "  {'criterion': 'gini', 'max_depth': 12, 'max_leaf_nodes': 79},\n",
       "  {'criterion': 'gini', 'max_depth': 12, 'max_leaf_nodes': 80},\n",
       "  {'criterion': 'gini', 'max_depth': 12, 'max_leaf_nodes': 81},\n",
       "  {'criterion': 'gini', 'max_depth': 12, 'max_leaf_nodes': 82},\n",
       "  {'criterion': 'gini', 'max_depth': 12, 'max_leaf_nodes': 83},\n",
       "  {'criterion': 'gini', 'max_depth': 12, 'max_leaf_nodes': 84},\n",
       "  {'criterion': 'gini', 'max_depth': 12, 'max_leaf_nodes': 85},\n",
       "  {'criterion': 'gini', 'max_depth': 12, 'max_leaf_nodes': 86},\n",
       "  {'criterion': 'gini', 'max_depth': 12, 'max_leaf_nodes': 87},\n",
       "  {'criterion': 'gini', 'max_depth': 12, 'max_leaf_nodes': 88},\n",
       "  {'criterion': 'gini', 'max_depth': 12, 'max_leaf_nodes': 89},\n",
       "  {'criterion': 'gini', 'max_depth': 12, 'max_leaf_nodes': 90},\n",
       "  {'criterion': 'gini', 'max_depth': 12, 'max_leaf_nodes': 91},\n",
       "  {'criterion': 'gini', 'max_depth': 12, 'max_leaf_nodes': 92},\n",
       "  {'criterion': 'gini', 'max_depth': 12, 'max_leaf_nodes': 93},\n",
       "  {'criterion': 'gini', 'max_depth': 12, 'max_leaf_nodes': 94},\n",
       "  {'criterion': 'gini', 'max_depth': 12, 'max_leaf_nodes': 95},\n",
       "  {'criterion': 'gini', 'max_depth': 12, 'max_leaf_nodes': 96},\n",
       "  {'criterion': 'gini', 'max_depth': 12, 'max_leaf_nodes': 97},\n",
       "  {'criterion': 'gini', 'max_depth': 12, 'max_leaf_nodes': 98},\n",
       "  {'criterion': 'gini', 'max_depth': 12, 'max_leaf_nodes': 99},\n",
       "  {'criterion': 'gini', 'max_depth': 15, 'max_leaf_nodes': 2},\n",
       "  {'criterion': 'gini', 'max_depth': 15, 'max_leaf_nodes': 3},\n",
       "  {'criterion': 'gini', 'max_depth': 15, 'max_leaf_nodes': 4},\n",
       "  {'criterion': 'gini', 'max_depth': 15, 'max_leaf_nodes': 5},\n",
       "  {'criterion': 'gini', 'max_depth': 15, 'max_leaf_nodes': 6},\n",
       "  {'criterion': 'gini', 'max_depth': 15, 'max_leaf_nodes': 7},\n",
       "  {'criterion': 'gini', 'max_depth': 15, 'max_leaf_nodes': 8},\n",
       "  {'criterion': 'gini', 'max_depth': 15, 'max_leaf_nodes': 9},\n",
       "  {'criterion': 'gini', 'max_depth': 15, 'max_leaf_nodes': 10},\n",
       "  {'criterion': 'gini', 'max_depth': 15, 'max_leaf_nodes': 11},\n",
       "  {'criterion': 'gini', 'max_depth': 15, 'max_leaf_nodes': 12},\n",
       "  {'criterion': 'gini', 'max_depth': 15, 'max_leaf_nodes': 13},\n",
       "  {'criterion': 'gini', 'max_depth': 15, 'max_leaf_nodes': 14},\n",
       "  {'criterion': 'gini', 'max_depth': 15, 'max_leaf_nodes': 15},\n",
       "  {'criterion': 'gini', 'max_depth': 15, 'max_leaf_nodes': 16},\n",
       "  {'criterion': 'gini', 'max_depth': 15, 'max_leaf_nodes': 17},\n",
       "  {'criterion': 'gini', 'max_depth': 15, 'max_leaf_nodes': 18},\n",
       "  {'criterion': 'gini', 'max_depth': 15, 'max_leaf_nodes': 19},\n",
       "  {'criterion': 'gini', 'max_depth': 15, 'max_leaf_nodes': 20},\n",
       "  {'criterion': 'gini', 'max_depth': 15, 'max_leaf_nodes': 21},\n",
       "  {'criterion': 'gini', 'max_depth': 15, 'max_leaf_nodes': 22},\n",
       "  {'criterion': 'gini', 'max_depth': 15, 'max_leaf_nodes': 23},\n",
       "  {'criterion': 'gini', 'max_depth': 15, 'max_leaf_nodes': 24},\n",
       "  {'criterion': 'gini', 'max_depth': 15, 'max_leaf_nodes': 25},\n",
       "  {'criterion': 'gini', 'max_depth': 15, 'max_leaf_nodes': 26},\n",
       "  {'criterion': 'gini', 'max_depth': 15, 'max_leaf_nodes': 27},\n",
       "  {'criterion': 'gini', 'max_depth': 15, 'max_leaf_nodes': 28},\n",
       "  {'criterion': 'gini', 'max_depth': 15, 'max_leaf_nodes': 29},\n",
       "  {'criterion': 'gini', 'max_depth': 15, 'max_leaf_nodes': 30},\n",
       "  {'criterion': 'gini', 'max_depth': 15, 'max_leaf_nodes': 31},\n",
       "  {'criterion': 'gini', 'max_depth': 15, 'max_leaf_nodes': 32},\n",
       "  {'criterion': 'gini', 'max_depth': 15, 'max_leaf_nodes': 33},\n",
       "  {'criterion': 'gini', 'max_depth': 15, 'max_leaf_nodes': 34},\n",
       "  {'criterion': 'gini', 'max_depth': 15, 'max_leaf_nodes': 35},\n",
       "  {'criterion': 'gini', 'max_depth': 15, 'max_leaf_nodes': 36},\n",
       "  {'criterion': 'gini', 'max_depth': 15, 'max_leaf_nodes': 37},\n",
       "  {'criterion': 'gini', 'max_depth': 15, 'max_leaf_nodes': 38},\n",
       "  {'criterion': 'gini', 'max_depth': 15, 'max_leaf_nodes': 39},\n",
       "  {'criterion': 'gini', 'max_depth': 15, 'max_leaf_nodes': 40},\n",
       "  {'criterion': 'gini', 'max_depth': 15, 'max_leaf_nodes': 41},\n",
       "  {'criterion': 'gini', 'max_depth': 15, 'max_leaf_nodes': 42},\n",
       "  {'criterion': 'gini', 'max_depth': 15, 'max_leaf_nodes': 43},\n",
       "  {'criterion': 'gini', 'max_depth': 15, 'max_leaf_nodes': 44},\n",
       "  {'criterion': 'gini', 'max_depth': 15, 'max_leaf_nodes': 45},\n",
       "  {'criterion': 'gini', 'max_depth': 15, 'max_leaf_nodes': 46},\n",
       "  {'criterion': 'gini', 'max_depth': 15, 'max_leaf_nodes': 47},\n",
       "  {'criterion': 'gini', 'max_depth': 15, 'max_leaf_nodes': 48},\n",
       "  {'criterion': 'gini', 'max_depth': 15, 'max_leaf_nodes': 49},\n",
       "  {'criterion': 'gini', 'max_depth': 15, 'max_leaf_nodes': 50},\n",
       "  {'criterion': 'gini', 'max_depth': 15, 'max_leaf_nodes': 51},\n",
       "  {'criterion': 'gini', 'max_depth': 15, 'max_leaf_nodes': 52},\n",
       "  {'criterion': 'gini', 'max_depth': 15, 'max_leaf_nodes': 53},\n",
       "  {'criterion': 'gini', 'max_depth': 15, 'max_leaf_nodes': 54},\n",
       "  {'criterion': 'gini', 'max_depth': 15, 'max_leaf_nodes': 55},\n",
       "  {'criterion': 'gini', 'max_depth': 15, 'max_leaf_nodes': 56},\n",
       "  {'criterion': 'gini', 'max_depth': 15, 'max_leaf_nodes': 57},\n",
       "  {'criterion': 'gini', 'max_depth': 15, 'max_leaf_nodes': 58},\n",
       "  {'criterion': 'gini', 'max_depth': 15, 'max_leaf_nodes': 59},\n",
       "  {'criterion': 'gini', 'max_depth': 15, 'max_leaf_nodes': 60},\n",
       "  {'criterion': 'gini', 'max_depth': 15, 'max_leaf_nodes': 61},\n",
       "  {'criterion': 'gini', 'max_depth': 15, 'max_leaf_nodes': 62},\n",
       "  {'criterion': 'gini', 'max_depth': 15, 'max_leaf_nodes': 63},\n",
       "  {'criterion': 'gini', 'max_depth': 15, 'max_leaf_nodes': 64},\n",
       "  {'criterion': 'gini', 'max_depth': 15, 'max_leaf_nodes': 65},\n",
       "  {'criterion': 'gini', 'max_depth': 15, 'max_leaf_nodes': 66},\n",
       "  {'criterion': 'gini', 'max_depth': 15, 'max_leaf_nodes': 67},\n",
       "  {'criterion': 'gini', 'max_depth': 15, 'max_leaf_nodes': 68},\n",
       "  {'criterion': 'gini', 'max_depth': 15, 'max_leaf_nodes': 69},\n",
       "  {'criterion': 'gini', 'max_depth': 15, 'max_leaf_nodes': 70},\n",
       "  {'criterion': 'gini', 'max_depth': 15, 'max_leaf_nodes': 71},\n",
       "  {'criterion': 'gini', 'max_depth': 15, 'max_leaf_nodes': 72},\n",
       "  {'criterion': 'gini', 'max_depth': 15, 'max_leaf_nodes': 73},\n",
       "  {'criterion': 'gini', 'max_depth': 15, 'max_leaf_nodes': 74},\n",
       "  {'criterion': 'gini', 'max_depth': 15, 'max_leaf_nodes': 75},\n",
       "  {'criterion': 'gini', 'max_depth': 15, 'max_leaf_nodes': 76},\n",
       "  {'criterion': 'gini', 'max_depth': 15, 'max_leaf_nodes': 77},\n",
       "  {'criterion': 'gini', 'max_depth': 15, 'max_leaf_nodes': 78},\n",
       "  {'criterion': 'gini', 'max_depth': 15, 'max_leaf_nodes': 79},\n",
       "  {'criterion': 'gini', 'max_depth': 15, 'max_leaf_nodes': 80},\n",
       "  {'criterion': 'gini', 'max_depth': 15, 'max_leaf_nodes': 81},\n",
       "  {'criterion': 'gini', 'max_depth': 15, 'max_leaf_nodes': 82},\n",
       "  {'criterion': 'gini', 'max_depth': 15, 'max_leaf_nodes': 83},\n",
       "  {'criterion': 'gini', 'max_depth': 15, 'max_leaf_nodes': 84},\n",
       "  {'criterion': 'gini', 'max_depth': 15, 'max_leaf_nodes': 85},\n",
       "  {'criterion': 'gini', 'max_depth': 15, 'max_leaf_nodes': 86},\n",
       "  {'criterion': 'gini', 'max_depth': 15, 'max_leaf_nodes': 87},\n",
       "  {'criterion': 'gini', 'max_depth': 15, 'max_leaf_nodes': 88},\n",
       "  {'criterion': 'gini', 'max_depth': 15, 'max_leaf_nodes': 89},\n",
       "  {'criterion': 'gini', 'max_depth': 15, 'max_leaf_nodes': 90},\n",
       "  {'criterion': 'gini', 'max_depth': 15, 'max_leaf_nodes': 91},\n",
       "  {'criterion': 'gini', 'max_depth': 15, 'max_leaf_nodes': 92},\n",
       "  {'criterion': 'gini', 'max_depth': 15, 'max_leaf_nodes': 93},\n",
       "  {'criterion': 'gini', 'max_depth': 15, 'max_leaf_nodes': 94},\n",
       "  {'criterion': 'gini', 'max_depth': 15, 'max_leaf_nodes': 95},\n",
       "  {'criterion': 'gini', 'max_depth': 15, 'max_leaf_nodes': 96},\n",
       "  {'criterion': 'gini', 'max_depth': 15, 'max_leaf_nodes': 97},\n",
       "  {'criterion': 'gini', 'max_depth': 15, 'max_leaf_nodes': 98},\n",
       "  {'criterion': 'gini', 'max_depth': 15, 'max_leaf_nodes': 99},\n",
       "  {'criterion': 'gini', 'max_depth': 20, 'max_leaf_nodes': 2},\n",
       "  {'criterion': 'gini', 'max_depth': 20, 'max_leaf_nodes': 3},\n",
       "  {'criterion': 'gini', 'max_depth': 20, 'max_leaf_nodes': 4},\n",
       "  {'criterion': 'gini', 'max_depth': 20, 'max_leaf_nodes': 5},\n",
       "  {'criterion': 'gini', 'max_depth': 20, 'max_leaf_nodes': 6},\n",
       "  {'criterion': 'gini', 'max_depth': 20, 'max_leaf_nodes': 7},\n",
       "  {'criterion': 'gini', 'max_depth': 20, 'max_leaf_nodes': 8},\n",
       "  {'criterion': 'gini', 'max_depth': 20, 'max_leaf_nodes': 9},\n",
       "  {'criterion': 'gini', 'max_depth': 20, 'max_leaf_nodes': 10},\n",
       "  {'criterion': 'gini', 'max_depth': 20, 'max_leaf_nodes': 11},\n",
       "  {'criterion': 'gini', 'max_depth': 20, 'max_leaf_nodes': 12},\n",
       "  {'criterion': 'gini', 'max_depth': 20, 'max_leaf_nodes': 13},\n",
       "  {'criterion': 'gini', 'max_depth': 20, 'max_leaf_nodes': 14},\n",
       "  {'criterion': 'gini', 'max_depth': 20, 'max_leaf_nodes': 15},\n",
       "  {'criterion': 'gini', 'max_depth': 20, 'max_leaf_nodes': 16},\n",
       "  {'criterion': 'gini', 'max_depth': 20, 'max_leaf_nodes': 17},\n",
       "  {'criterion': 'gini', 'max_depth': 20, 'max_leaf_nodes': 18},\n",
       "  {'criterion': 'gini', 'max_depth': 20, 'max_leaf_nodes': 19},\n",
       "  {'criterion': 'gini', 'max_depth': 20, 'max_leaf_nodes': 20},\n",
       "  {'criterion': 'gini', 'max_depth': 20, 'max_leaf_nodes': 21},\n",
       "  ...],\n",
       " 'split0_test_score': array([0.77822581, 0.77822581, 0.81048387, ..., 0.77419355, 0.76209677,\n",
       "        0.77822581]),\n",
       " 'split1_test_score': array([0.83870968, 0.83870968, 0.84677419, ..., 0.86290323, 0.85483871,\n",
       "        0.84677419]),\n",
       " 'split2_test_score': array([0.77822581, 0.77822581, 0.81451613, ..., 0.8266129 , 0.80241935,\n",
       "        0.81048387]),\n",
       " 'mean_test_score': array([0.7983871 , 0.7983871 , 0.82392473, ..., 0.82123656, 0.80645161,\n",
       "        0.81182796]),\n",
       " 'std_test_score': array([0.02851237, 0.02851237, 0.01624065, ..., 0.03641456, 0.03796894,\n",
       "        0.0280009 ]),\n",
       " 'rank_test_score': array([3345, 3345, 1086, ..., 1426, 3136, 2701])}"
      ]
     },
     "execution_count": 86,
     "metadata": {},
     "output_type": "execute_result"
    }
   ],
   "source": [
    "grid_search_cv.cv_results_"
   ]
  },
  {
   "cell_type": "markdown",
   "id": "73489f93",
   "metadata": {},
   "source": [
    "Test RandomizedSearchCV \n",
    "\n",
    "documentation : https://scikit-learn.org/stable/modules/generated/sklearn.model_selection.RandomizedSearchCV.html"
   ]
  },
  {
   "cell_type": "code",
   "execution_count": 87,
   "id": "6f52e249",
   "metadata": {},
   "outputs": [],
   "source": [
    "from sklearn.model_selection import RandomizedSearchCV"
   ]
  },
  {
   "cell_type": "code",
   "execution_count": 89,
   "id": "c8073b17",
   "metadata": {},
   "outputs": [],
   "source": [
    "from scipy.stats import randint"
   ]
  },
  {
   "cell_type": "code",
   "execution_count": 93,
   "id": "608b0e9a",
   "metadata": {},
   "outputs": [],
   "source": [
    "param_dist = {'criterion':['gini','entropy'],'max_leaf_nodes': list(range(2, 100)),'max_depth':[4,5,6,7,8,9,10,11,12,15,20,30,40,50,70,90,120,150]}"
   ]
  },
  {
   "cell_type": "code",
   "execution_count": 94,
   "id": "90f637bb",
   "metadata": {},
   "outputs": [
    {
     "name": "stdout",
     "output_type": "stream",
     "text": [
      "Fitting 3 folds for each of 10 candidates, totalling 30 fits\n"
     ]
    },
    {
     "data": {
      "text/html": [
       "<style>#sk-container-id-8 {color: black;background-color: white;}#sk-container-id-8 pre{padding: 0;}#sk-container-id-8 div.sk-toggleable {background-color: white;}#sk-container-id-8 label.sk-toggleable__label {cursor: pointer;display: block;width: 100%;margin-bottom: 0;padding: 0.3em;box-sizing: border-box;text-align: center;}#sk-container-id-8 label.sk-toggleable__label-arrow:before {content: \"▸\";float: left;margin-right: 0.25em;color: #696969;}#sk-container-id-8 label.sk-toggleable__label-arrow:hover:before {color: black;}#sk-container-id-8 div.sk-estimator:hover label.sk-toggleable__label-arrow:before {color: black;}#sk-container-id-8 div.sk-toggleable__content {max-height: 0;max-width: 0;overflow: hidden;text-align: left;background-color: #f0f8ff;}#sk-container-id-8 div.sk-toggleable__content pre {margin: 0.2em;color: black;border-radius: 0.25em;background-color: #f0f8ff;}#sk-container-id-8 input.sk-toggleable__control:checked~div.sk-toggleable__content {max-height: 200px;max-width: 100%;overflow: auto;}#sk-container-id-8 input.sk-toggleable__control:checked~label.sk-toggleable__label-arrow:before {content: \"▾\";}#sk-container-id-8 div.sk-estimator input.sk-toggleable__control:checked~label.sk-toggleable__label {background-color: #d4ebff;}#sk-container-id-8 div.sk-label input.sk-toggleable__control:checked~label.sk-toggleable__label {background-color: #d4ebff;}#sk-container-id-8 input.sk-hidden--visually {border: 0;clip: rect(1px 1px 1px 1px);clip: rect(1px, 1px, 1px, 1px);height: 1px;margin: -1px;overflow: hidden;padding: 0;position: absolute;width: 1px;}#sk-container-id-8 div.sk-estimator {font-family: monospace;background-color: #f0f8ff;border: 1px dotted black;border-radius: 0.25em;box-sizing: border-box;margin-bottom: 0.5em;}#sk-container-id-8 div.sk-estimator:hover {background-color: #d4ebff;}#sk-container-id-8 div.sk-parallel-item::after {content: \"\";width: 100%;border-bottom: 1px solid gray;flex-grow: 1;}#sk-container-id-8 div.sk-label:hover label.sk-toggleable__label {background-color: #d4ebff;}#sk-container-id-8 div.sk-serial::before {content: \"\";position: absolute;border-left: 1px solid gray;box-sizing: border-box;top: 0;bottom: 0;left: 50%;z-index: 0;}#sk-container-id-8 div.sk-serial {display: flex;flex-direction: column;align-items: center;background-color: white;padding-right: 0.2em;padding-left: 0.2em;position: relative;}#sk-container-id-8 div.sk-item {position: relative;z-index: 1;}#sk-container-id-8 div.sk-parallel {display: flex;align-items: stretch;justify-content: center;background-color: white;position: relative;}#sk-container-id-8 div.sk-item::before, #sk-container-id-8 div.sk-parallel-item::before {content: \"\";position: absolute;border-left: 1px solid gray;box-sizing: border-box;top: 0;bottom: 0;left: 50%;z-index: -1;}#sk-container-id-8 div.sk-parallel-item {display: flex;flex-direction: column;z-index: 1;position: relative;background-color: white;}#sk-container-id-8 div.sk-parallel-item:first-child::after {align-self: flex-end;width: 50%;}#sk-container-id-8 div.sk-parallel-item:last-child::after {align-self: flex-start;width: 50%;}#sk-container-id-8 div.sk-parallel-item:only-child::after {width: 0;}#sk-container-id-8 div.sk-dashed-wrapped {border: 1px dashed gray;margin: 0 0.4em 0.5em 0.4em;box-sizing: border-box;padding-bottom: 0.4em;background-color: white;}#sk-container-id-8 div.sk-label label {font-family: monospace;font-weight: bold;display: inline-block;line-height: 1.2em;}#sk-container-id-8 div.sk-label-container {text-align: center;}#sk-container-id-8 div.sk-container {/* jupyter's `normalize.less` sets `[hidden] { display: none; }` but bootstrap.min.css set `[hidden] { display: none !important; }` so we also need the `!important` here to be able to override the default hidden behavior on the sphinx rendered scikit-learn.org. See: https://github.com/scikit-learn/scikit-learn/issues/21755 */display: inline-block !important;position: relative;}#sk-container-id-8 div.sk-text-repr-fallback {display: none;}</style><div id=\"sk-container-id-8\" class=\"sk-top-container\"><div class=\"sk-text-repr-fallback\"><pre>RandomizedSearchCV(cv=3, estimator=DecisionTreeClassifier(),\n",
       "                   param_distributions={&#x27;criterion&#x27;: [&#x27;gini&#x27;, &#x27;entropy&#x27;],\n",
       "                                        &#x27;max_depth&#x27;: [4, 5, 6, 7, 8, 9, 10, 11,\n",
       "                                                      12, 15, 20, 30, 40, 50,\n",
       "                                                      70, 90, 120, 150],\n",
       "                                        &#x27;max_leaf_nodes&#x27;: [2, 3, 4, 5, 6, 7, 8,\n",
       "                                                           9, 10, 11, 12, 13,\n",
       "                                                           14, 15, 16, 17, 18,\n",
       "                                                           19, 20, 21, 22, 23,\n",
       "                                                           24, 25, 26, 27, 28,\n",
       "                                                           29, 30, 31, ...]},\n",
       "                   verbose=1)</pre><b>In a Jupyter environment, please rerun this cell to show the HTML representation or trust the notebook. <br />On GitHub, the HTML representation is unable to render, please try loading this page with nbviewer.org.</b></div><div class=\"sk-container\" hidden><div class=\"sk-item sk-dashed-wrapped\"><div class=\"sk-label-container\"><div class=\"sk-label sk-toggleable\"><input class=\"sk-toggleable__control sk-hidden--visually\" id=\"sk-estimator-id-14\" type=\"checkbox\" ><label for=\"sk-estimator-id-14\" class=\"sk-toggleable__label sk-toggleable__label-arrow\">RandomizedSearchCV</label><div class=\"sk-toggleable__content\"><pre>RandomizedSearchCV(cv=3, estimator=DecisionTreeClassifier(),\n",
       "                   param_distributions={&#x27;criterion&#x27;: [&#x27;gini&#x27;, &#x27;entropy&#x27;],\n",
       "                                        &#x27;max_depth&#x27;: [4, 5, 6, 7, 8, 9, 10, 11,\n",
       "                                                      12, 15, 20, 30, 40, 50,\n",
       "                                                      70, 90, 120, 150],\n",
       "                                        &#x27;max_leaf_nodes&#x27;: [2, 3, 4, 5, 6, 7, 8,\n",
       "                                                           9, 10, 11, 12, 13,\n",
       "                                                           14, 15, 16, 17, 18,\n",
       "                                                           19, 20, 21, 22, 23,\n",
       "                                                           24, 25, 26, 27, 28,\n",
       "                                                           29, 30, 31, ...]},\n",
       "                   verbose=1)</pre></div></div></div><div class=\"sk-parallel\"><div class=\"sk-parallel-item\"><div class=\"sk-item\"><div class=\"sk-label-container\"><div class=\"sk-label sk-toggleable\"><input class=\"sk-toggleable__control sk-hidden--visually\" id=\"sk-estimator-id-15\" type=\"checkbox\" ><label for=\"sk-estimator-id-15\" class=\"sk-toggleable__label sk-toggleable__label-arrow\">estimator: DecisionTreeClassifier</label><div class=\"sk-toggleable__content\"><pre>DecisionTreeClassifier()</pre></div></div></div><div class=\"sk-serial\"><div class=\"sk-item\"><div class=\"sk-estimator sk-toggleable\"><input class=\"sk-toggleable__control sk-hidden--visually\" id=\"sk-estimator-id-16\" type=\"checkbox\" ><label for=\"sk-estimator-id-16\" class=\"sk-toggleable__label sk-toggleable__label-arrow\">DecisionTreeClassifier</label><div class=\"sk-toggleable__content\"><pre>DecisionTreeClassifier()</pre></div></div></div></div></div></div></div></div></div></div>"
      ],
      "text/plain": [
       "RandomizedSearchCV(cv=3, estimator=DecisionTreeClassifier(),\n",
       "                   param_distributions={'criterion': ['gini', 'entropy'],\n",
       "                                        'max_depth': [4, 5, 6, 7, 8, 9, 10, 11,\n",
       "                                                      12, 15, 20, 30, 40, 50,\n",
       "                                                      70, 90, 120, 150],\n",
       "                                        'max_leaf_nodes': [2, 3, 4, 5, 6, 7, 8,\n",
       "                                                           9, 10, 11, 12, 13,\n",
       "                                                           14, 15, 16, 17, 18,\n",
       "                                                           19, 20, 21, 22, 23,\n",
       "                                                           24, 25, 26, 27, 28,\n",
       "                                                           29, 30, 31, ...]},\n",
       "                   verbose=1)"
      ]
     },
     "execution_count": 94,
     "metadata": {},
     "output_type": "execute_result"
    }
   ],
   "source": [
    "rand_search_cv = RandomizedSearchCV(DecisionTreeClassifier(), params, verbose=1, cv=3)\n",
    "rand_search_cv.fit(X_train, y_train)"
   ]
  },
  {
   "cell_type": "code",
   "execution_count": 133,
   "id": "d2011751",
   "metadata": {},
   "outputs": [
    {
     "data": {
      "text/plain": [
       "['mean_fit_time',\n",
       " 'mean_score_time',\n",
       " 'mean_test_score',\n",
       " 'param_criterion',\n",
       " 'param_max_depth',\n",
       " 'param_max_leaf_nodes',\n",
       " 'params',\n",
       " 'rank_test_score',\n",
       " 'split0_test_score',\n",
       " 'split1_test_score',\n",
       " 'split2_test_score',\n",
       " 'std_fit_time',\n",
       " 'std_score_time',\n",
       " 'std_test_score']"
      ]
     },
     "execution_count": 133,
     "metadata": {},
     "output_type": "execute_result"
    }
   ],
   "source": [
    "sorted(rand_search_cv.cv_results_.keys())"
   ]
  },
  {
   "cell_type": "code",
   "execution_count": 95,
   "id": "2bc8014f",
   "metadata": {},
   "outputs": [
    {
     "data": {
      "text/html": [
       "<style>#sk-container-id-9 {color: black;background-color: white;}#sk-container-id-9 pre{padding: 0;}#sk-container-id-9 div.sk-toggleable {background-color: white;}#sk-container-id-9 label.sk-toggleable__label {cursor: pointer;display: block;width: 100%;margin-bottom: 0;padding: 0.3em;box-sizing: border-box;text-align: center;}#sk-container-id-9 label.sk-toggleable__label-arrow:before {content: \"▸\";float: left;margin-right: 0.25em;color: #696969;}#sk-container-id-9 label.sk-toggleable__label-arrow:hover:before {color: black;}#sk-container-id-9 div.sk-estimator:hover label.sk-toggleable__label-arrow:before {color: black;}#sk-container-id-9 div.sk-toggleable__content {max-height: 0;max-width: 0;overflow: hidden;text-align: left;background-color: #f0f8ff;}#sk-container-id-9 div.sk-toggleable__content pre {margin: 0.2em;color: black;border-radius: 0.25em;background-color: #f0f8ff;}#sk-container-id-9 input.sk-toggleable__control:checked~div.sk-toggleable__content {max-height: 200px;max-width: 100%;overflow: auto;}#sk-container-id-9 input.sk-toggleable__control:checked~label.sk-toggleable__label-arrow:before {content: \"▾\";}#sk-container-id-9 div.sk-estimator input.sk-toggleable__control:checked~label.sk-toggleable__label {background-color: #d4ebff;}#sk-container-id-9 div.sk-label input.sk-toggleable__control:checked~label.sk-toggleable__label {background-color: #d4ebff;}#sk-container-id-9 input.sk-hidden--visually {border: 0;clip: rect(1px 1px 1px 1px);clip: rect(1px, 1px, 1px, 1px);height: 1px;margin: -1px;overflow: hidden;padding: 0;position: absolute;width: 1px;}#sk-container-id-9 div.sk-estimator {font-family: monospace;background-color: #f0f8ff;border: 1px dotted black;border-radius: 0.25em;box-sizing: border-box;margin-bottom: 0.5em;}#sk-container-id-9 div.sk-estimator:hover {background-color: #d4ebff;}#sk-container-id-9 div.sk-parallel-item::after {content: \"\";width: 100%;border-bottom: 1px solid gray;flex-grow: 1;}#sk-container-id-9 div.sk-label:hover label.sk-toggleable__label {background-color: #d4ebff;}#sk-container-id-9 div.sk-serial::before {content: \"\";position: absolute;border-left: 1px solid gray;box-sizing: border-box;top: 0;bottom: 0;left: 50%;z-index: 0;}#sk-container-id-9 div.sk-serial {display: flex;flex-direction: column;align-items: center;background-color: white;padding-right: 0.2em;padding-left: 0.2em;position: relative;}#sk-container-id-9 div.sk-item {position: relative;z-index: 1;}#sk-container-id-9 div.sk-parallel {display: flex;align-items: stretch;justify-content: center;background-color: white;position: relative;}#sk-container-id-9 div.sk-item::before, #sk-container-id-9 div.sk-parallel-item::before {content: \"\";position: absolute;border-left: 1px solid gray;box-sizing: border-box;top: 0;bottom: 0;left: 50%;z-index: -1;}#sk-container-id-9 div.sk-parallel-item {display: flex;flex-direction: column;z-index: 1;position: relative;background-color: white;}#sk-container-id-9 div.sk-parallel-item:first-child::after {align-self: flex-end;width: 50%;}#sk-container-id-9 div.sk-parallel-item:last-child::after {align-self: flex-start;width: 50%;}#sk-container-id-9 div.sk-parallel-item:only-child::after {width: 0;}#sk-container-id-9 div.sk-dashed-wrapped {border: 1px dashed gray;margin: 0 0.4em 0.5em 0.4em;box-sizing: border-box;padding-bottom: 0.4em;background-color: white;}#sk-container-id-9 div.sk-label label {font-family: monospace;font-weight: bold;display: inline-block;line-height: 1.2em;}#sk-container-id-9 div.sk-label-container {text-align: center;}#sk-container-id-9 div.sk-container {/* jupyter's `normalize.less` sets `[hidden] { display: none; }` but bootstrap.min.css set `[hidden] { display: none !important; }` so we also need the `!important` here to be able to override the default hidden behavior on the sphinx rendered scikit-learn.org. See: https://github.com/scikit-learn/scikit-learn/issues/21755 */display: inline-block !important;position: relative;}#sk-container-id-9 div.sk-text-repr-fallback {display: none;}</style><div id=\"sk-container-id-9\" class=\"sk-top-container\"><div class=\"sk-text-repr-fallback\"><pre>DecisionTreeClassifier(criterion=&#x27;entropy&#x27;, max_depth=40, max_leaf_nodes=12)</pre><b>In a Jupyter environment, please rerun this cell to show the HTML representation or trust the notebook. <br />On GitHub, the HTML representation is unable to render, please try loading this page with nbviewer.org.</b></div><div class=\"sk-container\" hidden><div class=\"sk-item\"><div class=\"sk-estimator sk-toggleable\"><input class=\"sk-toggleable__control sk-hidden--visually\" id=\"sk-estimator-id-17\" type=\"checkbox\" checked><label for=\"sk-estimator-id-17\" class=\"sk-toggleable__label sk-toggleable__label-arrow\">DecisionTreeClassifier</label><div class=\"sk-toggleable__content\"><pre>DecisionTreeClassifier(criterion=&#x27;entropy&#x27;, max_depth=40, max_leaf_nodes=12)</pre></div></div></div></div></div>"
      ],
      "text/plain": [
       "DecisionTreeClassifier(criterion='entropy', max_depth=40, max_leaf_nodes=12)"
      ]
     },
     "execution_count": 95,
     "metadata": {},
     "output_type": "execute_result"
    }
   ],
   "source": [
    "rand_search_cv.best_estimator_"
   ]
  },
  {
   "cell_type": "markdown",
   "id": "29152452",
   "metadata": {},
   "source": [
    "https://medium.com/analytics-vidhya/hyper-parameter-tuning-gridsearchcv-vs-randomizedsearchcv-499862e3ca5"
   ]
  },
  {
   "cell_type": "markdown",
   "id": "63411b1f",
   "metadata": {},
   "source": [
    "Put all your results in a suitable form: \n",
    "\n",
    "it can be a table or a series of graphs, that visualise the variations of performance between different settings of the decision tree algorithm."
   ]
  },
  {
   "cell_type": "markdown",
   "id": "2948f618",
   "metadata": {},
   "source": [
    "### Tree 1\n",
    "\n",
    "Using the best working parameters, repeat the experiment, this time using training and testing data sets instead of the cross validation.\n",
    "\n",
    "build the J48 classifier using the training data set, and test the classifier using the test data set"
   ]
  },
  {
   "cell_type": "code",
   "execution_count": 137,
   "id": "4b0c2432",
   "metadata": {},
   "outputs": [],
   "source": [
    "trees1 = DecisionTreeClassifier(criterion='entropy', max_depth=40, max_leaf_nodes=12)\n",
    "trees1 = trees1.fit(X_train,y_train)\n",
    "y_pred2 = trees1.predict(X_test)"
   ]
  },
  {
   "cell_type": "markdown",
   "id": "2712a0ce",
   "metadata": {},
   "source": [
    "Accuracy of the J48 classifier"
   ]
  },
  {
   "cell_type": "code",
   "execution_count": 98,
   "id": "7556fde8",
   "metadata": {},
   "outputs": [
    {
     "name": "stdout",
     "output_type": "stream",
     "text": [
      "Test set accuracy: 0.8983957219251337\n"
     ]
    }
   ],
   "source": [
    "print(\"Test set accuracy:\", metrics.accuracy_score(y_test, y_pred2))"
   ]
  },
  {
   "cell_type": "markdown",
   "id": "4e396988",
   "metadata": {},
   "source": [
    "Does the decision tree generalize well to new data? How do you tell?"
   ]
  },
  {
   "cell_type": "code",
   "execution_count": null,
   "id": "8b04c31c",
   "metadata": {},
   "outputs": [],
   "source": []
  },
  {
   "cell_type": "code",
   "execution_count": 128,
   "id": "981544d1",
   "metadata": {},
   "outputs": [
    {
     "name": "stdout",
     "output_type": "stream",
     "text": [
      "Training set accuracy: 0.9153225806451613\n"
     ]
    }
   ],
   "source": [
    "y_pred_tr = trees1.predict(X_train)\n",
    "print(\"Training set accuracy:\", metrics.accuracy_score(y_train, y_pred_tr))"
   ]
  },
  {
   "cell_type": "markdown",
   "id": "80d8226a",
   "metadata": {},
   "source": [
    "Tree 2\n",
    "\n",
    "Make new training and testing sets, by moving 30% of the instances from the original training set into the testing set"
   ]
  },
  {
   "cell_type": "code",
   "execution_count": 100,
   "id": "844807cf",
   "metadata": {},
   "outputs": [
    {
     "name": "stdout",
     "output_type": "stream",
     "text": [
      "Train Data: (651, 7), (651,)\n",
      "Train Data: (280, 7), (280,)\n"
     ]
    }
   ],
   "source": [
    "X_train2, X_test2, y_train2, y_test2 = train_test_split(X, y, test_size=0.3, random_state=24)\n",
    "print(f\"Train Data: {X_train2.shape}, {y_train2.shape}\")\n",
    "print(f\"Train Data: {X_test2.shape}, {y_test2.shape}\")"
   ]
  },
  {
   "cell_type": "code",
   "execution_count": 142,
   "id": "c2cea366",
   "metadata": {},
   "outputs": [],
   "source": [
    "trees2 = DecisionTreeClassifier(criterion='entropy', max_depth=40, max_leaf_nodes=12)\n",
    "trees2 = trees2.fit(X_train2,y_train2)\n",
    "y_pred3 = trees2.predict(X_test2)"
   ]
  },
  {
   "cell_type": "markdown",
   "id": "b2478730",
   "metadata": {},
   "source": [
    "accuracy on the training set "
   ]
  },
  {
   "cell_type": "code",
   "execution_count": 104,
   "id": "6d204153",
   "metadata": {},
   "outputs": [
    {
     "name": "stdout",
     "output_type": "stream",
     "text": [
      "Training set accuracy: 0.9170506912442397\n"
     ]
    }
   ],
   "source": [
    "y_pred3_train = trees2.predict(X_train2)\n",
    "print(\"Training set accuracy:\", metrics.accuracy_score(y_train2, y_pred3_train))"
   ]
  },
  {
   "cell_type": "markdown",
   "id": "7715e513",
   "metadata": {},
   "source": [
    "accuracy on the test set "
   ]
  },
  {
   "cell_type": "code",
   "execution_count": 109,
   "id": "b934bbd2",
   "metadata": {},
   "outputs": [
    {
     "name": "stdout",
     "output_type": "stream",
     "text": [
      "Test set accuracy: 0.8785714285714286\n"
     ]
    }
   ],
   "source": [
    "print(\"Test set accuracy:\", metrics.accuracy_score(y_test2, y_pred3))"
   ]
  },
  {
   "cell_type": "markdown",
   "id": "d323d4b8",
   "metadata": {},
   "source": [
    "Tree 3\n",
    "\n",
    "Make new training and testing sets, by moving 60% of the instances from the original training set into the testing set. "
   ]
  },
  {
   "cell_type": "code",
   "execution_count": 105,
   "id": "3ac5b735",
   "metadata": {},
   "outputs": [
    {
     "name": "stdout",
     "output_type": "stream",
     "text": [
      "Train Data: (372, 7), (372,)\n",
      "Train Data: (559, 7), (559,)\n"
     ]
    }
   ],
   "source": [
    "X_train3, X_test3, y_train3, y_test3 = train_test_split(X, y, test_size=0.6, random_state=24)\n",
    "print(f\"Train Data: {X_train3.shape}, {y_train3.shape}\")\n",
    "print(f\"Train Data: {X_test3.shape}, {y_test3.shape}\")"
   ]
  },
  {
   "cell_type": "code",
   "execution_count": 143,
   "id": "0d1e2818",
   "metadata": {},
   "outputs": [],
   "source": [
    "trees3 = DecisionTreeClassifier(criterion='entropy', max_depth=40, max_leaf_nodes=12)\n",
    "trees3 = trees3.fit(X_train3,y_train3)\n",
    "y_pred4 = trees3.predict(X_test3)"
   ]
  },
  {
   "cell_type": "markdown",
   "id": "3350dc50",
   "metadata": {},
   "source": [
    "accuracy on the training set "
   ]
  },
  {
   "cell_type": "code",
   "execution_count": 107,
   "id": "b0bf03b0",
   "metadata": {},
   "outputs": [
    {
     "name": "stdout",
     "output_type": "stream",
     "text": [
      "Training set accuracy: 0.8951612903225806\n"
     ]
    }
   ],
   "source": [
    "y_pred4_train = trees3.predict(X_train3)\n",
    "print(\"Training set accuracy:\", metrics.accuracy_score(y_train3, y_pred4_train))"
   ]
  },
  {
   "cell_type": "markdown",
   "id": "7d7695d4",
   "metadata": {},
   "source": [
    "accuracy on the test set "
   ]
  },
  {
   "cell_type": "code",
   "execution_count": 108,
   "id": "0597cc6a",
   "metadata": {},
   "outputs": [
    {
     "name": "stdout",
     "output_type": "stream",
     "text": [
      "Test set accuracy: 0.8372093023255814\n"
     ]
    }
   ],
   "source": [
    "print(\"Test set accuracy:\", metrics.accuracy_score(y_test3, y_pred4))"
   ]
  },
  {
   "cell_type": "markdown",
   "id": "e97f2382",
   "metadata": {},
   "source": [
    "other decision tree algorithms (example : random forests)"
   ]
  },
  {
   "cell_type": "markdown",
   "id": "b9617c09",
   "metadata": {},
   "source": [
    "A random forest is a meta estimator that fits a number of decision tree classifiers on various sub-samples of the dataset and uses averaging to improve the predictive accuracy and control over-fitting."
   ]
  },
  {
   "cell_type": "code",
   "execution_count": 114,
   "id": "62b93f30",
   "metadata": {},
   "outputs": [],
   "source": [
    "from sklearn.ensemble import RandomForestClassifier"
   ]
  },
  {
   "cell_type": "code",
   "execution_count": 130,
   "id": "e0e97ee8",
   "metadata": {},
   "outputs": [],
   "source": [
    "forest = RandomForestClassifier()\n",
    "forest = forest.fit(X_train,y_train)\n",
    "y_predf = forest.predict(X_test)"
   ]
  },
  {
   "cell_type": "code",
   "execution_count": 131,
   "id": "b604c878",
   "metadata": {},
   "outputs": [
    {
     "name": "stdout",
     "output_type": "stream",
     "text": [
      "Test set accuracy: 0.893048128342246\n"
     ]
    }
   ],
   "source": [
    "print(\"Test set accuracy:\", metrics.accuracy_score(y_test, y_predf))"
   ]
  },
  {
   "cell_type": "code",
   "execution_count": 132,
   "id": "efebf631",
   "metadata": {},
   "outputs": [
    {
     "name": "stdout",
     "output_type": "stream",
     "text": [
      "Training set accuracy: 1.0\n"
     ]
    }
   ],
   "source": [
    "y_pred_t = forest.predict(X_train)\n",
    "print(\"Training set accuracy:\", metrics.accuracy_score(y_train, y_pred_t))"
   ]
  },
  {
   "cell_type": "code",
   "execution_count": 111,
   "id": "56c07943",
   "metadata": {},
   "outputs": [
    {
     "name": "stdout",
     "output_type": "stream",
     "text": [
      "Fitting 3 folds for each of 10 candidates, totalling 30 fits\n"
     ]
    },
    {
     "data": {
      "text/html": [
       "<style>#sk-container-id-10 {color: black;background-color: white;}#sk-container-id-10 pre{padding: 0;}#sk-container-id-10 div.sk-toggleable {background-color: white;}#sk-container-id-10 label.sk-toggleable__label {cursor: pointer;display: block;width: 100%;margin-bottom: 0;padding: 0.3em;box-sizing: border-box;text-align: center;}#sk-container-id-10 label.sk-toggleable__label-arrow:before {content: \"▸\";float: left;margin-right: 0.25em;color: #696969;}#sk-container-id-10 label.sk-toggleable__label-arrow:hover:before {color: black;}#sk-container-id-10 div.sk-estimator:hover label.sk-toggleable__label-arrow:before {color: black;}#sk-container-id-10 div.sk-toggleable__content {max-height: 0;max-width: 0;overflow: hidden;text-align: left;background-color: #f0f8ff;}#sk-container-id-10 div.sk-toggleable__content pre {margin: 0.2em;color: black;border-radius: 0.25em;background-color: #f0f8ff;}#sk-container-id-10 input.sk-toggleable__control:checked~div.sk-toggleable__content {max-height: 200px;max-width: 100%;overflow: auto;}#sk-container-id-10 input.sk-toggleable__control:checked~label.sk-toggleable__label-arrow:before {content: \"▾\";}#sk-container-id-10 div.sk-estimator input.sk-toggleable__control:checked~label.sk-toggleable__label {background-color: #d4ebff;}#sk-container-id-10 div.sk-label input.sk-toggleable__control:checked~label.sk-toggleable__label {background-color: #d4ebff;}#sk-container-id-10 input.sk-hidden--visually {border: 0;clip: rect(1px 1px 1px 1px);clip: rect(1px, 1px, 1px, 1px);height: 1px;margin: -1px;overflow: hidden;padding: 0;position: absolute;width: 1px;}#sk-container-id-10 div.sk-estimator {font-family: monospace;background-color: #f0f8ff;border: 1px dotted black;border-radius: 0.25em;box-sizing: border-box;margin-bottom: 0.5em;}#sk-container-id-10 div.sk-estimator:hover {background-color: #d4ebff;}#sk-container-id-10 div.sk-parallel-item::after {content: \"\";width: 100%;border-bottom: 1px solid gray;flex-grow: 1;}#sk-container-id-10 div.sk-label:hover label.sk-toggleable__label {background-color: #d4ebff;}#sk-container-id-10 div.sk-serial::before {content: \"\";position: absolute;border-left: 1px solid gray;box-sizing: border-box;top: 0;bottom: 0;left: 50%;z-index: 0;}#sk-container-id-10 div.sk-serial {display: flex;flex-direction: column;align-items: center;background-color: white;padding-right: 0.2em;padding-left: 0.2em;position: relative;}#sk-container-id-10 div.sk-item {position: relative;z-index: 1;}#sk-container-id-10 div.sk-parallel {display: flex;align-items: stretch;justify-content: center;background-color: white;position: relative;}#sk-container-id-10 div.sk-item::before, #sk-container-id-10 div.sk-parallel-item::before {content: \"\";position: absolute;border-left: 1px solid gray;box-sizing: border-box;top: 0;bottom: 0;left: 50%;z-index: -1;}#sk-container-id-10 div.sk-parallel-item {display: flex;flex-direction: column;z-index: 1;position: relative;background-color: white;}#sk-container-id-10 div.sk-parallel-item:first-child::after {align-self: flex-end;width: 50%;}#sk-container-id-10 div.sk-parallel-item:last-child::after {align-self: flex-start;width: 50%;}#sk-container-id-10 div.sk-parallel-item:only-child::after {width: 0;}#sk-container-id-10 div.sk-dashed-wrapped {border: 1px dashed gray;margin: 0 0.4em 0.5em 0.4em;box-sizing: border-box;padding-bottom: 0.4em;background-color: white;}#sk-container-id-10 div.sk-label label {font-family: monospace;font-weight: bold;display: inline-block;line-height: 1.2em;}#sk-container-id-10 div.sk-label-container {text-align: center;}#sk-container-id-10 div.sk-container {/* jupyter's `normalize.less` sets `[hidden] { display: none; }` but bootstrap.min.css set `[hidden] { display: none !important; }` so we also need the `!important` here to be able to override the default hidden behavior on the sphinx rendered scikit-learn.org. See: https://github.com/scikit-learn/scikit-learn/issues/21755 */display: inline-block !important;position: relative;}#sk-container-id-10 div.sk-text-repr-fallback {display: none;}</style><div id=\"sk-container-id-10\" class=\"sk-top-container\"><div class=\"sk-text-repr-fallback\"><pre>RandomizedSearchCV(cv=3, estimator=RandomForestClassifier(),\n",
       "                   param_distributions={&#x27;criterion&#x27;: [&#x27;gini&#x27;, &#x27;entropy&#x27;],\n",
       "                                        &#x27;max_depth&#x27;: [4, 5, 6, 7, 8, 9, 10, 11,\n",
       "                                                      12, 15, 20, 30, 40, 50,\n",
       "                                                      70, 90, 120, 150],\n",
       "                                        &#x27;max_leaf_nodes&#x27;: [2, 3, 4, 5, 6, 7, 8,\n",
       "                                                           9, 10, 11, 12, 13,\n",
       "                                                           14, 15, 16, 17, 18,\n",
       "                                                           19, 20, 21, 22, 23,\n",
       "                                                           24, 25, 26, 27, 28,\n",
       "                                                           29, 30, 31, ...]},\n",
       "                   verbose=1)</pre><b>In a Jupyter environment, please rerun this cell to show the HTML representation or trust the notebook. <br />On GitHub, the HTML representation is unable to render, please try loading this page with nbviewer.org.</b></div><div class=\"sk-container\" hidden><div class=\"sk-item sk-dashed-wrapped\"><div class=\"sk-label-container\"><div class=\"sk-label sk-toggleable\"><input class=\"sk-toggleable__control sk-hidden--visually\" id=\"sk-estimator-id-18\" type=\"checkbox\" ><label for=\"sk-estimator-id-18\" class=\"sk-toggleable__label sk-toggleable__label-arrow\">RandomizedSearchCV</label><div class=\"sk-toggleable__content\"><pre>RandomizedSearchCV(cv=3, estimator=RandomForestClassifier(),\n",
       "                   param_distributions={&#x27;criterion&#x27;: [&#x27;gini&#x27;, &#x27;entropy&#x27;],\n",
       "                                        &#x27;max_depth&#x27;: [4, 5, 6, 7, 8, 9, 10, 11,\n",
       "                                                      12, 15, 20, 30, 40, 50,\n",
       "                                                      70, 90, 120, 150],\n",
       "                                        &#x27;max_leaf_nodes&#x27;: [2, 3, 4, 5, 6, 7, 8,\n",
       "                                                           9, 10, 11, 12, 13,\n",
       "                                                           14, 15, 16, 17, 18,\n",
       "                                                           19, 20, 21, 22, 23,\n",
       "                                                           24, 25, 26, 27, 28,\n",
       "                                                           29, 30, 31, ...]},\n",
       "                   verbose=1)</pre></div></div></div><div class=\"sk-parallel\"><div class=\"sk-parallel-item\"><div class=\"sk-item\"><div class=\"sk-label-container\"><div class=\"sk-label sk-toggleable\"><input class=\"sk-toggleable__control sk-hidden--visually\" id=\"sk-estimator-id-19\" type=\"checkbox\" ><label for=\"sk-estimator-id-19\" class=\"sk-toggleable__label sk-toggleable__label-arrow\">estimator: RandomForestClassifier</label><div class=\"sk-toggleable__content\"><pre>RandomForestClassifier()</pre></div></div></div><div class=\"sk-serial\"><div class=\"sk-item\"><div class=\"sk-estimator sk-toggleable\"><input class=\"sk-toggleable__control sk-hidden--visually\" id=\"sk-estimator-id-20\" type=\"checkbox\" ><label for=\"sk-estimator-id-20\" class=\"sk-toggleable__label sk-toggleable__label-arrow\">RandomForestClassifier</label><div class=\"sk-toggleable__content\"><pre>RandomForestClassifier()</pre></div></div></div></div></div></div></div></div></div></div>"
      ],
      "text/plain": [
       "RandomizedSearchCV(cv=3, estimator=RandomForestClassifier(),\n",
       "                   param_distributions={'criterion': ['gini', 'entropy'],\n",
       "                                        'max_depth': [4, 5, 6, 7, 8, 9, 10, 11,\n",
       "                                                      12, 15, 20, 30, 40, 50,\n",
       "                                                      70, 90, 120, 150],\n",
       "                                        'max_leaf_nodes': [2, 3, 4, 5, 6, 7, 8,\n",
       "                                                           9, 10, 11, 12, 13,\n",
       "                                                           14, 15, 16, 17, 18,\n",
       "                                                           19, 20, 21, 22, 23,\n",
       "                                                           24, 25, 26, 27, 28,\n",
       "                                                           29, 30, 31, ...]},\n",
       "                   verbose=1)"
      ]
     },
     "execution_count": 111,
     "metadata": {},
     "output_type": "execute_result"
    }
   ],
   "source": [
    "rand_search_cv2 = RandomizedSearchCV(RandomForestClassifier(), params, verbose=1, cv=3)\n",
    "rand_search_cv2.fit(X_train, y_train)"
   ]
  },
  {
   "cell_type": "code",
   "execution_count": 112,
   "id": "5494b4ad",
   "metadata": {},
   "outputs": [
    {
     "data": {
      "text/html": [
       "<style>#sk-container-id-11 {color: black;background-color: white;}#sk-container-id-11 pre{padding: 0;}#sk-container-id-11 div.sk-toggleable {background-color: white;}#sk-container-id-11 label.sk-toggleable__label {cursor: pointer;display: block;width: 100%;margin-bottom: 0;padding: 0.3em;box-sizing: border-box;text-align: center;}#sk-container-id-11 label.sk-toggleable__label-arrow:before {content: \"▸\";float: left;margin-right: 0.25em;color: #696969;}#sk-container-id-11 label.sk-toggleable__label-arrow:hover:before {color: black;}#sk-container-id-11 div.sk-estimator:hover label.sk-toggleable__label-arrow:before {color: black;}#sk-container-id-11 div.sk-toggleable__content {max-height: 0;max-width: 0;overflow: hidden;text-align: left;background-color: #f0f8ff;}#sk-container-id-11 div.sk-toggleable__content pre {margin: 0.2em;color: black;border-radius: 0.25em;background-color: #f0f8ff;}#sk-container-id-11 input.sk-toggleable__control:checked~div.sk-toggleable__content {max-height: 200px;max-width: 100%;overflow: auto;}#sk-container-id-11 input.sk-toggleable__control:checked~label.sk-toggleable__label-arrow:before {content: \"▾\";}#sk-container-id-11 div.sk-estimator input.sk-toggleable__control:checked~label.sk-toggleable__label {background-color: #d4ebff;}#sk-container-id-11 div.sk-label input.sk-toggleable__control:checked~label.sk-toggleable__label {background-color: #d4ebff;}#sk-container-id-11 input.sk-hidden--visually {border: 0;clip: rect(1px 1px 1px 1px);clip: rect(1px, 1px, 1px, 1px);height: 1px;margin: -1px;overflow: hidden;padding: 0;position: absolute;width: 1px;}#sk-container-id-11 div.sk-estimator {font-family: monospace;background-color: #f0f8ff;border: 1px dotted black;border-radius: 0.25em;box-sizing: border-box;margin-bottom: 0.5em;}#sk-container-id-11 div.sk-estimator:hover {background-color: #d4ebff;}#sk-container-id-11 div.sk-parallel-item::after {content: \"\";width: 100%;border-bottom: 1px solid gray;flex-grow: 1;}#sk-container-id-11 div.sk-label:hover label.sk-toggleable__label {background-color: #d4ebff;}#sk-container-id-11 div.sk-serial::before {content: \"\";position: absolute;border-left: 1px solid gray;box-sizing: border-box;top: 0;bottom: 0;left: 50%;z-index: 0;}#sk-container-id-11 div.sk-serial {display: flex;flex-direction: column;align-items: center;background-color: white;padding-right: 0.2em;padding-left: 0.2em;position: relative;}#sk-container-id-11 div.sk-item {position: relative;z-index: 1;}#sk-container-id-11 div.sk-parallel {display: flex;align-items: stretch;justify-content: center;background-color: white;position: relative;}#sk-container-id-11 div.sk-item::before, #sk-container-id-11 div.sk-parallel-item::before {content: \"\";position: absolute;border-left: 1px solid gray;box-sizing: border-box;top: 0;bottom: 0;left: 50%;z-index: -1;}#sk-container-id-11 div.sk-parallel-item {display: flex;flex-direction: column;z-index: 1;position: relative;background-color: white;}#sk-container-id-11 div.sk-parallel-item:first-child::after {align-self: flex-end;width: 50%;}#sk-container-id-11 div.sk-parallel-item:last-child::after {align-self: flex-start;width: 50%;}#sk-container-id-11 div.sk-parallel-item:only-child::after {width: 0;}#sk-container-id-11 div.sk-dashed-wrapped {border: 1px dashed gray;margin: 0 0.4em 0.5em 0.4em;box-sizing: border-box;padding-bottom: 0.4em;background-color: white;}#sk-container-id-11 div.sk-label label {font-family: monospace;font-weight: bold;display: inline-block;line-height: 1.2em;}#sk-container-id-11 div.sk-label-container {text-align: center;}#sk-container-id-11 div.sk-container {/* jupyter's `normalize.less` sets `[hidden] { display: none; }` but bootstrap.min.css set `[hidden] { display: none !important; }` so we also need the `!important` here to be able to override the default hidden behavior on the sphinx rendered scikit-learn.org. See: https://github.com/scikit-learn/scikit-learn/issues/21755 */display: inline-block !important;position: relative;}#sk-container-id-11 div.sk-text-repr-fallback {display: none;}</style><div id=\"sk-container-id-11\" class=\"sk-top-container\"><div class=\"sk-text-repr-fallback\"><pre>RandomForestClassifier(criterion=&#x27;entropy&#x27;, max_depth=10, max_leaf_nodes=42)</pre><b>In a Jupyter environment, please rerun this cell to show the HTML representation or trust the notebook. <br />On GitHub, the HTML representation is unable to render, please try loading this page with nbviewer.org.</b></div><div class=\"sk-container\" hidden><div class=\"sk-item\"><div class=\"sk-estimator sk-toggleable\"><input class=\"sk-toggleable__control sk-hidden--visually\" id=\"sk-estimator-id-21\" type=\"checkbox\" checked><label for=\"sk-estimator-id-21\" class=\"sk-toggleable__label sk-toggleable__label-arrow\">RandomForestClassifier</label><div class=\"sk-toggleable__content\"><pre>RandomForestClassifier(criterion=&#x27;entropy&#x27;, max_depth=10, max_leaf_nodes=42)</pre></div></div></div></div></div>"
      ],
      "text/plain": [
       "RandomForestClassifier(criterion='entropy', max_depth=10, max_leaf_nodes=42)"
      ]
     },
     "execution_count": 112,
     "metadata": {},
     "output_type": "execute_result"
    }
   ],
   "source": [
    "rand_search_cv2.best_estimator_"
   ]
  },
  {
   "cell_type": "markdown",
   "id": "48f5252f",
   "metadata": {},
   "source": [
    "Tree 1\n",
    "\n",
    "Using the best working parameters, repeat the experiment, this time using training and testing data sets instead of the cross validation.\n",
    "\n",
    "build the classifier using the training data set, and test the classifier using the test data set"
   ]
  },
  {
   "cell_type": "code",
   "execution_count": 147,
   "id": "4ea7b882",
   "metadata": {},
   "outputs": [],
   "source": [
    "forest1 = RandomForestClassifier(criterion='entropy', max_depth=10, max_leaf_nodes=42)\n",
    "forest1 = forest1.fit(X_train,y_train)\n",
    "y_predf1 = forest1.predict(X_test)"
   ]
  },
  {
   "cell_type": "markdown",
   "id": "e8791bb5",
   "metadata": {},
   "source": [
    "accuracy "
   ]
  },
  {
   "cell_type": "code",
   "execution_count": 117,
   "id": "8d2f01e1",
   "metadata": {},
   "outputs": [
    {
     "name": "stdout",
     "output_type": "stream",
     "text": [
      "Test set accuracy: 0.9090909090909091\n"
     ]
    }
   ],
   "source": [
    "print(\"Test set accuracy:\", metrics.accuracy_score(y_test, y_predf1))"
   ]
  },
  {
   "cell_type": "markdown",
   "id": "b461660e",
   "metadata": {},
   "source": [
    "Does the decision tree generalize\n",
    "well to new data? How do you tell?"
   ]
  },
  {
   "cell_type": "code",
   "execution_count": null,
   "id": "bb0c2c89",
   "metadata": {},
   "outputs": [],
   "source": []
  },
  {
   "cell_type": "code",
   "execution_count": 129,
   "id": "d32e1617",
   "metadata": {},
   "outputs": [
    {
     "name": "stdout",
     "output_type": "stream",
     "text": [
      "Training set accuracy: 0.9758064516129032\n"
     ]
    }
   ],
   "source": [
    "y_pred_tr2 = forest1.predict(X_train)\n",
    "print(\"Training set accuracy:\", metrics.accuracy_score(y_train, y_pred_tr2))"
   ]
  },
  {
   "cell_type": "markdown",
   "id": "9d5817c2",
   "metadata": {},
   "source": [
    "Tree 2\n",
    "\n",
    "Make new training and testing sets, by moving 30% of the instances from the original training set into\n",
    "the testing set. Note the accuracies on the training and the testing sets."
   ]
  },
  {
   "cell_type": "code",
   "execution_count": 148,
   "id": "8f94bc7b",
   "metadata": {},
   "outputs": [],
   "source": [
    "forest2 = RandomForestClassifier(criterion='entropy', max_depth=10, max_leaf_nodes=42)\n",
    "forest2 = forest2.fit(X_train2,y_train2)\n",
    "y_predf2 = forest2.predict(X_test2)"
   ]
  },
  {
   "cell_type": "code",
   "execution_count": 123,
   "id": "5f604bb7",
   "metadata": {},
   "outputs": [
    {
     "name": "stdout",
     "output_type": "stream",
     "text": [
      "Training set accuracy: 0.9861751152073732\n"
     ]
    }
   ],
   "source": [
    "y_predf2_train = forest2.predict(X_train2)\n",
    "print(\"Training set accuracy:\", metrics.accuracy_score(y_train2, y_predf2_train))"
   ]
  },
  {
   "cell_type": "code",
   "execution_count": 124,
   "id": "c35ab281",
   "metadata": {},
   "outputs": [
    {
     "name": "stdout",
     "output_type": "stream",
     "text": [
      "Test set accuracy: 0.8892857142857142\n"
     ]
    }
   ],
   "source": [
    "print(\"Test set accuracy:\", metrics.accuracy_score(y_test2, y_predf2))"
   ]
  },
  {
   "cell_type": "markdown",
   "id": "a9f6d60b",
   "metadata": {},
   "source": [
    "Tree 3\n",
    "\n",
    "Make new training and testing sets, by moving 60% of the instances from the original training set into\n",
    "the testing set. Note the accuracies on the training and the testing sets."
   ]
  },
  {
   "cell_type": "code",
   "execution_count": 150,
   "id": "78bb538b",
   "metadata": {},
   "outputs": [],
   "source": [
    "forest3 = RandomForestClassifier(criterion='entropy', max_depth=10, max_leaf_nodes=42)\n",
    "forest3 = forest3.fit(X_train3,y_train3)\n",
    "y_predf3 = forest3.predict(X_test3)"
   ]
  },
  {
   "cell_type": "code",
   "execution_count": 149,
   "id": "8a168cd8",
   "metadata": {},
   "outputs": [
    {
     "name": "stdout",
     "output_type": "stream",
     "text": [
      "Training set accuracy: 1.0\n"
     ]
    }
   ],
   "source": [
    "y_predf3_train = forest3.predict(X_train3)\n",
    "print(\"Training set accuracy:\", metrics.accuracy_score(y_train3, y_predf3_train))"
   ]
  },
  {
   "cell_type": "code",
   "execution_count": 127,
   "id": "dc696787",
   "metadata": {},
   "outputs": [
    {
     "name": "stdout",
     "output_type": "stream",
     "text": [
      "Test set accuracy: 0.8658318425760286\n"
     ]
    }
   ],
   "source": [
    "print(\"Test set accuracy:\", metrics.accuracy_score(y_test3, y_predf3))"
   ]
  },
  {
   "cell_type": "markdown",
   "id": "0d212197",
   "metadata": {},
   "source": [
    "Mean squared error"
   ]
  },
  {
   "cell_type": "code",
   "execution_count": 154,
   "id": "31fbb977",
   "metadata": {},
   "outputs": [],
   "source": [
    "from sklearn.metrics import mean_squared_error"
   ]
  },
  {
   "cell_type": "markdown",
   "id": "ab38b02f",
   "metadata": {},
   "source": [
    "Decision trees"
   ]
  },
  {
   "cell_type": "code",
   "execution_count": 156,
   "id": "f3d2bf17",
   "metadata": {},
   "outputs": [
    {
     "name": "stdout",
     "output_type": "stream",
     "text": [
      "Default:  0.10160427807486631\n",
      "Tree 1:  0.10160427807486631\n",
      "Tree 2:  0.12142857142857143\n",
      "Tree 3:  0.16279069767441862\n"
     ]
    }
   ],
   "source": [
    "MRE = mean_squared_error(y_test, y_pred1)\n",
    "print(\"Default: \" ,MRE)\n",
    "MRE2 = mean_squared_error(y_test, y_pred2)\n",
    "print(\"Tree 1: \" ,MRE2)\n",
    "MRE3 = mean_squared_error(y_test2, y_pred3)\n",
    "print(\"Tree 2: \" ,MRE3)\n",
    "MRE4 = mean_squared_error(y_test3, y_pred4)\n",
    "print(\"Tree 3: \" ,MRE4)"
   ]
  },
  {
   "cell_type": "markdown",
   "id": "9a092fba",
   "metadata": {},
   "source": [
    "Random forest"
   ]
  },
  {
   "cell_type": "code",
   "execution_count": 157,
   "id": "a7877f8d",
   "metadata": {},
   "outputs": [
    {
     "name": "stdout",
     "output_type": "stream",
     "text": [
      "Default:  0.10695187165775401\n",
      "Tree 1:  0.11229946524064172\n",
      "Tree 2:  0.1\n",
      "Tree 3:  0.1252236135957066\n"
     ]
    }
   ],
   "source": [
    "MRE5 =mean_squared_error(y_test, y_predf)\n",
    "print(\"Default: \" ,MRE5)\n",
    "MRE6 = mean_squared_error(y_test, y_predf1)\n",
    "print(\"Tree 1: \" ,MRE6)\n",
    "MRE7 = mean_squared_error(y_test2, y_predf2)\n",
    "print(\"Tree 2: \" ,MRE7)\n",
    "MRE8 = mean_squared_error(y_test3, y_predf3)\n",
    "print(\"Tree 3: \" ,MRE8)"
   ]
  },
  {
   "cell_type": "markdown",
   "id": "c14d6eb4",
   "metadata": {},
   "source": [
    "https://stats.stackexchange.com/questions/423514/can-rmse-and-mae-have-the-same-value\n",
    "\n",
    "https://www.studytonight.com/post/what-is-mean-squared-error-mean-absolute-error-root-mean-squared-error-and-r-squared"
   ]
  },
  {
   "cell_type": "markdown",
   "id": "c81859df",
   "metadata": {},
   "source": [
    "### Conclusions\n",
    "\n",
    "what was the influence of various parameters on the classifier’s performance? Hypothesise\n",
    "why."
   ]
  },
  {
   "cell_type": "markdown",
   "id": "f1f445b7",
   "metadata": {},
   "source": [
    "Analyse Tree 1, Tree 2 and Tree 3 from the point of view of the problem of classifier over-fitting. Do you notice the effects of over-fitting? How? Note your conclusions in the Jupyter notebook.\n",
    "\n",
    "to make conclusions about overfitting, you must compare accuracies of your three decision trees on training and on testing data sets."
   ]
  },
  {
   "cell_type": "markdown",
   "id": "089991f2",
   "metadata": {},
   "source": [
    "https://towardsdatascience.com/how-to-implement-and-evaluate-decision-tree-classifiers-from-scikit-learn-36ef7f037a78"
   ]
  }
 ],
 "metadata": {
  "kernelspec": {
   "display_name": "Python 3",
   "language": "python",
   "name": "python3"
  },
  "language_info": {
   "codemirror_mode": {
    "name": "ipython",
    "version": 3
   },
   "file_extension": ".py",
   "mimetype": "text/x-python",
   "name": "python",
   "nbconvert_exporter": "python",
   "pygments_lexer": "ipython3",
   "version": "3.8.8"
  }
 },
 "nbformat": 4,
 "nbformat_minor": 5
}
