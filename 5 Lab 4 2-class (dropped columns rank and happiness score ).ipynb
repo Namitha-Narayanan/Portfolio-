{
 "cells": [
  {
   "cell_type": "code",
   "execution_count": 1,
   "id": "2465a1ce",
   "metadata": {},
   "outputs": [],
   "source": [
    "from sklearn.tree import DecisionTreeClassifier"
   ]
  },
  {
   "cell_type": "code",
   "execution_count": 2,
   "id": "ec99f545",
   "metadata": {},
   "outputs": [],
   "source": [
    "import pandas as pd\n",
    "import numpy as np\n",
    "import seaborn as sns\n",
    "import statsmodels.api as sm\n",
    "\n",
    "import matplotlib.pyplot as plt\n",
    "import matplotlib as mlp\n",
    "%matplotlib inline"
   ]
  },
  {
   "cell_type": "code",
   "execution_count": 5,
   "id": "8ea32c79",
   "metadata": {},
   "outputs": [],
   "source": [
    "df = pd.read_csv(\"data_2_cat.csv\")"
   ]
  },
  {
   "cell_type": "code",
   "execution_count": 6,
   "id": "5c4da9d7",
   "metadata": {},
   "outputs": [],
   "source": [
    "df = df.drop(df.columns[0], axis=1)"
   ]
  },
  {
   "cell_type": "code",
   "execution_count": 7,
   "id": "5efdf0c9",
   "metadata": {},
   "outputs": [],
   "source": [
    "df['tier'] = df['tier'].replace(['First','Second'],['1','2'])\n",
    "df['tier'] = df['tier'].astype(float)"
   ]
  },
  {
   "cell_type": "code",
   "execution_count": 8,
   "id": "20aee8c7",
   "metadata": {},
   "outputs": [],
   "source": [
    "df = df.drop('Country',axis=1)"
   ]
  },
  {
   "cell_type": "code",
   "execution_count": 9,
   "id": "7c893b41",
   "metadata": {},
   "outputs": [],
   "source": [
    "df = df.drop('Happiness Rank',axis=1)"
   ]
  },
  {
   "cell_type": "code",
   "execution_count": 10,
   "id": "ca11a1db",
   "metadata": {},
   "outputs": [],
   "source": [
    "df = df.drop('Happiness Score',axis=1)"
   ]
  },
  {
   "cell_type": "code",
   "execution_count": 11,
   "id": "c2769f73",
   "metadata": {},
   "outputs": [],
   "source": [
    "from sklearn.metrics import classification_report, confusion_matrix"
   ]
  },
  {
   "cell_type": "code",
   "execution_count": 12,
   "id": "80da0fdc",
   "metadata": {},
   "outputs": [],
   "source": [
    "df_copy = df"
   ]
  },
  {
   "cell_type": "code",
   "execution_count": 13,
   "id": "f170a6e6",
   "metadata": {},
   "outputs": [],
   "source": [
    "# Creating independent and dependent variables\n",
    "X = df_copy.drop('tier',axis=1)\n",
    "y = df_copy['tier']"
   ]
  },
  {
   "cell_type": "code",
   "execution_count": 14,
   "id": "b4249fa6",
   "metadata": {},
   "outputs": [
    {
     "name": "stdout",
     "output_type": "stream",
     "text": [
      "Train Data: (744, 7), (744,)\n",
      "Train Data: (187, 7), (187,)\n"
     ]
    }
   ],
   "source": [
    "from sklearn.model_selection import train_test_split\n",
    "# Splitting the data into training and testing set\n",
    "X_train, X_test, y_train, y_test = train_test_split(X, y, test_size=0.2, random_state=24)\n",
    "print(f\"Train Data: {X_train.shape}, {y_train.shape}\")\n",
    "print(f\"Train Data: {X_test.shape}, {y_test.shape}\")"
   ]
  },
  {
   "cell_type": "code",
   "execution_count": 15,
   "id": "2fda9c5d",
   "metadata": {},
   "outputs": [
    {
     "data": {
      "text/plain": [
       "DecisionTreeClassifier()"
      ]
     },
     "execution_count": 15,
     "metadata": {},
     "output_type": "execute_result"
    }
   ],
   "source": [
    "# Training a binary classifier using Random Forest Algorithm with default hyperparameters\n",
    "classifier = DecisionTreeClassifier()\n",
    "classifier.fit(X_train, y_train)"
   ]
  },
  {
   "cell_type": "code",
   "execution_count": 16,
   "id": "5bb129bb",
   "metadata": {},
   "outputs": [],
   "source": [
    "# Here X_test, y_test are the test data points\n",
    "predictions = classifier.predict(X_test)"
   ]
  },
  {
   "cell_type": "code",
   "execution_count": 17,
   "id": "4ee21fb0",
   "metadata": {},
   "outputs": [
    {
     "name": "stdout",
     "output_type": "stream",
     "text": [
      "Accuracy of the classifier is: 0.8770053475935828\n"
     ]
    }
   ],
   "source": [
    "# Importing all necessary libraries\n",
    "from sklearn.metrics import accuracy_score\n",
    "# Calculating the accuracy of classifier\n",
    "print(f\"Accuracy of the classifier is: {accuracy_score(y_test, predictions)}\")"
   ]
  },
  {
   "cell_type": "code",
   "execution_count": 18,
   "id": "f12dbfba",
   "metadata": {},
   "outputs": [
    {
     "name": "stdout",
     "output_type": "stream",
     "text": [
      "[[67  9]\n",
      " [14 97]]\n"
     ]
    },
    {
     "data": {
      "image/png": "[encoded data removed]",
      "text/plain": [
       "<Figure size 432x288 with 2 Axes>"
      ]
     },
     "metadata": {
      "needs_background": "light"
     },
     "output_type": "display_data"
    }
   ],
   "source": [
    "# importing all necessary libraries\n",
    "import matplotlib.pyplot as plt\n",
    "from sklearn.metrics import confusion_matrix\n",
    "from sklearn.metrics import plot_confusion_matrix\n",
    "\n",
    "# confusion_matrix funnction a matrix containing the summary of predictions\n",
    "print(confusion_matrix(y_test, predictions))\n",
    "\n",
    "# plot_confusion_matrix function is used to visualize the confusion matrix\n",
    "plot_confusion_matrix(classifier, X_test, y_test)\n",
    "plt.show()"
   ]
  },
  {
   "cell_type": "code",
   "execution_count": 19,
   "id": "a8870835",
   "metadata": {},
   "outputs": [
    {
     "name": "stdout",
     "output_type": "stream",
     "text": [
      "Precision Score of the classifier is: 0.8770053475935828\n"
     ]
    }
   ],
   "source": [
    "# Importing all necessary libraries\n",
    "from sklearn.metrics import precision_score\n",
    "#fixed error : https://stackoverflow.com/questions/52269187/facing-valueerror-target-is-multiclass-but-average-binary \n",
    "# Calculating the precision score of classifier\n",
    "print(f\"Precision Score of the classifier is: {precision_score(y_test, predictions,average='micro')}\")"
   ]
  },
  {
   "cell_type": "code",
   "execution_count": 20,
   "id": "38c37b76",
   "metadata": {},
   "outputs": [
    {
     "name": "stdout",
     "output_type": "stream",
     "text": [
      "Recall Score of the classifier is: 0.8770053475935828\n"
     ]
    }
   ],
   "source": [
    "# Importing all necessary libraries\n",
    "from sklearn.metrics import recall_score\n",
    "# Calculating the recall score of classifier\n",
    "print(f\"Recall Score of the classifier is: {recall_score(y_test, predictions, average='micro')}\")"
   ]
  },
  {
   "cell_type": "code",
   "execution_count": 21,
   "id": "beef2139",
   "metadata": {},
   "outputs": [
    {
     "name": "stdout",
     "output_type": "stream",
     "text": [
      "F1 Score of the classifier is: 0.8770053475935828\n"
     ]
    }
   ],
   "source": [
    "# Importing all necessary libraries\n",
    "from sklearn.metrics import f1_score\n",
    "\n",
    "# Calculating the F1 score of classifier\n",
    "print(f\"F1 Score of the classifier is: {f1_score(y_test, predictions, average='micro' )}\")"
   ]
  },
  {
   "cell_type": "code",
   "execution_count": 22,
   "id": "0b5e56c4",
   "metadata": {},
   "outputs": [],
   "source": [
    "target_names = ['class 0', 'class 1']\n",
    "report = classification_report(y_test, predictions, target_names=target_names)"
   ]
  },
  {
   "cell_type": "code",
   "execution_count": 23,
   "id": "22e44df0",
   "metadata": {},
   "outputs": [
    {
     "name": "stdout",
     "output_type": "stream",
     "text": [
      "              precision    recall  f1-score   support\n",
      "\n",
      "     class 0       0.83      0.88      0.85        76\n",
      "     class 1       0.92      0.87      0.89       111\n",
      "\n",
      "    accuracy                           0.88       187\n",
      "   macro avg       0.87      0.88      0.87       187\n",
      "weighted avg       0.88      0.88      0.88       187\n",
      "\n"
     ]
    }
   ],
   "source": [
    "print(report)"
   ]
  },
  {
   "cell_type": "code",
   "execution_count": 24,
   "id": "5422c170",
   "metadata": {},
   "outputs": [
    {
     "name": "stdout",
     "output_type": "stream",
     "text": [
      "cohen Kappa Score of the classifier is: 0.7476975420895172\n"
     ]
    }
   ],
   "source": [
    "from sklearn.metrics import cohen_kappa_score\n",
    "print(f\"cohen Kappa Score of the classifier is: {cohen_kappa_score(y_test, predictions)}\")\n",
    "#print(f\"quad Kappa Score of the classifier is: {kappa(y_test, predictions,weights='quadratic')}\")"
   ]
  },
  {
   "cell_type": "code",
   "execution_count": 26,
   "id": "f488f8df",
   "metadata": {},
   "outputs": [
    {
     "name": "stdout",
     "output_type": "stream",
     "text": [
      "AUC for our classifier is: 0.12227358937885255\n"
     ]
    }
   ],
   "source": [
    "# Importing all necessary libraries\n",
    "from sklearn.metrics import roc_curve, auc\n",
    "\n",
    "class_probabilities = classifier.predict_proba(X_test)\n",
    "preds = class_probabilities[:, 1]\n",
    "\n",
    "#added pos_label=1 because before i had the error ValueError: multiclass format is not supported\n",
    "#https://stackoverflow.com/questions/61114520/how-to-fix-valueerror-multiclass-format-is-not-supported \n",
    "fpr, tpr, threshold = roc_curve(y_test, preds, pos_label=1)\n",
    "roc_auc = auc(fpr, tpr)\n",
    "\n",
    "# Printing AUC\n",
    "print(f\"AUC for our classifier is: {roc_auc}\")"
   ]
  },
  {
   "cell_type": "code",
   "execution_count": 27,
   "id": "d6c0bfb7",
   "metadata": {},
   "outputs": [
    {
     "data": {
      "image/png": "[encoded data removed]",
      "text/plain": [
       "<Figure size 432x288 with 1 Axes>"
      ]
     },
     "metadata": {
      "needs_background": "light"
     },
     "output_type": "display_data"
    }
   ],
   "source": [
    "# Plotting the ROC\n",
    "plt.title('Receiver Operating Characteristic')\n",
    "plt.plot(fpr, tpr, 'b', label = 'AUC = %0.2f' % roc_auc)\n",
    "plt.legend(loc = 'lower right')\n",
    "plt.plot([0, 1], [0, 1],'r--')\n",
    "plt.xlim([0, 1])\n",
    "plt.ylim([0, 1])\n",
    "plt.ylabel('True Positive Rate')\n",
    "plt.xlabel('False Positive Rate')\n",
    "plt.show()"
   ]
  },
  {
   "cell_type": "code",
   "execution_count": null,
   "id": "b0e63e6e",
   "metadata": {},
   "outputs": [],
   "source": []
  }
 ],
 "metadata": {
  "kernelspec": {
   "display_name": "Python 3",
   "language": "python",
   "name": "python3"
  },
  "language_info": {
   "codemirror_mode": {
    "name": "ipython",
    "version": 3
   },
   "file_extension": ".py",
   "mimetype": "text/x-python",
   "name": "python",
   "nbconvert_exporter": "python",
   "pygments_lexer": "ipython3",
   "version": "3.8.8"
  }
 },
 "nbformat": 4,
 "nbformat_minor": 5
}
